{
 "cells": [
  {
   "cell_type": "code",
   "execution_count": 2,
   "id": "2e539d20-b745-4d00-9a2e-5c20e7871366",
   "metadata": {},
   "outputs": [],
   "source": [
    "import pandas as pd"
   ]
  },
  {
   "cell_type": "code",
   "execution_count": 3,
   "id": "ee2c45c4-2b49-4084-9c5a-9899d05feb35",
   "metadata": {},
   "outputs": [
    {
     "data": {
      "text/html": [
       "<div>\n",
       "<style scoped>\n",
       "    .dataframe tbody tr th:only-of-type {\n",
       "        vertical-align: middle;\n",
       "    }\n",
       "\n",
       "    .dataframe tbody tr th {\n",
       "        vertical-align: top;\n",
       "    }\n",
       "\n",
       "    .dataframe thead th {\n",
       "        text-align: right;\n",
       "    }\n",
       "</style>\n",
       "<table border=\"1\" class=\"dataframe\">\n",
       "  <thead>\n",
       "    <tr style=\"text-align: right;\">\n",
       "      <th></th>\n",
       "      <th>Grupo_A</th>\n",
       "      <th>Grupo_B</th>\n",
       "    </tr>\n",
       "  </thead>\n",
       "  <tbody>\n",
       "    <tr>\n",
       "      <th>0</th>\n",
       "      <td>51</td>\n",
       "      <td>23</td>\n",
       "    </tr>\n",
       "    <tr>\n",
       "      <th>1</th>\n",
       "      <td>92</td>\n",
       "      <td>25</td>\n",
       "    </tr>\n",
       "    <tr>\n",
       "      <th>2</th>\n",
       "      <td>14</td>\n",
       "      <td>88</td>\n",
       "    </tr>\n",
       "    <tr>\n",
       "      <th>3</th>\n",
       "      <td>71</td>\n",
       "      <td>59</td>\n",
       "    </tr>\n",
       "    <tr>\n",
       "      <th>4</th>\n",
       "      <td>60</td>\n",
       "      <td>40</td>\n",
       "    </tr>\n",
       "    <tr>\n",
       "      <th>...</th>\n",
       "      <td>...</td>\n",
       "      <td>...</td>\n",
       "    </tr>\n",
       "    <tr>\n",
       "      <th>95</th>\n",
       "      <td>39</td>\n",
       "      <td>0</td>\n",
       "    </tr>\n",
       "    <tr>\n",
       "      <th>96</th>\n",
       "      <td>84</td>\n",
       "      <td>26</td>\n",
       "    </tr>\n",
       "    <tr>\n",
       "      <th>97</th>\n",
       "      <td>79</td>\n",
       "      <td>61</td>\n",
       "    </tr>\n",
       "    <tr>\n",
       "      <th>98</th>\n",
       "      <td>81</td>\n",
       "      <td>76</td>\n",
       "    </tr>\n",
       "    <tr>\n",
       "      <th>99</th>\n",
       "      <td>52</td>\n",
       "      <td>2</td>\n",
       "    </tr>\n",
       "  </tbody>\n",
       "</table>\n",
       "<p>100 rows × 2 columns</p>\n",
       "</div>"
      ],
      "text/plain": [
       "    Grupo_A  Grupo_B\n",
       "0        51       23\n",
       "1        92       25\n",
       "2        14       88\n",
       "3        71       59\n",
       "4        60       40\n",
       "..      ...      ...\n",
       "95       39        0\n",
       "96       84       26\n",
       "97       79       61\n",
       "98       81       76\n",
       "99       52        2\n",
       "\n",
       "[100 rows x 2 columns]"
      ]
     },
     "execution_count": 3,
     "metadata": {},
     "output_type": "execute_result"
    }
   ],
   "source": [
    "df = pd.read_csv('17_notas_grupos.csv')\n",
    "df"
   ]
  },
  {
   "cell_type": "code",
   "execution_count": 7,
   "id": "fa7ce810-31e0-4105-a0f5-ccc2e0fab120",
   "metadata": {},
   "outputs": [],
   "source": [
    "colunas = ['Grupo_A', 'Grupo_B']"
   ]
  },
  {
   "cell_type": "code",
   "execution_count": 8,
   "id": "95827cab-a9dd-4f76-a8dc-9403aaac9fa1",
   "metadata": {},
   "outputs": [
    {
     "name": "stdout",
     "output_type": "stream",
     "text": [
      "Grupo_A    51.31\n",
      "Grupo_B    48.05\n",
      "dtype: float64\n",
      "A média do grupo A é superior ao grupo B\n"
     ]
    }
   ],
   "source": [
    "# a média das notas de ambos os grupos\n",
    "media = df[colunas].mean()\n",
    "print(media)\n",
    "print('A média do grupo A é superior ao grupo B')"
   ]
  },
  {
   "cell_type": "code",
   "execution_count": 9,
   "id": "3b844dfb-2f51-4b10-b7b5-ec48a13f97bb",
   "metadata": {},
   "outputs": [
    {
     "name": "stdout",
     "output_type": "stream",
     "text": [
      "Grupo_A    53.5\n",
      "Grupo_B    43.5\n",
      "dtype: float64\n",
      "A mediana do grupo A foi melhor distribuida\n"
     ]
    }
   ],
   "source": [
    "# a mediana das notas de ambos os grupos\n",
    "mediana = df[colunas].median()\n",
    "print(mediana)\n",
    "print('A mediana do grupo A foi melhor distribuida')"
   ]
  },
  {
   "cell_type": "code",
   "execution_count": 10,
   "id": "6fe802f0-64af-4dbc-bbee-a1c6e921f42b",
   "metadata": {},
   "outputs": [
    {
     "name": "stdout",
     "output_type": "stream",
     "text": [
      "Grupo_A    29.704163\n",
      "Grupo_B    30.742783\n",
      "dtype: float64\n",
      "As notas do grupo A estäo melhores espalhadas\n"
     ]
    }
   ],
   "source": [
    "# o desvio padrão das notas de ambos os grupos\n",
    "desvio = df[colunas].std()\n",
    "print(desvio)\n",
    "print('As notas do grupo A estäo melhores espalhadas')"
   ]
  }
 ],
 "metadata": {
  "kernelspec": {
   "display_name": "Python 3 (ipykernel)",
   "language": "python",
   "name": "python3"
  },
  "language_info": {
   "codemirror_mode": {
    "name": "ipython",
    "version": 3
   },
   "file_extension": ".py",
   "mimetype": "text/x-python",
   "name": "python",
   "nbconvert_exporter": "python",
   "pygments_lexer": "ipython3",
   "version": "3.12.4"
  }
 },
 "nbformat": 4,
 "nbformat_minor": 5
}
