{
 "cells": [
  {
   "cell_type": "markdown",
   "id": "5515bd9d-39dd-413a-afe6-3dc695452b0f",
   "metadata": {},
   "source": [
    "#### Exercicio 05\n",
    "Crie um programa em Python que utilize um laço de repetição para contar de 1 a 5. O programa deve exibir cada número da contagem, um por vez, na tela."
   ]
  },
  {
   "cell_type": "code",
   "execution_count": 1,
   "id": "8e957106-801d-4bbc-95ea-7f7fb58e2c88",
   "metadata": {},
   "outputs": [
    {
     "name": "stdout",
     "output_type": "stream",
     "text": [
      "Contagem: 1\n",
      "Contagem: 2\n",
      "Contagem: 3\n",
      "Contagem: 4\n",
      "Contagem: 5\n"
     ]
    }
   ],
   "source": [
    "for numero in range(1, 6):\n",
    "    print(f'Contagem: {numero}')"
   ]
  },
  {
   "cell_type": "code",
   "execution_count": null,
   "id": "3f89f99d-d5f5-43ca-a7c5-42e9973cd830",
   "metadata": {},
   "outputs": [],
   "source": []
  }
 ],
 "metadata": {
  "kernelspec": {
   "display_name": "Python 3 (ipykernel)",
   "language": "python",
   "name": "python3"
  },
  "language_info": {
   "codemirror_mode": {
    "name": "ipython",
    "version": 3
   },
   "file_extension": ".py",
   "mimetype": "text/x-python",
   "name": "python",
   "nbconvert_exporter": "python",
   "pygments_lexer": "ipython3",
   "version": "3.12.4"
  }
 },
 "nbformat": 4,
 "nbformat_minor": 5
}
