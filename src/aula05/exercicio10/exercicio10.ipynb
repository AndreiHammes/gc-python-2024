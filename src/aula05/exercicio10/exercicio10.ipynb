{
 "cells": [
  {
   "cell_type": "markdown",
   "id": "37b2ba23",
   "metadata": {},
   "source": [
    "## Exercicio feito em coop com colega José Chagury, minhas respostas estão no repositório dele."
   ]
  }
 ],
 "metadata": {
  "kernelspec": {
   "display_name": "Python 3 (ipykernel)",
   "language": "python",
   "name": "python3"
  },
  "language_info": {
   "codemirror_mode": {
    "name": "ipython",
    "version": 3
   },
   "file_extension": ".py",
   "mimetype": "text/x-python",
   "name": "python",
   "nbconvert_exporter": "python",
   "pygments_lexer": "ipython3",
   "version": "3.12.4"
  }
 },
 "nbformat": 4,
 "nbformat_minor": 5
}
