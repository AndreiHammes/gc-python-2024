{
 "cells": [
  {
   "cell_type": "markdown",
   "id": "73e3bc7a-837e-4396-bdf6-d35c98958b54",
   "metadata": {},
   "source": [
    "discretizar atributo numerico que possui os valores abaio em 3 intervalos\n",
    "0 1 2 6 6 9 10 10 10 13 16 17 18 20 20 21 21 25\n",
    "usar larguras iguais, frequencias iguais, inspecao visual"
   ]
  },
  {
   "cell_type": "code",
   "execution_count": null,
   "id": "e6265592-301e-4546-b16a-ea9eafacd97c",
   "metadata": {},
   "outputs": [],
   "source": [
    "intervalo_01 = [0, 1, 2, 6, 6, 9]\n",
    "intervalo_02 = [10, 10, 10, 13, 16, 17]\n",
    "intervalo_03 = [18, 20, 20, 21, 21, 25]\n",
    "\n"
   ]
  }
 ],
 "metadata": {
  "kernelspec": {
   "display_name": "Python 3 (ipykernel)",
   "language": "python",
   "name": "python3"
  },
  "language_info": {
   "codemirror_mode": {
    "name": "ipython",
    "version": 3
   },
   "file_extension": ".py",
   "mimetype": "text/x-python",
   "name": "python",
   "nbconvert_exporter": "python",
   "pygments_lexer": "ipython3",
   "version": "3.12.4"
  }
 },
 "nbformat": 4,
 "nbformat_minor": 5
}
