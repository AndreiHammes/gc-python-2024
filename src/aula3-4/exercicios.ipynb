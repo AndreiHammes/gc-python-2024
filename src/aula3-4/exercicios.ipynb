{
 "cells": [
  {
   "cell_type": "code",
   "execution_count": 1,
   "id": "3fc8cf20-2da1-4523-99a7-4ea866bf84d3",
   "metadata": {},
   "outputs": [
    {
     "name": "stdout",
     "output_type": "stream",
     "text": [
      "Requirement already satisfied: pandas in /opt/miniconda3/lib/python3.12/site-packages (2.2.3)\n",
      "Requirement already satisfied: numpy>=1.26.0 in /opt/miniconda3/lib/python3.12/site-packages (from pandas) (2.1.1)\n",
      "Requirement already satisfied: python-dateutil>=2.8.2 in /opt/miniconda3/lib/python3.12/site-packages (from pandas) (2.9.0.post0)\n",
      "Requirement already satisfied: pytz>=2020.1 in /opt/miniconda3/lib/python3.12/site-packages (from pandas) (2024.2)\n",
      "Requirement already satisfied: tzdata>=2022.7 in /opt/miniconda3/lib/python3.12/site-packages (from pandas) (2024.2)\n",
      "Requirement already satisfied: six>=1.5 in /opt/miniconda3/lib/python3.12/site-packages (from python-dateutil>=2.8.2->pandas) (1.16.0)\n"
     ]
    }
   ],
   "source": [
    "!pip install pandas"
   ]
  },
  {
   "cell_type": "code",
   "execution_count": 2,
   "id": "da4a44a4-0e5c-4b31-82de-1a7bda0a01f2",
   "metadata": {},
   "outputs": [],
   "source": [
    "import pandas as pd"
   ]
  },
  {
   "cell_type": "markdown",
   "id": "307e8435-a0a6-4cd7-8986-aebc7594dfb5",
   "metadata": {},
   "source": [
    "### Exercicio 7\n",
    "✦ Crie uma lista com 5 nomes de filmes que você goste.\n",
    "✦ Crie uma 2a lista com o ano de lançamento desses 5 filmes (pode pesquisar, eu deixo). Tranforme isso em um dataframe;\n",
    "✦ Adicione uma nova coluna com a nota, de 1 a 10, de quanto você gosta deles;"
   ]
  },
  {
   "cell_type": "code",
   "execution_count": 3,
   "id": "f27e319f-5497-48e6-8b92-28e785e76610",
   "metadata": {},
   "outputs": [],
   "source": [
    "filmes = [\"Fallen angels\", \"O Fabuloso Destino de Amélie Poulain\", \"princesa Mononoke\", \"Ladrões de Bicicleta\", \"Blade Runner\"]\n",
    "data = [1995, 2001, 1997, 1948, 1982]"
   ]
  },
  {
   "cell_type": "code",
   "execution_count": 4,
   "id": "49eaa9b2-982f-4614-98ca-37b09837a921",
   "metadata": {},
   "outputs": [],
   "source": [
    "dt_filmes = pd.DataFrame({'Filmes':filmes, 'Data':data})"
   ]
  },
  {
   "cell_type": "code",
   "execution_count": 5,
   "id": "a96c094d-2319-45ab-bcaf-07e9744e5a39",
   "metadata": {},
   "outputs": [],
   "source": [
    "dt_filmes['Nota'] = [10, 8, 9, 10, 10]"
   ]
  },
  {
   "cell_type": "code",
   "execution_count": 6,
   "id": "0af804f1-da55-43bc-801b-bfa5a68110c7",
   "metadata": {},
   "outputs": [
    {
     "data": {
      "text/html": [
       "<div>\n",
       "<style scoped>\n",
       "    .dataframe tbody tr th:only-of-type {\n",
       "        vertical-align: middle;\n",
       "    }\n",
       "\n",
       "    .dataframe tbody tr th {\n",
       "        vertical-align: top;\n",
       "    }\n",
       "\n",
       "    .dataframe thead th {\n",
       "        text-align: right;\n",
       "    }\n",
       "</style>\n",
       "<table border=\"1\" class=\"dataframe\">\n",
       "  <thead>\n",
       "    <tr style=\"text-align: right;\">\n",
       "      <th></th>\n",
       "      <th>Filmes</th>\n",
       "      <th>Data</th>\n",
       "      <th>Nota</th>\n",
       "    </tr>\n",
       "  </thead>\n",
       "  <tbody>\n",
       "    <tr>\n",
       "      <th>0</th>\n",
       "      <td>Fallen angels</td>\n",
       "      <td>1995</td>\n",
       "      <td>10</td>\n",
       "    </tr>\n",
       "    <tr>\n",
       "      <th>1</th>\n",
       "      <td>O Fabuloso Destino de Amélie Poulain</td>\n",
       "      <td>2001</td>\n",
       "      <td>8</td>\n",
       "    </tr>\n",
       "    <tr>\n",
       "      <th>2</th>\n",
       "      <td>princesa Mononoke</td>\n",
       "      <td>1997</td>\n",
       "      <td>9</td>\n",
       "    </tr>\n",
       "    <tr>\n",
       "      <th>3</th>\n",
       "      <td>Ladrões de Bicicleta</td>\n",
       "      <td>1948</td>\n",
       "      <td>10</td>\n",
       "    </tr>\n",
       "    <tr>\n",
       "      <th>4</th>\n",
       "      <td>Blade Runner</td>\n",
       "      <td>1982</td>\n",
       "      <td>10</td>\n",
       "    </tr>\n",
       "  </tbody>\n",
       "</table>\n",
       "</div>"
      ],
      "text/plain": [
       "                                 Filmes  Data  Nota\n",
       "0                         Fallen angels  1995    10\n",
       "1  O Fabuloso Destino de Amélie Poulain  2001     8\n",
       "2                     princesa Mononoke  1997     9\n",
       "3                  Ladrões de Bicicleta  1948    10\n",
       "4                          Blade Runner  1982    10"
      ]
     },
     "execution_count": 6,
     "metadata": {},
     "output_type": "execute_result"
    }
   ],
   "source": [
    "dt_filmes"
   ]
  },
  {
   "cell_type": "markdown",
   "id": "f5affec6-b7bf-4556-ad11-f39035d818ac",
   "metadata": {},
   "source": [
    "### Exercicio 8\n",
    "✦ Crie mais 2 dataframes, de séries e anime/desenhos que você gosta, com as mesmas colunas acima.\n",
    "✦ Salve os 3 dataframes em 'csv', 'json' e 'html' e nos envie os arquivos.\n",
    "✦ Concatene horizontalmente os 3 dataframes, ficando 9 colunas no final."
   ]
  },
  {
   "cell_type": "code",
   "execution_count": 7,
   "id": "dfc9e71c-4156-4e57-a523-01efecc5cfba",
   "metadata": {},
   "outputs": [],
   "source": [
    "series = {\n",
    "    'Série': ['Sopranos', \n",
    "               'Breaking Bad',\n",
    "               'Dark',\n",
    "               'Game of Thrones',\n",
    "               'Prison Break'],\n",
    "    'Data': [2000, 2000, 2000, 2000, 2000],\n",
    "    'Nota': [10, 10, 9, 8, 6]\n",
    "}\n",
    "\n",
    "desenhos = {\n",
    "    'desenhos': ['Viva: a vida é uma festa',\n",
    "                'Castelo Animado',\n",
    "                'Viagem de Chihiro',\n",
    "                'Rei Leão',\n",
    "                'Ratatuille'],\n",
    "    'Data': [2001, 2001, 2001, 2001, 2001],\n",
    "    'Nota': [10, 9, 7, 8, 10]\n",
    "}\n",
    "\n",
    "dt_series = pd.DataFrame(series)\n",
    "dt_desenhos = pd.DataFrame(desenhos)"
   ]
  },
  {
   "cell_type": "code",
   "execution_count": 8,
   "id": "182bb7bf-20ff-4ee8-9f2d-2d85cf93f2e0",
   "metadata": {},
   "outputs": [
    {
     "data": {
      "text/html": [
       "<div>\n",
       "<style scoped>\n",
       "    .dataframe tbody tr th:only-of-type {\n",
       "        vertical-align: middle;\n",
       "    }\n",
       "\n",
       "    .dataframe tbody tr th {\n",
       "        vertical-align: top;\n",
       "    }\n",
       "\n",
       "    .dataframe thead th {\n",
       "        text-align: right;\n",
       "    }\n",
       "</style>\n",
       "<table border=\"1\" class=\"dataframe\">\n",
       "  <thead>\n",
       "    <tr style=\"text-align: right;\">\n",
       "      <th></th>\n",
       "      <th>Série</th>\n",
       "      <th>Data</th>\n",
       "      <th>Nota</th>\n",
       "    </tr>\n",
       "  </thead>\n",
       "  <tbody>\n",
       "    <tr>\n",
       "      <th>0</th>\n",
       "      <td>Sopranos</td>\n",
       "      <td>2000</td>\n",
       "      <td>10</td>\n",
       "    </tr>\n",
       "    <tr>\n",
       "      <th>1</th>\n",
       "      <td>Breaking Bad</td>\n",
       "      <td>2000</td>\n",
       "      <td>10</td>\n",
       "    </tr>\n",
       "    <tr>\n",
       "      <th>2</th>\n",
       "      <td>Dark</td>\n",
       "      <td>2000</td>\n",
       "      <td>9</td>\n",
       "    </tr>\n",
       "    <tr>\n",
       "      <th>3</th>\n",
       "      <td>Game of Thrones</td>\n",
       "      <td>2000</td>\n",
       "      <td>8</td>\n",
       "    </tr>\n",
       "    <tr>\n",
       "      <th>4</th>\n",
       "      <td>Prison Break</td>\n",
       "      <td>2000</td>\n",
       "      <td>6</td>\n",
       "    </tr>\n",
       "  </tbody>\n",
       "</table>\n",
       "</div>"
      ],
      "text/plain": [
       "             Série  Data  Nota\n",
       "0         Sopranos  2000    10\n",
       "1     Breaking Bad  2000    10\n",
       "2             Dark  2000     9\n",
       "3  Game of Thrones  2000     8\n",
       "4     Prison Break  2000     6"
      ]
     },
     "execution_count": 8,
     "metadata": {},
     "output_type": "execute_result"
    }
   ],
   "source": [
    "dt_series"
   ]
  },
  {
   "cell_type": "code",
   "execution_count": 9,
   "id": "255f400d-aa15-40db-aa22-146ddcc63c4b",
   "metadata": {},
   "outputs": [],
   "source": [
    "dt_filmes.to_csv('filmes.csv')\n",
    "dt_series.to_json('series.json')\n",
    "dt_desenhos.to_html('desenhos.html')"
   ]
  },
  {
   "cell_type": "code",
   "execution_count": 11,
   "id": "01cc5806-6cc6-4c3c-83aa-a4d945784f6c",
   "metadata": {},
   "outputs": [
    {
     "data": {
      "text/html": [
       "<div>\n",
       "<style scoped>\n",
       "    .dataframe tbody tr th:only-of-type {\n",
       "        vertical-align: middle;\n",
       "    }\n",
       "\n",
       "    .dataframe tbody tr th {\n",
       "        vertical-align: top;\n",
       "    }\n",
       "\n",
       "    .dataframe thead th {\n",
       "        text-align: right;\n",
       "    }\n",
       "</style>\n",
       "<table border=\"1\" class=\"dataframe\">\n",
       "  <thead>\n",
       "    <tr style=\"text-align: right;\">\n",
       "      <th></th>\n",
       "      <th>Filmes</th>\n",
       "      <th>Data</th>\n",
       "      <th>Nota</th>\n",
       "      <th>Série</th>\n",
       "      <th>Data</th>\n",
       "      <th>Nota</th>\n",
       "      <th>desenhos</th>\n",
       "      <th>Data</th>\n",
       "      <th>Nota</th>\n",
       "    </tr>\n",
       "  </thead>\n",
       "  <tbody>\n",
       "    <tr>\n",
       "      <th>0</th>\n",
       "      <td>Fallen angels</td>\n",
       "      <td>1995</td>\n",
       "      <td>10</td>\n",
       "      <td>Sopranos</td>\n",
       "      <td>2000</td>\n",
       "      <td>10</td>\n",
       "      <td>Viva: a vida é uma festa</td>\n",
       "      <td>2001</td>\n",
       "      <td>10</td>\n",
       "    </tr>\n",
       "    <tr>\n",
       "      <th>1</th>\n",
       "      <td>O Fabuloso Destino de Amélie Poulain</td>\n",
       "      <td>2001</td>\n",
       "      <td>8</td>\n",
       "      <td>Breaking Bad</td>\n",
       "      <td>2000</td>\n",
       "      <td>10</td>\n",
       "      <td>Castelo Animado</td>\n",
       "      <td>2001</td>\n",
       "      <td>9</td>\n",
       "    </tr>\n",
       "    <tr>\n",
       "      <th>2</th>\n",
       "      <td>princesa Mononoke</td>\n",
       "      <td>1997</td>\n",
       "      <td>9</td>\n",
       "      <td>Dark</td>\n",
       "      <td>2000</td>\n",
       "      <td>9</td>\n",
       "      <td>Viagem de Chihiro</td>\n",
       "      <td>2001</td>\n",
       "      <td>7</td>\n",
       "    </tr>\n",
       "    <tr>\n",
       "      <th>3</th>\n",
       "      <td>Ladrões de Bicicleta</td>\n",
       "      <td>1948</td>\n",
       "      <td>10</td>\n",
       "      <td>Game of Thrones</td>\n",
       "      <td>2000</td>\n",
       "      <td>8</td>\n",
       "      <td>Rei Leão</td>\n",
       "      <td>2001</td>\n",
       "      <td>8</td>\n",
       "    </tr>\n",
       "    <tr>\n",
       "      <th>4</th>\n",
       "      <td>Blade Runner</td>\n",
       "      <td>1982</td>\n",
       "      <td>10</td>\n",
       "      <td>Prison Break</td>\n",
       "      <td>2000</td>\n",
       "      <td>6</td>\n",
       "      <td>Ratatuille</td>\n",
       "      <td>2001</td>\n",
       "      <td>10</td>\n",
       "    </tr>\n",
       "  </tbody>\n",
       "</table>\n",
       "</div>"
      ],
      "text/plain": [
       "                                 Filmes  Data  Nota            Série  Data  \\\n",
       "0                         Fallen angels  1995    10         Sopranos  2000   \n",
       "1  O Fabuloso Destino de Amélie Poulain  2001     8     Breaking Bad  2000   \n",
       "2                     princesa Mononoke  1997     9             Dark  2000   \n",
       "3                  Ladrões de Bicicleta  1948    10  Game of Thrones  2000   \n",
       "4                          Blade Runner  1982    10     Prison Break  2000   \n",
       "\n",
       "   Nota                  desenhos  Data  Nota  \n",
       "0    10  Viva: a vida é uma festa  2001    10  \n",
       "1    10           Castelo Animado  2001     9  \n",
       "2     9         Viagem de Chihiro  2001     7  \n",
       "3     8                  Rei Leão  2001     8  \n",
       "4     6                Ratatuille  2001    10  "
      ]
     },
     "execution_count": 11,
     "metadata": {},
     "output_type": "execute_result"
    }
   ],
   "source": [
    "dt_concat =  pd.concat([dt_filmes, dt_series, dt_desenhos], axis = 1)\n",
    "dt_concat"
   ]
  },
  {
   "cell_type": "code",
   "execution_count": null,
   "id": "7ef363d2-4ed2-443f-b748-c1bb60681f32",
   "metadata": {},
   "outputs": [],
   "source": []
  }
 ],
 "metadata": {
  "kernelspec": {
   "display_name": "Python 3 (ipykernel)",
   "language": "python",
   "name": "python3"
  },
  "language_info": {
   "codemirror_mode": {
    "name": "ipython",
    "version": 3
   },
   "file_extension": ".py",
   "mimetype": "text/x-python",
   "name": "python",
   "nbconvert_exporter": "python",
   "pygments_lexer": "ipython3",
   "version": "3.12.4"
  }
 },
 "nbformat": 4,
 "nbformat_minor": 5
}
