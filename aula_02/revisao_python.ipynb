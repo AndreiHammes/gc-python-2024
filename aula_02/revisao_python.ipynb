{
 "cells": [
  {
   "cell_type": "code",
   "execution_count": null,
   "id": "bc0ccdba-f841-452d-b7de-1c0530753d05",
   "metadata": {},
   "outputs": [],
   "source": [
    "nome = 'Andrei'\n",
    "eh_aluno = True\n",
    "nota = 10\n",
    "dinheiro_na_carteira = 20.00"
   ]
  },
  {
   "cell_type": "code",
   "execution_count": 4,
   "id": "1222d5f0-6692-4bbd-bbfc-692515d0274c",
   "metadata": {},
   "outputs": [
    {
     "name": "stdout",
     "output_type": "stream",
     "text": [
      "banana, abacaxi, uva, bergamota\n"
     ]
    }
   ],
   "source": [
    "lista_de_compras = ['banana, abacaxi, uva, bergamota']\n",
    "for item in lista_de_compras:\n",
    "    print(item)"
   ]
  },
  {
   "cell_type": "code",
   "execution_count": null,
   "id": "6d472550-6258-494b-9c27-4b26fbf0fb28",
   "metadata": {},
   "outputs": [],
   "source": [
    "lista_dicionario = [\n",
    "{\n",
    "    nome:'Andrei';\n",
    "    idade: 21;\n",
    "}\n",
    "\n",
    "]"
   ]
  }
 ],
 "metadata": {
  "kernelspec": {
   "display_name": "Python 3 (ipykernel)",
   "language": "python",
   "name": "python3"
  },
  "language_info": {
   "codemirror_mode": {
    "name": "ipython",
    "version": 3
   },
   "file_extension": ".py",
   "mimetype": "text/x-python",
   "name": "python",
   "nbconvert_exporter": "python",
   "pygments_lexer": "ipython3",
   "version": "3.12.4"
  }
 },
 "nbformat": 4,
 "nbformat_minor": 5
}
