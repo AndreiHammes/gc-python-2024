{
 "cells": [
  {
   "cell_type": "markdown",
   "id": "3e8838de-f065-4eda-8a16-2525b4b16039",
   "metadata": {},
   "source": [
    "#### Exercicio 02\n",
    "Crie um programa que receba 2 número e imprima a soma deles na tela"
   ]
  },
  {
   "cell_type": "code",
   "execution_count": 1,
   "id": "7bab9d2e-af16-4416-b9da-860baf331c17",
   "metadata": {},
   "outputs": [
    {
     "name": "stdin",
     "output_type": "stream",
     "text": [
      "Digite o primeiro número inteiro:  10\n",
      "Digite o segundo número inteiro:  3\n"
     ]
    },
    {
     "name": "stdout",
     "output_type": "stream",
     "text": [
      "A soma dos dois números é 13\n"
     ]
    }
   ],
   "source": [
    "numero_01 = int(input('Digite o primeiro número inteiro: '))\n",
    "numero_02 = int(input('Digite o segundo número inteiro: '))\n",
    "soma = numero_01 + numero_02\n",
    "print(f'A soma dos dois números é {soma}')"
   ]
  }
 ],
 "metadata": {
  "kernelspec": {
   "display_name": "Python 3 (ipykernel)",
   "language": "python",
   "name": "python3"
  },
  "language_info": {
   "codemirror_mode": {
    "name": "ipython",
    "version": 3
   },
   "file_extension": ".py",
   "mimetype": "text/x-python",
   "name": "python",
   "nbconvert_exporter": "python",
   "pygments_lexer": "ipython3",
   "version": "3.12.4"
  }
 },
 "nbformat": 4,
 "nbformat_minor": 5
}
