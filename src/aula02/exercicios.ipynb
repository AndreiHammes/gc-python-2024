{
 "cells": [
  {
   "cell_type": "markdown",
   "id": "b0908492",
   "metadata": {},
   "source": [
    " Crie um programa em Python que solicite ao usuário que insira a sua idade. Com base na idade fornecida, o programa deve verificar se o usuário é menor de idade, maior de idade ou se está completando 18 anos.​​\n",
    "​"
   ]
  },
  {
   "cell_type": "code",
   "execution_count": 5,
   "id": "b5a9802f",
   "metadata": {},
   "outputs": [
    {
     "name": "stdout",
     "output_type": "stream",
     "text": [
      "Maior de idade!\n"
     ]
    }
   ],
   "source": [
    "idade = int(input('Digite a sua idade: '))\n",
    "if idade < 18:\n",
    "    print('Menor de idade!')\n",
    "elif idade == 18:\n",
    "    print('Feliz aniversário!')\n",
    "else:\n",
    "    print('Maior de idade!')"
   ]
  },
  {
   "cell_type": "markdown",
   "id": "a360c990",
   "metadata": {},
   "source": [
    "Crie um programa em Python que utilize um laço de repetição para contar de 1 a 5. O programa deve exibir cada número da contagem, um por vez, na tela.​​"
   ]
  },
  {
   "cell_type": "code",
   "execution_count": 7,
   "id": "4d4a0bc1",
   "metadata": {},
   "outputs": [
    {
     "name": "stdout",
     "output_type": "stream",
     "text": [
      "Contagem: 1\n",
      "Contagem: 2\n",
      "Contagem: 3\n",
      "Contagem: 4\n",
      "Contagem: 5\n"
     ]
    }
   ],
   "source": [
    "numeros = [1,2,3,4,5]\n",
    "for numeros in numeros:\n",
    "    print(f'Contagem: {numeros}')"
   ]
  },
  {
   "cell_type": "markdown",
   "id": "21be7bc3",
   "metadata": {},
   "source": [
    "Crie um programa em Python que peça ao usuário para inserir o nome de três amigos. O programa deve armazenar esses nomes em uma lista e, em seguida, exibir uma mensagem personalizada para cada amigo, indicando que ele é seu amigo. ​​"
   ]
  },
  {
   "cell_type": "code",
   "execution_count": 17,
   "id": "95866a5e",
   "metadata": {},
   "outputs": [
    {
     "name": "stdout",
     "output_type": "stream",
     "text": [
      "Gabryel é meu amigo\n",
      "Bernardo é meu amigo\n",
      "Guilherme é meu amigo\n"
     ]
    }
   ],
   "source": [
    "amigos = []\n",
    "\n",
    "amigo1 = input('Digite o nome do primeiro amigo')\n",
    "amigo2 = input('Digite o nome do segundo amigo')\n",
    "amigo3 = input('Digite o nome do terceiro amigo')\n",
    "\n",
    "amigos.append(amigo1)\n",
    "amigos.append(amigo2)\n",
    "amigos.append(amigo3)\n",
    "\n",
    "for amigo in amigos:\n",
    "    print(f'{amigo} é meu amigo')"
   ]
  }
 ],
 "metadata": {
  "kernelspec": {
   "display_name": "Python 3 (ipykernel)",
   "language": "python",
   "name": "python3"
  },
  "language_info": {
   "codemirror_mode": {
    "name": "ipython",
    "version": 3
   },
   "file_extension": ".py",
   "mimetype": "text/x-python",
   "name": "python",
   "nbconvert_exporter": "python",
   "pygments_lexer": "ipython3",
   "version": "3.12.0"
  }
 },
 "nbformat": 4,
 "nbformat_minor": 5
}
