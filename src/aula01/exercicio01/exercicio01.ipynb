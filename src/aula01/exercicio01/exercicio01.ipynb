{
 "cells": [
  {
   "cell_type": "markdown",
   "id": "a653eda7-5abb-4b70-b940-df2fb03031a2",
   "metadata": {},
   "source": [
    "##### Exercicios aula 01\n",
    "Crie um programa que leia seu nome e imprima na tela."
   ]
  },
  {
   "cell_type": "code",
   "execution_count": 1,
   "id": "fc0a91fc-0793-4b2c-a820-dca61ffeeee3",
   "metadata": {},
   "outputs": [
    {
     "name": "stdin",
     "output_type": "stream",
     "text": [
      "Digite seu nome Andrei\n"
     ]
    },
    {
     "name": "stdout",
     "output_type": "stream",
     "text": [
      "Andrei\n"
     ]
    }
   ],
   "source": [
    "nome = input('Digite seu nome')\n",
    "print(nome)"
   ]
  }
 ],
 "metadata": {
  "kernelspec": {
   "display_name": "Python 3 (ipykernel)",
   "language": "python",
   "name": "python3"
  },
  "language_info": {
   "codemirror_mode": {
    "name": "ipython",
    "version": 3
   },
   "file_extension": ".py",
   "mimetype": "text/x-python",
   "name": "python",
   "nbconvert_exporter": "python",
   "pygments_lexer": "ipython3",
   "version": "3.12.4"
  }
 },
 "nbformat": 4,
 "nbformat_minor": 5
}
