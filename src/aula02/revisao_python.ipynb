{
 "cells": [
  {
   "cell_type": "markdown",
   "id": "1786a5b6",
   "metadata": {},
   "source": [
    "Revisão de conteúdos na aula 2"
   ]
  },
  {
   "cell_type": "code",
   "execution_count": 1,
   "id": "bc0ccdba-f841-452d-b7de-1c0530753d05",
   "metadata": {},
   "outputs": [
    {
     "name": "stdout",
     "output_type": "stream",
     "text": [
      "Olá Andrei, você tem 21 anos, possui R$750 na carteira!\n",
      "Você também é um cliente vip!\n"
     ]
    }
   ],
   "source": [
    "nome = 'Andrei'\n",
    "idade = 21\n",
    "valor_carteira  = 750\n",
    "vip = True\n",
    "\n",
    "print(f'Olá {nome}, você tem {idade} anos, possui R${valor_carteira} na carteira!')\n",
    "if vip == True:\n",
    "    print('Você também é um cliente vip!')\n",
    "else:\n",
    "    print('Você atualmente não é um cliente vip.')"
   ]
  },
  {
   "cell_type": "markdown",
   "id": "a513f2aa",
   "metadata": {},
   "source": [
    "Sobre funções"
   ]
  },
  {
   "cell_type": "code",
   "execution_count": 2,
   "id": "1222d5f0-6692-4bbd-bbfc-692515d0274c",
   "metadata": {},
   "outputs": [
    {
     "name": "stdout",
     "output_type": "stream",
     "text": [
      "30\n"
     ]
    }
   ],
   "source": [
    "def soma_dois_valores(primeiro,segundo):\n",
    "    resultado = primeiro + segundo\n",
    "    return resultado\n",
    "\n",
    "valor_1 = 10\n",
    "valor_2 = 20\n",
    "\n",
    "soma = soma_dois_valores(valor_1, valor_2)\n",
    "print(soma)"
   ]
  },
  {
   "cell_type": "markdown",
   "id": "328f240f",
   "metadata": {},
   "source": [
    "Sobre coleções"
   ]
  },
  {
   "cell_type": "code",
   "execution_count": 5,
   "id": "6d472550-6258-494b-9c27-4b26fbf0fb28",
   "metadata": {},
   "outputs": [
    {
     "name": "stdout",
     "output_type": "stream",
     "text": [
      "Miguel\n"
     ]
    }
   ],
   "source": [
    "lista_clientes = ['Joaquim', 'Diego', 'Jaison', 'Jean']\n",
    "lista_produtos = ['Macbook', 'Xbox', 'Teclado']\n",
    "\n",
    "lista_clientes.append('Miguel')\n",
    "\n",
    "print(lista_clientes[4])\n"
   ]
  },
  {
   "cell_type": "markdown",
   "id": "22df9d90",
   "metadata": {},
   "source": [
    "Sobre Tuplas - organiza informações diferentes sobre um mesmo contexto (só mantém seu valor inicial sem possibilidade de alteração)"
   ]
  },
  {
   "cell_type": "code",
   "execution_count": 11,
   "id": "0e8b4b75",
   "metadata": {},
   "outputs": [
    {
     "name": "stdout",
     "output_type": "stream",
     "text": [
      "[('banana', 4, 8.0)]\n"
     ]
    }
   ],
   "source": [
    "lista_vendas = []\n",
    "venda = ('banana', 4, 8.0)\n",
    "\n",
    "lista_vendas.append(venda)\n",
    "print(lista_vendas)"
   ]
  },
  {
   "cell_type": "markdown",
   "id": "6ad1d2bc",
   "metadata": {},
   "source": [
    "Dicionários || possui uma chave e um valor -- podemos imprimir o valor pela chave, usamos as coleções para criar listas complexas"
   ]
  },
  {
   "cell_type": "code",
   "execution_count": 15,
   "id": "42fc3428",
   "metadata": {},
   "outputs": [
    {
     "name": "stdout",
     "output_type": "stream",
     "text": [
      "[{'nome': 'Andrei', 'idade': 21, 'vip': True, 'carteira': 750.0}, {'nome': 'João', 'idade': 25, 'vip': False, 'carteira': 1800.0}]\n"
     ]
    }
   ],
   "source": [
    "cliente_1 = {\n",
    "    'nome': 'Andrei',\n",
    "    'idade': 21,\n",
    "    'vip': True,\n",
    "    'carteira': 750.0\n",
    "}\n",
    "\n",
    "cliente_2 = {\n",
    "    'nome': 'João',\n",
    "    'idade': 32,\n",
    "    'vip': False,\n",
    "    'carteira': 1800.0\n",
    "}\n",
    "\n",
    "cliente_2['idade'] = 25 \n",
    "\n",
    "lista_clientes = [cliente_1, cliente_2]\n",
    "\n",
    "print(lista_clientes)"
   ]
  },
  {
   "cell_type": "markdown",
   "id": "40e546b1",
   "metadata": {},
   "source": [
    "para alterarmos alguma informação dentro da lista, podemos chamar o elemento pela chave"
   ]
  },
  {
   "cell_type": "markdown",
   "id": "0a950ccf",
   "metadata": {},
   "source": [
    "importando biblioteca para cálculos matemáticos com todas as configurações já definidas"
   ]
  },
  {
   "cell_type": "code",
   "execution_count": 17,
   "id": "a2872aba",
   "metadata": {},
   "outputs": [
    {
     "name": "stdout",
     "output_type": "stream",
     "text": [
      "2.0\n"
     ]
    }
   ],
   "source": [
    "import math\n",
    "\n",
    "print(math.sqrt(4))"
   ]
  }
 ],
 "metadata": {
  "kernelspec": {
   "display_name": "Python 3 (ipykernel)",
   "language": "python",
   "name": "python3"
  },
  "language_info": {
   "codemirror_mode": {
    "name": "ipython",
    "version": 3
   },
   "file_extension": ".py",
   "mimetype": "text/x-python",
   "name": "python",
   "nbconvert_exporter": "python",
   "pygments_lexer": "ipython3",
   "version": "3.12.0"
  }
 },
 "nbformat": 4,
 "nbformat_minor": 5
}
