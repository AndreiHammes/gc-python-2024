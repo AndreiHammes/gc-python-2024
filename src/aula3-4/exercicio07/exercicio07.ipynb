{
 "cells": [
  {
   "cell_type": "code",
   "execution_count": 2,
   "id": "25647671-fabc-491d-9252-d86d8267ff01",
   "metadata": {},
   "outputs": [
    {
     "name": "stdout",
     "output_type": "stream",
     "text": [
      "Requirement already satisfied: pandas in c:\\users\\andre\\miniconda3\\lib\\site-packages (2.2.3)\n",
      "Requirement already satisfied: numpy>=1.26.0 in c:\\users\\andre\\miniconda3\\lib\\site-packages (from pandas) (2.1.1)\n",
      "Requirement already satisfied: python-dateutil>=2.8.2 in c:\\users\\andre\\appdata\\roaming\\python\\python312\\site-packages (from pandas) (2.9.0.post0)\n",
      "Requirement already satisfied: pytz>=2020.1 in c:\\users\\andre\\miniconda3\\lib\\site-packages (from pandas) (2024.1)\n",
      "Requirement already satisfied: tzdata>=2022.7 in c:\\users\\andre\\miniconda3\\lib\\site-packages (from pandas) (2024.2)\n",
      "Requirement already satisfied: six>=1.5 in c:\\users\\andre\\appdata\\roaming\\python\\python312\\site-packages (from python-dateutil>=2.8.2->pandas) (1.16.0)\n"
     ]
    }
   ],
   "source": [
    "!pip install pandas"
   ]
  },
  {
   "cell_type": "code",
   "execution_count": 4,
   "id": "2f2402c4-90c6-4ee1-bb2a-f2b9628d44d0",
   "metadata": {},
   "outputs": [],
   "source": [
    "import pandas as pd"
   ]
  },
  {
   "cell_type": "markdown",
   "id": "8505772c-686f-49d3-b03e-8679bf37767c",
   "metadata": {},
   "source": [
    "#### Exercicio 07\n",
    "✦ Crie uma lista com 5 nomes de filmes que você goste.\n",
    "✦ Crie uma 2a lista com o ano de lançamento desses 5 filmes (pode pesquisar, eu deixo). Tranforme isso em um dataframe;\n",
    "✦ Adicione uma nova coluna com a nota, de 1 a 10, de quanto você gosta deles;"
   ]
  },
  {
   "cell_type": "code",
   "execution_count": 5,
   "id": "f2a1f2fe-17a7-4ea2-97f6-3b4302abdf85",
   "metadata": {},
   "outputs": [],
   "source": [
    "nome = [\"Fallen angels\", \"O Fabuloso Destino de Amélie Poulain\", \"princesa Mononoke\", \"Ladrões de Bicicleta\", \"Blade Runner\"]\n",
    "data = [1995, 2001, 1997, 1948, 1982]"
   ]
  },
  {
   "cell_type": "code",
   "execution_count": 13,
   "id": "5accf140-396b-4a1b-bc01-346ee7ce93a5",
   "metadata": {},
   "outputs": [],
   "source": [
    "dt_filmes = pd.DataFrame({'nome':nome, 'Data':data})"
   ]
  },
  {
   "cell_type": "code",
   "execution_count": 14,
   "id": "2e23d6f8-8f67-4e6a-9d58-a36a9ff401e5",
   "metadata": {},
   "outputs": [
    {
     "data": {
      "text/html": [
       "<div>\n",
       "<style scoped>\n",
       "    .dataframe tbody tr th:only-of-type {\n",
       "        vertical-align: middle;\n",
       "    }\n",
       "\n",
       "    .dataframe tbody tr th {\n",
       "        vertical-align: top;\n",
       "    }\n",
       "\n",
       "    .dataframe thead th {\n",
       "        text-align: right;\n",
       "    }\n",
       "</style>\n",
       "<table border=\"1\" class=\"dataframe\">\n",
       "  <thead>\n",
       "    <tr style=\"text-align: right;\">\n",
       "      <th></th>\n",
       "      <th>nome</th>\n",
       "      <th>Data</th>\n",
       "      <th>Nota</th>\n",
       "    </tr>\n",
       "  </thead>\n",
       "  <tbody>\n",
       "    <tr>\n",
       "      <th>0</th>\n",
       "      <td>Fallen angels</td>\n",
       "      <td>1995</td>\n",
       "      <td>10</td>\n",
       "    </tr>\n",
       "    <tr>\n",
       "      <th>1</th>\n",
       "      <td>O Fabuloso Destino de Amélie Poulain</td>\n",
       "      <td>2001</td>\n",
       "      <td>8</td>\n",
       "    </tr>\n",
       "    <tr>\n",
       "      <th>2</th>\n",
       "      <td>princesa Mononoke</td>\n",
       "      <td>1997</td>\n",
       "      <td>9</td>\n",
       "    </tr>\n",
       "    <tr>\n",
       "      <th>3</th>\n",
       "      <td>Ladrões de Bicicleta</td>\n",
       "      <td>1948</td>\n",
       "      <td>10</td>\n",
       "    </tr>\n",
       "    <tr>\n",
       "      <th>4</th>\n",
       "      <td>Blade Runner</td>\n",
       "      <td>1982</td>\n",
       "      <td>10</td>\n",
       "    </tr>\n",
       "  </tbody>\n",
       "</table>\n",
       "</div>"
      ],
      "text/plain": [
       "                                   nome  Data  Nota\n",
       "0                         Fallen angels  1995    10\n",
       "1  O Fabuloso Destino de Amélie Poulain  2001     8\n",
       "2                     princesa Mononoke  1997     9\n",
       "3                  Ladrões de Bicicleta  1948    10\n",
       "4                          Blade Runner  1982    10"
      ]
     },
     "execution_count": 14,
     "metadata": {},
     "output_type": "execute_result"
    }
   ],
   "source": [
    "dt_filmes['Nota'] = [10, 8, 9, 10, 10]\n",
    "dt_filmes"
   ]
  },
  {
   "cell_type": "code",
   "execution_count": null,
   "id": "2a4bff6c-9adb-4fc4-aa56-cf894a539423",
   "metadata": {},
   "outputs": [],
   "source": []
  }
 ],
 "metadata": {
  "kernelspec": {
   "display_name": "Python 3 (ipykernel)",
   "language": "python",
   "name": "python3"
  },
  "language_info": {
   "codemirror_mode": {
    "name": "ipython",
    "version": 3
   },
   "file_extension": ".py",
   "mimetype": "text/x-python",
   "name": "python",
   "nbconvert_exporter": "python",
   "pygments_lexer": "ipython3",
   "version": "3.12.4"
  }
 },
 "nbformat": 4,
 "nbformat_minor": 5
}
