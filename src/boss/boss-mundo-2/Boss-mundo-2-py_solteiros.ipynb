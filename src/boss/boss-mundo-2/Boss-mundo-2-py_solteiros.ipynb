{
 "cells": [
  {
   "cell_type": "code",
   "execution_count": 1,
   "id": "06d8802c",
   "metadata": {},
   "outputs": [],
   "source": [
    "import pandas as pd\n",
    "import plotly.express as px\n",
    "import plotly.graph_objects as go\n",
    "import random \n",
    "import numpy as np\n",
    "import matplotlib.pyplot as plt"
   ]
  },
  {
   "cell_type": "code",
   "execution_count": 56,
   "id": "0bf6cf3e",
   "metadata": {},
   "outputs": [
    {
     "data": {
      "text/html": [
       "<div>\n",
       "<style scoped>\n",
       "    .dataframe tbody tr th:only-of-type {\n",
       "        vertical-align: middle;\n",
       "    }\n",
       "\n",
       "    .dataframe tbody tr th {\n",
       "        vertical-align: top;\n",
       "    }\n",
       "\n",
       "    .dataframe thead th {\n",
       "        text-align: right;\n",
       "    }\n",
       "</style>\n",
       "<table border=\"1\" class=\"dataframe\">\n",
       "  <thead>\n",
       "    <tr style=\"text-align: right;\">\n",
       "      <th></th>\n",
       "      <th>Unnamed: 0.1</th>\n",
       "      <th>Unnamed: 0</th>\n",
       "      <th>pokedex_number</th>\n",
       "      <th>name</th>\n",
       "      <th>german_name</th>\n",
       "      <th>japanese_name</th>\n",
       "      <th>generation</th>\n",
       "      <th>status</th>\n",
       "      <th>species</th>\n",
       "      <th>type_number</th>\n",
       "      <th>...</th>\n",
       "      <th>against_ground</th>\n",
       "      <th>against_flying</th>\n",
       "      <th>against_psychic</th>\n",
       "      <th>against_bug</th>\n",
       "      <th>against_rock</th>\n",
       "      <th>against_ghost</th>\n",
       "      <th>against_dragon</th>\n",
       "      <th>against_dark</th>\n",
       "      <th>against_steel</th>\n",
       "      <th>against_fairy</th>\n",
       "    </tr>\n",
       "  </thead>\n",
       "  <tbody>\n",
       "    <tr>\n",
       "      <th>0</th>\n",
       "      <td>0</td>\n",
       "      <td>0</td>\n",
       "      <td>1</td>\n",
       "      <td>Bulbasaur</td>\n",
       "      <td>Bisasam</td>\n",
       "      <td>フシギダネ (Fushigidane)</td>\n",
       "      <td>1</td>\n",
       "      <td>Normal</td>\n",
       "      <td>Seed Pokémon</td>\n",
       "      <td>2</td>\n",
       "      <td>...</td>\n",
       "      <td>1.0</td>\n",
       "      <td>2.0</td>\n",
       "      <td>2.0</td>\n",
       "      <td>1.0</td>\n",
       "      <td>1.0</td>\n",
       "      <td>1.0</td>\n",
       "      <td>1.0</td>\n",
       "      <td>1.0</td>\n",
       "      <td>1.0</td>\n",
       "      <td>0.5</td>\n",
       "    </tr>\n",
       "    <tr>\n",
       "      <th>1</th>\n",
       "      <td>1</td>\n",
       "      <td>1</td>\n",
       "      <td>2</td>\n",
       "      <td>Ivysaur</td>\n",
       "      <td>Bisaknosp</td>\n",
       "      <td>フシギソウ (Fushigisou)</td>\n",
       "      <td>1</td>\n",
       "      <td>Normal</td>\n",
       "      <td>Seed Pokémon</td>\n",
       "      <td>2</td>\n",
       "      <td>...</td>\n",
       "      <td>1.0</td>\n",
       "      <td>2.0</td>\n",
       "      <td>2.0</td>\n",
       "      <td>1.0</td>\n",
       "      <td>1.0</td>\n",
       "      <td>1.0</td>\n",
       "      <td>1.0</td>\n",
       "      <td>1.0</td>\n",
       "      <td>1.0</td>\n",
       "      <td>0.5</td>\n",
       "    </tr>\n",
       "    <tr>\n",
       "      <th>2</th>\n",
       "      <td>2</td>\n",
       "      <td>2</td>\n",
       "      <td>3</td>\n",
       "      <td>Venusaur</td>\n",
       "      <td>Bisaflor</td>\n",
       "      <td>フシギバナ (Fushigibana)</td>\n",
       "      <td>1</td>\n",
       "      <td>Normal</td>\n",
       "      <td>Seed Pokémon</td>\n",
       "      <td>2</td>\n",
       "      <td>...</td>\n",
       "      <td>1.0</td>\n",
       "      <td>2.0</td>\n",
       "      <td>2.0</td>\n",
       "      <td>1.0</td>\n",
       "      <td>1.0</td>\n",
       "      <td>1.0</td>\n",
       "      <td>1.0</td>\n",
       "      <td>1.0</td>\n",
       "      <td>1.0</td>\n",
       "      <td>0.5</td>\n",
       "    </tr>\n",
       "    <tr>\n",
       "      <th>3</th>\n",
       "      <td>4</td>\n",
       "      <td>4</td>\n",
       "      <td>4</td>\n",
       "      <td>Charmander</td>\n",
       "      <td>Glumanda</td>\n",
       "      <td>ヒトカゲ (Hitokage)</td>\n",
       "      <td>1</td>\n",
       "      <td>Normal</td>\n",
       "      <td>Lizard Pokémon</td>\n",
       "      <td>1</td>\n",
       "      <td>...</td>\n",
       "      <td>2.0</td>\n",
       "      <td>1.0</td>\n",
       "      <td>1.0</td>\n",
       "      <td>0.5</td>\n",
       "      <td>2.0</td>\n",
       "      <td>1.0</td>\n",
       "      <td>1.0</td>\n",
       "      <td>1.0</td>\n",
       "      <td>0.5</td>\n",
       "      <td>0.5</td>\n",
       "    </tr>\n",
       "    <tr>\n",
       "      <th>4</th>\n",
       "      <td>5</td>\n",
       "      <td>5</td>\n",
       "      <td>5</td>\n",
       "      <td>Charmeleon</td>\n",
       "      <td>Glutexo</td>\n",
       "      <td>リザード (Lizardo)</td>\n",
       "      <td>1</td>\n",
       "      <td>Normal</td>\n",
       "      <td>Flame Pokémon</td>\n",
       "      <td>1</td>\n",
       "      <td>...</td>\n",
       "      <td>2.0</td>\n",
       "      <td>1.0</td>\n",
       "      <td>1.0</td>\n",
       "      <td>0.5</td>\n",
       "      <td>2.0</td>\n",
       "      <td>1.0</td>\n",
       "      <td>1.0</td>\n",
       "      <td>1.0</td>\n",
       "      <td>0.5</td>\n",
       "      <td>0.5</td>\n",
       "    </tr>\n",
       "  </tbody>\n",
       "</table>\n",
       "<p>5 rows × 52 columns</p>\n",
       "</div>"
      ],
      "text/plain": [
       "   Unnamed: 0.1  Unnamed: 0  pokedex_number        name german_name  \\\n",
       "0             0           0               1   Bulbasaur     Bisasam   \n",
       "1             1           1               2     Ivysaur   Bisaknosp   \n",
       "2             2           2               3    Venusaur    Bisaflor   \n",
       "3             4           4               4  Charmander    Glumanda   \n",
       "4             5           5               5  Charmeleon     Glutexo   \n",
       "\n",
       "         japanese_name  generation  status         species  type_number  ...  \\\n",
       "0  フシギダネ (Fushigidane)           1  Normal    Seed Pokémon            2  ...   \n",
       "1   フシギソウ (Fushigisou)           1  Normal    Seed Pokémon            2  ...   \n",
       "2  フシギバナ (Fushigibana)           1  Normal    Seed Pokémon            2  ...   \n",
       "3      ヒトカゲ (Hitokage)           1  Normal  Lizard Pokémon            1  ...   \n",
       "4       リザード (Lizardo)           1  Normal   Flame Pokémon            1  ...   \n",
       "\n",
       "  against_ground against_flying  against_psychic  against_bug  against_rock  \\\n",
       "0            1.0            2.0              2.0          1.0           1.0   \n",
       "1            1.0            2.0              2.0          1.0           1.0   \n",
       "2            1.0            2.0              2.0          1.0           1.0   \n",
       "3            2.0            1.0              1.0          0.5           2.0   \n",
       "4            2.0            1.0              1.0          0.5           2.0   \n",
       "\n",
       "  against_ghost against_dragon against_dark  against_steel  against_fairy  \n",
       "0           1.0            1.0          1.0            1.0            0.5  \n",
       "1           1.0            1.0          1.0            1.0            0.5  \n",
       "2           1.0            1.0          1.0            1.0            0.5  \n",
       "3           1.0            1.0          1.0            0.5            0.5  \n",
       "4           1.0            1.0          1.0            0.5            0.5  \n",
       "\n",
       "[5 rows x 52 columns]"
      ]
     },
     "execution_count": 56,
     "metadata": {},
     "output_type": "execute_result"
    }
   ],
   "source": [
    "pokemons = pd.read_csv('boss1.csv')\n",
    "pokemons.head()"
   ]
  },
  {
   "cell_type": "code",
   "execution_count": 57,
   "id": "08571119",
   "metadata": {},
   "outputs": [
    {
     "data": {
      "text/plain": [
       "generation\n",
       "1    172\n",
       "5    150\n",
       "3    130\n",
       "4    100\n",
       "2     94\n",
       "8     82\n",
       "6     75\n",
       "7     69\n",
       "Name: count, dtype: int64"
      ]
     },
     "execution_count": 57,
     "metadata": {},
     "output_type": "execute_result"
    }
   ],
   "source": [
    "pokemons.value_counts('generation')"
   ]
  },
  {
   "cell_type": "code",
   "execution_count": 58,
   "id": "f733cff9",
   "metadata": {},
   "outputs": [
    {
     "data": {
      "application/vnd.plotly.v1+json": {
       "config": {
        "plotlyServerURL": "https://plot.ly"
       },
       "data": [
        {
         "marker": {
          "color": "#76b5c5"
         },
         "name": "Quantidade",
         "nbinsx": 15,
         "type": "histogram",
         "x": [
          1,
          1,
          1,
          1,
          1,
          1,
          1,
          1,
          1,
          1,
          1,
          1,
          1,
          1,
          1,
          1,
          1,
          1,
          1,
          1,
          1,
          1,
          1,
          1,
          1,
          1,
          1,
          1,
          1,
          1,
          1,
          1,
          1,
          1,
          1,
          1,
          1,
          1,
          1,
          1,
          1,
          1,
          1,
          1,
          1,
          1,
          1,
          1,
          1,
          1,
          1,
          1,
          1,
          1,
          1,
          1,
          1,
          1,
          1,
          1,
          1,
          1,
          1,
          1,
          1,
          1,
          1,
          1,
          1,
          1,
          1,
          1,
          1,
          1,
          1,
          1,
          1,
          1,
          1,
          1,
          1,
          1,
          1,
          1,
          1,
          1,
          1,
          1,
          1,
          1,
          1,
          1,
          1,
          1,
          1,
          1,
          1,
          1,
          1,
          1,
          1,
          1,
          1,
          1,
          1,
          1,
          1,
          1,
          1,
          1,
          1,
          1,
          1,
          1,
          1,
          1,
          1,
          1,
          1,
          1,
          1,
          1,
          1,
          1,
          1,
          1,
          1,
          1,
          1,
          1,
          1,
          1,
          1,
          1,
          1,
          1,
          1,
          1,
          1,
          1,
          1,
          1,
          1,
          1,
          1,
          1,
          1,
          1,
          1,
          1,
          1,
          1,
          1,
          1,
          1,
          1,
          1,
          1,
          1,
          1,
          1,
          1,
          1,
          1,
          1,
          1,
          1,
          1,
          1,
          1,
          1,
          1,
          2,
          2,
          2,
          2,
          2,
          2,
          2,
          2,
          2,
          2,
          2,
          2,
          2,
          2,
          2,
          2,
          2,
          2,
          2,
          2,
          2,
          2,
          2,
          2,
          2,
          2,
          2,
          2,
          2,
          2,
          2,
          2,
          2,
          2,
          2,
          2,
          2,
          2,
          2,
          2,
          2,
          2,
          2,
          2,
          2,
          2,
          2,
          2,
          2,
          2,
          2,
          2,
          2,
          2,
          2,
          2,
          2,
          2,
          2,
          2,
          2,
          2,
          2,
          2,
          2,
          2,
          2,
          2,
          2,
          2,
          2,
          2,
          2,
          2,
          2,
          2,
          2,
          2,
          2,
          2,
          2,
          2,
          2,
          2,
          2,
          2,
          2,
          2,
          2,
          2,
          2,
          2,
          2,
          2,
          3,
          3,
          3,
          3,
          3,
          3,
          3,
          3,
          3,
          3,
          3,
          3,
          3,
          3,
          3,
          3,
          3,
          3,
          3,
          3,
          3,
          3,
          3,
          3,
          3,
          3,
          3,
          3,
          3,
          3,
          3,
          3,
          3,
          3,
          3,
          3,
          3,
          3,
          3,
          3,
          3,
          3,
          3,
          3,
          3,
          3,
          3,
          3,
          3,
          3,
          3,
          3,
          3,
          3,
          3,
          3,
          3,
          3,
          3,
          3,
          3,
          3,
          3,
          3,
          3,
          3,
          3,
          3,
          3,
          3,
          3,
          3,
          3,
          3,
          3,
          3,
          3,
          3,
          3,
          3,
          3,
          3,
          3,
          3,
          3,
          3,
          3,
          3,
          3,
          3,
          3,
          3,
          3,
          3,
          3,
          3,
          3,
          3,
          3,
          3,
          3,
          3,
          3,
          3,
          3,
          3,
          3,
          3,
          3,
          3,
          3,
          3,
          3,
          3,
          3,
          3,
          3,
          3,
          3,
          3,
          3,
          3,
          3,
          3,
          3,
          3,
          3,
          3,
          3,
          3,
          4,
          4,
          4,
          4,
          4,
          4,
          4,
          4,
          4,
          4,
          4,
          4,
          4,
          4,
          4,
          4,
          4,
          4,
          4,
          4,
          4,
          4,
          4,
          4,
          4,
          4,
          4,
          4,
          4,
          4,
          4,
          4,
          4,
          4,
          4,
          4,
          4,
          4,
          4,
          4,
          4,
          4,
          4,
          4,
          4,
          4,
          4,
          4,
          4,
          4,
          4,
          4,
          4,
          4,
          4,
          4,
          4,
          4,
          4,
          4,
          4,
          4,
          4,
          4,
          4,
          4,
          4,
          4,
          4,
          4,
          4,
          4,
          4,
          4,
          4,
          4,
          4,
          4,
          4,
          4,
          4,
          4,
          4,
          4,
          4,
          4,
          4,
          4,
          4,
          4,
          4,
          4,
          4,
          4,
          4,
          4,
          4,
          4,
          4,
          4,
          5,
          5,
          5,
          5,
          5,
          5,
          5,
          5,
          5,
          5,
          5,
          5,
          5,
          5,
          5,
          5,
          5,
          5,
          5,
          5,
          5,
          5,
          5,
          5,
          5,
          5,
          5,
          5,
          5,
          5,
          5,
          5,
          5,
          5,
          5,
          5,
          5,
          5,
          5,
          5,
          5,
          5,
          5,
          5,
          5,
          5,
          5,
          5,
          5,
          5,
          5,
          5,
          5,
          5,
          5,
          5,
          5,
          5,
          5,
          5,
          5,
          5,
          5,
          5,
          5,
          5,
          5,
          5,
          5,
          5,
          5,
          5,
          5,
          5,
          5,
          5,
          5,
          5,
          5,
          5,
          5,
          5,
          5,
          5,
          5,
          5,
          5,
          5,
          5,
          5,
          5,
          5,
          5,
          5,
          5,
          5,
          5,
          5,
          5,
          5,
          5,
          5,
          5,
          5,
          5,
          5,
          5,
          5,
          5,
          5,
          5,
          5,
          5,
          5,
          5,
          5,
          5,
          5,
          5,
          5,
          5,
          5,
          5,
          5,
          5,
          5,
          5,
          5,
          5,
          5,
          5,
          5,
          5,
          5,
          5,
          5,
          5,
          5,
          5,
          5,
          5,
          5,
          5,
          5,
          5,
          5,
          5,
          5,
          5,
          5,
          6,
          6,
          6,
          6,
          6,
          6,
          6,
          6,
          6,
          6,
          6,
          6,
          6,
          6,
          6,
          6,
          6,
          6,
          6,
          6,
          6,
          6,
          6,
          6,
          6,
          6,
          6,
          6,
          6,
          6,
          6,
          6,
          6,
          6,
          6,
          6,
          6,
          6,
          6,
          6,
          6,
          6,
          6,
          6,
          6,
          6,
          6,
          6,
          6,
          6,
          6,
          6,
          6,
          6,
          6,
          6,
          6,
          6,
          6,
          6,
          6,
          6,
          6,
          6,
          6,
          6,
          6,
          6,
          6,
          6,
          6,
          6,
          6,
          6,
          6,
          7,
          7,
          7,
          7,
          7,
          7,
          7,
          7,
          7,
          7,
          7,
          7,
          7,
          7,
          7,
          7,
          7,
          7,
          7,
          7,
          7,
          7,
          7,
          7,
          7,
          7,
          7,
          7,
          7,
          7,
          7,
          7,
          7,
          7,
          7,
          7,
          7,
          7,
          7,
          7,
          7,
          7,
          7,
          7,
          7,
          7,
          7,
          7,
          7,
          7,
          7,
          7,
          7,
          7,
          7,
          7,
          7,
          7,
          7,
          7,
          7,
          7,
          7,
          7,
          7,
          7,
          7,
          7,
          7,
          8,
          8,
          8,
          8,
          8,
          8,
          8,
          8,
          8,
          8,
          8,
          8,
          8,
          8,
          8,
          8,
          8,
          8,
          8,
          8,
          8,
          8,
          8,
          8,
          8,
          8,
          8,
          8,
          8,
          8,
          8,
          8,
          8,
          8,
          8,
          8,
          8,
          8,
          8,
          8,
          8,
          8,
          8,
          8,
          8,
          8,
          8,
          8,
          8,
          8,
          8,
          8,
          8,
          8,
          8,
          8,
          8,
          8,
          8,
          8,
          8,
          8,
          8,
          8,
          8,
          8,
          8,
          8,
          8,
          8,
          8,
          8,
          8,
          8,
          8,
          8,
          8,
          8,
          8,
          8,
          8,
          8
         ]
        },
        {
         "mode": "lines+markers",
         "name": "Ataque",
         "type": "scatter",
         "x": [
          1,
          2,
          3,
          4,
          5,
          6,
          7,
          8
         ],
         "y": [
          73.19767441860465,
          66,
          70.26923076923077,
          76.01,
          79.04,
          71.45333333333333,
          79.01449275362319,
          76.58536585365853
         ]
        },
        {
         "marker": {
          "color": "green"
         },
         "mode": "lines+markers",
         "name": "Velocidade",
         "type": "scatter",
         "x": [
          1,
          2,
          3,
          4,
          5,
          6,
          7,
          8
         ],
         "y": [
          68.47093023255815,
          58.41489361702128,
          59.94615384615385,
          65.79,
          63.766666666666666,
          65.42666666666666,
          60.927536231884055,
          63.6219512195122
         ]
        },
        {
         "marker": {
          "color": "yellow"
         },
         "mode": "lines+markers",
         "name": "Defesa",
         "type": "scatter",
         "x": [
          1,
          2,
          3,
          4,
          5,
          6,
          7,
          8
         ],
         "y": [
          68.06395348837209,
          67.80851063829788,
          65.67692307692307,
          73.11,
          69.52666666666667,
          73.92,
          72.55072463768116,
          70.4390243902439
         ]
        }
       ],
       "layout": {
        "template": {
         "data": {
          "bar": [
           {
            "error_x": {
             "color": "#2a3f5f"
            },
            "error_y": {
             "color": "#2a3f5f"
            },
            "marker": {
             "line": {
              "color": "#E5ECF6",
              "width": 0.5
             },
             "pattern": {
              "fillmode": "overlay",
              "size": 10,
              "solidity": 0.2
             }
            },
            "type": "bar"
           }
          ],
          "barpolar": [
           {
            "marker": {
             "line": {
              "color": "#E5ECF6",
              "width": 0.5
             },
             "pattern": {
              "fillmode": "overlay",
              "size": 10,
              "solidity": 0.2
             }
            },
            "type": "barpolar"
           }
          ],
          "carpet": [
           {
            "aaxis": {
             "endlinecolor": "#2a3f5f",
             "gridcolor": "white",
             "linecolor": "white",
             "minorgridcolor": "white",
             "startlinecolor": "#2a3f5f"
            },
            "baxis": {
             "endlinecolor": "#2a3f5f",
             "gridcolor": "white",
             "linecolor": "white",
             "minorgridcolor": "white",
             "startlinecolor": "#2a3f5f"
            },
            "type": "carpet"
           }
          ],
          "choropleth": [
           {
            "colorbar": {
             "outlinewidth": 0,
             "ticks": ""
            },
            "type": "choropleth"
           }
          ],
          "contour": [
           {
            "colorbar": {
             "outlinewidth": 0,
             "ticks": ""
            },
            "colorscale": [
             [
              0,
              "#0d0887"
             ],
             [
              0.1111111111111111,
              "#46039f"
             ],
             [
              0.2222222222222222,
              "#7201a8"
             ],
             [
              0.3333333333333333,
              "#9c179e"
             ],
             [
              0.4444444444444444,
              "#bd3786"
             ],
             [
              0.5555555555555556,
              "#d8576b"
             ],
             [
              0.6666666666666666,
              "#ed7953"
             ],
             [
              0.7777777777777778,
              "#fb9f3a"
             ],
             [
              0.8888888888888888,
              "#fdca26"
             ],
             [
              1,
              "#f0f921"
             ]
            ],
            "type": "contour"
           }
          ],
          "contourcarpet": [
           {
            "colorbar": {
             "outlinewidth": 0,
             "ticks": ""
            },
            "type": "contourcarpet"
           }
          ],
          "heatmap": [
           {
            "colorbar": {
             "outlinewidth": 0,
             "ticks": ""
            },
            "colorscale": [
             [
              0,
              "#0d0887"
             ],
             [
              0.1111111111111111,
              "#46039f"
             ],
             [
              0.2222222222222222,
              "#7201a8"
             ],
             [
              0.3333333333333333,
              "#9c179e"
             ],
             [
              0.4444444444444444,
              "#bd3786"
             ],
             [
              0.5555555555555556,
              "#d8576b"
             ],
             [
              0.6666666666666666,
              "#ed7953"
             ],
             [
              0.7777777777777778,
              "#fb9f3a"
             ],
             [
              0.8888888888888888,
              "#fdca26"
             ],
             [
              1,
              "#f0f921"
             ]
            ],
            "type": "heatmap"
           }
          ],
          "heatmapgl": [
           {
            "colorbar": {
             "outlinewidth": 0,
             "ticks": ""
            },
            "colorscale": [
             [
              0,
              "#0d0887"
             ],
             [
              0.1111111111111111,
              "#46039f"
             ],
             [
              0.2222222222222222,
              "#7201a8"
             ],
             [
              0.3333333333333333,
              "#9c179e"
             ],
             [
              0.4444444444444444,
              "#bd3786"
             ],
             [
              0.5555555555555556,
              "#d8576b"
             ],
             [
              0.6666666666666666,
              "#ed7953"
             ],
             [
              0.7777777777777778,
              "#fb9f3a"
             ],
             [
              0.8888888888888888,
              "#fdca26"
             ],
             [
              1,
              "#f0f921"
             ]
            ],
            "type": "heatmapgl"
           }
          ],
          "histogram": [
           {
            "marker": {
             "pattern": {
              "fillmode": "overlay",
              "size": 10,
              "solidity": 0.2
             }
            },
            "type": "histogram"
           }
          ],
          "histogram2d": [
           {
            "colorbar": {
             "outlinewidth": 0,
             "ticks": ""
            },
            "colorscale": [
             [
              0,
              "#0d0887"
             ],
             [
              0.1111111111111111,
              "#46039f"
             ],
             [
              0.2222222222222222,
              "#7201a8"
             ],
             [
              0.3333333333333333,
              "#9c179e"
             ],
             [
              0.4444444444444444,
              "#bd3786"
             ],
             [
              0.5555555555555556,
              "#d8576b"
             ],
             [
              0.6666666666666666,
              "#ed7953"
             ],
             [
              0.7777777777777778,
              "#fb9f3a"
             ],
             [
              0.8888888888888888,
              "#fdca26"
             ],
             [
              1,
              "#f0f921"
             ]
            ],
            "type": "histogram2d"
           }
          ],
          "histogram2dcontour": [
           {
            "colorbar": {
             "outlinewidth": 0,
             "ticks": ""
            },
            "colorscale": [
             [
              0,
              "#0d0887"
             ],
             [
              0.1111111111111111,
              "#46039f"
             ],
             [
              0.2222222222222222,
              "#7201a8"
             ],
             [
              0.3333333333333333,
              "#9c179e"
             ],
             [
              0.4444444444444444,
              "#bd3786"
             ],
             [
              0.5555555555555556,
              "#d8576b"
             ],
             [
              0.6666666666666666,
              "#ed7953"
             ],
             [
              0.7777777777777778,
              "#fb9f3a"
             ],
             [
              0.8888888888888888,
              "#fdca26"
             ],
             [
              1,
              "#f0f921"
             ]
            ],
            "type": "histogram2dcontour"
           }
          ],
          "mesh3d": [
           {
            "colorbar": {
             "outlinewidth": 0,
             "ticks": ""
            },
            "type": "mesh3d"
           }
          ],
          "parcoords": [
           {
            "line": {
             "colorbar": {
              "outlinewidth": 0,
              "ticks": ""
             }
            },
            "type": "parcoords"
           }
          ],
          "pie": [
           {
            "automargin": true,
            "type": "pie"
           }
          ],
          "scatter": [
           {
            "fillpattern": {
             "fillmode": "overlay",
             "size": 10,
             "solidity": 0.2
            },
            "type": "scatter"
           }
          ],
          "scatter3d": [
           {
            "line": {
             "colorbar": {
              "outlinewidth": 0,
              "ticks": ""
             }
            },
            "marker": {
             "colorbar": {
              "outlinewidth": 0,
              "ticks": ""
             }
            },
            "type": "scatter3d"
           }
          ],
          "scattercarpet": [
           {
            "marker": {
             "colorbar": {
              "outlinewidth": 0,
              "ticks": ""
             }
            },
            "type": "scattercarpet"
           }
          ],
          "scattergeo": [
           {
            "marker": {
             "colorbar": {
              "outlinewidth": 0,
              "ticks": ""
             }
            },
            "type": "scattergeo"
           }
          ],
          "scattergl": [
           {
            "marker": {
             "colorbar": {
              "outlinewidth": 0,
              "ticks": ""
             }
            },
            "type": "scattergl"
           }
          ],
          "scattermapbox": [
           {
            "marker": {
             "colorbar": {
              "outlinewidth": 0,
              "ticks": ""
             }
            },
            "type": "scattermapbox"
           }
          ],
          "scatterpolar": [
           {
            "marker": {
             "colorbar": {
              "outlinewidth": 0,
              "ticks": ""
             }
            },
            "type": "scatterpolar"
           }
          ],
          "scatterpolargl": [
           {
            "marker": {
             "colorbar": {
              "outlinewidth": 0,
              "ticks": ""
             }
            },
            "type": "scatterpolargl"
           }
          ],
          "scatterternary": [
           {
            "marker": {
             "colorbar": {
              "outlinewidth": 0,
              "ticks": ""
             }
            },
            "type": "scatterternary"
           }
          ],
          "surface": [
           {
            "colorbar": {
             "outlinewidth": 0,
             "ticks": ""
            },
            "colorscale": [
             [
              0,
              "#0d0887"
             ],
             [
              0.1111111111111111,
              "#46039f"
             ],
             [
              0.2222222222222222,
              "#7201a8"
             ],
             [
              0.3333333333333333,
              "#9c179e"
             ],
             [
              0.4444444444444444,
              "#bd3786"
             ],
             [
              0.5555555555555556,
              "#d8576b"
             ],
             [
              0.6666666666666666,
              "#ed7953"
             ],
             [
              0.7777777777777778,
              "#fb9f3a"
             ],
             [
              0.8888888888888888,
              "#fdca26"
             ],
             [
              1,
              "#f0f921"
             ]
            ],
            "type": "surface"
           }
          ],
          "table": [
           {
            "cells": {
             "fill": {
              "color": "#EBF0F8"
             },
             "line": {
              "color": "white"
             }
            },
            "header": {
             "fill": {
              "color": "#C8D4E3"
             },
             "line": {
              "color": "white"
             }
            },
            "type": "table"
           }
          ]
         },
         "layout": {
          "annotationdefaults": {
           "arrowcolor": "#2a3f5f",
           "arrowhead": 0,
           "arrowwidth": 1
          },
          "autotypenumbers": "strict",
          "coloraxis": {
           "colorbar": {
            "outlinewidth": 0,
            "ticks": ""
           }
          },
          "colorscale": {
           "diverging": [
            [
             0,
             "#8e0152"
            ],
            [
             0.1,
             "#c51b7d"
            ],
            [
             0.2,
             "#de77ae"
            ],
            [
             0.3,
             "#f1b6da"
            ],
            [
             0.4,
             "#fde0ef"
            ],
            [
             0.5,
             "#f7f7f7"
            ],
            [
             0.6,
             "#e6f5d0"
            ],
            [
             0.7,
             "#b8e186"
            ],
            [
             0.8,
             "#7fbc41"
            ],
            [
             0.9,
             "#4d9221"
            ],
            [
             1,
             "#276419"
            ]
           ],
           "sequential": [
            [
             0,
             "#0d0887"
            ],
            [
             0.1111111111111111,
             "#46039f"
            ],
            [
             0.2222222222222222,
             "#7201a8"
            ],
            [
             0.3333333333333333,
             "#9c179e"
            ],
            [
             0.4444444444444444,
             "#bd3786"
            ],
            [
             0.5555555555555556,
             "#d8576b"
            ],
            [
             0.6666666666666666,
             "#ed7953"
            ],
            [
             0.7777777777777778,
             "#fb9f3a"
            ],
            [
             0.8888888888888888,
             "#fdca26"
            ],
            [
             1,
             "#f0f921"
            ]
           ],
           "sequentialminus": [
            [
             0,
             "#0d0887"
            ],
            [
             0.1111111111111111,
             "#46039f"
            ],
            [
             0.2222222222222222,
             "#7201a8"
            ],
            [
             0.3333333333333333,
             "#9c179e"
            ],
            [
             0.4444444444444444,
             "#bd3786"
            ],
            [
             0.5555555555555556,
             "#d8576b"
            ],
            [
             0.6666666666666666,
             "#ed7953"
            ],
            [
             0.7777777777777778,
             "#fb9f3a"
            ],
            [
             0.8888888888888888,
             "#fdca26"
            ],
            [
             1,
             "#f0f921"
            ]
           ]
          },
          "colorway": [
           "#636efa",
           "#EF553B",
           "#00cc96",
           "#ab63fa",
           "#FFA15A",
           "#19d3f3",
           "#FF6692",
           "#B6E880",
           "#FF97FF",
           "#FECB52"
          ],
          "font": {
           "color": "#2a3f5f"
          },
          "geo": {
           "bgcolor": "white",
           "lakecolor": "white",
           "landcolor": "#E5ECF6",
           "showlakes": true,
           "showland": true,
           "subunitcolor": "white"
          },
          "hoverlabel": {
           "align": "left"
          },
          "hovermode": "closest",
          "mapbox": {
           "style": "light"
          },
          "paper_bgcolor": "white",
          "plot_bgcolor": "#E5ECF6",
          "polar": {
           "angularaxis": {
            "gridcolor": "white",
            "linecolor": "white",
            "ticks": ""
           },
           "bgcolor": "#E5ECF6",
           "radialaxis": {
            "gridcolor": "white",
            "linecolor": "white",
            "ticks": ""
           }
          },
          "scene": {
           "xaxis": {
            "backgroundcolor": "#E5ECF6",
            "gridcolor": "white",
            "gridwidth": 2,
            "linecolor": "white",
            "showbackground": true,
            "ticks": "",
            "zerolinecolor": "white"
           },
           "yaxis": {
            "backgroundcolor": "#E5ECF6",
            "gridcolor": "white",
            "gridwidth": 2,
            "linecolor": "white",
            "showbackground": true,
            "ticks": "",
            "zerolinecolor": "white"
           },
           "zaxis": {
            "backgroundcolor": "#E5ECF6",
            "gridcolor": "white",
            "gridwidth": 2,
            "linecolor": "white",
            "showbackground": true,
            "ticks": "",
            "zerolinecolor": "white"
           }
          },
          "shapedefaults": {
           "line": {
            "color": "#2a3f5f"
           }
          },
          "ternary": {
           "aaxis": {
            "gridcolor": "white",
            "linecolor": "white",
            "ticks": ""
           },
           "baxis": {
            "gridcolor": "white",
            "linecolor": "white",
            "ticks": ""
           },
           "bgcolor": "#E5ECF6",
           "caxis": {
            "gridcolor": "white",
            "linecolor": "white",
            "ticks": ""
           }
          },
          "title": {
           "x": 0.05
          },
          "xaxis": {
           "automargin": true,
           "gridcolor": "white",
           "linecolor": "white",
           "ticks": "",
           "title": {
            "standoff": 15
           },
           "zerolinecolor": "white",
           "zerolinewidth": 2
          },
          "yaxis": {
           "automargin": true,
           "gridcolor": "white",
           "linecolor": "white",
           "ticks": "",
           "title": {
            "standoff": 15
           },
           "zerolinecolor": "white",
           "zerolinewidth": 2
          }
         }
        }
       }
      }
     },
     "metadata": {},
     "output_type": "display_data"
    }
   ],
   "source": [
    "pokemons_by_generation = pokemons.groupby(\"generation\").agg({\"attack\": \"mean\", \"speed\": \"mean\", \"defense\": \"mean\"})\n",
    "pokemons_by_generation[\"attack\"]\n",
    "\n",
    "fig = go.Figure()\n",
    "fig.add_trace(go.Histogram(x=pokemons[\"generation\"], nbinsx=15, name=\"Quantidade\", marker_color=\"#76b5c5\"))\n",
    "\n",
    "fig.add_trace(go.Scatter(x=pokemons_by_generation.index, y=pokemons_by_generation[\"attack\"],\n",
    "                    mode='lines+markers',\n",
    "                    name='Ataque'))\n",
    "fig.add_trace(go.Scatter(x=pokemons_by_generation.index, y=pokemons_by_generation[\"speed\"],\n",
    "                    mode='lines+markers',\n",
    "                    name='Velocidade',\n",
    "                    marker_color=\"green\"))\n",
    "fig.add_trace(go.Scatter(x=pokemons_by_generation.index, y=pokemons_by_generation[\"defense\"],\n",
    "                    mode='lines+markers',\n",
    "                    name='Defesa',\n",
    "                    marker_color=\"yellow\"))\n",
    "\n",
    "fig.show()"
   ]
  },
  {
   "cell_type": "markdown",
   "id": "6bddcd58",
   "metadata": {},
   "source": [
    "- Análise: A média do ataque teve uma tendência de crescimento a partir da segunda geração, e teve o ápice na quinta geração, em seguinda teve uma queda na sexta e voltou bruscamente na sétima.\n",
    "A segunda e sexta geração são as únicas cuja defesa média ultrapassou o ataque.\n"
   ]
  },
  {
   "cell_type": "code",
   "execution_count": 59,
   "id": "87cb4582",
   "metadata": {},
   "outputs": [
    {
     "data": {
      "application/vnd.plotly.v1+json": {
       "config": {
        "plotlyServerURL": "https://plot.ly"
       },
       "data": [
        {
         "alignmentgroup": "True",
         "boxpoints": "all",
         "customdata": [
          [
           "Bulbasaur"
          ],
          [
           "Ivysaur"
          ],
          [
           "Venusaur"
          ],
          [
           "Oddish"
          ],
          [
           "Gloom"
          ],
          [
           "Vileplume"
          ],
          [
           "Bellsprout"
          ],
          [
           "Weepinbell"
          ],
          [
           "Victreebel"
          ],
          [
           "Exeggcute"
          ],
          [
           "Exeggutor"
          ],
          [
           "Alolan Exeggutor"
          ],
          [
           "Tangela"
          ],
          [
           "Chikorita"
          ],
          [
           "Bayleef"
          ],
          [
           "Bellossom"
          ],
          [
           "Hoppip"
          ],
          [
           "Skiploom"
          ],
          [
           "Jumpluff"
          ],
          [
           "Sunkern"
          ],
          [
           "Sunflora"
          ],
          [
           "Treecko"
          ],
          [
           "Grovyle"
          ],
          [
           "Sceptile"
          ],
          [
           "Seedot"
          ],
          [
           "Nuzleaf"
          ],
          [
           "Shiftry"
          ],
          [
           "Shroomish"
          ],
          [
           "Breloom"
          ],
          [
           "Roselia"
          ],
          [
           "Cacnea"
          ],
          [
           "Cacturne"
          ],
          [
           "Tropius"
          ],
          [
           "Turtwig"
          ],
          [
           "Grotle"
          ],
          [
           "Torterra"
          ],
          [
           "Budew"
          ],
          [
           "Roserade"
          ],
          [
           "Cherubi"
          ],
          [
           "Cherrim"
          ],
          [
           "Carnivine"
          ],
          [
           "Snover"
          ],
          [
           "Abomasnow"
          ],
          [
           "Tangrowth"
          ],
          [
           "Leafeon"
          ],
          [
           "Snivy"
          ],
          [
           "Servine"
          ],
          [
           "Serperior"
          ],
          [
           "Pansage"
          ],
          [
           "Simisage"
          ],
          [
           "Cottonee"
          ],
          [
           "Whimsicott"
          ],
          [
           "Petilil"
          ],
          [
           "Lilligant"
          ],
          [
           "Maractus"
          ],
          [
           "Foongus"
          ],
          [
           "Amoonguss"
          ],
          [
           "Ferroseed"
          ],
          [
           "Ferrothorn"
          ],
          [
           "Chespin"
          ],
          [
           "Quilladin"
          ],
          [
           "Chesnaught"
          ],
          [
           "Skiddo"
          ],
          [
           "Gogoat"
          ],
          [
           "Rowlet"
          ],
          [
           "Dartrix"
          ],
          [
           "Decidueye"
          ],
          [
           "Fomantis"
          ],
          [
           "Lurantis"
          ],
          [
           "Morelull"
          ],
          [
           "Shiinotic"
          ],
          [
           "Bounsweet"
          ],
          [
           "Steenee"
          ],
          [
           "Tsareena"
          ],
          [
           "Grookey"
          ],
          [
           "Thwackey"
          ],
          [
           "Rillaboom"
          ],
          [
           "Gossifleur"
          ],
          [
           "Eldegoss"
          ],
          [
           "Applin"
          ],
          [
           "Flapple"
          ],
          [
           "Appletun"
          ]
         ],
         "hovertemplate": "Tipo 1=%{x}<br>Ataque!=%{y}<br>name=%{customdata[0]}<extra></extra>",
         "legendgroup": "Grass",
         "marker": {
          "color": "#636efa"
         },
         "name": "Grass",
         "notched": false,
         "offsetgroup": "Grass",
         "orientation": "v",
         "showlegend": true,
         "type": "box",
         "x": [
          "Grass",
          "Grass",
          "Grass",
          "Grass",
          "Grass",
          "Grass",
          "Grass",
          "Grass",
          "Grass",
          "Grass",
          "Grass",
          "Grass",
          "Grass",
          "Grass",
          "Grass",
          "Grass",
          "Grass",
          "Grass",
          "Grass",
          "Grass",
          "Grass",
          "Grass",
          "Grass",
          "Grass",
          "Grass",
          "Grass",
          "Grass",
          "Grass",
          "Grass",
          "Grass",
          "Grass",
          "Grass",
          "Grass",
          "Grass",
          "Grass",
          "Grass",
          "Grass",
          "Grass",
          "Grass",
          "Grass",
          "Grass",
          "Grass",
          "Grass",
          "Grass",
          "Grass",
          "Grass",
          "Grass",
          "Grass",
          "Grass",
          "Grass",
          "Grass",
          "Grass",
          "Grass",
          "Grass",
          "Grass",
          "Grass",
          "Grass",
          "Grass",
          "Grass",
          "Grass",
          "Grass",
          "Grass",
          "Grass",
          "Grass",
          "Grass",
          "Grass",
          "Grass",
          "Grass",
          "Grass",
          "Grass",
          "Grass",
          "Grass",
          "Grass",
          "Grass",
          "Grass",
          "Grass",
          "Grass",
          "Grass",
          "Grass",
          "Grass",
          "Grass",
          "Grass"
         ],
         "x0": " ",
         "xaxis": "x",
         "y": [
          49,
          62,
          82,
          50,
          65,
          80,
          75,
          90,
          105,
          40,
          95,
          105,
          55,
          49,
          62,
          80,
          35,
          45,
          55,
          30,
          75,
          45,
          65,
          85,
          40,
          70,
          100,
          40,
          130,
          60,
          85,
          115,
          68,
          68,
          89,
          109,
          30,
          70,
          35,
          60,
          100,
          62,
          92,
          100,
          110,
          45,
          60,
          75,
          53,
          98,
          27,
          67,
          35,
          60,
          86,
          55,
          85,
          50,
          94,
          61,
          78,
          107,
          65,
          100,
          55,
          75,
          107,
          55,
          105,
          35,
          45,
          30,
          40,
          120,
          65,
          85,
          125,
          40,
          50,
          40,
          110,
          85
         ],
         "y0": " ",
         "yaxis": "y"
        },
        {
         "alignmentgroup": "True",
         "boxpoints": "all",
         "customdata": [
          [
           "Charmander"
          ],
          [
           "Charmeleon"
          ],
          [
           "Charizard"
          ],
          [
           "Vulpix"
          ],
          [
           "Ninetales"
          ],
          [
           "Growlithe"
          ],
          [
           "Arcanine"
          ],
          [
           "Ponyta"
          ],
          [
           "Rapidash"
          ],
          [
           "Alolan Marowak"
          ],
          [
           "Magmar"
          ],
          [
           "Flareon"
          ],
          [
           "Cyndaquil"
          ],
          [
           "Quilava"
          ],
          [
           "Typhlosion"
          ],
          [
           "Slugma"
          ],
          [
           "Magcargo"
          ],
          [
           "Magby"
          ],
          [
           "Torchic"
          ],
          [
           "Combusken"
          ],
          [
           "Blaziken"
          ],
          [
           "Numel"
          ],
          [
           "Camerupt"
          ],
          [
           "Torkoal"
          ],
          [
           "Castform Sunny Form"
          ],
          [
           "Chimchar"
          ],
          [
           "Monferno"
          ],
          [
           "Infernape"
          ],
          [
           "Magmortar"
          ],
          [
           "Tepig"
          ],
          [
           "Pignite"
          ],
          [
           "Emboar"
          ],
          [
           "Pansear"
          ],
          [
           "Simisear"
          ],
          [
           "Darumaka"
          ],
          [
           "Darmanitan Standard Mode"
          ],
          [
           "Darmanitan Zen Mode"
          ],
          [
           "Heatmor"
          ],
          [
           "Fennekin"
          ],
          [
           "Braixen"
          ],
          [
           "Delphox"
          ],
          [
           "Fletchinder"
          ],
          [
           "Talonflame"
          ],
          [
           "Litleo"
          ],
          [
           "Pyroar"
          ],
          [
           "Litten"
          ],
          [
           "Torracat"
          ],
          [
           "Incineroar"
          ],
          [
           "Oricorio Baile Style"
          ],
          [
           "Turtonator"
          ],
          [
           "Scorbunny"
          ],
          [
           "Raboot"
          ],
          [
           "Cinderace"
          ],
          [
           "Sizzlipede"
          ],
          [
           "Centiskorch"
          ]
         ],
         "hovertemplate": "Tipo 1=%{x}<br>Ataque!=%{y}<br>name=%{customdata[0]}<extra></extra>",
         "legendgroup": "Fire",
         "marker": {
          "color": "#EF553B"
         },
         "name": "Fire",
         "notched": false,
         "offsetgroup": "Fire",
         "orientation": "v",
         "showlegend": true,
         "type": "box",
         "x": [
          "Fire",
          "Fire",
          "Fire",
          "Fire",
          "Fire",
          "Fire",
          "Fire",
          "Fire",
          "Fire",
          "Fire",
          "Fire",
          "Fire",
          "Fire",
          "Fire",
          "Fire",
          "Fire",
          "Fire",
          "Fire",
          "Fire",
          "Fire",
          "Fire",
          "Fire",
          "Fire",
          "Fire",
          "Fire",
          "Fire",
          "Fire",
          "Fire",
          "Fire",
          "Fire",
          "Fire",
          "Fire",
          "Fire",
          "Fire",
          "Fire",
          "Fire",
          "Fire",
          "Fire",
          "Fire",
          "Fire",
          "Fire",
          "Fire",
          "Fire",
          "Fire",
          "Fire",
          "Fire",
          "Fire",
          "Fire",
          "Fire",
          "Fire",
          "Fire",
          "Fire",
          "Fire",
          "Fire",
          "Fire"
         ],
         "x0": " ",
         "xaxis": "x",
         "y": [
          52,
          64,
          84,
          41,
          76,
          70,
          110,
          85,
          100,
          80,
          95,
          130,
          52,
          64,
          84,
          40,
          50,
          75,
          60,
          85,
          120,
          60,
          100,
          85,
          70,
          58,
          78,
          104,
          95,
          63,
          93,
          123,
          53,
          98,
          90,
          140,
          30,
          97,
          45,
          59,
          69,
          73,
          81,
          50,
          68,
          65,
          85,
          115,
          70,
          78,
          71,
          86,
          116,
          65,
          115
         ],
         "y0": " ",
         "yaxis": "y"
        },
        {
         "alignmentgroup": "True",
         "boxpoints": "all",
         "customdata": [
          [
           "Squirtle"
          ],
          [
           "Wartortle"
          ],
          [
           "Blastoise"
          ],
          [
           "Psyduck"
          ],
          [
           "Golduck"
          ],
          [
           "Poliwag"
          ],
          [
           "Poliwhirl"
          ],
          [
           "Poliwrath"
          ],
          [
           "Tentacool"
          ],
          [
           "Tentacruel"
          ],
          [
           "Slowpoke"
          ],
          [
           "Slowbro"
          ],
          [
           "Seel"
          ],
          [
           "Dewgong"
          ],
          [
           "Shellder"
          ],
          [
           "Cloyster"
          ],
          [
           "Krabby"
          ],
          [
           "Kingler"
          ],
          [
           "Horsea"
          ],
          [
           "Seadra"
          ],
          [
           "Goldeen"
          ],
          [
           "Seaking"
          ],
          [
           "Staryu"
          ],
          [
           "Starmie"
          ],
          [
           "Magikarp"
          ],
          [
           "Gyarados"
          ],
          [
           "Lapras"
          ],
          [
           "Vaporeon"
          ],
          [
           "Totodile"
          ],
          [
           "Croconaw"
          ],
          [
           "Feraligatr"
          ],
          [
           "Chinchou"
          ],
          [
           "Lanturn"
          ],
          [
           "Marill"
          ],
          [
           "Azumarill"
          ],
          [
           "Politoed"
          ],
          [
           "Wooper"
          ],
          [
           "Quagsire"
          ],
          [
           "Slowking"
          ],
          [
           "Qwilfish"
          ],
          [
           "Corsola"
          ],
          [
           "Remoraid"
          ],
          [
           "Octillery"
          ],
          [
           "Mantine"
          ],
          [
           "Kingdra"
          ],
          [
           "Mudkip"
          ],
          [
           "Marshtomp"
          ],
          [
           "Swampert"
          ],
          [
           "Lotad"
          ],
          [
           "Lombre"
          ],
          [
           "Ludicolo"
          ],
          [
           "Wingull"
          ],
          [
           "Pelipper"
          ],
          [
           "Carvanha"
          ],
          [
           "Sharpedo"
          ],
          [
           "Wailmer"
          ],
          [
           "Wailord"
          ],
          [
           "Barboach"
          ],
          [
           "Whiscash"
          ],
          [
           "Corphish"
          ],
          [
           "Crawdaunt"
          ],
          [
           "Feebas"
          ],
          [
           "Milotic"
          ],
          [
           "Castform Rainy Form"
          ],
          [
           "Clamperl"
          ],
          [
           "Huntail"
          ],
          [
           "Gorebyss"
          ],
          [
           "Relicanth"
          ],
          [
           "Luvdisc"
          ],
          [
           "Piplup"
          ],
          [
           "Prinplup"
          ],
          [
           "Empoleon"
          ],
          [
           "Buizel"
          ],
          [
           "Floatzel"
          ],
          [
           "Shellos"
          ],
          [
           "Gastrodon"
          ],
          [
           "Finneon"
          ],
          [
           "Lumineon"
          ],
          [
           "Mantyke"
          ],
          [
           "Oshawott"
          ],
          [
           "Dewott"
          ],
          [
           "Samurott"
          ],
          [
           "Panpour"
          ],
          [
           "Simipour"
          ],
          [
           "Tympole"
          ],
          [
           "Palpitoad"
          ],
          [
           "Seismitoad"
          ],
          [
           "Basculin Red-Striped Form"
          ],
          [
           "Basculin Blue-Striped Form"
          ],
          [
           "Tirtouga"
          ],
          [
           "Carracosta"
          ],
          [
           "Ducklett"
          ],
          [
           "Swanna"
          ],
          [
           "Frillish"
          ],
          [
           "Jellicent"
          ],
          [
           "Alomomola"
          ],
          [
           "Froakie"
          ],
          [
           "Frogadier"
          ],
          [
           "Greninja"
          ],
          [
           "Ash-Greninja"
          ],
          [
           "Clauncher"
          ],
          [
           "Clawitzer"
          ],
          [
           "Popplio"
          ],
          [
           "Brionne"
          ],
          [
           "Primarina"
          ],
          [
           "Wishiwashi Solo Form"
          ],
          [
           "Wishiwashi School Form"
          ],
          [
           "Dewpider"
          ],
          [
           "Araquanid"
          ],
          [
           "Pyukumuku"
          ],
          [
           "Bruxish"
          ],
          [
           "Sobble"
          ],
          [
           "Drizzile"
          ],
          [
           "Inteleon"
          ],
          [
           "Chewtle"
          ],
          [
           "Drednaw"
          ],
          [
           "Arrokuda"
          ],
          [
           "Barraskewda"
          ],
          [
           "Dracovish"
          ],
          [
           "Arctovish"
          ]
         ],
         "hovertemplate": "Tipo 1=%{x}<br>Ataque!=%{y}<br>name=%{customdata[0]}<extra></extra>",
         "legendgroup": "Water",
         "marker": {
          "color": "#00cc96"
         },
         "name": "Water",
         "notched": false,
         "offsetgroup": "Water",
         "orientation": "v",
         "showlegend": true,
         "type": "box",
         "x": [
          "Water",
          "Water",
          "Water",
          "Water",
          "Water",
          "Water",
          "Water",
          "Water",
          "Water",
          "Water",
          "Water",
          "Water",
          "Water",
          "Water",
          "Water",
          "Water",
          "Water",
          "Water",
          "Water",
          "Water",
          "Water",
          "Water",
          "Water",
          "Water",
          "Water",
          "Water",
          "Water",
          "Water",
          "Water",
          "Water",
          "Water",
          "Water",
          "Water",
          "Water",
          "Water",
          "Water",
          "Water",
          "Water",
          "Water",
          "Water",
          "Water",
          "Water",
          "Water",
          "Water",
          "Water",
          "Water",
          "Water",
          "Water",
          "Water",
          "Water",
          "Water",
          "Water",
          "Water",
          "Water",
          "Water",
          "Water",
          "Water",
          "Water",
          "Water",
          "Water",
          "Water",
          "Water",
          "Water",
          "Water",
          "Water",
          "Water",
          "Water",
          "Water",
          "Water",
          "Water",
          "Water",
          "Water",
          "Water",
          "Water",
          "Water",
          "Water",
          "Water",
          "Water",
          "Water",
          "Water",
          "Water",
          "Water",
          "Water",
          "Water",
          "Water",
          "Water",
          "Water",
          "Water",
          "Water",
          "Water",
          "Water",
          "Water",
          "Water",
          "Water",
          "Water",
          "Water",
          "Water",
          "Water",
          "Water",
          "Water",
          "Water",
          "Water",
          "Water",
          "Water",
          "Water",
          "Water",
          "Water",
          "Water",
          "Water",
          "Water",
          "Water",
          "Water",
          "Water",
          "Water",
          "Water",
          "Water",
          "Water",
          "Water",
          "Water",
          "Water"
         ],
         "x0": " ",
         "xaxis": "x",
         "y": [
          48,
          63,
          83,
          52,
          82,
          50,
          65,
          95,
          40,
          70,
          65,
          75,
          45,
          70,
          65,
          95,
          105,
          130,
          40,
          65,
          67,
          92,
          45,
          75,
          10,
          125,
          85,
          65,
          65,
          80,
          105,
          38,
          58,
          20,
          50,
          75,
          45,
          85,
          75,
          95,
          55,
          65,
          105,
          40,
          95,
          70,
          85,
          110,
          30,
          50,
          70,
          30,
          50,
          90,
          120,
          70,
          90,
          48,
          78,
          80,
          120,
          15,
          60,
          70,
          64,
          104,
          84,
          90,
          30,
          51,
          66,
          86,
          65,
          105,
          48,
          83,
          49,
          69,
          20,
          55,
          75,
          100,
          53,
          98,
          50,
          65,
          95,
          92,
          92,
          78,
          108,
          44,
          87,
          40,
          60,
          75,
          56,
          63,
          95,
          145,
          53,
          73,
          54,
          69,
          74,
          20,
          140,
          40,
          70,
          60,
          105,
          40,
          60,
          85,
          64,
          115,
          63,
          123,
          90,
          90
         ],
         "y0": " ",
         "yaxis": "y"
        },
        {
         "alignmentgroup": "True",
         "boxpoints": "all",
         "customdata": [
          [
           "Caterpie"
          ],
          [
           "Metapod"
          ],
          [
           "Butterfree"
          ],
          [
           "Weedle"
          ],
          [
           "Kakuna"
          ],
          [
           "Beedrill"
          ],
          [
           "Paras"
          ],
          [
           "Parasect"
          ],
          [
           "Venonat"
          ],
          [
           "Venomoth"
          ],
          [
           "Scyther"
          ],
          [
           "Pinsir"
          ],
          [
           "Ledyba"
          ],
          [
           "Ledian"
          ],
          [
           "Spinarak"
          ],
          [
           "Ariados"
          ],
          [
           "Yanma"
          ],
          [
           "Pineco"
          ],
          [
           "Forretress"
          ],
          [
           "Scizor"
          ],
          [
           "Shuckle"
          ],
          [
           "Heracross"
          ],
          [
           "Wurmple"
          ],
          [
           "Silcoon"
          ],
          [
           "Beautifly"
          ],
          [
           "Cascoon"
          ],
          [
           "Dustox"
          ],
          [
           "Surskit"
          ],
          [
           "Masquerain"
          ],
          [
           "Nincada"
          ],
          [
           "Ninjask"
          ],
          [
           "Shedinja"
          ],
          [
           "Volbeat"
          ],
          [
           "Illumise"
          ],
          [
           "Kricketot"
          ],
          [
           "Kricketune"
          ],
          [
           "Burmy"
          ],
          [
           "Wormadam Plant Cloak"
          ],
          [
           "Wormadam Sandy Cloak"
          ],
          [
           "Wormadam Trash Cloak"
          ],
          [
           "Mothim"
          ],
          [
           "Combee"
          ],
          [
           "Vespiquen"
          ],
          [
           "Yanmega"
          ],
          [
           "Sewaddle"
          ],
          [
           "Swadloon"
          ],
          [
           "Leavanny"
          ],
          [
           "Venipede"
          ],
          [
           "Whirlipede"
          ],
          [
           "Scolipede"
          ],
          [
           "Dwebble"
          ],
          [
           "Crustle"
          ],
          [
           "Karrablast"
          ],
          [
           "Escavalier"
          ],
          [
           "Joltik"
          ],
          [
           "Galvantula"
          ],
          [
           "Shelmet"
          ],
          [
           "Accelgor"
          ],
          [
           "Durant"
          ],
          [
           "Larvesta"
          ],
          [
           "Volcarona"
          ],
          [
           "Scatterbug"
          ],
          [
           "Spewpa"
          ],
          [
           "Vivillon"
          ],
          [
           "Grubbin"
          ],
          [
           "Charjabug"
          ],
          [
           "Vikavolt"
          ],
          [
           "Cutiefly"
          ],
          [
           "Ribombee"
          ],
          [
           "Wimpod"
          ],
          [
           "Golisopod"
          ],
          [
           "Blipbug"
          ],
          [
           "Dottler"
          ],
          [
           "Orbeetle"
          ]
         ],
         "hovertemplate": "Tipo 1=%{x}<br>Ataque!=%{y}<br>name=%{customdata[0]}<extra></extra>",
         "legendgroup": "Bug",
         "marker": {
          "color": "#ab63fa"
         },
         "name": "Bug",
         "notched": false,
         "offsetgroup": "Bug",
         "orientation": "v",
         "showlegend": true,
         "type": "box",
         "x": [
          "Bug",
          "Bug",
          "Bug",
          "Bug",
          "Bug",
          "Bug",
          "Bug",
          "Bug",
          "Bug",
          "Bug",
          "Bug",
          "Bug",
          "Bug",
          "Bug",
          "Bug",
          "Bug",
          "Bug",
          "Bug",
          "Bug",
          "Bug",
          "Bug",
          "Bug",
          "Bug",
          "Bug",
          "Bug",
          "Bug",
          "Bug",
          "Bug",
          "Bug",
          "Bug",
          "Bug",
          "Bug",
          "Bug",
          "Bug",
          "Bug",
          "Bug",
          "Bug",
          "Bug",
          "Bug",
          "Bug",
          "Bug",
          "Bug",
          "Bug",
          "Bug",
          "Bug",
          "Bug",
          "Bug",
          "Bug",
          "Bug",
          "Bug",
          "Bug",
          "Bug",
          "Bug",
          "Bug",
          "Bug",
          "Bug",
          "Bug",
          "Bug",
          "Bug",
          "Bug",
          "Bug",
          "Bug",
          "Bug",
          "Bug",
          "Bug",
          "Bug",
          "Bug",
          "Bug",
          "Bug",
          "Bug",
          "Bug",
          "Bug",
          "Bug",
          "Bug"
         ],
         "x0": " ",
         "xaxis": "x",
         "y": [
          30,
          20,
          45,
          35,
          25,
          90,
          70,
          95,
          55,
          65,
          110,
          125,
          20,
          35,
          60,
          90,
          65,
          65,
          90,
          130,
          10,
          125,
          45,
          35,
          70,
          35,
          50,
          30,
          60,
          45,
          90,
          90,
          73,
          47,
          25,
          85,
          29,
          59,
          79,
          69,
          94,
          30,
          80,
          76,
          53,
          63,
          103,
          45,
          55,
          100,
          65,
          105,
          75,
          135,
          47,
          77,
          40,
          70,
          109,
          85,
          60,
          35,
          22,
          52,
          62,
          82,
          70,
          45,
          55,
          35,
          125,
          20,
          35,
          45
         ],
         "y0": " ",
         "yaxis": "y"
        },
        {
         "alignmentgroup": "True",
         "boxpoints": "all",
         "customdata": [
          [
           "Pidgey"
          ],
          [
           "Pidgeotto"
          ],
          [
           "Pidgeot"
          ],
          [
           "Rattata"
          ],
          [
           "Raticate"
          ],
          [
           "Spearow"
          ],
          [
           "Fearow"
          ],
          [
           "Jigglypuff"
          ],
          [
           "Wigglytuff"
          ],
          [
           "Meowth"
          ],
          [
           "Persian"
          ],
          [
           "Farfetch'd"
          ],
          [
           "Doduo"
          ],
          [
           "Dodrio"
          ],
          [
           "Lickitung"
          ],
          [
           "Chansey"
          ],
          [
           "Kangaskhan"
          ],
          [
           "Tauros"
          ],
          [
           "Ditto"
          ],
          [
           "Eevee"
          ],
          [
           "Partner Eevee"
          ],
          [
           "Porygon"
          ],
          [
           "Snorlax"
          ],
          [
           "Sentret"
          ],
          [
           "Furret"
          ],
          [
           "Hoothoot"
          ],
          [
           "Noctowl"
          ],
          [
           "Igglybuff"
          ],
          [
           "Aipom"
          ],
          [
           "Girafarig"
          ],
          [
           "Dunsparce"
          ],
          [
           "Teddiursa"
          ],
          [
           "Ursaring"
          ],
          [
           "Porygon2"
          ],
          [
           "Stantler"
          ],
          [
           "Smeargle"
          ],
          [
           "Miltank"
          ],
          [
           "Blissey"
          ],
          [
           "Zigzagoon"
          ],
          [
           "Linoone"
          ],
          [
           "Taillow"
          ],
          [
           "Swellow"
          ],
          [
           "Slakoth"
          ],
          [
           "Vigoroth"
          ],
          [
           "Slaking"
          ],
          [
           "Whismur"
          ],
          [
           "Loudred"
          ],
          [
           "Exploud"
          ],
          [
           "Azurill"
          ],
          [
           "Skitty"
          ],
          [
           "Delcatty"
          ],
          [
           "Spinda"
          ],
          [
           "Swablu"
          ],
          [
           "Zangoose"
          ],
          [
           "Castform"
          ],
          [
           "Kecleon"
          ],
          [
           "Starly"
          ],
          [
           "Staravia"
          ],
          [
           "Staraptor"
          ],
          [
           "Bidoof"
          ],
          [
           "Bibarel"
          ],
          [
           "Ambipom"
          ],
          [
           "Buneary"
          ],
          [
           "Lopunny"
          ],
          [
           "Glameow"
          ],
          [
           "Purugly"
          ],
          [
           "Happiny"
          ],
          [
           "Chatot"
          ],
          [
           "Munchlax"
          ],
          [
           "Lickilicky"
          ],
          [
           "Porygon-Z"
          ],
          [
           "Patrat"
          ],
          [
           "Watchog"
          ],
          [
           "Lillipup"
          ],
          [
           "Herdier"
          ],
          [
           "Stoutland"
          ],
          [
           "Pidove"
          ],
          [
           "Tranquill"
          ],
          [
           "Unfezant"
          ],
          [
           "Audino"
          ],
          [
           "Minccino"
          ],
          [
           "Cinccino"
          ],
          [
           "Deerling"
          ],
          [
           "Sawsbuck"
          ],
          [
           "Bouffalant"
          ],
          [
           "Rufflet"
          ],
          [
           "Braviary"
          ],
          [
           "Bunnelby"
          ],
          [
           "Diggersby"
          ],
          [
           "Fletchling"
          ],
          [
           "Furfrou"
          ],
          [
           "Pikipek"
          ],
          [
           "Trumbeak"
          ],
          [
           "Toucannon"
          ],
          [
           "Yungoos"
          ],
          [
           "Gumshoos"
          ],
          [
           "Stufful"
          ],
          [
           "Bewear"
          ],
          [
           "Oranguru"
          ],
          [
           "Komala"
          ],
          [
           "Drampa"
          ],
          [
           "Skwovet"
          ],
          [
           "Greedent"
          ],
          [
           "Wooloo"
          ],
          [
           "Dubwool"
          ]
         ],
         "hovertemplate": "Tipo 1=%{x}<br>Ataque!=%{y}<br>name=%{customdata[0]}<extra></extra>",
         "legendgroup": "Normal",
         "marker": {
          "color": "#FFA15A"
         },
         "name": "Normal",
         "notched": false,
         "offsetgroup": "Normal",
         "orientation": "v",
         "showlegend": true,
         "type": "box",
         "x": [
          "Normal",
          "Normal",
          "Normal",
          "Normal",
          "Normal",
          "Normal",
          "Normal",
          "Normal",
          "Normal",
          "Normal",
          "Normal",
          "Normal",
          "Normal",
          "Normal",
          "Normal",
          "Normal",
          "Normal",
          "Normal",
          "Normal",
          "Normal",
          "Normal",
          "Normal",
          "Normal",
          "Normal",
          "Normal",
          "Normal",
          "Normal",
          "Normal",
          "Normal",
          "Normal",
          "Normal",
          "Normal",
          "Normal",
          "Normal",
          "Normal",
          "Normal",
          "Normal",
          "Normal",
          "Normal",
          "Normal",
          "Normal",
          "Normal",
          "Normal",
          "Normal",
          "Normal",
          "Normal",
          "Normal",
          "Normal",
          "Normal",
          "Normal",
          "Normal",
          "Normal",
          "Normal",
          "Normal",
          "Normal",
          "Normal",
          "Normal",
          "Normal",
          "Normal",
          "Normal",
          "Normal",
          "Normal",
          "Normal",
          "Normal",
          "Normal",
          "Normal",
          "Normal",
          "Normal",
          "Normal",
          "Normal",
          "Normal",
          "Normal",
          "Normal",
          "Normal",
          "Normal",
          "Normal",
          "Normal",
          "Normal",
          "Normal",
          "Normal",
          "Normal",
          "Normal",
          "Normal",
          "Normal",
          "Normal",
          "Normal",
          "Normal",
          "Normal",
          "Normal",
          "Normal",
          "Normal",
          "Normal",
          "Normal",
          "Normal",
          "Normal",
          "Normal",
          "Normal",
          "Normal",
          "Normal",
          "Normal",
          "Normal",
          "Normal",
          "Normal",
          "Normal",
          "Normal"
         ],
         "x0": " ",
         "xaxis": "x",
         "y": [
          45,
          60,
          80,
          56,
          81,
          60,
          90,
          45,
          70,
          45,
          70,
          90,
          85,
          110,
          55,
          5,
          95,
          100,
          48,
          55,
          75,
          60,
          110,
          46,
          76,
          30,
          50,
          30,
          70,
          80,
          70,
          80,
          130,
          80,
          95,
          20,
          80,
          10,
          30,
          70,
          55,
          85,
          60,
          80,
          160,
          51,
          71,
          91,
          20,
          45,
          65,
          60,
          40,
          115,
          70,
          90,
          55,
          75,
          120,
          45,
          85,
          100,
          66,
          76,
          55,
          82,
          5,
          65,
          85,
          85,
          80,
          55,
          85,
          60,
          80,
          110,
          55,
          77,
          115,
          60,
          50,
          95,
          60,
          100,
          110,
          83,
          123,
          36,
          56,
          50,
          80,
          75,
          85,
          120,
          70,
          110,
          75,
          125,
          60,
          115,
          60,
          55,
          95,
          40,
          80
         ],
         "y0": " ",
         "yaxis": "y"
        },
        {
         "alignmentgroup": "True",
         "boxpoints": "all",
         "customdata": [
          [
           "Alolan Rattata"
          ],
          [
           "Alolan Raticate"
          ],
          [
           "Alolan Meowth"
          ],
          [
           "Alolan Persian"
          ],
          [
           "Umbreon"
          ],
          [
           "Murkrow"
          ],
          [
           "Sneasel"
          ],
          [
           "Houndour"
          ],
          [
           "Houndoom"
          ],
          [
           "Poochyena"
          ],
          [
           "Mightyena"
          ],
          [
           "Galarian Zigzagoon"
          ],
          [
           "Galarian Linoone"
          ],
          [
           "Sableye"
          ],
          [
           "Absol"
          ],
          [
           "Honchkrow"
          ],
          [
           "Weavile"
          ],
          [
           "Purrloin"
          ],
          [
           "Liepard"
          ],
          [
           "Scraggy"
          ],
          [
           "Scrafty"
          ],
          [
           "Zorua"
          ],
          [
           "Zoroark"
          ],
          [
           "Pawniard"
          ],
          [
           "Bisharp"
          ],
          [
           "Vullaby"
          ],
          [
           "Mandibuzz"
          ],
          [
           "Deino"
          ],
          [
           "Zweilous"
          ],
          [
           "Hydreigon"
          ],
          [
           "Inkay"
          ],
          [
           "Malamar"
          ],
          [
           "Nickit"
          ],
          [
           "Thievul"
          ],
          [
           "Impidimp"
          ],
          [
           "Morgrem"
          ],
          [
           "Grimmsnarl"
          ],
          [
           "Obstagoon"
          ]
         ],
         "hovertemplate": "Tipo 1=%{x}<br>Ataque!=%{y}<br>name=%{customdata[0]}<extra></extra>",
         "legendgroup": "Dark",
         "marker": {
          "color": "#19d3f3"
         },
         "name": "Dark",
         "notched": false,
         "offsetgroup": "Dark",
         "orientation": "v",
         "showlegend": true,
         "type": "box",
         "x": [
          "Dark",
          "Dark",
          "Dark",
          "Dark",
          "Dark",
          "Dark",
          "Dark",
          "Dark",
          "Dark",
          "Dark",
          "Dark",
          "Dark",
          "Dark",
          "Dark",
          "Dark",
          "Dark",
          "Dark",
          "Dark",
          "Dark",
          "Dark",
          "Dark",
          "Dark",
          "Dark",
          "Dark",
          "Dark",
          "Dark",
          "Dark",
          "Dark",
          "Dark",
          "Dark",
          "Dark",
          "Dark",
          "Dark",
          "Dark",
          "Dark",
          "Dark",
          "Dark",
          "Dark"
         ],
         "x0": " ",
         "xaxis": "x",
         "y": [
          56,
          71,
          35,
          60,
          65,
          85,
          95,
          60,
          90,
          55,
          90,
          30,
          70,
          75,
          130,
          125,
          120,
          50,
          88,
          75,
          90,
          65,
          105,
          85,
          125,
          55,
          65,
          65,
          85,
          105,
          54,
          92,
          28,
          58,
          45,
          60,
          120,
          90
         ],
         "y0": " ",
         "yaxis": "y"
        },
        {
         "alignmentgroup": "True",
         "boxpoints": "all",
         "customdata": [
          [
           "Ekans"
          ],
          [
           "Arbok"
          ],
          [
           "Nidoran♀"
          ],
          [
           "Nidorina"
          ],
          [
           "Nidoqueen"
          ],
          [
           "Nidoran♂"
          ],
          [
           "Nidorino"
          ],
          [
           "Nidoking"
          ],
          [
           "Zubat"
          ],
          [
           "Golbat"
          ],
          [
           "Grimer"
          ],
          [
           "Alolan Grimer"
          ],
          [
           "Muk"
          ],
          [
           "Alolan Muk"
          ],
          [
           "Koffing"
          ],
          [
           "Weezing"
          ],
          [
           "Galarian Weezing"
          ],
          [
           "Crobat"
          ],
          [
           "Gulpin"
          ],
          [
           "Swalot"
          ],
          [
           "Seviper"
          ],
          [
           "Stunky"
          ],
          [
           "Skuntank"
          ],
          [
           "Skorupi"
          ],
          [
           "Drapion"
          ],
          [
           "Croagunk"
          ],
          [
           "Toxicroak"
          ],
          [
           "Trubbish"
          ],
          [
           "Garbodor"
          ],
          [
           "Skrelp"
          ],
          [
           "Dragalge"
          ],
          [
           "Mareanie"
          ],
          [
           "Toxapex"
          ],
          [
           "Salandit"
          ],
          [
           "Salazzle"
          ]
         ],
         "hovertemplate": "Tipo 1=%{x}<br>Ataque!=%{y}<br>name=%{customdata[0]}<extra></extra>",
         "legendgroup": "Poison",
         "marker": {
          "color": "#FF6692"
         },
         "name": "Poison",
         "notched": false,
         "offsetgroup": "Poison",
         "orientation": "v",
         "showlegend": true,
         "type": "box",
         "x": [
          "Poison",
          "Poison",
          "Poison",
          "Poison",
          "Poison",
          "Poison",
          "Poison",
          "Poison",
          "Poison",
          "Poison",
          "Poison",
          "Poison",
          "Poison",
          "Poison",
          "Poison",
          "Poison",
          "Poison",
          "Poison",
          "Poison",
          "Poison",
          "Poison",
          "Poison",
          "Poison",
          "Poison",
          "Poison",
          "Poison",
          "Poison",
          "Poison",
          "Poison",
          "Poison",
          "Poison",
          "Poison",
          "Poison",
          "Poison",
          "Poison"
         ],
         "x0": " ",
         "xaxis": "x",
         "y": [
          60,
          95,
          47,
          62,
          92,
          57,
          72,
          102,
          45,
          80,
          80,
          80,
          105,
          105,
          65,
          90,
          90,
          90,
          43,
          73,
          100,
          63,
          93,
          50,
          90,
          61,
          106,
          50,
          95,
          60,
          75,
          53,
          63,
          44,
          64
         ],
         "y0": " ",
         "yaxis": "y"
        },
        {
         "alignmentgroup": "True",
         "boxpoints": "all",
         "customdata": [
          [
           "Pikachu"
          ],
          [
           "Partner Pikachu"
          ],
          [
           "Raichu"
          ],
          [
           "Alolan Raichu"
          ],
          [
           "Magnemite"
          ],
          [
           "Magneton"
          ],
          [
           "Voltorb"
          ],
          [
           "Electrode"
          ],
          [
           "Electabuzz"
          ],
          [
           "Jolteon"
          ],
          [
           "Pichu"
          ],
          [
           "Mareep"
          ],
          [
           "Flaaffy"
          ],
          [
           "Ampharos"
          ],
          [
           "Elekid"
          ],
          [
           "Electrike"
          ],
          [
           "Manectric"
          ],
          [
           "Plusle"
          ],
          [
           "Minun"
          ],
          [
           "Shinx"
          ],
          [
           "Luxio"
          ],
          [
           "Luxray"
          ],
          [
           "Pachirisu"
          ],
          [
           "Magnezone"
          ],
          [
           "Electivire"
          ],
          [
           "Rotom"
          ],
          [
           "Heat Rotom"
          ],
          [
           "Wash Rotom"
          ],
          [
           "Frost Rotom"
          ],
          [
           "Fan Rotom"
          ],
          [
           "Mow Rotom"
          ],
          [
           "Blitzle"
          ],
          [
           "Zebstrika"
          ],
          [
           "Emolga"
          ],
          [
           "Tynamo"
          ],
          [
           "Eelektrik"
          ],
          [
           "Eelektross"
          ],
          [
           "Helioptile"
          ],
          [
           "Heliolisk"
          ],
          [
           "Dedenne"
          ],
          [
           "Oricorio Pom-Pom Style"
          ],
          [
           "Togedemaru"
          ],
          [
           "Yamper"
          ],
          [
           "Boltund"
          ],
          [
           "Toxel"
          ],
          [
           "Toxtricity Low Key Form"
          ],
          [
           "Toxtricity Amped Form"
          ],
          [
           "Pincurchin"
          ],
          [
           "Morpeko Full Belly Mode"
          ],
          [
           "Morpeko Hangry Mode"
          ],
          [
           "Dracozolt"
          ],
          [
           "Arctozolt"
          ]
         ],
         "hovertemplate": "Tipo 1=%{x}<br>Ataque!=%{y}<br>name=%{customdata[0]}<extra></extra>",
         "legendgroup": "Electric",
         "marker": {
          "color": "#B6E880"
         },
         "name": "Electric",
         "notched": false,
         "offsetgroup": "Electric",
         "orientation": "v",
         "showlegend": true,
         "type": "box",
         "x": [
          "Electric",
          "Electric",
          "Electric",
          "Electric",
          "Electric",
          "Electric",
          "Electric",
          "Electric",
          "Electric",
          "Electric",
          "Electric",
          "Electric",
          "Electric",
          "Electric",
          "Electric",
          "Electric",
          "Electric",
          "Electric",
          "Electric",
          "Electric",
          "Electric",
          "Electric",
          "Electric",
          "Electric",
          "Electric",
          "Electric",
          "Electric",
          "Electric",
          "Electric",
          "Electric",
          "Electric",
          "Electric",
          "Electric",
          "Electric",
          "Electric",
          "Electric",
          "Electric",
          "Electric",
          "Electric",
          "Electric",
          "Electric",
          "Electric",
          "Electric",
          "Electric",
          "Electric",
          "Electric",
          "Electric",
          "Electric",
          "Electric",
          "Electric",
          "Electric",
          "Electric"
         ],
         "x0": " ",
         "xaxis": "x",
         "y": [
          55,
          80,
          90,
          85,
          35,
          60,
          30,
          50,
          83,
          65,
          40,
          40,
          55,
          75,
          63,
          45,
          75,
          50,
          40,
          65,
          85,
          120,
          45,
          70,
          123,
          50,
          65,
          65,
          65,
          65,
          65,
          60,
          100,
          75,
          55,
          85,
          115,
          38,
          55,
          58,
          70,
          98,
          45,
          90,
          38,
          98,
          98,
          101,
          95,
          95,
          100,
          100
         ],
         "y0": " ",
         "yaxis": "y"
        },
        {
         "alignmentgroup": "True",
         "boxpoints": "all",
         "customdata": [
          [
           "Sandshrew"
          ],
          [
           "Sandslash"
          ],
          [
           "Diglett"
          ],
          [
           "Alolan Diglett"
          ],
          [
           "Dugtrio"
          ],
          [
           "Alolan Dugtrio"
          ],
          [
           "Cubone"
          ],
          [
           "Marowak"
          ],
          [
           "Rhyhorn"
          ],
          [
           "Rhydon"
          ],
          [
           "Gligar"
          ],
          [
           "Phanpy"
          ],
          [
           "Donphan"
          ],
          [
           "Trapinch"
          ],
          [
           "Vibrava"
          ],
          [
           "Flygon"
          ],
          [
           "Baltoy"
          ],
          [
           "Claydol"
          ],
          [
           "Hippopotas"
          ],
          [
           "Hippowdon"
          ],
          [
           "Rhyperior"
          ],
          [
           "Gliscor"
          ],
          [
           "Drilbur"
          ],
          [
           "Excadrill"
          ],
          [
           "Sandile"
          ],
          [
           "Krokorok"
          ],
          [
           "Krookodile"
          ],
          [
           "Galarian Yamask"
          ],
          [
           "Stunfisk"
          ],
          [
           "Galarian Stunfisk"
          ],
          [
           "Golett"
          ],
          [
           "Golurk"
          ],
          [
           "Mudbray"
          ],
          [
           "Mudsdale"
          ],
          [
           "Silicobra"
          ],
          [
           "Sandaconda"
          ],
          [
           "Runerigus"
          ]
         ],
         "hovertemplate": "Tipo 1=%{x}<br>Ataque!=%{y}<br>name=%{customdata[0]}<extra></extra>",
         "legendgroup": "Ground",
         "marker": {
          "color": "#FF97FF"
         },
         "name": "Ground",
         "notched": false,
         "offsetgroup": "Ground",
         "orientation": "v",
         "showlegend": true,
         "type": "box",
         "x": [
          "Ground",
          "Ground",
          "Ground",
          "Ground",
          "Ground",
          "Ground",
          "Ground",
          "Ground",
          "Ground",
          "Ground",
          "Ground",
          "Ground",
          "Ground",
          "Ground",
          "Ground",
          "Ground",
          "Ground",
          "Ground",
          "Ground",
          "Ground",
          "Ground",
          "Ground",
          "Ground",
          "Ground",
          "Ground",
          "Ground",
          "Ground",
          "Ground",
          "Ground",
          "Ground",
          "Ground",
          "Ground",
          "Ground",
          "Ground",
          "Ground",
          "Ground",
          "Ground"
         ],
         "x0": " ",
         "xaxis": "x",
         "y": [
          75,
          100,
          55,
          55,
          100,
          100,
          50,
          80,
          85,
          130,
          75,
          60,
          120,
          100,
          70,
          100,
          40,
          70,
          72,
          112,
          140,
          95,
          85,
          135,
          72,
          82,
          117,
          55,
          66,
          81,
          74,
          124,
          100,
          125,
          57,
          107,
          95
         ],
         "y0": " ",
         "yaxis": "y"
        },
        {
         "alignmentgroup": "True",
         "boxpoints": "all",
         "customdata": [
          [
           "Alolan Sandshrew"
          ],
          [
           "Alolan Sandslash"
          ],
          [
           "Alolan Vulpix"
          ],
          [
           "Alolan Ninetales"
          ],
          [
           "Jynx"
          ],
          [
           "Swinub"
          ],
          [
           "Piloswine"
          ],
          [
           "Delibird"
          ],
          [
           "Smoochum"
          ],
          [
           "Castform Snowy Form"
          ],
          [
           "Snorunt"
          ],
          [
           "Glalie"
          ],
          [
           "Spheal"
          ],
          [
           "Sealeo"
          ],
          [
           "Walrein"
          ],
          [
           "Glaceon"
          ],
          [
           "Mamoswine"
          ],
          [
           "Froslass"
          ],
          [
           "Galarian Darumaka"
          ],
          [
           "Darmanitan Galarian Standard Mode"
          ],
          [
           "Darmanitan Galarian Zen Mode"
          ],
          [
           "Vanillite"
          ],
          [
           "Vanillish"
          ],
          [
           "Vanilluxe"
          ],
          [
           "Cubchoo"
          ],
          [
           "Beartic"
          ],
          [
           "Cryogonal"
          ],
          [
           "Bergmite"
          ],
          [
           "Avalugg"
          ],
          [
           "Snom"
          ],
          [
           "Frosmoth"
          ],
          [
           "Eiscue Ice Face"
          ],
          [
           "Eiscue Noice Face"
          ]
         ],
         "hovertemplate": "Tipo 1=%{x}<br>Ataque!=%{y}<br>name=%{customdata[0]}<extra></extra>",
         "legendgroup": "Ice",
         "marker": {
          "color": "#FECB52"
         },
         "name": "Ice",
         "notched": false,
         "offsetgroup": "Ice",
         "orientation": "v",
         "showlegend": true,
         "type": "box",
         "x": [
          "Ice",
          "Ice",
          "Ice",
          "Ice",
          "Ice",
          "Ice",
          "Ice",
          "Ice",
          "Ice",
          "Ice",
          "Ice",
          "Ice",
          "Ice",
          "Ice",
          "Ice",
          "Ice",
          "Ice",
          "Ice",
          "Ice",
          "Ice",
          "Ice",
          "Ice",
          "Ice",
          "Ice",
          "Ice",
          "Ice",
          "Ice",
          "Ice",
          "Ice",
          "Ice",
          "Ice",
          "Ice",
          "Ice"
         ],
         "x0": " ",
         "xaxis": "x",
         "y": [
          75,
          100,
          41,
          67,
          50,
          50,
          100,
          55,
          30,
          70,
          50,
          80,
          40,
          60,
          80,
          60,
          130,
          80,
          90,
          140,
          160,
          50,
          65,
          95,
          70,
          130,
          50,
          69,
          117,
          25,
          65,
          80,
          80
         ],
         "y0": " ",
         "yaxis": "y"
        },
        {
         "alignmentgroup": "True",
         "boxpoints": "all",
         "customdata": [
          [
           "Clefairy"
          ],
          [
           "Clefable"
          ],
          [
           "Cleffa"
          ],
          [
           "Togepi"
          ],
          [
           "Togetic"
          ],
          [
           "Snubbull"
          ],
          [
           "Granbull"
          ],
          [
           "Togekiss"
          ],
          [
           "Flabébé"
          ],
          [
           "Floette"
          ],
          [
           "Florges"
          ],
          [
           "Spritzee"
          ],
          [
           "Aromatisse"
          ],
          [
           "Swirlix"
          ],
          [
           "Slurpuff"
          ],
          [
           "Sylveon"
          ],
          [
           "Comfey"
          ],
          [
           "Milcery"
          ],
          [
           "Alcremie"
          ]
         ],
         "hovertemplate": "Tipo 1=%{x}<br>Ataque!=%{y}<br>name=%{customdata[0]}<extra></extra>",
         "legendgroup": "Fairy",
         "marker": {
          "color": "#636efa"
         },
         "name": "Fairy",
         "notched": false,
         "offsetgroup": "Fairy",
         "orientation": "v",
         "showlegend": true,
         "type": "box",
         "x": [
          "Fairy",
          "Fairy",
          "Fairy",
          "Fairy",
          "Fairy",
          "Fairy",
          "Fairy",
          "Fairy",
          "Fairy",
          "Fairy",
          "Fairy",
          "Fairy",
          "Fairy",
          "Fairy",
          "Fairy",
          "Fairy",
          "Fairy",
          "Fairy",
          "Fairy"
         ],
         "x0": " ",
         "xaxis": "x",
         "y": [
          45,
          70,
          25,
          20,
          40,
          80,
          120,
          50,
          38,
          45,
          65,
          52,
          72,
          48,
          80,
          65,
          52,
          40,
          60
         ],
         "y0": " ",
         "yaxis": "y"
        },
        {
         "alignmentgroup": "True",
         "boxpoints": "all",
         "customdata": [
          [
           "Galarian Meowth"
          ],
          [
           "Steelix"
          ],
          [
           "Skarmory"
          ],
          [
           "Mawile"
          ],
          [
           "Aron"
          ],
          [
           "Lairon"
          ],
          [
           "Aggron"
          ],
          [
           "Beldum"
          ],
          [
           "Metang"
          ],
          [
           "Metagross"
          ],
          [
           "Bronzor"
          ],
          [
           "Bronzong"
          ],
          [
           "Klink"
          ],
          [
           "Klang"
          ],
          [
           "Klinklang"
          ],
          [
           "Honedge"
          ],
          [
           "Doublade"
          ],
          [
           "Aegislash Blade Forme"
          ],
          [
           "Aegislash Shield Forme"
          ],
          [
           "Klefki"
          ],
          [
           "Perrserker"
          ],
          [
           "Cufant"
          ],
          [
           "Copperajah"
          ],
          [
           "Duraludon"
          ]
         ],
         "hovertemplate": "Tipo 1=%{x}<br>Ataque!=%{y}<br>name=%{customdata[0]}<extra></extra>",
         "legendgroup": "Steel",
         "marker": {
          "color": "#EF553B"
         },
         "name": "Steel",
         "notched": false,
         "offsetgroup": "Steel",
         "orientation": "v",
         "showlegend": true,
         "type": "box",
         "x": [
          "Steel",
          "Steel",
          "Steel",
          "Steel",
          "Steel",
          "Steel",
          "Steel",
          "Steel",
          "Steel",
          "Steel",
          "Steel",
          "Steel",
          "Steel",
          "Steel",
          "Steel",
          "Steel",
          "Steel",
          "Steel",
          "Steel",
          "Steel",
          "Steel",
          "Steel",
          "Steel",
          "Steel"
         ],
         "x0": " ",
         "xaxis": "x",
         "y": [
          65,
          85,
          80,
          85,
          70,
          90,
          110,
          55,
          75,
          135,
          24,
          89,
          55,
          80,
          100,
          80,
          110,
          150,
          50,
          80,
          110,
          80,
          130,
          95
         ],
         "y0": " ",
         "yaxis": "y"
        },
        {
         "alignmentgroup": "True",
         "boxpoints": "all",
         "customdata": [
          [
           "Mankey"
          ],
          [
           "Primeape"
          ],
          [
           "Machop"
          ],
          [
           "Machoke"
          ],
          [
           "Machamp"
          ],
          [
           "Galarian Farfetch'd"
          ],
          [
           "Hitmonlee"
          ],
          [
           "Hitmonchan"
          ],
          [
           "Tyrogue"
          ],
          [
           "Hitmontop"
          ],
          [
           "Makuhita"
          ],
          [
           "Hariyama"
          ],
          [
           "Meditite"
          ],
          [
           "Medicham"
          ],
          [
           "Riolu"
          ],
          [
           "Lucario"
          ],
          [
           "Timburr"
          ],
          [
           "Gurdurr"
          ],
          [
           "Conkeldurr"
          ],
          [
           "Throh"
          ],
          [
           "Sawk"
          ],
          [
           "Mienfoo"
          ],
          [
           "Mienshao"
          ],
          [
           "Pancham"
          ],
          [
           "Pangoro"
          ],
          [
           "Hawlucha"
          ],
          [
           "Crabrawler"
          ],
          [
           "Crabominable"
          ],
          [
           "Passimian"
          ],
          [
           "Clobbopus"
          ],
          [
           "Grapploct"
          ],
          [
           "Sirfetch'd"
          ],
          [
           "Falinks"
          ]
         ],
         "hovertemplate": "Tipo 1=%{x}<br>Ataque!=%{y}<br>name=%{customdata[0]}<extra></extra>",
         "legendgroup": "Fighting",
         "marker": {
          "color": "#00cc96"
         },
         "name": "Fighting",
         "notched": false,
         "offsetgroup": "Fighting",
         "orientation": "v",
         "showlegend": true,
         "type": "box",
         "x": [
          "Fighting",
          "Fighting",
          "Fighting",
          "Fighting",
          "Fighting",
          "Fighting",
          "Fighting",
          "Fighting",
          "Fighting",
          "Fighting",
          "Fighting",
          "Fighting",
          "Fighting",
          "Fighting",
          "Fighting",
          "Fighting",
          "Fighting",
          "Fighting",
          "Fighting",
          "Fighting",
          "Fighting",
          "Fighting",
          "Fighting",
          "Fighting",
          "Fighting",
          "Fighting",
          "Fighting",
          "Fighting",
          "Fighting",
          "Fighting",
          "Fighting",
          "Fighting",
          "Fighting"
         ],
         "x0": " ",
         "xaxis": "x",
         "y": [
          80,
          105,
          80,
          100,
          130,
          95,
          120,
          105,
          35,
          95,
          60,
          120,
          40,
          60,
          70,
          110,
          80,
          105,
          140,
          100,
          125,
          85,
          125,
          82,
          124,
          92,
          82,
          132,
          120,
          68,
          118,
          135,
          100
         ],
         "y0": " ",
         "yaxis": "y"
        },
        {
         "alignmentgroup": "True",
         "boxpoints": "all",
         "customdata": [
          [
           "Abra"
          ],
          [
           "Kadabra"
          ],
          [
           "Alakazam"
          ],
          [
           "Galarian Ponyta"
          ],
          [
           "Galarian Rapidash"
          ],
          [
           "Drowzee"
          ],
          [
           "Hypno"
          ],
          [
           "Mr. Mime"
          ],
          [
           "Galarian Mr. Mime"
          ],
          [
           "Natu"
          ],
          [
           "Xatu"
          ],
          [
           "Espeon"
          ],
          [
           "Unown"
          ],
          [
           "Wobbuffet"
          ],
          [
           "Ralts"
          ],
          [
           "Kirlia"
          ],
          [
           "Gardevoir"
          ],
          [
           "Spoink"
          ],
          [
           "Grumpig"
          ],
          [
           "Chimecho"
          ],
          [
           "Wynaut"
          ],
          [
           "Chingling"
          ],
          [
           "Mime Jr."
          ],
          [
           "Gallade"
          ],
          [
           "Munna"
          ],
          [
           "Musharna"
          ],
          [
           "Woobat"
          ],
          [
           "Swoobat"
          ],
          [
           "Sigilyph"
          ],
          [
           "Gothita"
          ],
          [
           "Gothorita"
          ],
          [
           "Gothitelle"
          ],
          [
           "Solosis"
          ],
          [
           "Duosion"
          ],
          [
           "Reuniclus"
          ],
          [
           "Elgyem"
          ],
          [
           "Beheeyem"
          ],
          [
           "Espurr"
          ],
          [
           "Meowstic Male"
          ],
          [
           "Meowstic Female"
          ],
          [
           "Oricorio Pa'u Style"
          ],
          [
           "Hatenna"
          ],
          [
           "Hattrem"
          ],
          [
           "Hatterene"
          ],
          [
           "Mr. Rime"
          ],
          [
           "Indeedee Male"
          ],
          [
           "Indeedee Female"
          ]
         ],
         "hovertemplate": "Tipo 1=%{x}<br>Ataque!=%{y}<br>name=%{customdata[0]}<extra></extra>",
         "legendgroup": "Psychic",
         "marker": {
          "color": "#ab63fa"
         },
         "name": "Psychic",
         "notched": false,
         "offsetgroup": "Psychic",
         "orientation": "v",
         "showlegend": true,
         "type": "box",
         "x": [
          "Psychic",
          "Psychic",
          "Psychic",
          "Psychic",
          "Psychic",
          "Psychic",
          "Psychic",
          "Psychic",
          "Psychic",
          "Psychic",
          "Psychic",
          "Psychic",
          "Psychic",
          "Psychic",
          "Psychic",
          "Psychic",
          "Psychic",
          "Psychic",
          "Psychic",
          "Psychic",
          "Psychic",
          "Psychic",
          "Psychic",
          "Psychic",
          "Psychic",
          "Psychic",
          "Psychic",
          "Psychic",
          "Psychic",
          "Psychic",
          "Psychic",
          "Psychic",
          "Psychic",
          "Psychic",
          "Psychic",
          "Psychic",
          "Psychic",
          "Psychic",
          "Psychic",
          "Psychic",
          "Psychic",
          "Psychic",
          "Psychic",
          "Psychic",
          "Psychic",
          "Psychic",
          "Psychic"
         ],
         "x0": " ",
         "xaxis": "x",
         "y": [
          20,
          35,
          50,
          85,
          100,
          48,
          73,
          45,
          65,
          50,
          75,
          65,
          72,
          33,
          25,
          35,
          65,
          25,
          45,
          50,
          23,
          30,
          25,
          125,
          25,
          55,
          45,
          57,
          58,
          30,
          45,
          55,
          30,
          40,
          65,
          55,
          75,
          48,
          48,
          48,
          70,
          30,
          40,
          90,
          85,
          65,
          55
         ],
         "y0": " ",
         "yaxis": "y"
        },
        {
         "alignmentgroup": "True",
         "boxpoints": "all",
         "customdata": [
          [
           "Geodude"
          ],
          [
           "Alolan Geodude"
          ],
          [
           "Graveler"
          ],
          [
           "Alolan Graveler"
          ],
          [
           "Golem"
          ],
          [
           "Alolan Golem"
          ],
          [
           "Onix"
          ],
          [
           "Omanyte"
          ],
          [
           "Omastar"
          ],
          [
           "Kabuto"
          ],
          [
           "Kabutops"
          ],
          [
           "Aerodactyl"
          ],
          [
           "Sudowoodo"
          ],
          [
           "Larvitar"
          ],
          [
           "Pupitar"
          ],
          [
           "Tyranitar"
          ],
          [
           "Nosepass"
          ],
          [
           "Lunatone"
          ],
          [
           "Solrock"
          ],
          [
           "Lileep"
          ],
          [
           "Cradily"
          ],
          [
           "Anorith"
          ],
          [
           "Armaldo"
          ],
          [
           "Cranidos"
          ],
          [
           "Rampardos"
          ],
          [
           "Shieldon"
          ],
          [
           "Bastiodon"
          ],
          [
           "Bonsly"
          ],
          [
           "Probopass"
          ],
          [
           "Roggenrola"
          ],
          [
           "Boldore"
          ],
          [
           "Gigalith"
          ],
          [
           "Archen"
          ],
          [
           "Archeops"
          ],
          [
           "Binacle"
          ],
          [
           "Barbaracle"
          ],
          [
           "Tyrunt"
          ],
          [
           "Tyrantrum"
          ],
          [
           "Amaura"
          ],
          [
           "Aurorus"
          ],
          [
           "Carbink"
          ],
          [
           "Rockruff"
          ],
          [
           "Own Tempo Rockruff"
          ],
          [
           "Lycanroc Midday Form"
          ],
          [
           "Lycanroc Midnight Form"
          ],
          [
           "Lycanroc Dusk Form"
          ],
          [
           "Minior Meteor Form"
          ],
          [
           "Minior Core Form"
          ],
          [
           "Rolycoly"
          ],
          [
           "Carkol"
          ],
          [
           "Coalossal"
          ],
          [
           "Stonjourner"
          ]
         ],
         "hovertemplate": "Tipo 1=%{x}<br>Ataque!=%{y}<br>name=%{customdata[0]}<extra></extra>",
         "legendgroup": "Rock",
         "marker": {
          "color": "#FFA15A"
         },
         "name": "Rock",
         "notched": false,
         "offsetgroup": "Rock",
         "orientation": "v",
         "showlegend": true,
         "type": "box",
         "x": [
          "Rock",
          "Rock",
          "Rock",
          "Rock",
          "Rock",
          "Rock",
          "Rock",
          "Rock",
          "Rock",
          "Rock",
          "Rock",
          "Rock",
          "Rock",
          "Rock",
          "Rock",
          "Rock",
          "Rock",
          "Rock",
          "Rock",
          "Rock",
          "Rock",
          "Rock",
          "Rock",
          "Rock",
          "Rock",
          "Rock",
          "Rock",
          "Rock",
          "Rock",
          "Rock",
          "Rock",
          "Rock",
          "Rock",
          "Rock",
          "Rock",
          "Rock",
          "Rock",
          "Rock",
          "Rock",
          "Rock",
          "Rock",
          "Rock",
          "Rock",
          "Rock",
          "Rock",
          "Rock",
          "Rock",
          "Rock",
          "Rock",
          "Rock",
          "Rock",
          "Rock"
         ],
         "x0": " ",
         "xaxis": "x",
         "y": [
          80,
          80,
          95,
          95,
          120,
          120,
          45,
          40,
          60,
          80,
          115,
          105,
          100,
          64,
          84,
          134,
          45,
          55,
          95,
          41,
          81,
          95,
          125,
          125,
          165,
          42,
          52,
          80,
          55,
          75,
          105,
          135,
          112,
          140,
          52,
          105,
          89,
          121,
          59,
          77,
          50,
          65,
          65,
          115,
          115,
          117,
          60,
          100,
          40,
          60,
          80,
          125
         ],
         "y0": " ",
         "yaxis": "y"
        },
        {
         "alignmentgroup": "True",
         "boxpoints": "all",
         "customdata": [
          [
           "Gastly"
          ],
          [
           "Haunter"
          ],
          [
           "Gengar"
          ],
          [
           "Misdreavus"
          ],
          [
           "Galarian Corsola"
          ],
          [
           "Shuppet"
          ],
          [
           "Banette"
          ],
          [
           "Duskull"
          ],
          [
           "Dusclops"
          ],
          [
           "Drifloon"
          ],
          [
           "Drifblim"
          ],
          [
           "Mismagius"
          ],
          [
           "Spiritomb"
          ],
          [
           "Dusknoir"
          ],
          [
           "Yamask"
          ],
          [
           "Cofagrigus"
          ],
          [
           "Litwick"
          ],
          [
           "Lampent"
          ],
          [
           "Chandelure"
          ],
          [
           "Phantump"
          ],
          [
           "Trevenant"
          ],
          [
           "Pumpkaboo Average Size"
          ],
          [
           "Pumpkaboo Small Size"
          ],
          [
           "Pumpkaboo Large Size"
          ],
          [
           "Pumpkaboo Super Size"
          ],
          [
           "Gourgeist Average Size"
          ],
          [
           "Gourgeist Small Size"
          ],
          [
           "Gourgeist Large Size"
          ],
          [
           "Gourgeist Super Size"
          ],
          [
           "Oricorio Sensu Style"
          ],
          [
           "Sandygast"
          ],
          [
           "Palossand"
          ],
          [
           "Mimikyu"
          ],
          [
           "Dhelmise"
          ],
          [
           "Sinistea"
          ],
          [
           "Polteageist"
          ],
          [
           "Cursola"
          ]
         ],
         "hovertemplate": "Tipo 1=%{x}<br>Ataque!=%{y}<br>name=%{customdata[0]}<extra></extra>",
         "legendgroup": "Ghost",
         "marker": {
          "color": "#19d3f3"
         },
         "name": "Ghost",
         "notched": false,
         "offsetgroup": "Ghost",
         "orientation": "v",
         "showlegend": true,
         "type": "box",
         "x": [
          "Ghost",
          "Ghost",
          "Ghost",
          "Ghost",
          "Ghost",
          "Ghost",
          "Ghost",
          "Ghost",
          "Ghost",
          "Ghost",
          "Ghost",
          "Ghost",
          "Ghost",
          "Ghost",
          "Ghost",
          "Ghost",
          "Ghost",
          "Ghost",
          "Ghost",
          "Ghost",
          "Ghost",
          "Ghost",
          "Ghost",
          "Ghost",
          "Ghost",
          "Ghost",
          "Ghost",
          "Ghost",
          "Ghost",
          "Ghost",
          "Ghost",
          "Ghost",
          "Ghost",
          "Ghost",
          "Ghost",
          "Ghost",
          "Ghost"
         ],
         "x0": " ",
         "xaxis": "x",
         "y": [
          35,
          50,
          65,
          60,
          55,
          75,
          115,
          40,
          70,
          50,
          80,
          60,
          92,
          100,
          30,
          50,
          30,
          40,
          55,
          70,
          110,
          66,
          66,
          66,
          66,
          90,
          85,
          95,
          100,
          70,
          55,
          75,
          90,
          131,
          45,
          65,
          95
         ],
         "y0": " ",
         "yaxis": "y"
        },
        {
         "alignmentgroup": "True",
         "boxpoints": "all",
         "customdata": [
          [
           "Dratini"
          ],
          [
           "Dragonair"
          ],
          [
           "Dragonite"
          ],
          [
           "Altaria"
          ],
          [
           "Bagon"
          ],
          [
           "Shelgon"
          ],
          [
           "Salamence"
          ],
          [
           "Gible"
          ],
          [
           "Gabite"
          ],
          [
           "Garchomp"
          ],
          [
           "Axew"
          ],
          [
           "Fraxure"
          ],
          [
           "Haxorus"
          ],
          [
           "Druddigon"
          ],
          [
           "Goomy"
          ],
          [
           "Sliggoo"
          ],
          [
           "Goodra"
          ],
          [
           "Jangmo-o"
          ],
          [
           "Hakamo-o"
          ],
          [
           "Kommo-o"
          ],
          [
           "Dreepy"
          ],
          [
           "Drakloak"
          ],
          [
           "Dragapult"
          ]
         ],
         "hovertemplate": "Tipo 1=%{x}<br>Ataque!=%{y}<br>name=%{customdata[0]}<extra></extra>",
         "legendgroup": "Dragon",
         "marker": {
          "color": "#FF6692"
         },
         "name": "Dragon",
         "notched": false,
         "offsetgroup": "Dragon",
         "orientation": "v",
         "showlegend": true,
         "type": "box",
         "x": [
          "Dragon",
          "Dragon",
          "Dragon",
          "Dragon",
          "Dragon",
          "Dragon",
          "Dragon",
          "Dragon",
          "Dragon",
          "Dragon",
          "Dragon",
          "Dragon",
          "Dragon",
          "Dragon",
          "Dragon",
          "Dragon",
          "Dragon",
          "Dragon",
          "Dragon",
          "Dragon",
          "Dragon",
          "Dragon",
          "Dragon"
         ],
         "x0": " ",
         "xaxis": "x",
         "y": [
          64,
          84,
          134,
          70,
          75,
          95,
          135,
          70,
          90,
          130,
          87,
          117,
          147,
          120,
          50,
          75,
          100,
          55,
          75,
          110,
          60,
          80,
          120
         ],
         "y0": " ",
         "yaxis": "y"
        },
        {
         "alignmentgroup": "True",
         "boxpoints": "all",
         "customdata": [
          [
           "Noibat"
          ],
          [
           "Noivern"
          ],
          [
           "Rookidee"
          ],
          [
           "Corvisquire"
          ],
          [
           "Corviknight"
          ],
          [
           "Cramorant"
          ]
         ],
         "hovertemplate": "Tipo 1=%{x}<br>Ataque!=%{y}<br>name=%{customdata[0]}<extra></extra>",
         "legendgroup": "Flying",
         "marker": {
          "color": "#B6E880"
         },
         "name": "Flying",
         "notched": false,
         "offsetgroup": "Flying",
         "orientation": "v",
         "showlegend": true,
         "type": "box",
         "x": [
          "Flying",
          "Flying",
          "Flying",
          "Flying",
          "Flying",
          "Flying"
         ],
         "x0": " ",
         "xaxis": "x",
         "y": [
          30,
          70,
          47,
          67,
          87,
          85
         ],
         "y0": " ",
         "yaxis": "y"
        }
       ],
       "layout": {
        "boxmode": "overlay",
        "legend": {
         "title": {
          "text": "Tipo 1"
         },
         "tracegroupgap": 0
        },
        "margin": {
         "t": 60
        },
        "template": {
         "data": {
          "bar": [
           {
            "error_x": {
             "color": "#2a3f5f"
            },
            "error_y": {
             "color": "#2a3f5f"
            },
            "marker": {
             "line": {
              "color": "#E5ECF6",
              "width": 0.5
             },
             "pattern": {
              "fillmode": "overlay",
              "size": 10,
              "solidity": 0.2
             }
            },
            "type": "bar"
           }
          ],
          "barpolar": [
           {
            "marker": {
             "line": {
              "color": "#E5ECF6",
              "width": 0.5
             },
             "pattern": {
              "fillmode": "overlay",
              "size": 10,
              "solidity": 0.2
             }
            },
            "type": "barpolar"
           }
          ],
          "carpet": [
           {
            "aaxis": {
             "endlinecolor": "#2a3f5f",
             "gridcolor": "white",
             "linecolor": "white",
             "minorgridcolor": "white",
             "startlinecolor": "#2a3f5f"
            },
            "baxis": {
             "endlinecolor": "#2a3f5f",
             "gridcolor": "white",
             "linecolor": "white",
             "minorgridcolor": "white",
             "startlinecolor": "#2a3f5f"
            },
            "type": "carpet"
           }
          ],
          "choropleth": [
           {
            "colorbar": {
             "outlinewidth": 0,
             "ticks": ""
            },
            "type": "choropleth"
           }
          ],
          "contour": [
           {
            "colorbar": {
             "outlinewidth": 0,
             "ticks": ""
            },
            "colorscale": [
             [
              0,
              "#0d0887"
             ],
             [
              0.1111111111111111,
              "#46039f"
             ],
             [
              0.2222222222222222,
              "#7201a8"
             ],
             [
              0.3333333333333333,
              "#9c179e"
             ],
             [
              0.4444444444444444,
              "#bd3786"
             ],
             [
              0.5555555555555556,
              "#d8576b"
             ],
             [
              0.6666666666666666,
              "#ed7953"
             ],
             [
              0.7777777777777778,
              "#fb9f3a"
             ],
             [
              0.8888888888888888,
              "#fdca26"
             ],
             [
              1,
              "#f0f921"
             ]
            ],
            "type": "contour"
           }
          ],
          "contourcarpet": [
           {
            "colorbar": {
             "outlinewidth": 0,
             "ticks": ""
            },
            "type": "contourcarpet"
           }
          ],
          "heatmap": [
           {
            "colorbar": {
             "outlinewidth": 0,
             "ticks": ""
            },
            "colorscale": [
             [
              0,
              "#0d0887"
             ],
             [
              0.1111111111111111,
              "#46039f"
             ],
             [
              0.2222222222222222,
              "#7201a8"
             ],
             [
              0.3333333333333333,
              "#9c179e"
             ],
             [
              0.4444444444444444,
              "#bd3786"
             ],
             [
              0.5555555555555556,
              "#d8576b"
             ],
             [
              0.6666666666666666,
              "#ed7953"
             ],
             [
              0.7777777777777778,
              "#fb9f3a"
             ],
             [
              0.8888888888888888,
              "#fdca26"
             ],
             [
              1,
              "#f0f921"
             ]
            ],
            "type": "heatmap"
           }
          ],
          "heatmapgl": [
           {
            "colorbar": {
             "outlinewidth": 0,
             "ticks": ""
            },
            "colorscale": [
             [
              0,
              "#0d0887"
             ],
             [
              0.1111111111111111,
              "#46039f"
             ],
             [
              0.2222222222222222,
              "#7201a8"
             ],
             [
              0.3333333333333333,
              "#9c179e"
             ],
             [
              0.4444444444444444,
              "#bd3786"
             ],
             [
              0.5555555555555556,
              "#d8576b"
             ],
             [
              0.6666666666666666,
              "#ed7953"
             ],
             [
              0.7777777777777778,
              "#fb9f3a"
             ],
             [
              0.8888888888888888,
              "#fdca26"
             ],
             [
              1,
              "#f0f921"
             ]
            ],
            "type": "heatmapgl"
           }
          ],
          "histogram": [
           {
            "marker": {
             "pattern": {
              "fillmode": "overlay",
              "size": 10,
              "solidity": 0.2
             }
            },
            "type": "histogram"
           }
          ],
          "histogram2d": [
           {
            "colorbar": {
             "outlinewidth": 0,
             "ticks": ""
            },
            "colorscale": [
             [
              0,
              "#0d0887"
             ],
             [
              0.1111111111111111,
              "#46039f"
             ],
             [
              0.2222222222222222,
              "#7201a8"
             ],
             [
              0.3333333333333333,
              "#9c179e"
             ],
             [
              0.4444444444444444,
              "#bd3786"
             ],
             [
              0.5555555555555556,
              "#d8576b"
             ],
             [
              0.6666666666666666,
              "#ed7953"
             ],
             [
              0.7777777777777778,
              "#fb9f3a"
             ],
             [
              0.8888888888888888,
              "#fdca26"
             ],
             [
              1,
              "#f0f921"
             ]
            ],
            "type": "histogram2d"
           }
          ],
          "histogram2dcontour": [
           {
            "colorbar": {
             "outlinewidth": 0,
             "ticks": ""
            },
            "colorscale": [
             [
              0,
              "#0d0887"
             ],
             [
              0.1111111111111111,
              "#46039f"
             ],
             [
              0.2222222222222222,
              "#7201a8"
             ],
             [
              0.3333333333333333,
              "#9c179e"
             ],
             [
              0.4444444444444444,
              "#bd3786"
             ],
             [
              0.5555555555555556,
              "#d8576b"
             ],
             [
              0.6666666666666666,
              "#ed7953"
             ],
             [
              0.7777777777777778,
              "#fb9f3a"
             ],
             [
              0.8888888888888888,
              "#fdca26"
             ],
             [
              1,
              "#f0f921"
             ]
            ],
            "type": "histogram2dcontour"
           }
          ],
          "mesh3d": [
           {
            "colorbar": {
             "outlinewidth": 0,
             "ticks": ""
            },
            "type": "mesh3d"
           }
          ],
          "parcoords": [
           {
            "line": {
             "colorbar": {
              "outlinewidth": 0,
              "ticks": ""
             }
            },
            "type": "parcoords"
           }
          ],
          "pie": [
           {
            "automargin": true,
            "type": "pie"
           }
          ],
          "scatter": [
           {
            "fillpattern": {
             "fillmode": "overlay",
             "size": 10,
             "solidity": 0.2
            },
            "type": "scatter"
           }
          ],
          "scatter3d": [
           {
            "line": {
             "colorbar": {
              "outlinewidth": 0,
              "ticks": ""
             }
            },
            "marker": {
             "colorbar": {
              "outlinewidth": 0,
              "ticks": ""
             }
            },
            "type": "scatter3d"
           }
          ],
          "scattercarpet": [
           {
            "marker": {
             "colorbar": {
              "outlinewidth": 0,
              "ticks": ""
             }
            },
            "type": "scattercarpet"
           }
          ],
          "scattergeo": [
           {
            "marker": {
             "colorbar": {
              "outlinewidth": 0,
              "ticks": ""
             }
            },
            "type": "scattergeo"
           }
          ],
          "scattergl": [
           {
            "marker": {
             "colorbar": {
              "outlinewidth": 0,
              "ticks": ""
             }
            },
            "type": "scattergl"
           }
          ],
          "scattermapbox": [
           {
            "marker": {
             "colorbar": {
              "outlinewidth": 0,
              "ticks": ""
             }
            },
            "type": "scattermapbox"
           }
          ],
          "scatterpolar": [
           {
            "marker": {
             "colorbar": {
              "outlinewidth": 0,
              "ticks": ""
             }
            },
            "type": "scatterpolar"
           }
          ],
          "scatterpolargl": [
           {
            "marker": {
             "colorbar": {
              "outlinewidth": 0,
              "ticks": ""
             }
            },
            "type": "scatterpolargl"
           }
          ],
          "scatterternary": [
           {
            "marker": {
             "colorbar": {
              "outlinewidth": 0,
              "ticks": ""
             }
            },
            "type": "scatterternary"
           }
          ],
          "surface": [
           {
            "colorbar": {
             "outlinewidth": 0,
             "ticks": ""
            },
            "colorscale": [
             [
              0,
              "#0d0887"
             ],
             [
              0.1111111111111111,
              "#46039f"
             ],
             [
              0.2222222222222222,
              "#7201a8"
             ],
             [
              0.3333333333333333,
              "#9c179e"
             ],
             [
              0.4444444444444444,
              "#bd3786"
             ],
             [
              0.5555555555555556,
              "#d8576b"
             ],
             [
              0.6666666666666666,
              "#ed7953"
             ],
             [
              0.7777777777777778,
              "#fb9f3a"
             ],
             [
              0.8888888888888888,
              "#fdca26"
             ],
             [
              1,
              "#f0f921"
             ]
            ],
            "type": "surface"
           }
          ],
          "table": [
           {
            "cells": {
             "fill": {
              "color": "#EBF0F8"
             },
             "line": {
              "color": "white"
             }
            },
            "header": {
             "fill": {
              "color": "#C8D4E3"
             },
             "line": {
              "color": "white"
             }
            },
            "type": "table"
           }
          ]
         },
         "layout": {
          "annotationdefaults": {
           "arrowcolor": "#2a3f5f",
           "arrowhead": 0,
           "arrowwidth": 1
          },
          "autotypenumbers": "strict",
          "coloraxis": {
           "colorbar": {
            "outlinewidth": 0,
            "ticks": ""
           }
          },
          "colorscale": {
           "diverging": [
            [
             0,
             "#8e0152"
            ],
            [
             0.1,
             "#c51b7d"
            ],
            [
             0.2,
             "#de77ae"
            ],
            [
             0.3,
             "#f1b6da"
            ],
            [
             0.4,
             "#fde0ef"
            ],
            [
             0.5,
             "#f7f7f7"
            ],
            [
             0.6,
             "#e6f5d0"
            ],
            [
             0.7,
             "#b8e186"
            ],
            [
             0.8,
             "#7fbc41"
            ],
            [
             0.9,
             "#4d9221"
            ],
            [
             1,
             "#276419"
            ]
           ],
           "sequential": [
            [
             0,
             "#0d0887"
            ],
            [
             0.1111111111111111,
             "#46039f"
            ],
            [
             0.2222222222222222,
             "#7201a8"
            ],
            [
             0.3333333333333333,
             "#9c179e"
            ],
            [
             0.4444444444444444,
             "#bd3786"
            ],
            [
             0.5555555555555556,
             "#d8576b"
            ],
            [
             0.6666666666666666,
             "#ed7953"
            ],
            [
             0.7777777777777778,
             "#fb9f3a"
            ],
            [
             0.8888888888888888,
             "#fdca26"
            ],
            [
             1,
             "#f0f921"
            ]
           ],
           "sequentialminus": [
            [
             0,
             "#0d0887"
            ],
            [
             0.1111111111111111,
             "#46039f"
            ],
            [
             0.2222222222222222,
             "#7201a8"
            ],
            [
             0.3333333333333333,
             "#9c179e"
            ],
            [
             0.4444444444444444,
             "#bd3786"
            ],
            [
             0.5555555555555556,
             "#d8576b"
            ],
            [
             0.6666666666666666,
             "#ed7953"
            ],
            [
             0.7777777777777778,
             "#fb9f3a"
            ],
            [
             0.8888888888888888,
             "#fdca26"
            ],
            [
             1,
             "#f0f921"
            ]
           ]
          },
          "colorway": [
           "#636efa",
           "#EF553B",
           "#00cc96",
           "#ab63fa",
           "#FFA15A",
           "#19d3f3",
           "#FF6692",
           "#B6E880",
           "#FF97FF",
           "#FECB52"
          ],
          "font": {
           "color": "#2a3f5f"
          },
          "geo": {
           "bgcolor": "white",
           "lakecolor": "white",
           "landcolor": "#E5ECF6",
           "showlakes": true,
           "showland": true,
           "subunitcolor": "white"
          },
          "hoverlabel": {
           "align": "left"
          },
          "hovermode": "closest",
          "mapbox": {
           "style": "light"
          },
          "paper_bgcolor": "white",
          "plot_bgcolor": "#E5ECF6",
          "polar": {
           "angularaxis": {
            "gridcolor": "white",
            "linecolor": "white",
            "ticks": ""
           },
           "bgcolor": "#E5ECF6",
           "radialaxis": {
            "gridcolor": "white",
            "linecolor": "white",
            "ticks": ""
           }
          },
          "scene": {
           "xaxis": {
            "backgroundcolor": "#E5ECF6",
            "gridcolor": "white",
            "gridwidth": 2,
            "linecolor": "white",
            "showbackground": true,
            "ticks": "",
            "zerolinecolor": "white"
           },
           "yaxis": {
            "backgroundcolor": "#E5ECF6",
            "gridcolor": "white",
            "gridwidth": 2,
            "linecolor": "white",
            "showbackground": true,
            "ticks": "",
            "zerolinecolor": "white"
           },
           "zaxis": {
            "backgroundcolor": "#E5ECF6",
            "gridcolor": "white",
            "gridwidth": 2,
            "linecolor": "white",
            "showbackground": true,
            "ticks": "",
            "zerolinecolor": "white"
           }
          },
          "shapedefaults": {
           "line": {
            "color": "#2a3f5f"
           }
          },
          "ternary": {
           "aaxis": {
            "gridcolor": "white",
            "linecolor": "white",
            "ticks": ""
           },
           "baxis": {
            "gridcolor": "white",
            "linecolor": "white",
            "ticks": ""
           },
           "bgcolor": "#E5ECF6",
           "caxis": {
            "gridcolor": "white",
            "linecolor": "white",
            "ticks": ""
           }
          },
          "title": {
           "x": 0.05
          },
          "xaxis": {
           "automargin": true,
           "gridcolor": "white",
           "linecolor": "white",
           "ticks": "",
           "title": {
            "standoff": 15
           },
           "zerolinecolor": "white",
           "zerolinewidth": 2
          },
          "yaxis": {
           "automargin": true,
           "gridcolor": "white",
           "linecolor": "white",
           "ticks": "",
           "title": {
            "standoff": 15
           },
           "zerolinecolor": "white",
           "zerolinewidth": 2
          }
         }
        },
        "xaxis": {
         "anchor": "y",
         "categoryarray": [
          "Grass",
          "Fire",
          "Water",
          "Bug",
          "Normal",
          "Dark",
          "Poison",
          "Electric",
          "Ground",
          "Ice",
          "Fairy",
          "Steel",
          "Fighting",
          "Psychic",
          "Rock",
          "Ghost",
          "Dragon",
          "Flying"
         ],
         "categoryorder": "array",
         "domain": [
          0,
          1
         ],
         "title": {
          "text": "Tipo 1"
         }
        },
        "yaxis": {
         "anchor": "x",
         "domain": [
          0,
          1
         ],
         "title": {
          "text": "Ataque!"
         }
        }
       }
      }
     },
     "metadata": {},
     "output_type": "display_data"
    },
    {
     "data": {
      "application/vnd.plotly.v1+json": {
       "config": {
        "plotlyServerURL": "https://plot.ly"
       },
       "data": [
        {
         "alignmentgroup": "True",
         "boxpoints": "all",
         "customdata": [
          [
           "Bulbasaur"
          ],
          [
           "Ivysaur"
          ],
          [
           "Venusaur"
          ],
          [
           "Oddish"
          ],
          [
           "Gloom"
          ],
          [
           "Vileplume"
          ],
          [
           "Bellsprout"
          ],
          [
           "Weepinbell"
          ],
          [
           "Victreebel"
          ],
          [
           "Exeggcute"
          ],
          [
           "Exeggutor"
          ],
          [
           "Alolan Exeggutor"
          ],
          [
           "Tangela"
          ],
          [
           "Chikorita"
          ],
          [
           "Bayleef"
          ],
          [
           "Bellossom"
          ],
          [
           "Hoppip"
          ],
          [
           "Skiploom"
          ],
          [
           "Jumpluff"
          ],
          [
           "Sunkern"
          ],
          [
           "Sunflora"
          ],
          [
           "Treecko"
          ],
          [
           "Grovyle"
          ],
          [
           "Sceptile"
          ],
          [
           "Seedot"
          ],
          [
           "Nuzleaf"
          ],
          [
           "Shiftry"
          ],
          [
           "Shroomish"
          ],
          [
           "Breloom"
          ],
          [
           "Roselia"
          ],
          [
           "Cacnea"
          ],
          [
           "Cacturne"
          ],
          [
           "Tropius"
          ],
          [
           "Turtwig"
          ],
          [
           "Grotle"
          ],
          [
           "Torterra"
          ],
          [
           "Budew"
          ],
          [
           "Roserade"
          ],
          [
           "Cherubi"
          ],
          [
           "Cherrim"
          ],
          [
           "Carnivine"
          ],
          [
           "Snover"
          ],
          [
           "Abomasnow"
          ],
          [
           "Tangrowth"
          ],
          [
           "Leafeon"
          ],
          [
           "Snivy"
          ],
          [
           "Servine"
          ],
          [
           "Serperior"
          ],
          [
           "Pansage"
          ],
          [
           "Simisage"
          ],
          [
           "Cottonee"
          ],
          [
           "Whimsicott"
          ],
          [
           "Petilil"
          ],
          [
           "Lilligant"
          ],
          [
           "Maractus"
          ],
          [
           "Foongus"
          ],
          [
           "Amoonguss"
          ],
          [
           "Ferroseed"
          ],
          [
           "Ferrothorn"
          ],
          [
           "Chespin"
          ],
          [
           "Quilladin"
          ],
          [
           "Chesnaught"
          ],
          [
           "Skiddo"
          ],
          [
           "Gogoat"
          ],
          [
           "Rowlet"
          ],
          [
           "Dartrix"
          ],
          [
           "Decidueye"
          ],
          [
           "Fomantis"
          ],
          [
           "Lurantis"
          ],
          [
           "Morelull"
          ],
          [
           "Shiinotic"
          ],
          [
           "Bounsweet"
          ],
          [
           "Steenee"
          ],
          [
           "Tsareena"
          ],
          [
           "Grookey"
          ],
          [
           "Thwackey"
          ],
          [
           "Rillaboom"
          ],
          [
           "Gossifleur"
          ],
          [
           "Eldegoss"
          ],
          [
           "Applin"
          ],
          [
           "Flapple"
          ],
          [
           "Appletun"
          ]
         ],
         "hovertemplate": "Tipo 1=%{x}<br>Velocidade!=%{y}<br>name=%{customdata[0]}<extra></extra>",
         "legendgroup": "Grass",
         "marker": {
          "color": "#636efa"
         },
         "name": "Grass",
         "notched": false,
         "offsetgroup": "Grass",
         "orientation": "v",
         "showlegend": true,
         "type": "box",
         "x": [
          "Grass",
          "Grass",
          "Grass",
          "Grass",
          "Grass",
          "Grass",
          "Grass",
          "Grass",
          "Grass",
          "Grass",
          "Grass",
          "Grass",
          "Grass",
          "Grass",
          "Grass",
          "Grass",
          "Grass",
          "Grass",
          "Grass",
          "Grass",
          "Grass",
          "Grass",
          "Grass",
          "Grass",
          "Grass",
          "Grass",
          "Grass",
          "Grass",
          "Grass",
          "Grass",
          "Grass",
          "Grass",
          "Grass",
          "Grass",
          "Grass",
          "Grass",
          "Grass",
          "Grass",
          "Grass",
          "Grass",
          "Grass",
          "Grass",
          "Grass",
          "Grass",
          "Grass",
          "Grass",
          "Grass",
          "Grass",
          "Grass",
          "Grass",
          "Grass",
          "Grass",
          "Grass",
          "Grass",
          "Grass",
          "Grass",
          "Grass",
          "Grass",
          "Grass",
          "Grass",
          "Grass",
          "Grass",
          "Grass",
          "Grass",
          "Grass",
          "Grass",
          "Grass",
          "Grass",
          "Grass",
          "Grass",
          "Grass",
          "Grass",
          "Grass",
          "Grass",
          "Grass",
          "Grass",
          "Grass",
          "Grass",
          "Grass",
          "Grass",
          "Grass",
          "Grass"
         ],
         "x0": " ",
         "xaxis": "x",
         "y": [
          45,
          60,
          80,
          30,
          40,
          50,
          40,
          55,
          70,
          40,
          55,
          45,
          60,
          45,
          60,
          50,
          50,
          80,
          110,
          30,
          30,
          70,
          95,
          120,
          30,
          60,
          80,
          35,
          70,
          65,
          35,
          55,
          51,
          31,
          36,
          56,
          55,
          90,
          35,
          85,
          46,
          40,
          60,
          50,
          95,
          63,
          83,
          113,
          64,
          101,
          66,
          116,
          30,
          90,
          60,
          15,
          30,
          10,
          20,
          38,
          57,
          64,
          52,
          68,
          42,
          52,
          70,
          35,
          45,
          15,
          30,
          32,
          62,
          72,
          65,
          80,
          85,
          10,
          60,
          20,
          70,
          30
         ],
         "y0": " ",
         "yaxis": "y"
        },
        {
         "alignmentgroup": "True",
         "boxpoints": "all",
         "customdata": [
          [
           "Charmander"
          ],
          [
           "Charmeleon"
          ],
          [
           "Charizard"
          ],
          [
           "Vulpix"
          ],
          [
           "Ninetales"
          ],
          [
           "Growlithe"
          ],
          [
           "Arcanine"
          ],
          [
           "Ponyta"
          ],
          [
           "Rapidash"
          ],
          [
           "Alolan Marowak"
          ],
          [
           "Magmar"
          ],
          [
           "Flareon"
          ],
          [
           "Cyndaquil"
          ],
          [
           "Quilava"
          ],
          [
           "Typhlosion"
          ],
          [
           "Slugma"
          ],
          [
           "Magcargo"
          ],
          [
           "Magby"
          ],
          [
           "Torchic"
          ],
          [
           "Combusken"
          ],
          [
           "Blaziken"
          ],
          [
           "Numel"
          ],
          [
           "Camerupt"
          ],
          [
           "Torkoal"
          ],
          [
           "Castform Sunny Form"
          ],
          [
           "Chimchar"
          ],
          [
           "Monferno"
          ],
          [
           "Infernape"
          ],
          [
           "Magmortar"
          ],
          [
           "Tepig"
          ],
          [
           "Pignite"
          ],
          [
           "Emboar"
          ],
          [
           "Pansear"
          ],
          [
           "Simisear"
          ],
          [
           "Darumaka"
          ],
          [
           "Darmanitan Standard Mode"
          ],
          [
           "Darmanitan Zen Mode"
          ],
          [
           "Heatmor"
          ],
          [
           "Fennekin"
          ],
          [
           "Braixen"
          ],
          [
           "Delphox"
          ],
          [
           "Fletchinder"
          ],
          [
           "Talonflame"
          ],
          [
           "Litleo"
          ],
          [
           "Pyroar"
          ],
          [
           "Litten"
          ],
          [
           "Torracat"
          ],
          [
           "Incineroar"
          ],
          [
           "Oricorio Baile Style"
          ],
          [
           "Turtonator"
          ],
          [
           "Scorbunny"
          ],
          [
           "Raboot"
          ],
          [
           "Cinderace"
          ],
          [
           "Sizzlipede"
          ],
          [
           "Centiskorch"
          ]
         ],
         "hovertemplate": "Tipo 1=%{x}<br>Velocidade!=%{y}<br>name=%{customdata[0]}<extra></extra>",
         "legendgroup": "Fire",
         "marker": {
          "color": "#EF553B"
         },
         "name": "Fire",
         "notched": false,
         "offsetgroup": "Fire",
         "orientation": "v",
         "showlegend": true,
         "type": "box",
         "x": [
          "Fire",
          "Fire",
          "Fire",
          "Fire",
          "Fire",
          "Fire",
          "Fire",
          "Fire",
          "Fire",
          "Fire",
          "Fire",
          "Fire",
          "Fire",
          "Fire",
          "Fire",
          "Fire",
          "Fire",
          "Fire",
          "Fire",
          "Fire",
          "Fire",
          "Fire",
          "Fire",
          "Fire",
          "Fire",
          "Fire",
          "Fire",
          "Fire",
          "Fire",
          "Fire",
          "Fire",
          "Fire",
          "Fire",
          "Fire",
          "Fire",
          "Fire",
          "Fire",
          "Fire",
          "Fire",
          "Fire",
          "Fire",
          "Fire",
          "Fire",
          "Fire",
          "Fire",
          "Fire",
          "Fire",
          "Fire",
          "Fire",
          "Fire",
          "Fire",
          "Fire",
          "Fire",
          "Fire",
          "Fire"
         ],
         "x0": " ",
         "xaxis": "x",
         "y": [
          65,
          80,
          100,
          65,
          100,
          60,
          95,
          90,
          105,
          45,
          93,
          65,
          65,
          80,
          100,
          20,
          30,
          83,
          45,
          55,
          80,
          35,
          40,
          20,
          70,
          61,
          81,
          108,
          83,
          45,
          55,
          65,
          64,
          101,
          50,
          95,
          55,
          65,
          60,
          73,
          104,
          84,
          126,
          72,
          106,
          70,
          90,
          60,
          93,
          36,
          69,
          94,
          119,
          45,
          65
         ],
         "y0": " ",
         "yaxis": "y"
        },
        {
         "alignmentgroup": "True",
         "boxpoints": "all",
         "customdata": [
          [
           "Squirtle"
          ],
          [
           "Wartortle"
          ],
          [
           "Blastoise"
          ],
          [
           "Psyduck"
          ],
          [
           "Golduck"
          ],
          [
           "Poliwag"
          ],
          [
           "Poliwhirl"
          ],
          [
           "Poliwrath"
          ],
          [
           "Tentacool"
          ],
          [
           "Tentacruel"
          ],
          [
           "Slowpoke"
          ],
          [
           "Slowbro"
          ],
          [
           "Seel"
          ],
          [
           "Dewgong"
          ],
          [
           "Shellder"
          ],
          [
           "Cloyster"
          ],
          [
           "Krabby"
          ],
          [
           "Kingler"
          ],
          [
           "Horsea"
          ],
          [
           "Seadra"
          ],
          [
           "Goldeen"
          ],
          [
           "Seaking"
          ],
          [
           "Staryu"
          ],
          [
           "Starmie"
          ],
          [
           "Magikarp"
          ],
          [
           "Gyarados"
          ],
          [
           "Lapras"
          ],
          [
           "Vaporeon"
          ],
          [
           "Totodile"
          ],
          [
           "Croconaw"
          ],
          [
           "Feraligatr"
          ],
          [
           "Chinchou"
          ],
          [
           "Lanturn"
          ],
          [
           "Marill"
          ],
          [
           "Azumarill"
          ],
          [
           "Politoed"
          ],
          [
           "Wooper"
          ],
          [
           "Quagsire"
          ],
          [
           "Slowking"
          ],
          [
           "Qwilfish"
          ],
          [
           "Corsola"
          ],
          [
           "Remoraid"
          ],
          [
           "Octillery"
          ],
          [
           "Mantine"
          ],
          [
           "Kingdra"
          ],
          [
           "Mudkip"
          ],
          [
           "Marshtomp"
          ],
          [
           "Swampert"
          ],
          [
           "Lotad"
          ],
          [
           "Lombre"
          ],
          [
           "Ludicolo"
          ],
          [
           "Wingull"
          ],
          [
           "Pelipper"
          ],
          [
           "Carvanha"
          ],
          [
           "Sharpedo"
          ],
          [
           "Wailmer"
          ],
          [
           "Wailord"
          ],
          [
           "Barboach"
          ],
          [
           "Whiscash"
          ],
          [
           "Corphish"
          ],
          [
           "Crawdaunt"
          ],
          [
           "Feebas"
          ],
          [
           "Milotic"
          ],
          [
           "Castform Rainy Form"
          ],
          [
           "Clamperl"
          ],
          [
           "Huntail"
          ],
          [
           "Gorebyss"
          ],
          [
           "Relicanth"
          ],
          [
           "Luvdisc"
          ],
          [
           "Piplup"
          ],
          [
           "Prinplup"
          ],
          [
           "Empoleon"
          ],
          [
           "Buizel"
          ],
          [
           "Floatzel"
          ],
          [
           "Shellos"
          ],
          [
           "Gastrodon"
          ],
          [
           "Finneon"
          ],
          [
           "Lumineon"
          ],
          [
           "Mantyke"
          ],
          [
           "Oshawott"
          ],
          [
           "Dewott"
          ],
          [
           "Samurott"
          ],
          [
           "Panpour"
          ],
          [
           "Simipour"
          ],
          [
           "Tympole"
          ],
          [
           "Palpitoad"
          ],
          [
           "Seismitoad"
          ],
          [
           "Basculin Red-Striped Form"
          ],
          [
           "Basculin Blue-Striped Form"
          ],
          [
           "Tirtouga"
          ],
          [
           "Carracosta"
          ],
          [
           "Ducklett"
          ],
          [
           "Swanna"
          ],
          [
           "Frillish"
          ],
          [
           "Jellicent"
          ],
          [
           "Alomomola"
          ],
          [
           "Froakie"
          ],
          [
           "Frogadier"
          ],
          [
           "Greninja"
          ],
          [
           "Ash-Greninja"
          ],
          [
           "Clauncher"
          ],
          [
           "Clawitzer"
          ],
          [
           "Popplio"
          ],
          [
           "Brionne"
          ],
          [
           "Primarina"
          ],
          [
           "Wishiwashi Solo Form"
          ],
          [
           "Wishiwashi School Form"
          ],
          [
           "Dewpider"
          ],
          [
           "Araquanid"
          ],
          [
           "Pyukumuku"
          ],
          [
           "Bruxish"
          ],
          [
           "Sobble"
          ],
          [
           "Drizzile"
          ],
          [
           "Inteleon"
          ],
          [
           "Chewtle"
          ],
          [
           "Drednaw"
          ],
          [
           "Arrokuda"
          ],
          [
           "Barraskewda"
          ],
          [
           "Dracovish"
          ],
          [
           "Arctovish"
          ]
         ],
         "hovertemplate": "Tipo 1=%{x}<br>Velocidade!=%{y}<br>name=%{customdata[0]}<extra></extra>",
         "legendgroup": "Water",
         "marker": {
          "color": "#00cc96"
         },
         "name": "Water",
         "notched": false,
         "offsetgroup": "Water",
         "orientation": "v",
         "showlegend": true,
         "type": "box",
         "x": [
          "Water",
          "Water",
          "Water",
          "Water",
          "Water",
          "Water",
          "Water",
          "Water",
          "Water",
          "Water",
          "Water",
          "Water",
          "Water",
          "Water",
          "Water",
          "Water",
          "Water",
          "Water",
          "Water",
          "Water",
          "Water",
          "Water",
          "Water",
          "Water",
          "Water",
          "Water",
          "Water",
          "Water",
          "Water",
          "Water",
          "Water",
          "Water",
          "Water",
          "Water",
          "Water",
          "Water",
          "Water",
          "Water",
          "Water",
          "Water",
          "Water",
          "Water",
          "Water",
          "Water",
          "Water",
          "Water",
          "Water",
          "Water",
          "Water",
          "Water",
          "Water",
          "Water",
          "Water",
          "Water",
          "Water",
          "Water",
          "Water",
          "Water",
          "Water",
          "Water",
          "Water",
          "Water",
          "Water",
          "Water",
          "Water",
          "Water",
          "Water",
          "Water",
          "Water",
          "Water",
          "Water",
          "Water",
          "Water",
          "Water",
          "Water",
          "Water",
          "Water",
          "Water",
          "Water",
          "Water",
          "Water",
          "Water",
          "Water",
          "Water",
          "Water",
          "Water",
          "Water",
          "Water",
          "Water",
          "Water",
          "Water",
          "Water",
          "Water",
          "Water",
          "Water",
          "Water",
          "Water",
          "Water",
          "Water",
          "Water",
          "Water",
          "Water",
          "Water",
          "Water",
          "Water",
          "Water",
          "Water",
          "Water",
          "Water",
          "Water",
          "Water",
          "Water",
          "Water",
          "Water",
          "Water",
          "Water",
          "Water",
          "Water",
          "Water",
          "Water"
         ],
         "x0": " ",
         "xaxis": "x",
         "y": [
          43,
          58,
          78,
          55,
          85,
          90,
          90,
          70,
          70,
          100,
          15,
          30,
          45,
          70,
          40,
          70,
          50,
          75,
          60,
          85,
          63,
          68,
          85,
          115,
          80,
          81,
          60,
          65,
          43,
          58,
          78,
          67,
          67,
          40,
          50,
          70,
          15,
          35,
          30,
          85,
          35,
          65,
          45,
          70,
          85,
          40,
          50,
          60,
          30,
          50,
          70,
          85,
          65,
          65,
          95,
          60,
          60,
          60,
          60,
          35,
          55,
          80,
          81,
          70,
          32,
          52,
          52,
          55,
          97,
          40,
          50,
          60,
          85,
          115,
          34,
          39,
          66,
          91,
          50,
          45,
          60,
          70,
          64,
          101,
          64,
          69,
          74,
          98,
          98,
          22,
          32,
          55,
          98,
          40,
          60,
          65,
          71,
          97,
          122,
          132,
          44,
          59,
          40,
          50,
          60,
          40,
          30,
          27,
          42,
          5,
          92,
          70,
          90,
          120,
          44,
          74,
          66,
          136,
          75,
          55
         ],
         "y0": " ",
         "yaxis": "y"
        },
        {
         "alignmentgroup": "True",
         "boxpoints": "all",
         "customdata": [
          [
           "Caterpie"
          ],
          [
           "Metapod"
          ],
          [
           "Butterfree"
          ],
          [
           "Weedle"
          ],
          [
           "Kakuna"
          ],
          [
           "Beedrill"
          ],
          [
           "Paras"
          ],
          [
           "Parasect"
          ],
          [
           "Venonat"
          ],
          [
           "Venomoth"
          ],
          [
           "Scyther"
          ],
          [
           "Pinsir"
          ],
          [
           "Ledyba"
          ],
          [
           "Ledian"
          ],
          [
           "Spinarak"
          ],
          [
           "Ariados"
          ],
          [
           "Yanma"
          ],
          [
           "Pineco"
          ],
          [
           "Forretress"
          ],
          [
           "Scizor"
          ],
          [
           "Shuckle"
          ],
          [
           "Heracross"
          ],
          [
           "Wurmple"
          ],
          [
           "Silcoon"
          ],
          [
           "Beautifly"
          ],
          [
           "Cascoon"
          ],
          [
           "Dustox"
          ],
          [
           "Surskit"
          ],
          [
           "Masquerain"
          ],
          [
           "Nincada"
          ],
          [
           "Ninjask"
          ],
          [
           "Shedinja"
          ],
          [
           "Volbeat"
          ],
          [
           "Illumise"
          ],
          [
           "Kricketot"
          ],
          [
           "Kricketune"
          ],
          [
           "Burmy"
          ],
          [
           "Wormadam Plant Cloak"
          ],
          [
           "Wormadam Sandy Cloak"
          ],
          [
           "Wormadam Trash Cloak"
          ],
          [
           "Mothim"
          ],
          [
           "Combee"
          ],
          [
           "Vespiquen"
          ],
          [
           "Yanmega"
          ],
          [
           "Sewaddle"
          ],
          [
           "Swadloon"
          ],
          [
           "Leavanny"
          ],
          [
           "Venipede"
          ],
          [
           "Whirlipede"
          ],
          [
           "Scolipede"
          ],
          [
           "Dwebble"
          ],
          [
           "Crustle"
          ],
          [
           "Karrablast"
          ],
          [
           "Escavalier"
          ],
          [
           "Joltik"
          ],
          [
           "Galvantula"
          ],
          [
           "Shelmet"
          ],
          [
           "Accelgor"
          ],
          [
           "Durant"
          ],
          [
           "Larvesta"
          ],
          [
           "Volcarona"
          ],
          [
           "Scatterbug"
          ],
          [
           "Spewpa"
          ],
          [
           "Vivillon"
          ],
          [
           "Grubbin"
          ],
          [
           "Charjabug"
          ],
          [
           "Vikavolt"
          ],
          [
           "Cutiefly"
          ],
          [
           "Ribombee"
          ],
          [
           "Wimpod"
          ],
          [
           "Golisopod"
          ],
          [
           "Blipbug"
          ],
          [
           "Dottler"
          ],
          [
           "Orbeetle"
          ]
         ],
         "hovertemplate": "Tipo 1=%{x}<br>Velocidade!=%{y}<br>name=%{customdata[0]}<extra></extra>",
         "legendgroup": "Bug",
         "marker": {
          "color": "#ab63fa"
         },
         "name": "Bug",
         "notched": false,
         "offsetgroup": "Bug",
         "orientation": "v",
         "showlegend": true,
         "type": "box",
         "x": [
          "Bug",
          "Bug",
          "Bug",
          "Bug",
          "Bug",
          "Bug",
          "Bug",
          "Bug",
          "Bug",
          "Bug",
          "Bug",
          "Bug",
          "Bug",
          "Bug",
          "Bug",
          "Bug",
          "Bug",
          "Bug",
          "Bug",
          "Bug",
          "Bug",
          "Bug",
          "Bug",
          "Bug",
          "Bug",
          "Bug",
          "Bug",
          "Bug",
          "Bug",
          "Bug",
          "Bug",
          "Bug",
          "Bug",
          "Bug",
          "Bug",
          "Bug",
          "Bug",
          "Bug",
          "Bug",
          "Bug",
          "Bug",
          "Bug",
          "Bug",
          "Bug",
          "Bug",
          "Bug",
          "Bug",
          "Bug",
          "Bug",
          "Bug",
          "Bug",
          "Bug",
          "Bug",
          "Bug",
          "Bug",
          "Bug",
          "Bug",
          "Bug",
          "Bug",
          "Bug",
          "Bug",
          "Bug",
          "Bug",
          "Bug",
          "Bug",
          "Bug",
          "Bug",
          "Bug",
          "Bug",
          "Bug",
          "Bug",
          "Bug",
          "Bug",
          "Bug"
         ],
         "x0": " ",
         "xaxis": "x",
         "y": [
          45,
          30,
          70,
          50,
          35,
          75,
          25,
          30,
          45,
          90,
          105,
          85,
          55,
          85,
          30,
          40,
          95,
          15,
          40,
          65,
          5,
          85,
          20,
          15,
          65,
          15,
          65,
          65,
          80,
          40,
          160,
          40,
          85,
          85,
          25,
          65,
          36,
          36,
          36,
          36,
          66,
          70,
          40,
          95,
          42,
          42,
          92,
          57,
          47,
          112,
          55,
          45,
          60,
          20,
          65,
          108,
          25,
          145,
          109,
          60,
          100,
          35,
          29,
          89,
          46,
          36,
          43,
          84,
          124,
          80,
          40,
          45,
          30,
          90
         ],
         "y0": " ",
         "yaxis": "y"
        },
        {
         "alignmentgroup": "True",
         "boxpoints": "all",
         "customdata": [
          [
           "Pidgey"
          ],
          [
           "Pidgeotto"
          ],
          [
           "Pidgeot"
          ],
          [
           "Rattata"
          ],
          [
           "Raticate"
          ],
          [
           "Spearow"
          ],
          [
           "Fearow"
          ],
          [
           "Jigglypuff"
          ],
          [
           "Wigglytuff"
          ],
          [
           "Meowth"
          ],
          [
           "Persian"
          ],
          [
           "Farfetch'd"
          ],
          [
           "Doduo"
          ],
          [
           "Dodrio"
          ],
          [
           "Lickitung"
          ],
          [
           "Chansey"
          ],
          [
           "Kangaskhan"
          ],
          [
           "Tauros"
          ],
          [
           "Ditto"
          ],
          [
           "Eevee"
          ],
          [
           "Partner Eevee"
          ],
          [
           "Porygon"
          ],
          [
           "Snorlax"
          ],
          [
           "Sentret"
          ],
          [
           "Furret"
          ],
          [
           "Hoothoot"
          ],
          [
           "Noctowl"
          ],
          [
           "Igglybuff"
          ],
          [
           "Aipom"
          ],
          [
           "Girafarig"
          ],
          [
           "Dunsparce"
          ],
          [
           "Teddiursa"
          ],
          [
           "Ursaring"
          ],
          [
           "Porygon2"
          ],
          [
           "Stantler"
          ],
          [
           "Smeargle"
          ],
          [
           "Miltank"
          ],
          [
           "Blissey"
          ],
          [
           "Zigzagoon"
          ],
          [
           "Linoone"
          ],
          [
           "Taillow"
          ],
          [
           "Swellow"
          ],
          [
           "Slakoth"
          ],
          [
           "Vigoroth"
          ],
          [
           "Slaking"
          ],
          [
           "Whismur"
          ],
          [
           "Loudred"
          ],
          [
           "Exploud"
          ],
          [
           "Azurill"
          ],
          [
           "Skitty"
          ],
          [
           "Delcatty"
          ],
          [
           "Spinda"
          ],
          [
           "Swablu"
          ],
          [
           "Zangoose"
          ],
          [
           "Castform"
          ],
          [
           "Kecleon"
          ],
          [
           "Starly"
          ],
          [
           "Staravia"
          ],
          [
           "Staraptor"
          ],
          [
           "Bidoof"
          ],
          [
           "Bibarel"
          ],
          [
           "Ambipom"
          ],
          [
           "Buneary"
          ],
          [
           "Lopunny"
          ],
          [
           "Glameow"
          ],
          [
           "Purugly"
          ],
          [
           "Happiny"
          ],
          [
           "Chatot"
          ],
          [
           "Munchlax"
          ],
          [
           "Lickilicky"
          ],
          [
           "Porygon-Z"
          ],
          [
           "Patrat"
          ],
          [
           "Watchog"
          ],
          [
           "Lillipup"
          ],
          [
           "Herdier"
          ],
          [
           "Stoutland"
          ],
          [
           "Pidove"
          ],
          [
           "Tranquill"
          ],
          [
           "Unfezant"
          ],
          [
           "Audino"
          ],
          [
           "Minccino"
          ],
          [
           "Cinccino"
          ],
          [
           "Deerling"
          ],
          [
           "Sawsbuck"
          ],
          [
           "Bouffalant"
          ],
          [
           "Rufflet"
          ],
          [
           "Braviary"
          ],
          [
           "Bunnelby"
          ],
          [
           "Diggersby"
          ],
          [
           "Fletchling"
          ],
          [
           "Furfrou"
          ],
          [
           "Pikipek"
          ],
          [
           "Trumbeak"
          ],
          [
           "Toucannon"
          ],
          [
           "Yungoos"
          ],
          [
           "Gumshoos"
          ],
          [
           "Stufful"
          ],
          [
           "Bewear"
          ],
          [
           "Oranguru"
          ],
          [
           "Komala"
          ],
          [
           "Drampa"
          ],
          [
           "Skwovet"
          ],
          [
           "Greedent"
          ],
          [
           "Wooloo"
          ],
          [
           "Dubwool"
          ]
         ],
         "hovertemplate": "Tipo 1=%{x}<br>Velocidade!=%{y}<br>name=%{customdata[0]}<extra></extra>",
         "legendgroup": "Normal",
         "marker": {
          "color": "#FFA15A"
         },
         "name": "Normal",
         "notched": false,
         "offsetgroup": "Normal",
         "orientation": "v",
         "showlegend": true,
         "type": "box",
         "x": [
          "Normal",
          "Normal",
          "Normal",
          "Normal",
          "Normal",
          "Normal",
          "Normal",
          "Normal",
          "Normal",
          "Normal",
          "Normal",
          "Normal",
          "Normal",
          "Normal",
          "Normal",
          "Normal",
          "Normal",
          "Normal",
          "Normal",
          "Normal",
          "Normal",
          "Normal",
          "Normal",
          "Normal",
          "Normal",
          "Normal",
          "Normal",
          "Normal",
          "Normal",
          "Normal",
          "Normal",
          "Normal",
          "Normal",
          "Normal",
          "Normal",
          "Normal",
          "Normal",
          "Normal",
          "Normal",
          "Normal",
          "Normal",
          "Normal",
          "Normal",
          "Normal",
          "Normal",
          "Normal",
          "Normal",
          "Normal",
          "Normal",
          "Normal",
          "Normal",
          "Normal",
          "Normal",
          "Normal",
          "Normal",
          "Normal",
          "Normal",
          "Normal",
          "Normal",
          "Normal",
          "Normal",
          "Normal",
          "Normal",
          "Normal",
          "Normal",
          "Normal",
          "Normal",
          "Normal",
          "Normal",
          "Normal",
          "Normal",
          "Normal",
          "Normal",
          "Normal",
          "Normal",
          "Normal",
          "Normal",
          "Normal",
          "Normal",
          "Normal",
          "Normal",
          "Normal",
          "Normal",
          "Normal",
          "Normal",
          "Normal",
          "Normal",
          "Normal",
          "Normal",
          "Normal",
          "Normal",
          "Normal",
          "Normal",
          "Normal",
          "Normal",
          "Normal",
          "Normal",
          "Normal",
          "Normal",
          "Normal",
          "Normal",
          "Normal",
          "Normal",
          "Normal",
          "Normal"
         ],
         "x0": " ",
         "xaxis": "x",
         "y": [
          56,
          71,
          101,
          72,
          97,
          70,
          100,
          20,
          45,
          90,
          115,
          60,
          75,
          110,
          30,
          50,
          90,
          110,
          48,
          55,
          75,
          40,
          30,
          20,
          90,
          50,
          70,
          15,
          85,
          85,
          45,
          40,
          55,
          60,
          85,
          75,
          100,
          55,
          60,
          100,
          85,
          125,
          30,
          90,
          100,
          28,
          48,
          68,
          20,
          50,
          90,
          60,
          50,
          90,
          70,
          40,
          60,
          80,
          100,
          31,
          71,
          115,
          85,
          105,
          85,
          112,
          30,
          91,
          5,
          50,
          90,
          42,
          77,
          55,
          60,
          80,
          43,
          65,
          93,
          50,
          75,
          115,
          75,
          95,
          55,
          60,
          80,
          57,
          78,
          62,
          102,
          65,
          75,
          60,
          45,
          45,
          50,
          60,
          60,
          65,
          36,
          25,
          20,
          48,
          88
         ],
         "y0": " ",
         "yaxis": "y"
        },
        {
         "alignmentgroup": "True",
         "boxpoints": "all",
         "customdata": [
          [
           "Alolan Rattata"
          ],
          [
           "Alolan Raticate"
          ],
          [
           "Alolan Meowth"
          ],
          [
           "Alolan Persian"
          ],
          [
           "Umbreon"
          ],
          [
           "Murkrow"
          ],
          [
           "Sneasel"
          ],
          [
           "Houndour"
          ],
          [
           "Houndoom"
          ],
          [
           "Poochyena"
          ],
          [
           "Mightyena"
          ],
          [
           "Galarian Zigzagoon"
          ],
          [
           "Galarian Linoone"
          ],
          [
           "Sableye"
          ],
          [
           "Absol"
          ],
          [
           "Honchkrow"
          ],
          [
           "Weavile"
          ],
          [
           "Purrloin"
          ],
          [
           "Liepard"
          ],
          [
           "Scraggy"
          ],
          [
           "Scrafty"
          ],
          [
           "Zorua"
          ],
          [
           "Zoroark"
          ],
          [
           "Pawniard"
          ],
          [
           "Bisharp"
          ],
          [
           "Vullaby"
          ],
          [
           "Mandibuzz"
          ],
          [
           "Deino"
          ],
          [
           "Zweilous"
          ],
          [
           "Hydreigon"
          ],
          [
           "Inkay"
          ],
          [
           "Malamar"
          ],
          [
           "Nickit"
          ],
          [
           "Thievul"
          ],
          [
           "Impidimp"
          ],
          [
           "Morgrem"
          ],
          [
           "Grimmsnarl"
          ],
          [
           "Obstagoon"
          ]
         ],
         "hovertemplate": "Tipo 1=%{x}<br>Velocidade!=%{y}<br>name=%{customdata[0]}<extra></extra>",
         "legendgroup": "Dark",
         "marker": {
          "color": "#19d3f3"
         },
         "name": "Dark",
         "notched": false,
         "offsetgroup": "Dark",
         "orientation": "v",
         "showlegend": true,
         "type": "box",
         "x": [
          "Dark",
          "Dark",
          "Dark",
          "Dark",
          "Dark",
          "Dark",
          "Dark",
          "Dark",
          "Dark",
          "Dark",
          "Dark",
          "Dark",
          "Dark",
          "Dark",
          "Dark",
          "Dark",
          "Dark",
          "Dark",
          "Dark",
          "Dark",
          "Dark",
          "Dark",
          "Dark",
          "Dark",
          "Dark",
          "Dark",
          "Dark",
          "Dark",
          "Dark",
          "Dark",
          "Dark",
          "Dark",
          "Dark",
          "Dark",
          "Dark",
          "Dark",
          "Dark",
          "Dark"
         ],
         "x0": " ",
         "xaxis": "x",
         "y": [
          72,
          77,
          90,
          115,
          65,
          91,
          115,
          65,
          95,
          35,
          70,
          60,
          100,
          50,
          75,
          71,
          125,
          66,
          106,
          48,
          58,
          65,
          105,
          60,
          70,
          60,
          80,
          38,
          58,
          98,
          45,
          73,
          50,
          90,
          50,
          70,
          60,
          95
         ],
         "y0": " ",
         "yaxis": "y"
        },
        {
         "alignmentgroup": "True",
         "boxpoints": "all",
         "customdata": [
          [
           "Ekans"
          ],
          [
           "Arbok"
          ],
          [
           "Nidoran♀"
          ],
          [
           "Nidorina"
          ],
          [
           "Nidoqueen"
          ],
          [
           "Nidoran♂"
          ],
          [
           "Nidorino"
          ],
          [
           "Nidoking"
          ],
          [
           "Zubat"
          ],
          [
           "Golbat"
          ],
          [
           "Grimer"
          ],
          [
           "Alolan Grimer"
          ],
          [
           "Muk"
          ],
          [
           "Alolan Muk"
          ],
          [
           "Koffing"
          ],
          [
           "Weezing"
          ],
          [
           "Galarian Weezing"
          ],
          [
           "Crobat"
          ],
          [
           "Gulpin"
          ],
          [
           "Swalot"
          ],
          [
           "Seviper"
          ],
          [
           "Stunky"
          ],
          [
           "Skuntank"
          ],
          [
           "Skorupi"
          ],
          [
           "Drapion"
          ],
          [
           "Croagunk"
          ],
          [
           "Toxicroak"
          ],
          [
           "Trubbish"
          ],
          [
           "Garbodor"
          ],
          [
           "Skrelp"
          ],
          [
           "Dragalge"
          ],
          [
           "Mareanie"
          ],
          [
           "Toxapex"
          ],
          [
           "Salandit"
          ],
          [
           "Salazzle"
          ]
         ],
         "hovertemplate": "Tipo 1=%{x}<br>Velocidade!=%{y}<br>name=%{customdata[0]}<extra></extra>",
         "legendgroup": "Poison",
         "marker": {
          "color": "#FF6692"
         },
         "name": "Poison",
         "notched": false,
         "offsetgroup": "Poison",
         "orientation": "v",
         "showlegend": true,
         "type": "box",
         "x": [
          "Poison",
          "Poison",
          "Poison",
          "Poison",
          "Poison",
          "Poison",
          "Poison",
          "Poison",
          "Poison",
          "Poison",
          "Poison",
          "Poison",
          "Poison",
          "Poison",
          "Poison",
          "Poison",
          "Poison",
          "Poison",
          "Poison",
          "Poison",
          "Poison",
          "Poison",
          "Poison",
          "Poison",
          "Poison",
          "Poison",
          "Poison",
          "Poison",
          "Poison",
          "Poison",
          "Poison",
          "Poison",
          "Poison",
          "Poison",
          "Poison"
         ],
         "x0": " ",
         "xaxis": "x",
         "y": [
          55,
          80,
          41,
          56,
          76,
          50,
          65,
          85,
          55,
          90,
          25,
          25,
          50,
          50,
          35,
          60,
          60,
          130,
          40,
          55,
          65,
          74,
          84,
          65,
          95,
          50,
          85,
          65,
          75,
          30,
          44,
          45,
          35,
          77,
          117
         ],
         "y0": " ",
         "yaxis": "y"
        },
        {
         "alignmentgroup": "True",
         "boxpoints": "all",
         "customdata": [
          [
           "Pikachu"
          ],
          [
           "Partner Pikachu"
          ],
          [
           "Raichu"
          ],
          [
           "Alolan Raichu"
          ],
          [
           "Magnemite"
          ],
          [
           "Magneton"
          ],
          [
           "Voltorb"
          ],
          [
           "Electrode"
          ],
          [
           "Electabuzz"
          ],
          [
           "Jolteon"
          ],
          [
           "Pichu"
          ],
          [
           "Mareep"
          ],
          [
           "Flaaffy"
          ],
          [
           "Ampharos"
          ],
          [
           "Elekid"
          ],
          [
           "Electrike"
          ],
          [
           "Manectric"
          ],
          [
           "Plusle"
          ],
          [
           "Minun"
          ],
          [
           "Shinx"
          ],
          [
           "Luxio"
          ],
          [
           "Luxray"
          ],
          [
           "Pachirisu"
          ],
          [
           "Magnezone"
          ],
          [
           "Electivire"
          ],
          [
           "Rotom"
          ],
          [
           "Heat Rotom"
          ],
          [
           "Wash Rotom"
          ],
          [
           "Frost Rotom"
          ],
          [
           "Fan Rotom"
          ],
          [
           "Mow Rotom"
          ],
          [
           "Blitzle"
          ],
          [
           "Zebstrika"
          ],
          [
           "Emolga"
          ],
          [
           "Tynamo"
          ],
          [
           "Eelektrik"
          ],
          [
           "Eelektross"
          ],
          [
           "Helioptile"
          ],
          [
           "Heliolisk"
          ],
          [
           "Dedenne"
          ],
          [
           "Oricorio Pom-Pom Style"
          ],
          [
           "Togedemaru"
          ],
          [
           "Yamper"
          ],
          [
           "Boltund"
          ],
          [
           "Toxel"
          ],
          [
           "Toxtricity Low Key Form"
          ],
          [
           "Toxtricity Amped Form"
          ],
          [
           "Pincurchin"
          ],
          [
           "Morpeko Full Belly Mode"
          ],
          [
           "Morpeko Hangry Mode"
          ],
          [
           "Dracozolt"
          ],
          [
           "Arctozolt"
          ]
         ],
         "hovertemplate": "Tipo 1=%{x}<br>Velocidade!=%{y}<br>name=%{customdata[0]}<extra></extra>",
         "legendgroup": "Electric",
         "marker": {
          "color": "#B6E880"
         },
         "name": "Electric",
         "notched": false,
         "offsetgroup": "Electric",
         "orientation": "v",
         "showlegend": true,
         "type": "box",
         "x": [
          "Electric",
          "Electric",
          "Electric",
          "Electric",
          "Electric",
          "Electric",
          "Electric",
          "Electric",
          "Electric",
          "Electric",
          "Electric",
          "Electric",
          "Electric",
          "Electric",
          "Electric",
          "Electric",
          "Electric",
          "Electric",
          "Electric",
          "Electric",
          "Electric",
          "Electric",
          "Electric",
          "Electric",
          "Electric",
          "Electric",
          "Electric",
          "Electric",
          "Electric",
          "Electric",
          "Electric",
          "Electric",
          "Electric",
          "Electric",
          "Electric",
          "Electric",
          "Electric",
          "Electric",
          "Electric",
          "Electric",
          "Electric",
          "Electric",
          "Electric",
          "Electric",
          "Electric",
          "Electric",
          "Electric",
          "Electric",
          "Electric",
          "Electric",
          "Electric",
          "Electric"
         ],
         "x0": " ",
         "xaxis": "x",
         "y": [
          90,
          120,
          110,
          110,
          45,
          70,
          100,
          150,
          105,
          130,
          60,
          35,
          45,
          55,
          95,
          65,
          105,
          95,
          95,
          45,
          60,
          70,
          95,
          60,
          95,
          91,
          86,
          86,
          86,
          86,
          86,
          76,
          116,
          103,
          60,
          40,
          50,
          70,
          109,
          101,
          93,
          96,
          26,
          121,
          40,
          75,
          75,
          15,
          97,
          97,
          75,
          55
         ],
         "y0": " ",
         "yaxis": "y"
        },
        {
         "alignmentgroup": "True",
         "boxpoints": "all",
         "customdata": [
          [
           "Sandshrew"
          ],
          [
           "Sandslash"
          ],
          [
           "Diglett"
          ],
          [
           "Alolan Diglett"
          ],
          [
           "Dugtrio"
          ],
          [
           "Alolan Dugtrio"
          ],
          [
           "Cubone"
          ],
          [
           "Marowak"
          ],
          [
           "Rhyhorn"
          ],
          [
           "Rhydon"
          ],
          [
           "Gligar"
          ],
          [
           "Phanpy"
          ],
          [
           "Donphan"
          ],
          [
           "Trapinch"
          ],
          [
           "Vibrava"
          ],
          [
           "Flygon"
          ],
          [
           "Baltoy"
          ],
          [
           "Claydol"
          ],
          [
           "Hippopotas"
          ],
          [
           "Hippowdon"
          ],
          [
           "Rhyperior"
          ],
          [
           "Gliscor"
          ],
          [
           "Drilbur"
          ],
          [
           "Excadrill"
          ],
          [
           "Sandile"
          ],
          [
           "Krokorok"
          ],
          [
           "Krookodile"
          ],
          [
           "Galarian Yamask"
          ],
          [
           "Stunfisk"
          ],
          [
           "Galarian Stunfisk"
          ],
          [
           "Golett"
          ],
          [
           "Golurk"
          ],
          [
           "Mudbray"
          ],
          [
           "Mudsdale"
          ],
          [
           "Silicobra"
          ],
          [
           "Sandaconda"
          ],
          [
           "Runerigus"
          ]
         ],
         "hovertemplate": "Tipo 1=%{x}<br>Velocidade!=%{y}<br>name=%{customdata[0]}<extra></extra>",
         "legendgroup": "Ground",
         "marker": {
          "color": "#FF97FF"
         },
         "name": "Ground",
         "notched": false,
         "offsetgroup": "Ground",
         "orientation": "v",
         "showlegend": true,
         "type": "box",
         "x": [
          "Ground",
          "Ground",
          "Ground",
          "Ground",
          "Ground",
          "Ground",
          "Ground",
          "Ground",
          "Ground",
          "Ground",
          "Ground",
          "Ground",
          "Ground",
          "Ground",
          "Ground",
          "Ground",
          "Ground",
          "Ground",
          "Ground",
          "Ground",
          "Ground",
          "Ground",
          "Ground",
          "Ground",
          "Ground",
          "Ground",
          "Ground",
          "Ground",
          "Ground",
          "Ground",
          "Ground",
          "Ground",
          "Ground",
          "Ground",
          "Ground",
          "Ground",
          "Ground"
         ],
         "x0": " ",
         "xaxis": "x",
         "y": [
          40,
          65,
          95,
          90,
          120,
          110,
          35,
          45,
          25,
          40,
          85,
          40,
          50,
          10,
          70,
          100,
          55,
          75,
          32,
          47,
          40,
          95,
          68,
          88,
          65,
          74,
          92,
          30,
          32,
          32,
          35,
          55,
          45,
          35,
          46,
          71,
          30
         ],
         "y0": " ",
         "yaxis": "y"
        },
        {
         "alignmentgroup": "True",
         "boxpoints": "all",
         "customdata": [
          [
           "Alolan Sandshrew"
          ],
          [
           "Alolan Sandslash"
          ],
          [
           "Alolan Vulpix"
          ],
          [
           "Alolan Ninetales"
          ],
          [
           "Jynx"
          ],
          [
           "Swinub"
          ],
          [
           "Piloswine"
          ],
          [
           "Delibird"
          ],
          [
           "Smoochum"
          ],
          [
           "Castform Snowy Form"
          ],
          [
           "Snorunt"
          ],
          [
           "Glalie"
          ],
          [
           "Spheal"
          ],
          [
           "Sealeo"
          ],
          [
           "Walrein"
          ],
          [
           "Glaceon"
          ],
          [
           "Mamoswine"
          ],
          [
           "Froslass"
          ],
          [
           "Galarian Darumaka"
          ],
          [
           "Darmanitan Galarian Standard Mode"
          ],
          [
           "Darmanitan Galarian Zen Mode"
          ],
          [
           "Vanillite"
          ],
          [
           "Vanillish"
          ],
          [
           "Vanilluxe"
          ],
          [
           "Cubchoo"
          ],
          [
           "Beartic"
          ],
          [
           "Cryogonal"
          ],
          [
           "Bergmite"
          ],
          [
           "Avalugg"
          ],
          [
           "Snom"
          ],
          [
           "Frosmoth"
          ],
          [
           "Eiscue Ice Face"
          ],
          [
           "Eiscue Noice Face"
          ]
         ],
         "hovertemplate": "Tipo 1=%{x}<br>Velocidade!=%{y}<br>name=%{customdata[0]}<extra></extra>",
         "legendgroup": "Ice",
         "marker": {
          "color": "#FECB52"
         },
         "name": "Ice",
         "notched": false,
         "offsetgroup": "Ice",
         "orientation": "v",
         "showlegend": true,
         "type": "box",
         "x": [
          "Ice",
          "Ice",
          "Ice",
          "Ice",
          "Ice",
          "Ice",
          "Ice",
          "Ice",
          "Ice",
          "Ice",
          "Ice",
          "Ice",
          "Ice",
          "Ice",
          "Ice",
          "Ice",
          "Ice",
          "Ice",
          "Ice",
          "Ice",
          "Ice",
          "Ice",
          "Ice",
          "Ice",
          "Ice",
          "Ice",
          "Ice",
          "Ice",
          "Ice",
          "Ice",
          "Ice",
          "Ice",
          "Ice"
         ],
         "x0": " ",
         "xaxis": "x",
         "y": [
          40,
          65,
          65,
          109,
          95,
          50,
          50,
          75,
          65,
          70,
          50,
          80,
          25,
          45,
          65,
          65,
          80,
          110,
          50,
          95,
          135,
          44,
          59,
          79,
          40,
          50,
          105,
          28,
          28,
          20,
          65,
          50,
          130
         ],
         "y0": " ",
         "yaxis": "y"
        },
        {
         "alignmentgroup": "True",
         "boxpoints": "all",
         "customdata": [
          [
           "Clefairy"
          ],
          [
           "Clefable"
          ],
          [
           "Cleffa"
          ],
          [
           "Togepi"
          ],
          [
           "Togetic"
          ],
          [
           "Snubbull"
          ],
          [
           "Granbull"
          ],
          [
           "Togekiss"
          ],
          [
           "Flabébé"
          ],
          [
           "Floette"
          ],
          [
           "Florges"
          ],
          [
           "Spritzee"
          ],
          [
           "Aromatisse"
          ],
          [
           "Swirlix"
          ],
          [
           "Slurpuff"
          ],
          [
           "Sylveon"
          ],
          [
           "Comfey"
          ],
          [
           "Milcery"
          ],
          [
           "Alcremie"
          ]
         ],
         "hovertemplate": "Tipo 1=%{x}<br>Velocidade!=%{y}<br>name=%{customdata[0]}<extra></extra>",
         "legendgroup": "Fairy",
         "marker": {
          "color": "#636efa"
         },
         "name": "Fairy",
         "notched": false,
         "offsetgroup": "Fairy",
         "orientation": "v",
         "showlegend": true,
         "type": "box",
         "x": [
          "Fairy",
          "Fairy",
          "Fairy",
          "Fairy",
          "Fairy",
          "Fairy",
          "Fairy",
          "Fairy",
          "Fairy",
          "Fairy",
          "Fairy",
          "Fairy",
          "Fairy",
          "Fairy",
          "Fairy",
          "Fairy",
          "Fairy",
          "Fairy",
          "Fairy"
         ],
         "x0": " ",
         "xaxis": "x",
         "y": [
          35,
          60,
          15,
          20,
          40,
          30,
          45,
          80,
          42,
          52,
          75,
          23,
          29,
          49,
          72,
          60,
          100,
          34,
          64
         ],
         "y0": " ",
         "yaxis": "y"
        },
        {
         "alignmentgroup": "True",
         "boxpoints": "all",
         "customdata": [
          [
           "Galarian Meowth"
          ],
          [
           "Steelix"
          ],
          [
           "Skarmory"
          ],
          [
           "Mawile"
          ],
          [
           "Aron"
          ],
          [
           "Lairon"
          ],
          [
           "Aggron"
          ],
          [
           "Beldum"
          ],
          [
           "Metang"
          ],
          [
           "Metagross"
          ],
          [
           "Bronzor"
          ],
          [
           "Bronzong"
          ],
          [
           "Klink"
          ],
          [
           "Klang"
          ],
          [
           "Klinklang"
          ],
          [
           "Honedge"
          ],
          [
           "Doublade"
          ],
          [
           "Aegislash Blade Forme"
          ],
          [
           "Aegislash Shield Forme"
          ],
          [
           "Klefki"
          ],
          [
           "Perrserker"
          ],
          [
           "Cufant"
          ],
          [
           "Copperajah"
          ],
          [
           "Duraludon"
          ]
         ],
         "hovertemplate": "Tipo 1=%{x}<br>Velocidade!=%{y}<br>name=%{customdata[0]}<extra></extra>",
         "legendgroup": "Steel",
         "marker": {
          "color": "#EF553B"
         },
         "name": "Steel",
         "notched": false,
         "offsetgroup": "Steel",
         "orientation": "v",
         "showlegend": true,
         "type": "box",
         "x": [
          "Steel",
          "Steel",
          "Steel",
          "Steel",
          "Steel",
          "Steel",
          "Steel",
          "Steel",
          "Steel",
          "Steel",
          "Steel",
          "Steel",
          "Steel",
          "Steel",
          "Steel",
          "Steel",
          "Steel",
          "Steel",
          "Steel",
          "Steel",
          "Steel",
          "Steel",
          "Steel",
          "Steel"
         ],
         "x0": " ",
         "xaxis": "x",
         "y": [
          40,
          30,
          70,
          50,
          30,
          40,
          50,
          30,
          50,
          70,
          23,
          33,
          30,
          50,
          90,
          28,
          35,
          60,
          60,
          75,
          50,
          40,
          30,
          85
         ],
         "y0": " ",
         "yaxis": "y"
        },
        {
         "alignmentgroup": "True",
         "boxpoints": "all",
         "customdata": [
          [
           "Mankey"
          ],
          [
           "Primeape"
          ],
          [
           "Machop"
          ],
          [
           "Machoke"
          ],
          [
           "Machamp"
          ],
          [
           "Galarian Farfetch'd"
          ],
          [
           "Hitmonlee"
          ],
          [
           "Hitmonchan"
          ],
          [
           "Tyrogue"
          ],
          [
           "Hitmontop"
          ],
          [
           "Makuhita"
          ],
          [
           "Hariyama"
          ],
          [
           "Meditite"
          ],
          [
           "Medicham"
          ],
          [
           "Riolu"
          ],
          [
           "Lucario"
          ],
          [
           "Timburr"
          ],
          [
           "Gurdurr"
          ],
          [
           "Conkeldurr"
          ],
          [
           "Throh"
          ],
          [
           "Sawk"
          ],
          [
           "Mienfoo"
          ],
          [
           "Mienshao"
          ],
          [
           "Pancham"
          ],
          [
           "Pangoro"
          ],
          [
           "Hawlucha"
          ],
          [
           "Crabrawler"
          ],
          [
           "Crabominable"
          ],
          [
           "Passimian"
          ],
          [
           "Clobbopus"
          ],
          [
           "Grapploct"
          ],
          [
           "Sirfetch'd"
          ],
          [
           "Falinks"
          ]
         ],
         "hovertemplate": "Tipo 1=%{x}<br>Velocidade!=%{y}<br>name=%{customdata[0]}<extra></extra>",
         "legendgroup": "Fighting",
         "marker": {
          "color": "#00cc96"
         },
         "name": "Fighting",
         "notched": false,
         "offsetgroup": "Fighting",
         "orientation": "v",
         "showlegend": true,
         "type": "box",
         "x": [
          "Fighting",
          "Fighting",
          "Fighting",
          "Fighting",
          "Fighting",
          "Fighting",
          "Fighting",
          "Fighting",
          "Fighting",
          "Fighting",
          "Fighting",
          "Fighting",
          "Fighting",
          "Fighting",
          "Fighting",
          "Fighting",
          "Fighting",
          "Fighting",
          "Fighting",
          "Fighting",
          "Fighting",
          "Fighting",
          "Fighting",
          "Fighting",
          "Fighting",
          "Fighting",
          "Fighting",
          "Fighting",
          "Fighting",
          "Fighting",
          "Fighting",
          "Fighting",
          "Fighting"
         ],
         "x0": " ",
         "xaxis": "x",
         "y": [
          70,
          95,
          35,
          45,
          55,
          55,
          87,
          76,
          35,
          70,
          25,
          50,
          60,
          80,
          60,
          90,
          35,
          40,
          45,
          45,
          85,
          65,
          105,
          43,
          58,
          118,
          63,
          43,
          80,
          32,
          42,
          65,
          75
         ],
         "y0": " ",
         "yaxis": "y"
        },
        {
         "alignmentgroup": "True",
         "boxpoints": "all",
         "customdata": [
          [
           "Abra"
          ],
          [
           "Kadabra"
          ],
          [
           "Alakazam"
          ],
          [
           "Galarian Ponyta"
          ],
          [
           "Galarian Rapidash"
          ],
          [
           "Drowzee"
          ],
          [
           "Hypno"
          ],
          [
           "Mr. Mime"
          ],
          [
           "Galarian Mr. Mime"
          ],
          [
           "Natu"
          ],
          [
           "Xatu"
          ],
          [
           "Espeon"
          ],
          [
           "Unown"
          ],
          [
           "Wobbuffet"
          ],
          [
           "Ralts"
          ],
          [
           "Kirlia"
          ],
          [
           "Gardevoir"
          ],
          [
           "Spoink"
          ],
          [
           "Grumpig"
          ],
          [
           "Chimecho"
          ],
          [
           "Wynaut"
          ],
          [
           "Chingling"
          ],
          [
           "Mime Jr."
          ],
          [
           "Gallade"
          ],
          [
           "Munna"
          ],
          [
           "Musharna"
          ],
          [
           "Woobat"
          ],
          [
           "Swoobat"
          ],
          [
           "Sigilyph"
          ],
          [
           "Gothita"
          ],
          [
           "Gothorita"
          ],
          [
           "Gothitelle"
          ],
          [
           "Solosis"
          ],
          [
           "Duosion"
          ],
          [
           "Reuniclus"
          ],
          [
           "Elgyem"
          ],
          [
           "Beheeyem"
          ],
          [
           "Espurr"
          ],
          [
           "Meowstic Male"
          ],
          [
           "Meowstic Female"
          ],
          [
           "Oricorio Pa'u Style"
          ],
          [
           "Hatenna"
          ],
          [
           "Hattrem"
          ],
          [
           "Hatterene"
          ],
          [
           "Mr. Rime"
          ],
          [
           "Indeedee Male"
          ],
          [
           "Indeedee Female"
          ]
         ],
         "hovertemplate": "Tipo 1=%{x}<br>Velocidade!=%{y}<br>name=%{customdata[0]}<extra></extra>",
         "legendgroup": "Psychic",
         "marker": {
          "color": "#ab63fa"
         },
         "name": "Psychic",
         "notched": false,
         "offsetgroup": "Psychic",
         "orientation": "v",
         "showlegend": true,
         "type": "box",
         "x": [
          "Psychic",
          "Psychic",
          "Psychic",
          "Psychic",
          "Psychic",
          "Psychic",
          "Psychic",
          "Psychic",
          "Psychic",
          "Psychic",
          "Psychic",
          "Psychic",
          "Psychic",
          "Psychic",
          "Psychic",
          "Psychic",
          "Psychic",
          "Psychic",
          "Psychic",
          "Psychic",
          "Psychic",
          "Psychic",
          "Psychic",
          "Psychic",
          "Psychic",
          "Psychic",
          "Psychic",
          "Psychic",
          "Psychic",
          "Psychic",
          "Psychic",
          "Psychic",
          "Psychic",
          "Psychic",
          "Psychic",
          "Psychic",
          "Psychic",
          "Psychic",
          "Psychic",
          "Psychic",
          "Psychic",
          "Psychic",
          "Psychic",
          "Psychic",
          "Psychic",
          "Psychic",
          "Psychic"
         ],
         "x0": " ",
         "xaxis": "x",
         "y": [
          90,
          105,
          120,
          90,
          105,
          42,
          67,
          90,
          100,
          70,
          95,
          110,
          48,
          33,
          40,
          50,
          80,
          60,
          80,
          65,
          23,
          45,
          60,
          80,
          24,
          29,
          72,
          114,
          97,
          45,
          55,
          65,
          20,
          30,
          30,
          30,
          40,
          68,
          104,
          104,
          93,
          39,
          49,
          29,
          70,
          95,
          85
         ],
         "y0": " ",
         "yaxis": "y"
        },
        {
         "alignmentgroup": "True",
         "boxpoints": "all",
         "customdata": [
          [
           "Geodude"
          ],
          [
           "Alolan Geodude"
          ],
          [
           "Graveler"
          ],
          [
           "Alolan Graveler"
          ],
          [
           "Golem"
          ],
          [
           "Alolan Golem"
          ],
          [
           "Onix"
          ],
          [
           "Omanyte"
          ],
          [
           "Omastar"
          ],
          [
           "Kabuto"
          ],
          [
           "Kabutops"
          ],
          [
           "Aerodactyl"
          ],
          [
           "Sudowoodo"
          ],
          [
           "Larvitar"
          ],
          [
           "Pupitar"
          ],
          [
           "Tyranitar"
          ],
          [
           "Nosepass"
          ],
          [
           "Lunatone"
          ],
          [
           "Solrock"
          ],
          [
           "Lileep"
          ],
          [
           "Cradily"
          ],
          [
           "Anorith"
          ],
          [
           "Armaldo"
          ],
          [
           "Cranidos"
          ],
          [
           "Rampardos"
          ],
          [
           "Shieldon"
          ],
          [
           "Bastiodon"
          ],
          [
           "Bonsly"
          ],
          [
           "Probopass"
          ],
          [
           "Roggenrola"
          ],
          [
           "Boldore"
          ],
          [
           "Gigalith"
          ],
          [
           "Archen"
          ],
          [
           "Archeops"
          ],
          [
           "Binacle"
          ],
          [
           "Barbaracle"
          ],
          [
           "Tyrunt"
          ],
          [
           "Tyrantrum"
          ],
          [
           "Amaura"
          ],
          [
           "Aurorus"
          ],
          [
           "Carbink"
          ],
          [
           "Rockruff"
          ],
          [
           "Own Tempo Rockruff"
          ],
          [
           "Lycanroc Midday Form"
          ],
          [
           "Lycanroc Midnight Form"
          ],
          [
           "Lycanroc Dusk Form"
          ],
          [
           "Minior Meteor Form"
          ],
          [
           "Minior Core Form"
          ],
          [
           "Rolycoly"
          ],
          [
           "Carkol"
          ],
          [
           "Coalossal"
          ],
          [
           "Stonjourner"
          ]
         ],
         "hovertemplate": "Tipo 1=%{x}<br>Velocidade!=%{y}<br>name=%{customdata[0]}<extra></extra>",
         "legendgroup": "Rock",
         "marker": {
          "color": "#FFA15A"
         },
         "name": "Rock",
         "notched": false,
         "offsetgroup": "Rock",
         "orientation": "v",
         "showlegend": true,
         "type": "box",
         "x": [
          "Rock",
          "Rock",
          "Rock",
          "Rock",
          "Rock",
          "Rock",
          "Rock",
          "Rock",
          "Rock",
          "Rock",
          "Rock",
          "Rock",
          "Rock",
          "Rock",
          "Rock",
          "Rock",
          "Rock",
          "Rock",
          "Rock",
          "Rock",
          "Rock",
          "Rock",
          "Rock",
          "Rock",
          "Rock",
          "Rock",
          "Rock",
          "Rock",
          "Rock",
          "Rock",
          "Rock",
          "Rock",
          "Rock",
          "Rock",
          "Rock",
          "Rock",
          "Rock",
          "Rock",
          "Rock",
          "Rock",
          "Rock",
          "Rock",
          "Rock",
          "Rock",
          "Rock",
          "Rock",
          "Rock",
          "Rock",
          "Rock",
          "Rock",
          "Rock",
          "Rock"
         ],
         "x0": " ",
         "xaxis": "x",
         "y": [
          20,
          20,
          35,
          35,
          45,
          45,
          70,
          35,
          55,
          55,
          80,
          130,
          30,
          41,
          51,
          61,
          30,
          70,
          70,
          23,
          43,
          75,
          45,
          58,
          58,
          30,
          30,
          10,
          40,
          15,
          20,
          25,
          70,
          110,
          50,
          68,
          48,
          71,
          46,
          58,
          50,
          60,
          60,
          112,
          82,
          110,
          60,
          120,
          30,
          50,
          30,
          70
         ],
         "y0": " ",
         "yaxis": "y"
        },
        {
         "alignmentgroup": "True",
         "boxpoints": "all",
         "customdata": [
          [
           "Gastly"
          ],
          [
           "Haunter"
          ],
          [
           "Gengar"
          ],
          [
           "Misdreavus"
          ],
          [
           "Galarian Corsola"
          ],
          [
           "Shuppet"
          ],
          [
           "Banette"
          ],
          [
           "Duskull"
          ],
          [
           "Dusclops"
          ],
          [
           "Drifloon"
          ],
          [
           "Drifblim"
          ],
          [
           "Mismagius"
          ],
          [
           "Spiritomb"
          ],
          [
           "Dusknoir"
          ],
          [
           "Yamask"
          ],
          [
           "Cofagrigus"
          ],
          [
           "Litwick"
          ],
          [
           "Lampent"
          ],
          [
           "Chandelure"
          ],
          [
           "Phantump"
          ],
          [
           "Trevenant"
          ],
          [
           "Pumpkaboo Average Size"
          ],
          [
           "Pumpkaboo Small Size"
          ],
          [
           "Pumpkaboo Large Size"
          ],
          [
           "Pumpkaboo Super Size"
          ],
          [
           "Gourgeist Average Size"
          ],
          [
           "Gourgeist Small Size"
          ],
          [
           "Gourgeist Large Size"
          ],
          [
           "Gourgeist Super Size"
          ],
          [
           "Oricorio Sensu Style"
          ],
          [
           "Sandygast"
          ],
          [
           "Palossand"
          ],
          [
           "Mimikyu"
          ],
          [
           "Dhelmise"
          ],
          [
           "Sinistea"
          ],
          [
           "Polteageist"
          ],
          [
           "Cursola"
          ]
         ],
         "hovertemplate": "Tipo 1=%{x}<br>Velocidade!=%{y}<br>name=%{customdata[0]}<extra></extra>",
         "legendgroup": "Ghost",
         "marker": {
          "color": "#19d3f3"
         },
         "name": "Ghost",
         "notched": false,
         "offsetgroup": "Ghost",
         "orientation": "v",
         "showlegend": true,
         "type": "box",
         "x": [
          "Ghost",
          "Ghost",
          "Ghost",
          "Ghost",
          "Ghost",
          "Ghost",
          "Ghost",
          "Ghost",
          "Ghost",
          "Ghost",
          "Ghost",
          "Ghost",
          "Ghost",
          "Ghost",
          "Ghost",
          "Ghost",
          "Ghost",
          "Ghost",
          "Ghost",
          "Ghost",
          "Ghost",
          "Ghost",
          "Ghost",
          "Ghost",
          "Ghost",
          "Ghost",
          "Ghost",
          "Ghost",
          "Ghost",
          "Ghost",
          "Ghost",
          "Ghost",
          "Ghost",
          "Ghost",
          "Ghost",
          "Ghost",
          "Ghost"
         ],
         "x0": " ",
         "xaxis": "x",
         "y": [
          80,
          95,
          110,
          85,
          30,
          45,
          65,
          25,
          25,
          70,
          80,
          105,
          35,
          45,
          30,
          30,
          20,
          55,
          80,
          38,
          56,
          51,
          56,
          46,
          41,
          84,
          99,
          69,
          54,
          93,
          15,
          35,
          96,
          40,
          50,
          70,
          30
         ],
         "y0": " ",
         "yaxis": "y"
        },
        {
         "alignmentgroup": "True",
         "boxpoints": "all",
         "customdata": [
          [
           "Dratini"
          ],
          [
           "Dragonair"
          ],
          [
           "Dragonite"
          ],
          [
           "Altaria"
          ],
          [
           "Bagon"
          ],
          [
           "Shelgon"
          ],
          [
           "Salamence"
          ],
          [
           "Gible"
          ],
          [
           "Gabite"
          ],
          [
           "Garchomp"
          ],
          [
           "Axew"
          ],
          [
           "Fraxure"
          ],
          [
           "Haxorus"
          ],
          [
           "Druddigon"
          ],
          [
           "Goomy"
          ],
          [
           "Sliggoo"
          ],
          [
           "Goodra"
          ],
          [
           "Jangmo-o"
          ],
          [
           "Hakamo-o"
          ],
          [
           "Kommo-o"
          ],
          [
           "Dreepy"
          ],
          [
           "Drakloak"
          ],
          [
           "Dragapult"
          ]
         ],
         "hovertemplate": "Tipo 1=%{x}<br>Velocidade!=%{y}<br>name=%{customdata[0]}<extra></extra>",
         "legendgroup": "Dragon",
         "marker": {
          "color": "#FF6692"
         },
         "name": "Dragon",
         "notched": false,
         "offsetgroup": "Dragon",
         "orientation": "v",
         "showlegend": true,
         "type": "box",
         "x": [
          "Dragon",
          "Dragon",
          "Dragon",
          "Dragon",
          "Dragon",
          "Dragon",
          "Dragon",
          "Dragon",
          "Dragon",
          "Dragon",
          "Dragon",
          "Dragon",
          "Dragon",
          "Dragon",
          "Dragon",
          "Dragon",
          "Dragon",
          "Dragon",
          "Dragon",
          "Dragon",
          "Dragon",
          "Dragon",
          "Dragon"
         ],
         "x0": " ",
         "xaxis": "x",
         "y": [
          50,
          70,
          80,
          80,
          50,
          50,
          100,
          42,
          82,
          102,
          57,
          67,
          97,
          48,
          40,
          60,
          80,
          45,
          65,
          85,
          82,
          102,
          142
         ],
         "y0": " ",
         "yaxis": "y"
        },
        {
         "alignmentgroup": "True",
         "boxpoints": "all",
         "customdata": [
          [
           "Noibat"
          ],
          [
           "Noivern"
          ],
          [
           "Rookidee"
          ],
          [
           "Corvisquire"
          ],
          [
           "Corviknight"
          ],
          [
           "Cramorant"
          ]
         ],
         "hovertemplate": "Tipo 1=%{x}<br>Velocidade!=%{y}<br>name=%{customdata[0]}<extra></extra>",
         "legendgroup": "Flying",
         "marker": {
          "color": "#B6E880"
         },
         "name": "Flying",
         "notched": false,
         "offsetgroup": "Flying",
         "orientation": "v",
         "showlegend": true,
         "type": "box",
         "x": [
          "Flying",
          "Flying",
          "Flying",
          "Flying",
          "Flying",
          "Flying"
         ],
         "x0": " ",
         "xaxis": "x",
         "y": [
          55,
          123,
          57,
          77,
          67,
          85
         ],
         "y0": " ",
         "yaxis": "y"
        }
       ],
       "layout": {
        "boxmode": "overlay",
        "legend": {
         "title": {
          "text": "Tipo 1"
         },
         "tracegroupgap": 0
        },
        "margin": {
         "t": 60
        },
        "template": {
         "data": {
          "bar": [
           {
            "error_x": {
             "color": "#2a3f5f"
            },
            "error_y": {
             "color": "#2a3f5f"
            },
            "marker": {
             "line": {
              "color": "#E5ECF6",
              "width": 0.5
             },
             "pattern": {
              "fillmode": "overlay",
              "size": 10,
              "solidity": 0.2
             }
            },
            "type": "bar"
           }
          ],
          "barpolar": [
           {
            "marker": {
             "line": {
              "color": "#E5ECF6",
              "width": 0.5
             },
             "pattern": {
              "fillmode": "overlay",
              "size": 10,
              "solidity": 0.2
             }
            },
            "type": "barpolar"
           }
          ],
          "carpet": [
           {
            "aaxis": {
             "endlinecolor": "#2a3f5f",
             "gridcolor": "white",
             "linecolor": "white",
             "minorgridcolor": "white",
             "startlinecolor": "#2a3f5f"
            },
            "baxis": {
             "endlinecolor": "#2a3f5f",
             "gridcolor": "white",
             "linecolor": "white",
             "minorgridcolor": "white",
             "startlinecolor": "#2a3f5f"
            },
            "type": "carpet"
           }
          ],
          "choropleth": [
           {
            "colorbar": {
             "outlinewidth": 0,
             "ticks": ""
            },
            "type": "choropleth"
           }
          ],
          "contour": [
           {
            "colorbar": {
             "outlinewidth": 0,
             "ticks": ""
            },
            "colorscale": [
             [
              0,
              "#0d0887"
             ],
             [
              0.1111111111111111,
              "#46039f"
             ],
             [
              0.2222222222222222,
              "#7201a8"
             ],
             [
              0.3333333333333333,
              "#9c179e"
             ],
             [
              0.4444444444444444,
              "#bd3786"
             ],
             [
              0.5555555555555556,
              "#d8576b"
             ],
             [
              0.6666666666666666,
              "#ed7953"
             ],
             [
              0.7777777777777778,
              "#fb9f3a"
             ],
             [
              0.8888888888888888,
              "#fdca26"
             ],
             [
              1,
              "#f0f921"
             ]
            ],
            "type": "contour"
           }
          ],
          "contourcarpet": [
           {
            "colorbar": {
             "outlinewidth": 0,
             "ticks": ""
            },
            "type": "contourcarpet"
           }
          ],
          "heatmap": [
           {
            "colorbar": {
             "outlinewidth": 0,
             "ticks": ""
            },
            "colorscale": [
             [
              0,
              "#0d0887"
             ],
             [
              0.1111111111111111,
              "#46039f"
             ],
             [
              0.2222222222222222,
              "#7201a8"
             ],
             [
              0.3333333333333333,
              "#9c179e"
             ],
             [
              0.4444444444444444,
              "#bd3786"
             ],
             [
              0.5555555555555556,
              "#d8576b"
             ],
             [
              0.6666666666666666,
              "#ed7953"
             ],
             [
              0.7777777777777778,
              "#fb9f3a"
             ],
             [
              0.8888888888888888,
              "#fdca26"
             ],
             [
              1,
              "#f0f921"
             ]
            ],
            "type": "heatmap"
           }
          ],
          "heatmapgl": [
           {
            "colorbar": {
             "outlinewidth": 0,
             "ticks": ""
            },
            "colorscale": [
             [
              0,
              "#0d0887"
             ],
             [
              0.1111111111111111,
              "#46039f"
             ],
             [
              0.2222222222222222,
              "#7201a8"
             ],
             [
              0.3333333333333333,
              "#9c179e"
             ],
             [
              0.4444444444444444,
              "#bd3786"
             ],
             [
              0.5555555555555556,
              "#d8576b"
             ],
             [
              0.6666666666666666,
              "#ed7953"
             ],
             [
              0.7777777777777778,
              "#fb9f3a"
             ],
             [
              0.8888888888888888,
              "#fdca26"
             ],
             [
              1,
              "#f0f921"
             ]
            ],
            "type": "heatmapgl"
           }
          ],
          "histogram": [
           {
            "marker": {
             "pattern": {
              "fillmode": "overlay",
              "size": 10,
              "solidity": 0.2
             }
            },
            "type": "histogram"
           }
          ],
          "histogram2d": [
           {
            "colorbar": {
             "outlinewidth": 0,
             "ticks": ""
            },
            "colorscale": [
             [
              0,
              "#0d0887"
             ],
             [
              0.1111111111111111,
              "#46039f"
             ],
             [
              0.2222222222222222,
              "#7201a8"
             ],
             [
              0.3333333333333333,
              "#9c179e"
             ],
             [
              0.4444444444444444,
              "#bd3786"
             ],
             [
              0.5555555555555556,
              "#d8576b"
             ],
             [
              0.6666666666666666,
              "#ed7953"
             ],
             [
              0.7777777777777778,
              "#fb9f3a"
             ],
             [
              0.8888888888888888,
              "#fdca26"
             ],
             [
              1,
              "#f0f921"
             ]
            ],
            "type": "histogram2d"
           }
          ],
          "histogram2dcontour": [
           {
            "colorbar": {
             "outlinewidth": 0,
             "ticks": ""
            },
            "colorscale": [
             [
              0,
              "#0d0887"
             ],
             [
              0.1111111111111111,
              "#46039f"
             ],
             [
              0.2222222222222222,
              "#7201a8"
             ],
             [
              0.3333333333333333,
              "#9c179e"
             ],
             [
              0.4444444444444444,
              "#bd3786"
             ],
             [
              0.5555555555555556,
              "#d8576b"
             ],
             [
              0.6666666666666666,
              "#ed7953"
             ],
             [
              0.7777777777777778,
              "#fb9f3a"
             ],
             [
              0.8888888888888888,
              "#fdca26"
             ],
             [
              1,
              "#f0f921"
             ]
            ],
            "type": "histogram2dcontour"
           }
          ],
          "mesh3d": [
           {
            "colorbar": {
             "outlinewidth": 0,
             "ticks": ""
            },
            "type": "mesh3d"
           }
          ],
          "parcoords": [
           {
            "line": {
             "colorbar": {
              "outlinewidth": 0,
              "ticks": ""
             }
            },
            "type": "parcoords"
           }
          ],
          "pie": [
           {
            "automargin": true,
            "type": "pie"
           }
          ],
          "scatter": [
           {
            "fillpattern": {
             "fillmode": "overlay",
             "size": 10,
             "solidity": 0.2
            },
            "type": "scatter"
           }
          ],
          "scatter3d": [
           {
            "line": {
             "colorbar": {
              "outlinewidth": 0,
              "ticks": ""
             }
            },
            "marker": {
             "colorbar": {
              "outlinewidth": 0,
              "ticks": ""
             }
            },
            "type": "scatter3d"
           }
          ],
          "scattercarpet": [
           {
            "marker": {
             "colorbar": {
              "outlinewidth": 0,
              "ticks": ""
             }
            },
            "type": "scattercarpet"
           }
          ],
          "scattergeo": [
           {
            "marker": {
             "colorbar": {
              "outlinewidth": 0,
              "ticks": ""
             }
            },
            "type": "scattergeo"
           }
          ],
          "scattergl": [
           {
            "marker": {
             "colorbar": {
              "outlinewidth": 0,
              "ticks": ""
             }
            },
            "type": "scattergl"
           }
          ],
          "scattermapbox": [
           {
            "marker": {
             "colorbar": {
              "outlinewidth": 0,
              "ticks": ""
             }
            },
            "type": "scattermapbox"
           }
          ],
          "scatterpolar": [
           {
            "marker": {
             "colorbar": {
              "outlinewidth": 0,
              "ticks": ""
             }
            },
            "type": "scatterpolar"
           }
          ],
          "scatterpolargl": [
           {
            "marker": {
             "colorbar": {
              "outlinewidth": 0,
              "ticks": ""
             }
            },
            "type": "scatterpolargl"
           }
          ],
          "scatterternary": [
           {
            "marker": {
             "colorbar": {
              "outlinewidth": 0,
              "ticks": ""
             }
            },
            "type": "scatterternary"
           }
          ],
          "surface": [
           {
            "colorbar": {
             "outlinewidth": 0,
             "ticks": ""
            },
            "colorscale": [
             [
              0,
              "#0d0887"
             ],
             [
              0.1111111111111111,
              "#46039f"
             ],
             [
              0.2222222222222222,
              "#7201a8"
             ],
             [
              0.3333333333333333,
              "#9c179e"
             ],
             [
              0.4444444444444444,
              "#bd3786"
             ],
             [
              0.5555555555555556,
              "#d8576b"
             ],
             [
              0.6666666666666666,
              "#ed7953"
             ],
             [
              0.7777777777777778,
              "#fb9f3a"
             ],
             [
              0.8888888888888888,
              "#fdca26"
             ],
             [
              1,
              "#f0f921"
             ]
            ],
            "type": "surface"
           }
          ],
          "table": [
           {
            "cells": {
             "fill": {
              "color": "#EBF0F8"
             },
             "line": {
              "color": "white"
             }
            },
            "header": {
             "fill": {
              "color": "#C8D4E3"
             },
             "line": {
              "color": "white"
             }
            },
            "type": "table"
           }
          ]
         },
         "layout": {
          "annotationdefaults": {
           "arrowcolor": "#2a3f5f",
           "arrowhead": 0,
           "arrowwidth": 1
          },
          "autotypenumbers": "strict",
          "coloraxis": {
           "colorbar": {
            "outlinewidth": 0,
            "ticks": ""
           }
          },
          "colorscale": {
           "diverging": [
            [
             0,
             "#8e0152"
            ],
            [
             0.1,
             "#c51b7d"
            ],
            [
             0.2,
             "#de77ae"
            ],
            [
             0.3,
             "#f1b6da"
            ],
            [
             0.4,
             "#fde0ef"
            ],
            [
             0.5,
             "#f7f7f7"
            ],
            [
             0.6,
             "#e6f5d0"
            ],
            [
             0.7,
             "#b8e186"
            ],
            [
             0.8,
             "#7fbc41"
            ],
            [
             0.9,
             "#4d9221"
            ],
            [
             1,
             "#276419"
            ]
           ],
           "sequential": [
            [
             0,
             "#0d0887"
            ],
            [
             0.1111111111111111,
             "#46039f"
            ],
            [
             0.2222222222222222,
             "#7201a8"
            ],
            [
             0.3333333333333333,
             "#9c179e"
            ],
            [
             0.4444444444444444,
             "#bd3786"
            ],
            [
             0.5555555555555556,
             "#d8576b"
            ],
            [
             0.6666666666666666,
             "#ed7953"
            ],
            [
             0.7777777777777778,
             "#fb9f3a"
            ],
            [
             0.8888888888888888,
             "#fdca26"
            ],
            [
             1,
             "#f0f921"
            ]
           ],
           "sequentialminus": [
            [
             0,
             "#0d0887"
            ],
            [
             0.1111111111111111,
             "#46039f"
            ],
            [
             0.2222222222222222,
             "#7201a8"
            ],
            [
             0.3333333333333333,
             "#9c179e"
            ],
            [
             0.4444444444444444,
             "#bd3786"
            ],
            [
             0.5555555555555556,
             "#d8576b"
            ],
            [
             0.6666666666666666,
             "#ed7953"
            ],
            [
             0.7777777777777778,
             "#fb9f3a"
            ],
            [
             0.8888888888888888,
             "#fdca26"
            ],
            [
             1,
             "#f0f921"
            ]
           ]
          },
          "colorway": [
           "#636efa",
           "#EF553B",
           "#00cc96",
           "#ab63fa",
           "#FFA15A",
           "#19d3f3",
           "#FF6692",
           "#B6E880",
           "#FF97FF",
           "#FECB52"
          ],
          "font": {
           "color": "#2a3f5f"
          },
          "geo": {
           "bgcolor": "white",
           "lakecolor": "white",
           "landcolor": "#E5ECF6",
           "showlakes": true,
           "showland": true,
           "subunitcolor": "white"
          },
          "hoverlabel": {
           "align": "left"
          },
          "hovermode": "closest",
          "mapbox": {
           "style": "light"
          },
          "paper_bgcolor": "white",
          "plot_bgcolor": "#E5ECF6",
          "polar": {
           "angularaxis": {
            "gridcolor": "white",
            "linecolor": "white",
            "ticks": ""
           },
           "bgcolor": "#E5ECF6",
           "radialaxis": {
            "gridcolor": "white",
            "linecolor": "white",
            "ticks": ""
           }
          },
          "scene": {
           "xaxis": {
            "backgroundcolor": "#E5ECF6",
            "gridcolor": "white",
            "gridwidth": 2,
            "linecolor": "white",
            "showbackground": true,
            "ticks": "",
            "zerolinecolor": "white"
           },
           "yaxis": {
            "backgroundcolor": "#E5ECF6",
            "gridcolor": "white",
            "gridwidth": 2,
            "linecolor": "white",
            "showbackground": true,
            "ticks": "",
            "zerolinecolor": "white"
           },
           "zaxis": {
            "backgroundcolor": "#E5ECF6",
            "gridcolor": "white",
            "gridwidth": 2,
            "linecolor": "white",
            "showbackground": true,
            "ticks": "",
            "zerolinecolor": "white"
           }
          },
          "shapedefaults": {
           "line": {
            "color": "#2a3f5f"
           }
          },
          "ternary": {
           "aaxis": {
            "gridcolor": "white",
            "linecolor": "white",
            "ticks": ""
           },
           "baxis": {
            "gridcolor": "white",
            "linecolor": "white",
            "ticks": ""
           },
           "bgcolor": "#E5ECF6",
           "caxis": {
            "gridcolor": "white",
            "linecolor": "white",
            "ticks": ""
           }
          },
          "title": {
           "x": 0.05
          },
          "xaxis": {
           "automargin": true,
           "gridcolor": "white",
           "linecolor": "white",
           "ticks": "",
           "title": {
            "standoff": 15
           },
           "zerolinecolor": "white",
           "zerolinewidth": 2
          },
          "yaxis": {
           "automargin": true,
           "gridcolor": "white",
           "linecolor": "white",
           "ticks": "",
           "title": {
            "standoff": 15
           },
           "zerolinecolor": "white",
           "zerolinewidth": 2
          }
         }
        },
        "xaxis": {
         "anchor": "y",
         "categoryarray": [
          "Grass",
          "Fire",
          "Water",
          "Bug",
          "Normal",
          "Dark",
          "Poison",
          "Electric",
          "Ground",
          "Ice",
          "Fairy",
          "Steel",
          "Fighting",
          "Psychic",
          "Rock",
          "Ghost",
          "Dragon",
          "Flying"
         ],
         "categoryorder": "array",
         "domain": [
          0,
          1
         ],
         "title": {
          "text": "Tipo 1"
         }
        },
        "yaxis": {
         "anchor": "x",
         "domain": [
          0,
          1
         ],
         "title": {
          "text": "Velocidade!"
         }
        }
       }
      }
     },
     "metadata": {},
     "output_type": "display_data"
    },
    {
     "data": {
      "application/vnd.plotly.v1+json": {
       "config": {
        "plotlyServerURL": "https://plot.ly"
       },
       "data": [
        {
         "alignmentgroup": "True",
         "boxpoints": "all",
         "customdata": [
          [
           "Bulbasaur"
          ],
          [
           "Ivysaur"
          ],
          [
           "Venusaur"
          ],
          [
           "Oddish"
          ],
          [
           "Gloom"
          ],
          [
           "Vileplume"
          ],
          [
           "Bellsprout"
          ],
          [
           "Weepinbell"
          ],
          [
           "Victreebel"
          ],
          [
           "Exeggcute"
          ],
          [
           "Exeggutor"
          ],
          [
           "Alolan Exeggutor"
          ],
          [
           "Tangela"
          ],
          [
           "Chikorita"
          ],
          [
           "Bayleef"
          ],
          [
           "Bellossom"
          ],
          [
           "Hoppip"
          ],
          [
           "Skiploom"
          ],
          [
           "Jumpluff"
          ],
          [
           "Sunkern"
          ],
          [
           "Sunflora"
          ],
          [
           "Treecko"
          ],
          [
           "Grovyle"
          ],
          [
           "Sceptile"
          ],
          [
           "Seedot"
          ],
          [
           "Nuzleaf"
          ],
          [
           "Shiftry"
          ],
          [
           "Shroomish"
          ],
          [
           "Breloom"
          ],
          [
           "Roselia"
          ],
          [
           "Cacnea"
          ],
          [
           "Cacturne"
          ],
          [
           "Tropius"
          ],
          [
           "Turtwig"
          ],
          [
           "Grotle"
          ],
          [
           "Torterra"
          ],
          [
           "Budew"
          ],
          [
           "Roserade"
          ],
          [
           "Cherubi"
          ],
          [
           "Cherrim"
          ],
          [
           "Carnivine"
          ],
          [
           "Snover"
          ],
          [
           "Abomasnow"
          ],
          [
           "Tangrowth"
          ],
          [
           "Leafeon"
          ],
          [
           "Snivy"
          ],
          [
           "Servine"
          ],
          [
           "Serperior"
          ],
          [
           "Pansage"
          ],
          [
           "Simisage"
          ],
          [
           "Cottonee"
          ],
          [
           "Whimsicott"
          ],
          [
           "Petilil"
          ],
          [
           "Lilligant"
          ],
          [
           "Maractus"
          ],
          [
           "Foongus"
          ],
          [
           "Amoonguss"
          ],
          [
           "Ferroseed"
          ],
          [
           "Ferrothorn"
          ],
          [
           "Chespin"
          ],
          [
           "Quilladin"
          ],
          [
           "Chesnaught"
          ],
          [
           "Skiddo"
          ],
          [
           "Gogoat"
          ],
          [
           "Rowlet"
          ],
          [
           "Dartrix"
          ],
          [
           "Decidueye"
          ],
          [
           "Fomantis"
          ],
          [
           "Lurantis"
          ],
          [
           "Morelull"
          ],
          [
           "Shiinotic"
          ],
          [
           "Bounsweet"
          ],
          [
           "Steenee"
          ],
          [
           "Tsareena"
          ],
          [
           "Grookey"
          ],
          [
           "Thwackey"
          ],
          [
           "Rillaboom"
          ],
          [
           "Gossifleur"
          ],
          [
           "Eldegoss"
          ],
          [
           "Applin"
          ],
          [
           "Flapple"
          ],
          [
           "Appletun"
          ]
         ],
         "hovertemplate": "Tipo 1=%{x}<br>Defesa!=%{y}<br>name=%{customdata[0]}<extra></extra>",
         "legendgroup": "Grass",
         "marker": {
          "color": "#636efa"
         },
         "name": "Grass",
         "notched": false,
         "offsetgroup": "Grass",
         "orientation": "v",
         "showlegend": true,
         "type": "box",
         "x": [
          "Grass",
          "Grass",
          "Grass",
          "Grass",
          "Grass",
          "Grass",
          "Grass",
          "Grass",
          "Grass",
          "Grass",
          "Grass",
          "Grass",
          "Grass",
          "Grass",
          "Grass",
          "Grass",
          "Grass",
          "Grass",
          "Grass",
          "Grass",
          "Grass",
          "Grass",
          "Grass",
          "Grass",
          "Grass",
          "Grass",
          "Grass",
          "Grass",
          "Grass",
          "Grass",
          "Grass",
          "Grass",
          "Grass",
          "Grass",
          "Grass",
          "Grass",
          "Grass",
          "Grass",
          "Grass",
          "Grass",
          "Grass",
          "Grass",
          "Grass",
          "Grass",
          "Grass",
          "Grass",
          "Grass",
          "Grass",
          "Grass",
          "Grass",
          "Grass",
          "Grass",
          "Grass",
          "Grass",
          "Grass",
          "Grass",
          "Grass",
          "Grass",
          "Grass",
          "Grass",
          "Grass",
          "Grass",
          "Grass",
          "Grass",
          "Grass",
          "Grass",
          "Grass",
          "Grass",
          "Grass",
          "Grass",
          "Grass",
          "Grass",
          "Grass",
          "Grass",
          "Grass",
          "Grass",
          "Grass",
          "Grass",
          "Grass",
          "Grass",
          "Grass",
          "Grass"
         ],
         "x0": " ",
         "xaxis": "x",
         "y": [
          49,
          63,
          83,
          55,
          70,
          85,
          35,
          50,
          65,
          80,
          85,
          85,
          115,
          65,
          80,
          95,
          40,
          50,
          70,
          30,
          55,
          35,
          45,
          65,
          50,
          40,
          60,
          60,
          80,
          45,
          40,
          60,
          83,
          64,
          85,
          105,
          35,
          65,
          45,
          70,
          72,
          50,
          75,
          125,
          130,
          55,
          75,
          95,
          48,
          63,
          60,
          85,
          50,
          75,
          67,
          45,
          70,
          91,
          131,
          65,
          95,
          122,
          48,
          62,
          55,
          75,
          75,
          35,
          90,
          55,
          80,
          38,
          48,
          98,
          50,
          70,
          90,
          60,
          90,
          80,
          80,
          80
         ],
         "y0": " ",
         "yaxis": "y"
        },
        {
         "alignmentgroup": "True",
         "boxpoints": "all",
         "customdata": [
          [
           "Charmander"
          ],
          [
           "Charmeleon"
          ],
          [
           "Charizard"
          ],
          [
           "Vulpix"
          ],
          [
           "Ninetales"
          ],
          [
           "Growlithe"
          ],
          [
           "Arcanine"
          ],
          [
           "Ponyta"
          ],
          [
           "Rapidash"
          ],
          [
           "Alolan Marowak"
          ],
          [
           "Magmar"
          ],
          [
           "Flareon"
          ],
          [
           "Cyndaquil"
          ],
          [
           "Quilava"
          ],
          [
           "Typhlosion"
          ],
          [
           "Slugma"
          ],
          [
           "Magcargo"
          ],
          [
           "Magby"
          ],
          [
           "Torchic"
          ],
          [
           "Combusken"
          ],
          [
           "Blaziken"
          ],
          [
           "Numel"
          ],
          [
           "Camerupt"
          ],
          [
           "Torkoal"
          ],
          [
           "Castform Sunny Form"
          ],
          [
           "Chimchar"
          ],
          [
           "Monferno"
          ],
          [
           "Infernape"
          ],
          [
           "Magmortar"
          ],
          [
           "Tepig"
          ],
          [
           "Pignite"
          ],
          [
           "Emboar"
          ],
          [
           "Pansear"
          ],
          [
           "Simisear"
          ],
          [
           "Darumaka"
          ],
          [
           "Darmanitan Standard Mode"
          ],
          [
           "Darmanitan Zen Mode"
          ],
          [
           "Heatmor"
          ],
          [
           "Fennekin"
          ],
          [
           "Braixen"
          ],
          [
           "Delphox"
          ],
          [
           "Fletchinder"
          ],
          [
           "Talonflame"
          ],
          [
           "Litleo"
          ],
          [
           "Pyroar"
          ],
          [
           "Litten"
          ],
          [
           "Torracat"
          ],
          [
           "Incineroar"
          ],
          [
           "Oricorio Baile Style"
          ],
          [
           "Turtonator"
          ],
          [
           "Scorbunny"
          ],
          [
           "Raboot"
          ],
          [
           "Cinderace"
          ],
          [
           "Sizzlipede"
          ],
          [
           "Centiskorch"
          ]
         ],
         "hovertemplate": "Tipo 1=%{x}<br>Defesa!=%{y}<br>name=%{customdata[0]}<extra></extra>",
         "legendgroup": "Fire",
         "marker": {
          "color": "#EF553B"
         },
         "name": "Fire",
         "notched": false,
         "offsetgroup": "Fire",
         "orientation": "v",
         "showlegend": true,
         "type": "box",
         "x": [
          "Fire",
          "Fire",
          "Fire",
          "Fire",
          "Fire",
          "Fire",
          "Fire",
          "Fire",
          "Fire",
          "Fire",
          "Fire",
          "Fire",
          "Fire",
          "Fire",
          "Fire",
          "Fire",
          "Fire",
          "Fire",
          "Fire",
          "Fire",
          "Fire",
          "Fire",
          "Fire",
          "Fire",
          "Fire",
          "Fire",
          "Fire",
          "Fire",
          "Fire",
          "Fire",
          "Fire",
          "Fire",
          "Fire",
          "Fire",
          "Fire",
          "Fire",
          "Fire",
          "Fire",
          "Fire",
          "Fire",
          "Fire",
          "Fire",
          "Fire",
          "Fire",
          "Fire",
          "Fire",
          "Fire",
          "Fire",
          "Fire",
          "Fire",
          "Fire",
          "Fire",
          "Fire",
          "Fire",
          "Fire"
         ],
         "x0": " ",
         "xaxis": "x",
         "y": [
          43,
          58,
          78,
          40,
          75,
          45,
          80,
          55,
          70,
          110,
          57,
          60,
          43,
          58,
          78,
          40,
          120,
          37,
          40,
          60,
          70,
          40,
          70,
          140,
          70,
          44,
          52,
          71,
          67,
          45,
          55,
          65,
          48,
          63,
          45,
          55,
          105,
          66,
          40,
          58,
          72,
          55,
          71,
          58,
          72,
          40,
          50,
          90,
          70,
          135,
          40,
          60,
          75,
          45,
          65
         ],
         "y0": " ",
         "yaxis": "y"
        },
        {
         "alignmentgroup": "True",
         "boxpoints": "all",
         "customdata": [
          [
           "Squirtle"
          ],
          [
           "Wartortle"
          ],
          [
           "Blastoise"
          ],
          [
           "Psyduck"
          ],
          [
           "Golduck"
          ],
          [
           "Poliwag"
          ],
          [
           "Poliwhirl"
          ],
          [
           "Poliwrath"
          ],
          [
           "Tentacool"
          ],
          [
           "Tentacruel"
          ],
          [
           "Slowpoke"
          ],
          [
           "Slowbro"
          ],
          [
           "Seel"
          ],
          [
           "Dewgong"
          ],
          [
           "Shellder"
          ],
          [
           "Cloyster"
          ],
          [
           "Krabby"
          ],
          [
           "Kingler"
          ],
          [
           "Horsea"
          ],
          [
           "Seadra"
          ],
          [
           "Goldeen"
          ],
          [
           "Seaking"
          ],
          [
           "Staryu"
          ],
          [
           "Starmie"
          ],
          [
           "Magikarp"
          ],
          [
           "Gyarados"
          ],
          [
           "Lapras"
          ],
          [
           "Vaporeon"
          ],
          [
           "Totodile"
          ],
          [
           "Croconaw"
          ],
          [
           "Feraligatr"
          ],
          [
           "Chinchou"
          ],
          [
           "Lanturn"
          ],
          [
           "Marill"
          ],
          [
           "Azumarill"
          ],
          [
           "Politoed"
          ],
          [
           "Wooper"
          ],
          [
           "Quagsire"
          ],
          [
           "Slowking"
          ],
          [
           "Qwilfish"
          ],
          [
           "Corsola"
          ],
          [
           "Remoraid"
          ],
          [
           "Octillery"
          ],
          [
           "Mantine"
          ],
          [
           "Kingdra"
          ],
          [
           "Mudkip"
          ],
          [
           "Marshtomp"
          ],
          [
           "Swampert"
          ],
          [
           "Lotad"
          ],
          [
           "Lombre"
          ],
          [
           "Ludicolo"
          ],
          [
           "Wingull"
          ],
          [
           "Pelipper"
          ],
          [
           "Carvanha"
          ],
          [
           "Sharpedo"
          ],
          [
           "Wailmer"
          ],
          [
           "Wailord"
          ],
          [
           "Barboach"
          ],
          [
           "Whiscash"
          ],
          [
           "Corphish"
          ],
          [
           "Crawdaunt"
          ],
          [
           "Feebas"
          ],
          [
           "Milotic"
          ],
          [
           "Castform Rainy Form"
          ],
          [
           "Clamperl"
          ],
          [
           "Huntail"
          ],
          [
           "Gorebyss"
          ],
          [
           "Relicanth"
          ],
          [
           "Luvdisc"
          ],
          [
           "Piplup"
          ],
          [
           "Prinplup"
          ],
          [
           "Empoleon"
          ],
          [
           "Buizel"
          ],
          [
           "Floatzel"
          ],
          [
           "Shellos"
          ],
          [
           "Gastrodon"
          ],
          [
           "Finneon"
          ],
          [
           "Lumineon"
          ],
          [
           "Mantyke"
          ],
          [
           "Oshawott"
          ],
          [
           "Dewott"
          ],
          [
           "Samurott"
          ],
          [
           "Panpour"
          ],
          [
           "Simipour"
          ],
          [
           "Tympole"
          ],
          [
           "Palpitoad"
          ],
          [
           "Seismitoad"
          ],
          [
           "Basculin Red-Striped Form"
          ],
          [
           "Basculin Blue-Striped Form"
          ],
          [
           "Tirtouga"
          ],
          [
           "Carracosta"
          ],
          [
           "Ducklett"
          ],
          [
           "Swanna"
          ],
          [
           "Frillish"
          ],
          [
           "Jellicent"
          ],
          [
           "Alomomola"
          ],
          [
           "Froakie"
          ],
          [
           "Frogadier"
          ],
          [
           "Greninja"
          ],
          [
           "Ash-Greninja"
          ],
          [
           "Clauncher"
          ],
          [
           "Clawitzer"
          ],
          [
           "Popplio"
          ],
          [
           "Brionne"
          ],
          [
           "Primarina"
          ],
          [
           "Wishiwashi Solo Form"
          ],
          [
           "Wishiwashi School Form"
          ],
          [
           "Dewpider"
          ],
          [
           "Araquanid"
          ],
          [
           "Pyukumuku"
          ],
          [
           "Bruxish"
          ],
          [
           "Sobble"
          ],
          [
           "Drizzile"
          ],
          [
           "Inteleon"
          ],
          [
           "Chewtle"
          ],
          [
           "Drednaw"
          ],
          [
           "Arrokuda"
          ],
          [
           "Barraskewda"
          ],
          [
           "Dracovish"
          ],
          [
           "Arctovish"
          ]
         ],
         "hovertemplate": "Tipo 1=%{x}<br>Defesa!=%{y}<br>name=%{customdata[0]}<extra></extra>",
         "legendgroup": "Water",
         "marker": {
          "color": "#00cc96"
         },
         "name": "Water",
         "notched": false,
         "offsetgroup": "Water",
         "orientation": "v",
         "showlegend": true,
         "type": "box",
         "x": [
          "Water",
          "Water",
          "Water",
          "Water",
          "Water",
          "Water",
          "Water",
          "Water",
          "Water",
          "Water",
          "Water",
          "Water",
          "Water",
          "Water",
          "Water",
          "Water",
          "Water",
          "Water",
          "Water",
          "Water",
          "Water",
          "Water",
          "Water",
          "Water",
          "Water",
          "Water",
          "Water",
          "Water",
          "Water",
          "Water",
          "Water",
          "Water",
          "Water",
          "Water",
          "Water",
          "Water",
          "Water",
          "Water",
          "Water",
          "Water",
          "Water",
          "Water",
          "Water",
          "Water",
          "Water",
          "Water",
          "Water",
          "Water",
          "Water",
          "Water",
          "Water",
          "Water",
          "Water",
          "Water",
          "Water",
          "Water",
          "Water",
          "Water",
          "Water",
          "Water",
          "Water",
          "Water",
          "Water",
          "Water",
          "Water",
          "Water",
          "Water",
          "Water",
          "Water",
          "Water",
          "Water",
          "Water",
          "Water",
          "Water",
          "Water",
          "Water",
          "Water",
          "Water",
          "Water",
          "Water",
          "Water",
          "Water",
          "Water",
          "Water",
          "Water",
          "Water",
          "Water",
          "Water",
          "Water",
          "Water",
          "Water",
          "Water",
          "Water",
          "Water",
          "Water",
          "Water",
          "Water",
          "Water",
          "Water",
          "Water",
          "Water",
          "Water",
          "Water",
          "Water",
          "Water",
          "Water",
          "Water",
          "Water",
          "Water",
          "Water",
          "Water",
          "Water",
          "Water",
          "Water",
          "Water",
          "Water",
          "Water",
          "Water",
          "Water",
          "Water"
         ],
         "x0": " ",
         "xaxis": "x",
         "y": [
          65,
          80,
          100,
          48,
          78,
          40,
          65,
          95,
          35,
          65,
          65,
          110,
          55,
          80,
          100,
          180,
          90,
          115,
          70,
          95,
          60,
          65,
          55,
          85,
          55,
          79,
          80,
          60,
          64,
          80,
          100,
          38,
          58,
          50,
          80,
          75,
          45,
          85,
          80,
          85,
          95,
          35,
          75,
          70,
          95,
          50,
          70,
          90,
          30,
          50,
          70,
          30,
          100,
          20,
          40,
          35,
          45,
          43,
          73,
          65,
          85,
          20,
          79,
          70,
          85,
          105,
          105,
          130,
          55,
          53,
          68,
          88,
          35,
          55,
          48,
          68,
          56,
          76,
          50,
          45,
          60,
          85,
          48,
          63,
          40,
          55,
          75,
          65,
          65,
          103,
          133,
          50,
          63,
          50,
          70,
          80,
          40,
          52,
          67,
          67,
          62,
          88,
          54,
          69,
          74,
          20,
          130,
          52,
          92,
          130,
          70,
          40,
          55,
          65,
          50,
          90,
          40,
          60,
          100,
          100
         ],
         "y0": " ",
         "yaxis": "y"
        },
        {
         "alignmentgroup": "True",
         "boxpoints": "all",
         "customdata": [
          [
           "Caterpie"
          ],
          [
           "Metapod"
          ],
          [
           "Butterfree"
          ],
          [
           "Weedle"
          ],
          [
           "Kakuna"
          ],
          [
           "Beedrill"
          ],
          [
           "Paras"
          ],
          [
           "Parasect"
          ],
          [
           "Venonat"
          ],
          [
           "Venomoth"
          ],
          [
           "Scyther"
          ],
          [
           "Pinsir"
          ],
          [
           "Ledyba"
          ],
          [
           "Ledian"
          ],
          [
           "Spinarak"
          ],
          [
           "Ariados"
          ],
          [
           "Yanma"
          ],
          [
           "Pineco"
          ],
          [
           "Forretress"
          ],
          [
           "Scizor"
          ],
          [
           "Shuckle"
          ],
          [
           "Heracross"
          ],
          [
           "Wurmple"
          ],
          [
           "Silcoon"
          ],
          [
           "Beautifly"
          ],
          [
           "Cascoon"
          ],
          [
           "Dustox"
          ],
          [
           "Surskit"
          ],
          [
           "Masquerain"
          ],
          [
           "Nincada"
          ],
          [
           "Ninjask"
          ],
          [
           "Shedinja"
          ],
          [
           "Volbeat"
          ],
          [
           "Illumise"
          ],
          [
           "Kricketot"
          ],
          [
           "Kricketune"
          ],
          [
           "Burmy"
          ],
          [
           "Wormadam Plant Cloak"
          ],
          [
           "Wormadam Sandy Cloak"
          ],
          [
           "Wormadam Trash Cloak"
          ],
          [
           "Mothim"
          ],
          [
           "Combee"
          ],
          [
           "Vespiquen"
          ],
          [
           "Yanmega"
          ],
          [
           "Sewaddle"
          ],
          [
           "Swadloon"
          ],
          [
           "Leavanny"
          ],
          [
           "Venipede"
          ],
          [
           "Whirlipede"
          ],
          [
           "Scolipede"
          ],
          [
           "Dwebble"
          ],
          [
           "Crustle"
          ],
          [
           "Karrablast"
          ],
          [
           "Escavalier"
          ],
          [
           "Joltik"
          ],
          [
           "Galvantula"
          ],
          [
           "Shelmet"
          ],
          [
           "Accelgor"
          ],
          [
           "Durant"
          ],
          [
           "Larvesta"
          ],
          [
           "Volcarona"
          ],
          [
           "Scatterbug"
          ],
          [
           "Spewpa"
          ],
          [
           "Vivillon"
          ],
          [
           "Grubbin"
          ],
          [
           "Charjabug"
          ],
          [
           "Vikavolt"
          ],
          [
           "Cutiefly"
          ],
          [
           "Ribombee"
          ],
          [
           "Wimpod"
          ],
          [
           "Golisopod"
          ],
          [
           "Blipbug"
          ],
          [
           "Dottler"
          ],
          [
           "Orbeetle"
          ]
         ],
         "hovertemplate": "Tipo 1=%{x}<br>Defesa!=%{y}<br>name=%{customdata[0]}<extra></extra>",
         "legendgroup": "Bug",
         "marker": {
          "color": "#ab63fa"
         },
         "name": "Bug",
         "notched": false,
         "offsetgroup": "Bug",
         "orientation": "v",
         "showlegend": true,
         "type": "box",
         "x": [
          "Bug",
          "Bug",
          "Bug",
          "Bug",
          "Bug",
          "Bug",
          "Bug",
          "Bug",
          "Bug",
          "Bug",
          "Bug",
          "Bug",
          "Bug",
          "Bug",
          "Bug",
          "Bug",
          "Bug",
          "Bug",
          "Bug",
          "Bug",
          "Bug",
          "Bug",
          "Bug",
          "Bug",
          "Bug",
          "Bug",
          "Bug",
          "Bug",
          "Bug",
          "Bug",
          "Bug",
          "Bug",
          "Bug",
          "Bug",
          "Bug",
          "Bug",
          "Bug",
          "Bug",
          "Bug",
          "Bug",
          "Bug",
          "Bug",
          "Bug",
          "Bug",
          "Bug",
          "Bug",
          "Bug",
          "Bug",
          "Bug",
          "Bug",
          "Bug",
          "Bug",
          "Bug",
          "Bug",
          "Bug",
          "Bug",
          "Bug",
          "Bug",
          "Bug",
          "Bug",
          "Bug",
          "Bug",
          "Bug",
          "Bug",
          "Bug",
          "Bug",
          "Bug",
          "Bug",
          "Bug",
          "Bug",
          "Bug",
          "Bug",
          "Bug",
          "Bug"
         ],
         "x0": " ",
         "xaxis": "x",
         "y": [
          35,
          55,
          50,
          30,
          50,
          40,
          55,
          80,
          50,
          60,
          80,
          100,
          30,
          50,
          40,
          70,
          45,
          90,
          140,
          100,
          230,
          75,
          35,
          55,
          50,
          55,
          70,
          32,
          62,
          90,
          45,
          45,
          75,
          75,
          41,
          51,
          45,
          85,
          105,
          95,
          50,
          42,
          102,
          86,
          70,
          90,
          80,
          59,
          99,
          89,
          85,
          125,
          45,
          105,
          50,
          60,
          85,
          40,
          112,
          55,
          65,
          40,
          60,
          50,
          45,
          95,
          90,
          40,
          60,
          40,
          140,
          20,
          80,
          110
         ],
         "y0": " ",
         "yaxis": "y"
        },
        {
         "alignmentgroup": "True",
         "boxpoints": "all",
         "customdata": [
          [
           "Pidgey"
          ],
          [
           "Pidgeotto"
          ],
          [
           "Pidgeot"
          ],
          [
           "Rattata"
          ],
          [
           "Raticate"
          ],
          [
           "Spearow"
          ],
          [
           "Fearow"
          ],
          [
           "Jigglypuff"
          ],
          [
           "Wigglytuff"
          ],
          [
           "Meowth"
          ],
          [
           "Persian"
          ],
          [
           "Farfetch'd"
          ],
          [
           "Doduo"
          ],
          [
           "Dodrio"
          ],
          [
           "Lickitung"
          ],
          [
           "Chansey"
          ],
          [
           "Kangaskhan"
          ],
          [
           "Tauros"
          ],
          [
           "Ditto"
          ],
          [
           "Eevee"
          ],
          [
           "Partner Eevee"
          ],
          [
           "Porygon"
          ],
          [
           "Snorlax"
          ],
          [
           "Sentret"
          ],
          [
           "Furret"
          ],
          [
           "Hoothoot"
          ],
          [
           "Noctowl"
          ],
          [
           "Igglybuff"
          ],
          [
           "Aipom"
          ],
          [
           "Girafarig"
          ],
          [
           "Dunsparce"
          ],
          [
           "Teddiursa"
          ],
          [
           "Ursaring"
          ],
          [
           "Porygon2"
          ],
          [
           "Stantler"
          ],
          [
           "Smeargle"
          ],
          [
           "Miltank"
          ],
          [
           "Blissey"
          ],
          [
           "Zigzagoon"
          ],
          [
           "Linoone"
          ],
          [
           "Taillow"
          ],
          [
           "Swellow"
          ],
          [
           "Slakoth"
          ],
          [
           "Vigoroth"
          ],
          [
           "Slaking"
          ],
          [
           "Whismur"
          ],
          [
           "Loudred"
          ],
          [
           "Exploud"
          ],
          [
           "Azurill"
          ],
          [
           "Skitty"
          ],
          [
           "Delcatty"
          ],
          [
           "Spinda"
          ],
          [
           "Swablu"
          ],
          [
           "Zangoose"
          ],
          [
           "Castform"
          ],
          [
           "Kecleon"
          ],
          [
           "Starly"
          ],
          [
           "Staravia"
          ],
          [
           "Staraptor"
          ],
          [
           "Bidoof"
          ],
          [
           "Bibarel"
          ],
          [
           "Ambipom"
          ],
          [
           "Buneary"
          ],
          [
           "Lopunny"
          ],
          [
           "Glameow"
          ],
          [
           "Purugly"
          ],
          [
           "Happiny"
          ],
          [
           "Chatot"
          ],
          [
           "Munchlax"
          ],
          [
           "Lickilicky"
          ],
          [
           "Porygon-Z"
          ],
          [
           "Patrat"
          ],
          [
           "Watchog"
          ],
          [
           "Lillipup"
          ],
          [
           "Herdier"
          ],
          [
           "Stoutland"
          ],
          [
           "Pidove"
          ],
          [
           "Tranquill"
          ],
          [
           "Unfezant"
          ],
          [
           "Audino"
          ],
          [
           "Minccino"
          ],
          [
           "Cinccino"
          ],
          [
           "Deerling"
          ],
          [
           "Sawsbuck"
          ],
          [
           "Bouffalant"
          ],
          [
           "Rufflet"
          ],
          [
           "Braviary"
          ],
          [
           "Bunnelby"
          ],
          [
           "Diggersby"
          ],
          [
           "Fletchling"
          ],
          [
           "Furfrou"
          ],
          [
           "Pikipek"
          ],
          [
           "Trumbeak"
          ],
          [
           "Toucannon"
          ],
          [
           "Yungoos"
          ],
          [
           "Gumshoos"
          ],
          [
           "Stufful"
          ],
          [
           "Bewear"
          ],
          [
           "Oranguru"
          ],
          [
           "Komala"
          ],
          [
           "Drampa"
          ],
          [
           "Skwovet"
          ],
          [
           "Greedent"
          ],
          [
           "Wooloo"
          ],
          [
           "Dubwool"
          ]
         ],
         "hovertemplate": "Tipo 1=%{x}<br>Defesa!=%{y}<br>name=%{customdata[0]}<extra></extra>",
         "legendgroup": "Normal",
         "marker": {
          "color": "#FFA15A"
         },
         "name": "Normal",
         "notched": false,
         "offsetgroup": "Normal",
         "orientation": "v",
         "showlegend": true,
         "type": "box",
         "x": [
          "Normal",
          "Normal",
          "Normal",
          "Normal",
          "Normal",
          "Normal",
          "Normal",
          "Normal",
          "Normal",
          "Normal",
          "Normal",
          "Normal",
          "Normal",
          "Normal",
          "Normal",
          "Normal",
          "Normal",
          "Normal",
          "Normal",
          "Normal",
          "Normal",
          "Normal",
          "Normal",
          "Normal",
          "Normal",
          "Normal",
          "Normal",
          "Normal",
          "Normal",
          "Normal",
          "Normal",
          "Normal",
          "Normal",
          "Normal",
          "Normal",
          "Normal",
          "Normal",
          "Normal",
          "Normal",
          "Normal",
          "Normal",
          "Normal",
          "Normal",
          "Normal",
          "Normal",
          "Normal",
          "Normal",
          "Normal",
          "Normal",
          "Normal",
          "Normal",
          "Normal",
          "Normal",
          "Normal",
          "Normal",
          "Normal",
          "Normal",
          "Normal",
          "Normal",
          "Normal",
          "Normal",
          "Normal",
          "Normal",
          "Normal",
          "Normal",
          "Normal",
          "Normal",
          "Normal",
          "Normal",
          "Normal",
          "Normal",
          "Normal",
          "Normal",
          "Normal",
          "Normal",
          "Normal",
          "Normal",
          "Normal",
          "Normal",
          "Normal",
          "Normal",
          "Normal",
          "Normal",
          "Normal",
          "Normal",
          "Normal",
          "Normal",
          "Normal",
          "Normal",
          "Normal",
          "Normal",
          "Normal",
          "Normal",
          "Normal",
          "Normal",
          "Normal",
          "Normal",
          "Normal",
          "Normal",
          "Normal",
          "Normal",
          "Normal",
          "Normal",
          "Normal",
          "Normal"
         ],
         "x0": " ",
         "xaxis": "x",
         "y": [
          40,
          55,
          75,
          35,
          60,
          30,
          65,
          20,
          45,
          35,
          60,
          55,
          45,
          70,
          75,
          5,
          80,
          95,
          48,
          50,
          70,
          70,
          65,
          34,
          64,
          30,
          50,
          15,
          55,
          65,
          70,
          50,
          75,
          90,
          62,
          35,
          105,
          10,
          41,
          61,
          30,
          60,
          60,
          80,
          100,
          23,
          43,
          63,
          40,
          45,
          65,
          60,
          60,
          60,
          70,
          70,
          30,
          50,
          70,
          40,
          60,
          66,
          44,
          84,
          42,
          64,
          5,
          45,
          40,
          95,
          70,
          39,
          69,
          45,
          65,
          90,
          50,
          62,
          80,
          86,
          40,
          60,
          50,
          70,
          95,
          50,
          75,
          38,
          77,
          43,
          60,
          30,
          50,
          75,
          30,
          60,
          50,
          80,
          80,
          65,
          85,
          55,
          95,
          55,
          100
         ],
         "y0": " ",
         "yaxis": "y"
        },
        {
         "alignmentgroup": "True",
         "boxpoints": "all",
         "customdata": [
          [
           "Alolan Rattata"
          ],
          [
           "Alolan Raticate"
          ],
          [
           "Alolan Meowth"
          ],
          [
           "Alolan Persian"
          ],
          [
           "Umbreon"
          ],
          [
           "Murkrow"
          ],
          [
           "Sneasel"
          ],
          [
           "Houndour"
          ],
          [
           "Houndoom"
          ],
          [
           "Poochyena"
          ],
          [
           "Mightyena"
          ],
          [
           "Galarian Zigzagoon"
          ],
          [
           "Galarian Linoone"
          ],
          [
           "Sableye"
          ],
          [
           "Absol"
          ],
          [
           "Honchkrow"
          ],
          [
           "Weavile"
          ],
          [
           "Purrloin"
          ],
          [
           "Liepard"
          ],
          [
           "Scraggy"
          ],
          [
           "Scrafty"
          ],
          [
           "Zorua"
          ],
          [
           "Zoroark"
          ],
          [
           "Pawniard"
          ],
          [
           "Bisharp"
          ],
          [
           "Vullaby"
          ],
          [
           "Mandibuzz"
          ],
          [
           "Deino"
          ],
          [
           "Zweilous"
          ],
          [
           "Hydreigon"
          ],
          [
           "Inkay"
          ],
          [
           "Malamar"
          ],
          [
           "Nickit"
          ],
          [
           "Thievul"
          ],
          [
           "Impidimp"
          ],
          [
           "Morgrem"
          ],
          [
           "Grimmsnarl"
          ],
          [
           "Obstagoon"
          ]
         ],
         "hovertemplate": "Tipo 1=%{x}<br>Defesa!=%{y}<br>name=%{customdata[0]}<extra></extra>",
         "legendgroup": "Dark",
         "marker": {
          "color": "#19d3f3"
         },
         "name": "Dark",
         "notched": false,
         "offsetgroup": "Dark",
         "orientation": "v",
         "showlegend": true,
         "type": "box",
         "x": [
          "Dark",
          "Dark",
          "Dark",
          "Dark",
          "Dark",
          "Dark",
          "Dark",
          "Dark",
          "Dark",
          "Dark",
          "Dark",
          "Dark",
          "Dark",
          "Dark",
          "Dark",
          "Dark",
          "Dark",
          "Dark",
          "Dark",
          "Dark",
          "Dark",
          "Dark",
          "Dark",
          "Dark",
          "Dark",
          "Dark",
          "Dark",
          "Dark",
          "Dark",
          "Dark",
          "Dark",
          "Dark",
          "Dark",
          "Dark",
          "Dark",
          "Dark",
          "Dark",
          "Dark"
         ],
         "x0": " ",
         "xaxis": "x",
         "y": [
          35,
          70,
          35,
          60,
          110,
          42,
          55,
          30,
          50,
          35,
          70,
          41,
          61,
          75,
          60,
          52,
          65,
          37,
          50,
          70,
          115,
          40,
          60,
          70,
          100,
          75,
          105,
          50,
          70,
          90,
          53,
          88,
          28,
          58,
          30,
          45,
          65,
          101
         ],
         "y0": " ",
         "yaxis": "y"
        },
        {
         "alignmentgroup": "True",
         "boxpoints": "all",
         "customdata": [
          [
           "Ekans"
          ],
          [
           "Arbok"
          ],
          [
           "Nidoran♀"
          ],
          [
           "Nidorina"
          ],
          [
           "Nidoqueen"
          ],
          [
           "Nidoran♂"
          ],
          [
           "Nidorino"
          ],
          [
           "Nidoking"
          ],
          [
           "Zubat"
          ],
          [
           "Golbat"
          ],
          [
           "Grimer"
          ],
          [
           "Alolan Grimer"
          ],
          [
           "Muk"
          ],
          [
           "Alolan Muk"
          ],
          [
           "Koffing"
          ],
          [
           "Weezing"
          ],
          [
           "Galarian Weezing"
          ],
          [
           "Crobat"
          ],
          [
           "Gulpin"
          ],
          [
           "Swalot"
          ],
          [
           "Seviper"
          ],
          [
           "Stunky"
          ],
          [
           "Skuntank"
          ],
          [
           "Skorupi"
          ],
          [
           "Drapion"
          ],
          [
           "Croagunk"
          ],
          [
           "Toxicroak"
          ],
          [
           "Trubbish"
          ],
          [
           "Garbodor"
          ],
          [
           "Skrelp"
          ],
          [
           "Dragalge"
          ],
          [
           "Mareanie"
          ],
          [
           "Toxapex"
          ],
          [
           "Salandit"
          ],
          [
           "Salazzle"
          ]
         ],
         "hovertemplate": "Tipo 1=%{x}<br>Defesa!=%{y}<br>name=%{customdata[0]}<extra></extra>",
         "legendgroup": "Poison",
         "marker": {
          "color": "#FF6692"
         },
         "name": "Poison",
         "notched": false,
         "offsetgroup": "Poison",
         "orientation": "v",
         "showlegend": true,
         "type": "box",
         "x": [
          "Poison",
          "Poison",
          "Poison",
          "Poison",
          "Poison",
          "Poison",
          "Poison",
          "Poison",
          "Poison",
          "Poison",
          "Poison",
          "Poison",
          "Poison",
          "Poison",
          "Poison",
          "Poison",
          "Poison",
          "Poison",
          "Poison",
          "Poison",
          "Poison",
          "Poison",
          "Poison",
          "Poison",
          "Poison",
          "Poison",
          "Poison",
          "Poison",
          "Poison",
          "Poison",
          "Poison",
          "Poison",
          "Poison",
          "Poison",
          "Poison"
         ],
         "x0": " ",
         "xaxis": "x",
         "y": [
          44,
          69,
          52,
          67,
          87,
          40,
          57,
          77,
          35,
          70,
          50,
          50,
          75,
          75,
          95,
          120,
          120,
          80,
          53,
          83,
          60,
          47,
          67,
          90,
          110,
          40,
          65,
          62,
          82,
          60,
          90,
          62,
          152,
          40,
          60
         ],
         "y0": " ",
         "yaxis": "y"
        },
        {
         "alignmentgroup": "True",
         "boxpoints": "all",
         "customdata": [
          [
           "Pikachu"
          ],
          [
           "Partner Pikachu"
          ],
          [
           "Raichu"
          ],
          [
           "Alolan Raichu"
          ],
          [
           "Magnemite"
          ],
          [
           "Magneton"
          ],
          [
           "Voltorb"
          ],
          [
           "Electrode"
          ],
          [
           "Electabuzz"
          ],
          [
           "Jolteon"
          ],
          [
           "Pichu"
          ],
          [
           "Mareep"
          ],
          [
           "Flaaffy"
          ],
          [
           "Ampharos"
          ],
          [
           "Elekid"
          ],
          [
           "Electrike"
          ],
          [
           "Manectric"
          ],
          [
           "Plusle"
          ],
          [
           "Minun"
          ],
          [
           "Shinx"
          ],
          [
           "Luxio"
          ],
          [
           "Luxray"
          ],
          [
           "Pachirisu"
          ],
          [
           "Magnezone"
          ],
          [
           "Electivire"
          ],
          [
           "Rotom"
          ],
          [
           "Heat Rotom"
          ],
          [
           "Wash Rotom"
          ],
          [
           "Frost Rotom"
          ],
          [
           "Fan Rotom"
          ],
          [
           "Mow Rotom"
          ],
          [
           "Blitzle"
          ],
          [
           "Zebstrika"
          ],
          [
           "Emolga"
          ],
          [
           "Tynamo"
          ],
          [
           "Eelektrik"
          ],
          [
           "Eelektross"
          ],
          [
           "Helioptile"
          ],
          [
           "Heliolisk"
          ],
          [
           "Dedenne"
          ],
          [
           "Oricorio Pom-Pom Style"
          ],
          [
           "Togedemaru"
          ],
          [
           "Yamper"
          ],
          [
           "Boltund"
          ],
          [
           "Toxel"
          ],
          [
           "Toxtricity Low Key Form"
          ],
          [
           "Toxtricity Amped Form"
          ],
          [
           "Pincurchin"
          ],
          [
           "Morpeko Full Belly Mode"
          ],
          [
           "Morpeko Hangry Mode"
          ],
          [
           "Dracozolt"
          ],
          [
           "Arctozolt"
          ]
         ],
         "hovertemplate": "Tipo 1=%{x}<br>Defesa!=%{y}<br>name=%{customdata[0]}<extra></extra>",
         "legendgroup": "Electric",
         "marker": {
          "color": "#B6E880"
         },
         "name": "Electric",
         "notched": false,
         "offsetgroup": "Electric",
         "orientation": "v",
         "showlegend": true,
         "type": "box",
         "x": [
          "Electric",
          "Electric",
          "Electric",
          "Electric",
          "Electric",
          "Electric",
          "Electric",
          "Electric",
          "Electric",
          "Electric",
          "Electric",
          "Electric",
          "Electric",
          "Electric",
          "Electric",
          "Electric",
          "Electric",
          "Electric",
          "Electric",
          "Electric",
          "Electric",
          "Electric",
          "Electric",
          "Electric",
          "Electric",
          "Electric",
          "Electric",
          "Electric",
          "Electric",
          "Electric",
          "Electric",
          "Electric",
          "Electric",
          "Electric",
          "Electric",
          "Electric",
          "Electric",
          "Electric",
          "Electric",
          "Electric",
          "Electric",
          "Electric",
          "Electric",
          "Electric",
          "Electric",
          "Electric",
          "Electric",
          "Electric",
          "Electric",
          "Electric",
          "Electric",
          "Electric"
         ],
         "x0": " ",
         "xaxis": "x",
         "y": [
          40,
          50,
          55,
          50,
          70,
          95,
          50,
          70,
          57,
          60,
          15,
          40,
          55,
          85,
          37,
          40,
          60,
          40,
          50,
          34,
          49,
          79,
          70,
          115,
          67,
          77,
          107,
          107,
          107,
          107,
          107,
          32,
          63,
          60,
          40,
          70,
          80,
          33,
          52,
          57,
          70,
          63,
          50,
          60,
          35,
          70,
          70,
          95,
          58,
          58,
          90,
          90
         ],
         "y0": " ",
         "yaxis": "y"
        },
        {
         "alignmentgroup": "True",
         "boxpoints": "all",
         "customdata": [
          [
           "Sandshrew"
          ],
          [
           "Sandslash"
          ],
          [
           "Diglett"
          ],
          [
           "Alolan Diglett"
          ],
          [
           "Dugtrio"
          ],
          [
           "Alolan Dugtrio"
          ],
          [
           "Cubone"
          ],
          [
           "Marowak"
          ],
          [
           "Rhyhorn"
          ],
          [
           "Rhydon"
          ],
          [
           "Gligar"
          ],
          [
           "Phanpy"
          ],
          [
           "Donphan"
          ],
          [
           "Trapinch"
          ],
          [
           "Vibrava"
          ],
          [
           "Flygon"
          ],
          [
           "Baltoy"
          ],
          [
           "Claydol"
          ],
          [
           "Hippopotas"
          ],
          [
           "Hippowdon"
          ],
          [
           "Rhyperior"
          ],
          [
           "Gliscor"
          ],
          [
           "Drilbur"
          ],
          [
           "Excadrill"
          ],
          [
           "Sandile"
          ],
          [
           "Krokorok"
          ],
          [
           "Krookodile"
          ],
          [
           "Galarian Yamask"
          ],
          [
           "Stunfisk"
          ],
          [
           "Galarian Stunfisk"
          ],
          [
           "Golett"
          ],
          [
           "Golurk"
          ],
          [
           "Mudbray"
          ],
          [
           "Mudsdale"
          ],
          [
           "Silicobra"
          ],
          [
           "Sandaconda"
          ],
          [
           "Runerigus"
          ]
         ],
         "hovertemplate": "Tipo 1=%{x}<br>Defesa!=%{y}<br>name=%{customdata[0]}<extra></extra>",
         "legendgroup": "Ground",
         "marker": {
          "color": "#FF97FF"
         },
         "name": "Ground",
         "notched": false,
         "offsetgroup": "Ground",
         "orientation": "v",
         "showlegend": true,
         "type": "box",
         "x": [
          "Ground",
          "Ground",
          "Ground",
          "Ground",
          "Ground",
          "Ground",
          "Ground",
          "Ground",
          "Ground",
          "Ground",
          "Ground",
          "Ground",
          "Ground",
          "Ground",
          "Ground",
          "Ground",
          "Ground",
          "Ground",
          "Ground",
          "Ground",
          "Ground",
          "Ground",
          "Ground",
          "Ground",
          "Ground",
          "Ground",
          "Ground",
          "Ground",
          "Ground",
          "Ground",
          "Ground",
          "Ground",
          "Ground",
          "Ground",
          "Ground",
          "Ground",
          "Ground"
         ],
         "x0": " ",
         "xaxis": "x",
         "y": [
          85,
          110,
          25,
          30,
          50,
          60,
          95,
          110,
          95,
          120,
          105,
          60,
          120,
          45,
          50,
          80,
          55,
          105,
          78,
          118,
          130,
          125,
          40,
          60,
          35,
          45,
          80,
          85,
          84,
          99,
          50,
          80,
          70,
          100,
          75,
          125,
          145
         ],
         "y0": " ",
         "yaxis": "y"
        },
        {
         "alignmentgroup": "True",
         "boxpoints": "all",
         "customdata": [
          [
           "Alolan Sandshrew"
          ],
          [
           "Alolan Sandslash"
          ],
          [
           "Alolan Vulpix"
          ],
          [
           "Alolan Ninetales"
          ],
          [
           "Jynx"
          ],
          [
           "Swinub"
          ],
          [
           "Piloswine"
          ],
          [
           "Delibird"
          ],
          [
           "Smoochum"
          ],
          [
           "Castform Snowy Form"
          ],
          [
           "Snorunt"
          ],
          [
           "Glalie"
          ],
          [
           "Spheal"
          ],
          [
           "Sealeo"
          ],
          [
           "Walrein"
          ],
          [
           "Glaceon"
          ],
          [
           "Mamoswine"
          ],
          [
           "Froslass"
          ],
          [
           "Galarian Darumaka"
          ],
          [
           "Darmanitan Galarian Standard Mode"
          ],
          [
           "Darmanitan Galarian Zen Mode"
          ],
          [
           "Vanillite"
          ],
          [
           "Vanillish"
          ],
          [
           "Vanilluxe"
          ],
          [
           "Cubchoo"
          ],
          [
           "Beartic"
          ],
          [
           "Cryogonal"
          ],
          [
           "Bergmite"
          ],
          [
           "Avalugg"
          ],
          [
           "Snom"
          ],
          [
           "Frosmoth"
          ],
          [
           "Eiscue Ice Face"
          ],
          [
           "Eiscue Noice Face"
          ]
         ],
         "hovertemplate": "Tipo 1=%{x}<br>Defesa!=%{y}<br>name=%{customdata[0]}<extra></extra>",
         "legendgroup": "Ice",
         "marker": {
          "color": "#FECB52"
         },
         "name": "Ice",
         "notched": false,
         "offsetgroup": "Ice",
         "orientation": "v",
         "showlegend": true,
         "type": "box",
         "x": [
          "Ice",
          "Ice",
          "Ice",
          "Ice",
          "Ice",
          "Ice",
          "Ice",
          "Ice",
          "Ice",
          "Ice",
          "Ice",
          "Ice",
          "Ice",
          "Ice",
          "Ice",
          "Ice",
          "Ice",
          "Ice",
          "Ice",
          "Ice",
          "Ice",
          "Ice",
          "Ice",
          "Ice",
          "Ice",
          "Ice",
          "Ice",
          "Ice",
          "Ice",
          "Ice",
          "Ice",
          "Ice",
          "Ice"
         ],
         "x0": " ",
         "xaxis": "x",
         "y": [
          90,
          120,
          40,
          75,
          35,
          40,
          80,
          45,
          15,
          70,
          50,
          80,
          50,
          70,
          90,
          110,
          80,
          70,
          45,
          55,
          55,
          50,
          65,
          85,
          40,
          80,
          50,
          85,
          184,
          35,
          60,
          110,
          70
         ],
         "y0": " ",
         "yaxis": "y"
        },
        {
         "alignmentgroup": "True",
         "boxpoints": "all",
         "customdata": [
          [
           "Clefairy"
          ],
          [
           "Clefable"
          ],
          [
           "Cleffa"
          ],
          [
           "Togepi"
          ],
          [
           "Togetic"
          ],
          [
           "Snubbull"
          ],
          [
           "Granbull"
          ],
          [
           "Togekiss"
          ],
          [
           "Flabébé"
          ],
          [
           "Floette"
          ],
          [
           "Florges"
          ],
          [
           "Spritzee"
          ],
          [
           "Aromatisse"
          ],
          [
           "Swirlix"
          ],
          [
           "Slurpuff"
          ],
          [
           "Sylveon"
          ],
          [
           "Comfey"
          ],
          [
           "Milcery"
          ],
          [
           "Alcremie"
          ]
         ],
         "hovertemplate": "Tipo 1=%{x}<br>Defesa!=%{y}<br>name=%{customdata[0]}<extra></extra>",
         "legendgroup": "Fairy",
         "marker": {
          "color": "#636efa"
         },
         "name": "Fairy",
         "notched": false,
         "offsetgroup": "Fairy",
         "orientation": "v",
         "showlegend": true,
         "type": "box",
         "x": [
          "Fairy",
          "Fairy",
          "Fairy",
          "Fairy",
          "Fairy",
          "Fairy",
          "Fairy",
          "Fairy",
          "Fairy",
          "Fairy",
          "Fairy",
          "Fairy",
          "Fairy",
          "Fairy",
          "Fairy",
          "Fairy",
          "Fairy",
          "Fairy",
          "Fairy"
         ],
         "x0": " ",
         "xaxis": "x",
         "y": [
          48,
          73,
          28,
          65,
          85,
          50,
          75,
          95,
          39,
          47,
          68,
          60,
          72,
          66,
          86,
          65,
          90,
          40,
          75
         ],
         "y0": " ",
         "yaxis": "y"
        },
        {
         "alignmentgroup": "True",
         "boxpoints": "all",
         "customdata": [
          [
           "Galarian Meowth"
          ],
          [
           "Steelix"
          ],
          [
           "Skarmory"
          ],
          [
           "Mawile"
          ],
          [
           "Aron"
          ],
          [
           "Lairon"
          ],
          [
           "Aggron"
          ],
          [
           "Beldum"
          ],
          [
           "Metang"
          ],
          [
           "Metagross"
          ],
          [
           "Bronzor"
          ],
          [
           "Bronzong"
          ],
          [
           "Klink"
          ],
          [
           "Klang"
          ],
          [
           "Klinklang"
          ],
          [
           "Honedge"
          ],
          [
           "Doublade"
          ],
          [
           "Aegislash Blade Forme"
          ],
          [
           "Aegislash Shield Forme"
          ],
          [
           "Klefki"
          ],
          [
           "Perrserker"
          ],
          [
           "Cufant"
          ],
          [
           "Copperajah"
          ],
          [
           "Duraludon"
          ]
         ],
         "hovertemplate": "Tipo 1=%{x}<br>Defesa!=%{y}<br>name=%{customdata[0]}<extra></extra>",
         "legendgroup": "Steel",
         "marker": {
          "color": "#EF553B"
         },
         "name": "Steel",
         "notched": false,
         "offsetgroup": "Steel",
         "orientation": "v",
         "showlegend": true,
         "type": "box",
         "x": [
          "Steel",
          "Steel",
          "Steel",
          "Steel",
          "Steel",
          "Steel",
          "Steel",
          "Steel",
          "Steel",
          "Steel",
          "Steel",
          "Steel",
          "Steel",
          "Steel",
          "Steel",
          "Steel",
          "Steel",
          "Steel",
          "Steel",
          "Steel",
          "Steel",
          "Steel",
          "Steel",
          "Steel"
         ],
         "x0": " ",
         "xaxis": "x",
         "y": [
          55,
          200,
          140,
          85,
          100,
          140,
          180,
          80,
          100,
          130,
          86,
          116,
          70,
          95,
          115,
          100,
          150,
          50,
          150,
          91,
          100,
          49,
          69,
          115
         ],
         "y0": " ",
         "yaxis": "y"
        },
        {
         "alignmentgroup": "True",
         "boxpoints": "all",
         "customdata": [
          [
           "Mankey"
          ],
          [
           "Primeape"
          ],
          [
           "Machop"
          ],
          [
           "Machoke"
          ],
          [
           "Machamp"
          ],
          [
           "Galarian Farfetch'd"
          ],
          [
           "Hitmonlee"
          ],
          [
           "Hitmonchan"
          ],
          [
           "Tyrogue"
          ],
          [
           "Hitmontop"
          ],
          [
           "Makuhita"
          ],
          [
           "Hariyama"
          ],
          [
           "Meditite"
          ],
          [
           "Medicham"
          ],
          [
           "Riolu"
          ],
          [
           "Lucario"
          ],
          [
           "Timburr"
          ],
          [
           "Gurdurr"
          ],
          [
           "Conkeldurr"
          ],
          [
           "Throh"
          ],
          [
           "Sawk"
          ],
          [
           "Mienfoo"
          ],
          [
           "Mienshao"
          ],
          [
           "Pancham"
          ],
          [
           "Pangoro"
          ],
          [
           "Hawlucha"
          ],
          [
           "Crabrawler"
          ],
          [
           "Crabominable"
          ],
          [
           "Passimian"
          ],
          [
           "Clobbopus"
          ],
          [
           "Grapploct"
          ],
          [
           "Sirfetch'd"
          ],
          [
           "Falinks"
          ]
         ],
         "hovertemplate": "Tipo 1=%{x}<br>Defesa!=%{y}<br>name=%{customdata[0]}<extra></extra>",
         "legendgroup": "Fighting",
         "marker": {
          "color": "#00cc96"
         },
         "name": "Fighting",
         "notched": false,
         "offsetgroup": "Fighting",
         "orientation": "v",
         "showlegend": true,
         "type": "box",
         "x": [
          "Fighting",
          "Fighting",
          "Fighting",
          "Fighting",
          "Fighting",
          "Fighting",
          "Fighting",
          "Fighting",
          "Fighting",
          "Fighting",
          "Fighting",
          "Fighting",
          "Fighting",
          "Fighting",
          "Fighting",
          "Fighting",
          "Fighting",
          "Fighting",
          "Fighting",
          "Fighting",
          "Fighting",
          "Fighting",
          "Fighting",
          "Fighting",
          "Fighting",
          "Fighting",
          "Fighting",
          "Fighting",
          "Fighting",
          "Fighting",
          "Fighting",
          "Fighting",
          "Fighting"
         ],
         "x0": " ",
         "xaxis": "x",
         "y": [
          35,
          60,
          50,
          70,
          80,
          55,
          53,
          79,
          35,
          95,
          30,
          60,
          55,
          75,
          40,
          70,
          55,
          85,
          95,
          85,
          75,
          50,
          60,
          62,
          78,
          75,
          57,
          77,
          90,
          60,
          90,
          95,
          100
         ],
         "y0": " ",
         "yaxis": "y"
        },
        {
         "alignmentgroup": "True",
         "boxpoints": "all",
         "customdata": [
          [
           "Abra"
          ],
          [
           "Kadabra"
          ],
          [
           "Alakazam"
          ],
          [
           "Galarian Ponyta"
          ],
          [
           "Galarian Rapidash"
          ],
          [
           "Drowzee"
          ],
          [
           "Hypno"
          ],
          [
           "Mr. Mime"
          ],
          [
           "Galarian Mr. Mime"
          ],
          [
           "Natu"
          ],
          [
           "Xatu"
          ],
          [
           "Espeon"
          ],
          [
           "Unown"
          ],
          [
           "Wobbuffet"
          ],
          [
           "Ralts"
          ],
          [
           "Kirlia"
          ],
          [
           "Gardevoir"
          ],
          [
           "Spoink"
          ],
          [
           "Grumpig"
          ],
          [
           "Chimecho"
          ],
          [
           "Wynaut"
          ],
          [
           "Chingling"
          ],
          [
           "Mime Jr."
          ],
          [
           "Gallade"
          ],
          [
           "Munna"
          ],
          [
           "Musharna"
          ],
          [
           "Woobat"
          ],
          [
           "Swoobat"
          ],
          [
           "Sigilyph"
          ],
          [
           "Gothita"
          ],
          [
           "Gothorita"
          ],
          [
           "Gothitelle"
          ],
          [
           "Solosis"
          ],
          [
           "Duosion"
          ],
          [
           "Reuniclus"
          ],
          [
           "Elgyem"
          ],
          [
           "Beheeyem"
          ],
          [
           "Espurr"
          ],
          [
           "Meowstic Male"
          ],
          [
           "Meowstic Female"
          ],
          [
           "Oricorio Pa'u Style"
          ],
          [
           "Hatenna"
          ],
          [
           "Hattrem"
          ],
          [
           "Hatterene"
          ],
          [
           "Mr. Rime"
          ],
          [
           "Indeedee Male"
          ],
          [
           "Indeedee Female"
          ]
         ],
         "hovertemplate": "Tipo 1=%{x}<br>Defesa!=%{y}<br>name=%{customdata[0]}<extra></extra>",
         "legendgroup": "Psychic",
         "marker": {
          "color": "#ab63fa"
         },
         "name": "Psychic",
         "notched": false,
         "offsetgroup": "Psychic",
         "orientation": "v",
         "showlegend": true,
         "type": "box",
         "x": [
          "Psychic",
          "Psychic",
          "Psychic",
          "Psychic",
          "Psychic",
          "Psychic",
          "Psychic",
          "Psychic",
          "Psychic",
          "Psychic",
          "Psychic",
          "Psychic",
          "Psychic",
          "Psychic",
          "Psychic",
          "Psychic",
          "Psychic",
          "Psychic",
          "Psychic",
          "Psychic",
          "Psychic",
          "Psychic",
          "Psychic",
          "Psychic",
          "Psychic",
          "Psychic",
          "Psychic",
          "Psychic",
          "Psychic",
          "Psychic",
          "Psychic",
          "Psychic",
          "Psychic",
          "Psychic",
          "Psychic",
          "Psychic",
          "Psychic",
          "Psychic",
          "Psychic",
          "Psychic",
          "Psychic",
          "Psychic",
          "Psychic",
          "Psychic",
          "Psychic",
          "Psychic",
          "Psychic"
         ],
         "x0": " ",
         "xaxis": "x",
         "y": [
          15,
          30,
          45,
          55,
          70,
          45,
          70,
          65,
          65,
          45,
          70,
          60,
          48,
          58,
          25,
          35,
          65,
          35,
          65,
          80,
          48,
          50,
          45,
          65,
          45,
          85,
          43,
          55,
          80,
          50,
          70,
          95,
          40,
          50,
          75,
          55,
          75,
          54,
          76,
          76,
          70,
          45,
          65,
          95,
          75,
          55,
          65
         ],
         "y0": " ",
         "yaxis": "y"
        },
        {
         "alignmentgroup": "True",
         "boxpoints": "all",
         "customdata": [
          [
           "Geodude"
          ],
          [
           "Alolan Geodude"
          ],
          [
           "Graveler"
          ],
          [
           "Alolan Graveler"
          ],
          [
           "Golem"
          ],
          [
           "Alolan Golem"
          ],
          [
           "Onix"
          ],
          [
           "Omanyte"
          ],
          [
           "Omastar"
          ],
          [
           "Kabuto"
          ],
          [
           "Kabutops"
          ],
          [
           "Aerodactyl"
          ],
          [
           "Sudowoodo"
          ],
          [
           "Larvitar"
          ],
          [
           "Pupitar"
          ],
          [
           "Tyranitar"
          ],
          [
           "Nosepass"
          ],
          [
           "Lunatone"
          ],
          [
           "Solrock"
          ],
          [
           "Lileep"
          ],
          [
           "Cradily"
          ],
          [
           "Anorith"
          ],
          [
           "Armaldo"
          ],
          [
           "Cranidos"
          ],
          [
           "Rampardos"
          ],
          [
           "Shieldon"
          ],
          [
           "Bastiodon"
          ],
          [
           "Bonsly"
          ],
          [
           "Probopass"
          ],
          [
           "Roggenrola"
          ],
          [
           "Boldore"
          ],
          [
           "Gigalith"
          ],
          [
           "Archen"
          ],
          [
           "Archeops"
          ],
          [
           "Binacle"
          ],
          [
           "Barbaracle"
          ],
          [
           "Tyrunt"
          ],
          [
           "Tyrantrum"
          ],
          [
           "Amaura"
          ],
          [
           "Aurorus"
          ],
          [
           "Carbink"
          ],
          [
           "Rockruff"
          ],
          [
           "Own Tempo Rockruff"
          ],
          [
           "Lycanroc Midday Form"
          ],
          [
           "Lycanroc Midnight Form"
          ],
          [
           "Lycanroc Dusk Form"
          ],
          [
           "Minior Meteor Form"
          ],
          [
           "Minior Core Form"
          ],
          [
           "Rolycoly"
          ],
          [
           "Carkol"
          ],
          [
           "Coalossal"
          ],
          [
           "Stonjourner"
          ]
         ],
         "hovertemplate": "Tipo 1=%{x}<br>Defesa!=%{y}<br>name=%{customdata[0]}<extra></extra>",
         "legendgroup": "Rock",
         "marker": {
          "color": "#FFA15A"
         },
         "name": "Rock",
         "notched": false,
         "offsetgroup": "Rock",
         "orientation": "v",
         "showlegend": true,
         "type": "box",
         "x": [
          "Rock",
          "Rock",
          "Rock",
          "Rock",
          "Rock",
          "Rock",
          "Rock",
          "Rock",
          "Rock",
          "Rock",
          "Rock",
          "Rock",
          "Rock",
          "Rock",
          "Rock",
          "Rock",
          "Rock",
          "Rock",
          "Rock",
          "Rock",
          "Rock",
          "Rock",
          "Rock",
          "Rock",
          "Rock",
          "Rock",
          "Rock",
          "Rock",
          "Rock",
          "Rock",
          "Rock",
          "Rock",
          "Rock",
          "Rock",
          "Rock",
          "Rock",
          "Rock",
          "Rock",
          "Rock",
          "Rock",
          "Rock",
          "Rock",
          "Rock",
          "Rock",
          "Rock",
          "Rock",
          "Rock",
          "Rock",
          "Rock",
          "Rock",
          "Rock",
          "Rock"
         ],
         "x0": " ",
         "xaxis": "x",
         "y": [
          100,
          100,
          115,
          115,
          130,
          130,
          160,
          100,
          125,
          90,
          105,
          65,
          115,
          50,
          70,
          110,
          135,
          65,
          85,
          77,
          97,
          50,
          100,
          40,
          60,
          118,
          168,
          95,
          145,
          85,
          105,
          130,
          45,
          65,
          67,
          115,
          77,
          119,
          50,
          72,
          150,
          40,
          40,
          65,
          75,
          65,
          100,
          60,
          50,
          90,
          120,
          135
         ],
         "y0": " ",
         "yaxis": "y"
        },
        {
         "alignmentgroup": "True",
         "boxpoints": "all",
         "customdata": [
          [
           "Gastly"
          ],
          [
           "Haunter"
          ],
          [
           "Gengar"
          ],
          [
           "Misdreavus"
          ],
          [
           "Galarian Corsola"
          ],
          [
           "Shuppet"
          ],
          [
           "Banette"
          ],
          [
           "Duskull"
          ],
          [
           "Dusclops"
          ],
          [
           "Drifloon"
          ],
          [
           "Drifblim"
          ],
          [
           "Mismagius"
          ],
          [
           "Spiritomb"
          ],
          [
           "Dusknoir"
          ],
          [
           "Yamask"
          ],
          [
           "Cofagrigus"
          ],
          [
           "Litwick"
          ],
          [
           "Lampent"
          ],
          [
           "Chandelure"
          ],
          [
           "Phantump"
          ],
          [
           "Trevenant"
          ],
          [
           "Pumpkaboo Average Size"
          ],
          [
           "Pumpkaboo Small Size"
          ],
          [
           "Pumpkaboo Large Size"
          ],
          [
           "Pumpkaboo Super Size"
          ],
          [
           "Gourgeist Average Size"
          ],
          [
           "Gourgeist Small Size"
          ],
          [
           "Gourgeist Large Size"
          ],
          [
           "Gourgeist Super Size"
          ],
          [
           "Oricorio Sensu Style"
          ],
          [
           "Sandygast"
          ],
          [
           "Palossand"
          ],
          [
           "Mimikyu"
          ],
          [
           "Dhelmise"
          ],
          [
           "Sinistea"
          ],
          [
           "Polteageist"
          ],
          [
           "Cursola"
          ]
         ],
         "hovertemplate": "Tipo 1=%{x}<br>Defesa!=%{y}<br>name=%{customdata[0]}<extra></extra>",
         "legendgroup": "Ghost",
         "marker": {
          "color": "#19d3f3"
         },
         "name": "Ghost",
         "notched": false,
         "offsetgroup": "Ghost",
         "orientation": "v",
         "showlegend": true,
         "type": "box",
         "x": [
          "Ghost",
          "Ghost",
          "Ghost",
          "Ghost",
          "Ghost",
          "Ghost",
          "Ghost",
          "Ghost",
          "Ghost",
          "Ghost",
          "Ghost",
          "Ghost",
          "Ghost",
          "Ghost",
          "Ghost",
          "Ghost",
          "Ghost",
          "Ghost",
          "Ghost",
          "Ghost",
          "Ghost",
          "Ghost",
          "Ghost",
          "Ghost",
          "Ghost",
          "Ghost",
          "Ghost",
          "Ghost",
          "Ghost",
          "Ghost",
          "Ghost",
          "Ghost",
          "Ghost",
          "Ghost",
          "Ghost",
          "Ghost",
          "Ghost"
         ],
         "x0": " ",
         "xaxis": "x",
         "y": [
          30,
          45,
          60,
          60,
          100,
          35,
          65,
          90,
          130,
          34,
          44,
          60,
          108,
          135,
          85,
          145,
          55,
          60,
          90,
          48,
          76,
          70,
          70,
          70,
          70,
          122,
          122,
          122,
          122,
          70,
          80,
          110,
          80,
          100,
          45,
          65,
          50
         ],
         "y0": " ",
         "yaxis": "y"
        },
        {
         "alignmentgroup": "True",
         "boxpoints": "all",
         "customdata": [
          [
           "Dratini"
          ],
          [
           "Dragonair"
          ],
          [
           "Dragonite"
          ],
          [
           "Altaria"
          ],
          [
           "Bagon"
          ],
          [
           "Shelgon"
          ],
          [
           "Salamence"
          ],
          [
           "Gible"
          ],
          [
           "Gabite"
          ],
          [
           "Garchomp"
          ],
          [
           "Axew"
          ],
          [
           "Fraxure"
          ],
          [
           "Haxorus"
          ],
          [
           "Druddigon"
          ],
          [
           "Goomy"
          ],
          [
           "Sliggoo"
          ],
          [
           "Goodra"
          ],
          [
           "Jangmo-o"
          ],
          [
           "Hakamo-o"
          ],
          [
           "Kommo-o"
          ],
          [
           "Dreepy"
          ],
          [
           "Drakloak"
          ],
          [
           "Dragapult"
          ]
         ],
         "hovertemplate": "Tipo 1=%{x}<br>Defesa!=%{y}<br>name=%{customdata[0]}<extra></extra>",
         "legendgroup": "Dragon",
         "marker": {
          "color": "#FF6692"
         },
         "name": "Dragon",
         "notched": false,
         "offsetgroup": "Dragon",
         "orientation": "v",
         "showlegend": true,
         "type": "box",
         "x": [
          "Dragon",
          "Dragon",
          "Dragon",
          "Dragon",
          "Dragon",
          "Dragon",
          "Dragon",
          "Dragon",
          "Dragon",
          "Dragon",
          "Dragon",
          "Dragon",
          "Dragon",
          "Dragon",
          "Dragon",
          "Dragon",
          "Dragon",
          "Dragon",
          "Dragon",
          "Dragon",
          "Dragon",
          "Dragon",
          "Dragon"
         ],
         "x0": " ",
         "xaxis": "x",
         "y": [
          45,
          65,
          95,
          90,
          60,
          100,
          80,
          45,
          65,
          95,
          60,
          70,
          90,
          90,
          35,
          53,
          70,
          65,
          90,
          125,
          30,
          50,
          75
         ],
         "y0": " ",
         "yaxis": "y"
        },
        {
         "alignmentgroup": "True",
         "boxpoints": "all",
         "customdata": [
          [
           "Noibat"
          ],
          [
           "Noivern"
          ],
          [
           "Rookidee"
          ],
          [
           "Corvisquire"
          ],
          [
           "Corviknight"
          ],
          [
           "Cramorant"
          ]
         ],
         "hovertemplate": "Tipo 1=%{x}<br>Defesa!=%{y}<br>name=%{customdata[0]}<extra></extra>",
         "legendgroup": "Flying",
         "marker": {
          "color": "#B6E880"
         },
         "name": "Flying",
         "notched": false,
         "offsetgroup": "Flying",
         "orientation": "v",
         "showlegend": true,
         "type": "box",
         "x": [
          "Flying",
          "Flying",
          "Flying",
          "Flying",
          "Flying",
          "Flying"
         ],
         "x0": " ",
         "xaxis": "x",
         "y": [
          35,
          80,
          35,
          55,
          105,
          55
         ],
         "y0": " ",
         "yaxis": "y"
        }
       ],
       "layout": {
        "boxmode": "overlay",
        "legend": {
         "title": {
          "text": "Tipo 1"
         },
         "tracegroupgap": 0
        },
        "margin": {
         "t": 60
        },
        "template": {
         "data": {
          "bar": [
           {
            "error_x": {
             "color": "#2a3f5f"
            },
            "error_y": {
             "color": "#2a3f5f"
            },
            "marker": {
             "line": {
              "color": "#E5ECF6",
              "width": 0.5
             },
             "pattern": {
              "fillmode": "overlay",
              "size": 10,
              "solidity": 0.2
             }
            },
            "type": "bar"
           }
          ],
          "barpolar": [
           {
            "marker": {
             "line": {
              "color": "#E5ECF6",
              "width": 0.5
             },
             "pattern": {
              "fillmode": "overlay",
              "size": 10,
              "solidity": 0.2
             }
            },
            "type": "barpolar"
           }
          ],
          "carpet": [
           {
            "aaxis": {
             "endlinecolor": "#2a3f5f",
             "gridcolor": "white",
             "linecolor": "white",
             "minorgridcolor": "white",
             "startlinecolor": "#2a3f5f"
            },
            "baxis": {
             "endlinecolor": "#2a3f5f",
             "gridcolor": "white",
             "linecolor": "white",
             "minorgridcolor": "white",
             "startlinecolor": "#2a3f5f"
            },
            "type": "carpet"
           }
          ],
          "choropleth": [
           {
            "colorbar": {
             "outlinewidth": 0,
             "ticks": ""
            },
            "type": "choropleth"
           }
          ],
          "contour": [
           {
            "colorbar": {
             "outlinewidth": 0,
             "ticks": ""
            },
            "colorscale": [
             [
              0,
              "#0d0887"
             ],
             [
              0.1111111111111111,
              "#46039f"
             ],
             [
              0.2222222222222222,
              "#7201a8"
             ],
             [
              0.3333333333333333,
              "#9c179e"
             ],
             [
              0.4444444444444444,
              "#bd3786"
             ],
             [
              0.5555555555555556,
              "#d8576b"
             ],
             [
              0.6666666666666666,
              "#ed7953"
             ],
             [
              0.7777777777777778,
              "#fb9f3a"
             ],
             [
              0.8888888888888888,
              "#fdca26"
             ],
             [
              1,
              "#f0f921"
             ]
            ],
            "type": "contour"
           }
          ],
          "contourcarpet": [
           {
            "colorbar": {
             "outlinewidth": 0,
             "ticks": ""
            },
            "type": "contourcarpet"
           }
          ],
          "heatmap": [
           {
            "colorbar": {
             "outlinewidth": 0,
             "ticks": ""
            },
            "colorscale": [
             [
              0,
              "#0d0887"
             ],
             [
              0.1111111111111111,
              "#46039f"
             ],
             [
              0.2222222222222222,
              "#7201a8"
             ],
             [
              0.3333333333333333,
              "#9c179e"
             ],
             [
              0.4444444444444444,
              "#bd3786"
             ],
             [
              0.5555555555555556,
              "#d8576b"
             ],
             [
              0.6666666666666666,
              "#ed7953"
             ],
             [
              0.7777777777777778,
              "#fb9f3a"
             ],
             [
              0.8888888888888888,
              "#fdca26"
             ],
             [
              1,
              "#f0f921"
             ]
            ],
            "type": "heatmap"
           }
          ],
          "heatmapgl": [
           {
            "colorbar": {
             "outlinewidth": 0,
             "ticks": ""
            },
            "colorscale": [
             [
              0,
              "#0d0887"
             ],
             [
              0.1111111111111111,
              "#46039f"
             ],
             [
              0.2222222222222222,
              "#7201a8"
             ],
             [
              0.3333333333333333,
              "#9c179e"
             ],
             [
              0.4444444444444444,
              "#bd3786"
             ],
             [
              0.5555555555555556,
              "#d8576b"
             ],
             [
              0.6666666666666666,
              "#ed7953"
             ],
             [
              0.7777777777777778,
              "#fb9f3a"
             ],
             [
              0.8888888888888888,
              "#fdca26"
             ],
             [
              1,
              "#f0f921"
             ]
            ],
            "type": "heatmapgl"
           }
          ],
          "histogram": [
           {
            "marker": {
             "pattern": {
              "fillmode": "overlay",
              "size": 10,
              "solidity": 0.2
             }
            },
            "type": "histogram"
           }
          ],
          "histogram2d": [
           {
            "colorbar": {
             "outlinewidth": 0,
             "ticks": ""
            },
            "colorscale": [
             [
              0,
              "#0d0887"
             ],
             [
              0.1111111111111111,
              "#46039f"
             ],
             [
              0.2222222222222222,
              "#7201a8"
             ],
             [
              0.3333333333333333,
              "#9c179e"
             ],
             [
              0.4444444444444444,
              "#bd3786"
             ],
             [
              0.5555555555555556,
              "#d8576b"
             ],
             [
              0.6666666666666666,
              "#ed7953"
             ],
             [
              0.7777777777777778,
              "#fb9f3a"
             ],
             [
              0.8888888888888888,
              "#fdca26"
             ],
             [
              1,
              "#f0f921"
             ]
            ],
            "type": "histogram2d"
           }
          ],
          "histogram2dcontour": [
           {
            "colorbar": {
             "outlinewidth": 0,
             "ticks": ""
            },
            "colorscale": [
             [
              0,
              "#0d0887"
             ],
             [
              0.1111111111111111,
              "#46039f"
             ],
             [
              0.2222222222222222,
              "#7201a8"
             ],
             [
              0.3333333333333333,
              "#9c179e"
             ],
             [
              0.4444444444444444,
              "#bd3786"
             ],
             [
              0.5555555555555556,
              "#d8576b"
             ],
             [
              0.6666666666666666,
              "#ed7953"
             ],
             [
              0.7777777777777778,
              "#fb9f3a"
             ],
             [
              0.8888888888888888,
              "#fdca26"
             ],
             [
              1,
              "#f0f921"
             ]
            ],
            "type": "histogram2dcontour"
           }
          ],
          "mesh3d": [
           {
            "colorbar": {
             "outlinewidth": 0,
             "ticks": ""
            },
            "type": "mesh3d"
           }
          ],
          "parcoords": [
           {
            "line": {
             "colorbar": {
              "outlinewidth": 0,
              "ticks": ""
             }
            },
            "type": "parcoords"
           }
          ],
          "pie": [
           {
            "automargin": true,
            "type": "pie"
           }
          ],
          "scatter": [
           {
            "fillpattern": {
             "fillmode": "overlay",
             "size": 10,
             "solidity": 0.2
            },
            "type": "scatter"
           }
          ],
          "scatter3d": [
           {
            "line": {
             "colorbar": {
              "outlinewidth": 0,
              "ticks": ""
             }
            },
            "marker": {
             "colorbar": {
              "outlinewidth": 0,
              "ticks": ""
             }
            },
            "type": "scatter3d"
           }
          ],
          "scattercarpet": [
           {
            "marker": {
             "colorbar": {
              "outlinewidth": 0,
              "ticks": ""
             }
            },
            "type": "scattercarpet"
           }
          ],
          "scattergeo": [
           {
            "marker": {
             "colorbar": {
              "outlinewidth": 0,
              "ticks": ""
             }
            },
            "type": "scattergeo"
           }
          ],
          "scattergl": [
           {
            "marker": {
             "colorbar": {
              "outlinewidth": 0,
              "ticks": ""
             }
            },
            "type": "scattergl"
           }
          ],
          "scattermapbox": [
           {
            "marker": {
             "colorbar": {
              "outlinewidth": 0,
              "ticks": ""
             }
            },
            "type": "scattermapbox"
           }
          ],
          "scatterpolar": [
           {
            "marker": {
             "colorbar": {
              "outlinewidth": 0,
              "ticks": ""
             }
            },
            "type": "scatterpolar"
           }
          ],
          "scatterpolargl": [
           {
            "marker": {
             "colorbar": {
              "outlinewidth": 0,
              "ticks": ""
             }
            },
            "type": "scatterpolargl"
           }
          ],
          "scatterternary": [
           {
            "marker": {
             "colorbar": {
              "outlinewidth": 0,
              "ticks": ""
             }
            },
            "type": "scatterternary"
           }
          ],
          "surface": [
           {
            "colorbar": {
             "outlinewidth": 0,
             "ticks": ""
            },
            "colorscale": [
             [
              0,
              "#0d0887"
             ],
             [
              0.1111111111111111,
              "#46039f"
             ],
             [
              0.2222222222222222,
              "#7201a8"
             ],
             [
              0.3333333333333333,
              "#9c179e"
             ],
             [
              0.4444444444444444,
              "#bd3786"
             ],
             [
              0.5555555555555556,
              "#d8576b"
             ],
             [
              0.6666666666666666,
              "#ed7953"
             ],
             [
              0.7777777777777778,
              "#fb9f3a"
             ],
             [
              0.8888888888888888,
              "#fdca26"
             ],
             [
              1,
              "#f0f921"
             ]
            ],
            "type": "surface"
           }
          ],
          "table": [
           {
            "cells": {
             "fill": {
              "color": "#EBF0F8"
             },
             "line": {
              "color": "white"
             }
            },
            "header": {
             "fill": {
              "color": "#C8D4E3"
             },
             "line": {
              "color": "white"
             }
            },
            "type": "table"
           }
          ]
         },
         "layout": {
          "annotationdefaults": {
           "arrowcolor": "#2a3f5f",
           "arrowhead": 0,
           "arrowwidth": 1
          },
          "autotypenumbers": "strict",
          "coloraxis": {
           "colorbar": {
            "outlinewidth": 0,
            "ticks": ""
           }
          },
          "colorscale": {
           "diverging": [
            [
             0,
             "#8e0152"
            ],
            [
             0.1,
             "#c51b7d"
            ],
            [
             0.2,
             "#de77ae"
            ],
            [
             0.3,
             "#f1b6da"
            ],
            [
             0.4,
             "#fde0ef"
            ],
            [
             0.5,
             "#f7f7f7"
            ],
            [
             0.6,
             "#e6f5d0"
            ],
            [
             0.7,
             "#b8e186"
            ],
            [
             0.8,
             "#7fbc41"
            ],
            [
             0.9,
             "#4d9221"
            ],
            [
             1,
             "#276419"
            ]
           ],
           "sequential": [
            [
             0,
             "#0d0887"
            ],
            [
             0.1111111111111111,
             "#46039f"
            ],
            [
             0.2222222222222222,
             "#7201a8"
            ],
            [
             0.3333333333333333,
             "#9c179e"
            ],
            [
             0.4444444444444444,
             "#bd3786"
            ],
            [
             0.5555555555555556,
             "#d8576b"
            ],
            [
             0.6666666666666666,
             "#ed7953"
            ],
            [
             0.7777777777777778,
             "#fb9f3a"
            ],
            [
             0.8888888888888888,
             "#fdca26"
            ],
            [
             1,
             "#f0f921"
            ]
           ],
           "sequentialminus": [
            [
             0,
             "#0d0887"
            ],
            [
             0.1111111111111111,
             "#46039f"
            ],
            [
             0.2222222222222222,
             "#7201a8"
            ],
            [
             0.3333333333333333,
             "#9c179e"
            ],
            [
             0.4444444444444444,
             "#bd3786"
            ],
            [
             0.5555555555555556,
             "#d8576b"
            ],
            [
             0.6666666666666666,
             "#ed7953"
            ],
            [
             0.7777777777777778,
             "#fb9f3a"
            ],
            [
             0.8888888888888888,
             "#fdca26"
            ],
            [
             1,
             "#f0f921"
            ]
           ]
          },
          "colorway": [
           "#636efa",
           "#EF553B",
           "#00cc96",
           "#ab63fa",
           "#FFA15A",
           "#19d3f3",
           "#FF6692",
           "#B6E880",
           "#FF97FF",
           "#FECB52"
          ],
          "font": {
           "color": "#2a3f5f"
          },
          "geo": {
           "bgcolor": "white",
           "lakecolor": "white",
           "landcolor": "#E5ECF6",
           "showlakes": true,
           "showland": true,
           "subunitcolor": "white"
          },
          "hoverlabel": {
           "align": "left"
          },
          "hovermode": "closest",
          "mapbox": {
           "style": "light"
          },
          "paper_bgcolor": "white",
          "plot_bgcolor": "#E5ECF6",
          "polar": {
           "angularaxis": {
            "gridcolor": "white",
            "linecolor": "white",
            "ticks": ""
           },
           "bgcolor": "#E5ECF6",
           "radialaxis": {
            "gridcolor": "white",
            "linecolor": "white",
            "ticks": ""
           }
          },
          "scene": {
           "xaxis": {
            "backgroundcolor": "#E5ECF6",
            "gridcolor": "white",
            "gridwidth": 2,
            "linecolor": "white",
            "showbackground": true,
            "ticks": "",
            "zerolinecolor": "white"
           },
           "yaxis": {
            "backgroundcolor": "#E5ECF6",
            "gridcolor": "white",
            "gridwidth": 2,
            "linecolor": "white",
            "showbackground": true,
            "ticks": "",
            "zerolinecolor": "white"
           },
           "zaxis": {
            "backgroundcolor": "#E5ECF6",
            "gridcolor": "white",
            "gridwidth": 2,
            "linecolor": "white",
            "showbackground": true,
            "ticks": "",
            "zerolinecolor": "white"
           }
          },
          "shapedefaults": {
           "line": {
            "color": "#2a3f5f"
           }
          },
          "ternary": {
           "aaxis": {
            "gridcolor": "white",
            "linecolor": "white",
            "ticks": ""
           },
           "baxis": {
            "gridcolor": "white",
            "linecolor": "white",
            "ticks": ""
           },
           "bgcolor": "#E5ECF6",
           "caxis": {
            "gridcolor": "white",
            "linecolor": "white",
            "ticks": ""
           }
          },
          "title": {
           "x": 0.05
          },
          "xaxis": {
           "automargin": true,
           "gridcolor": "white",
           "linecolor": "white",
           "ticks": "",
           "title": {
            "standoff": 15
           },
           "zerolinecolor": "white",
           "zerolinewidth": 2
          },
          "yaxis": {
           "automargin": true,
           "gridcolor": "white",
           "linecolor": "white",
           "ticks": "",
           "title": {
            "standoff": 15
           },
           "zerolinecolor": "white",
           "zerolinewidth": 2
          }
         }
        },
        "xaxis": {
         "anchor": "y",
         "categoryarray": [
          "Grass",
          "Fire",
          "Water",
          "Bug",
          "Normal",
          "Dark",
          "Poison",
          "Electric",
          "Ground",
          "Ice",
          "Fairy",
          "Steel",
          "Fighting",
          "Psychic",
          "Rock",
          "Ghost",
          "Dragon",
          "Flying"
         ],
         "categoryorder": "array",
         "domain": [
          0,
          1
         ],
         "title": {
          "text": "Tipo 1"
         }
        },
        "yaxis": {
         "anchor": "x",
         "domain": [
          0,
          1
         ],
         "title": {
          "text": "Defesa!"
         }
        }
       }
      }
     },
     "metadata": {},
     "output_type": "display_data"
    }
   ],
   "source": [
    "#Boxsplot\n",
    "pokeataque = px.box(pokemons, x=\"type_1\", y=\"attack\", points=\"all\", color='type_1',hover_data='name', labels={\"type_1\":\"Tipo 1\", \"attack\":\"Ataque!\",})\n",
    "pokeataque.show()\n",
    "\n",
    "pokespeed = px.box(pokemons, x=\"type_1\", y=\"speed\", points=\"all\", color='type_1',hover_data='name', labels={\"type_1\":\"Tipo 1\", \"speed\":\"Velocidade!\",})\n",
    "pokespeed.show()\n",
    "\n",
    "pokedefense = px.box(pokemons, x=\"type_1\", y=\"defense\", points=\"all\", color='type_1',hover_data='name',labels={\"type_1\":\"Tipo 1\", \"defense\":\"Defesa!\",})\n",
    "pokedefense.show()\n",
    "\n"
   ]
  },
  {
   "cell_type": "markdown",
   "id": "1c01b550",
   "metadata": {},
   "source": [
    "## Análise:\n",
    "Em minha analise notei que o pokemon do tipo pedra Rampardos, com um ataque de 160 pontos, em seguida verifiquei os mais fracos  onde encontrei dois com a mesma pontuação seriam eles o Happiny e a Chansey ambos com 5 de ataque do tipo Normal.\n",
    "\n",
    "A respeito da velocidade o pokemon Ninjask se destaca com uma velocidade de 160d o tipo Inseto, e o oposto dele vemos  3 tipos de pokemons, o Pyukumunuku, Shuckle e o Munchlax respectivamente dos tipos Água, Inseto e Normal.\n",
    "\n",
    "Por último temos a defesa onde curiosamente do tipo Inseto, o Shuckle se destaca  com  incriveis 230 pontos de defesa, o que idenficamos como um outlier pois está distante da média da defesa dos pokemons que seria 60 pontos e o menos defensivo que idenficamos são Chansey e Happiny do tipo Normal.\n",
    "\n",
    "### Existe algum tipo notavelmente equilibrado ou forte em algum atributo?\n",
    "Na defesa percebos que o tipo Steel lidera, quando falamos sobre equilibrio o tipo Water se destaca."
   ]
  },
  {
   "cell_type": "code",
   "execution_count": 60,
   "id": "2af5f16f",
   "metadata": {},
   "outputs": [
    {
     "name": "stdout",
     "output_type": "stream",
     "text": [
      "type_1\n",
      "Bug         63.797297\n",
      "Dark        76.763158\n",
      "Dragon      93.173913\n",
      "Electric    70.538462\n",
      "Fairy       56.157895\n",
      "Fighting    97.515152\n",
      "Fire        79.363636\n",
      "Flying      64.333333\n",
      "Ghost       70.054054\n",
      "Grass       70.487805\n",
      "Ground      88.081081\n",
      "Ice         75.878788\n",
      "Normal      72.180952\n",
      "Poison      74.285714\n",
      "Psychic     52.723404\n",
      "Rock        87.211538\n",
      "Steel       86.791667\n",
      "Water       71.516667\n",
      "Name: attack, dtype: float64\n",
      "média  de attack de todos pokemons 73.94151376146789\n",
      "type_1\n",
      "Bug         63.797297\n",
      "Dark        76.763158\n",
      "Dragon      93.173913\n",
      "Electric    70.538462\n",
      "Fairy       56.157895\n",
      "Fighting    97.515152\n",
      "Fire        79.363636\n",
      "Flying      64.333333\n",
      "Ghost       70.054054\n",
      "Grass       70.487805\n",
      "Ground      88.081081\n",
      "Ice         75.878788\n",
      "Normal      72.180952\n",
      "Poison      74.285714\n",
      "Psychic     52.723404\n",
      "Rock        87.211538\n",
      "Steel       86.791667\n",
      "Water       71.516667\n",
      "Name: attack, dtype: float64\n",
      "média  de speed de todos pokemons 63.684633027522935\n",
      "type_1\n",
      "Bug          69.324324\n",
      "Dark         61.736842\n",
      "Dragon       71.434783\n",
      "Electric     64.250000\n",
      "Fairy        64.578947\n",
      "Fighting     67.606061\n",
      "Fire         63.890909\n",
      "Flying       60.833333\n",
      "Ghost        79.000000\n",
      "Grass        68.780488\n",
      "Ground       81.729730\n",
      "Ice          69.060606\n",
      "Normal       57.600000\n",
      "Poison       71.028571\n",
      "Psychic      58.468085\n",
      "Rock         92.980769\n",
      "Steel       106.916667\n",
      "Water        69.491667\n",
      "Name: defense, dtype: float64\n",
      "média  de defesa de todos pokemons 69.59288990825688\n"
     ]
    }
   ],
   "source": [
    "#Comparação de Ataque  do tipo com todos os pokemons.\n",
    "pokemonmediaA = pokemons.groupby('type_1')['attack'].mean()\n",
    "print(pokemonmediaA)\n",
    "\n",
    "pokemonmediaallA = pokemons['attack'].mean()\n",
    "print(f'média  de attack de todos pokemons {pokemonmediaallA}')\n",
    "\n",
    "#Comparação de Velocidade  do tipo com todos os pokemons.\n",
    "pokemonmediaV = pokemons.groupby('type_1')['speed'].mean()\n",
    "print(pokemonmediaA)\n",
    "\n",
    "pokemonmediaallV = pokemons['speed'].mean()\n",
    "print(f'média  de speed de todos pokemons {pokemonmediaallV}')\n",
    "#Comparação de Defesa  do tipo com todos os pokemons.\n",
    "pokemonmediaD = pokemons.groupby('type_1')['defense'].mean()\n",
    "print(pokemonmediaD)\n",
    "\n",
    "pokemonmediaallD = pokemons['defense'].mean()\n",
    "print(f'média  de defesa de todos pokemons {pokemonmediaallD}')"
   ]
  },
  {
   "cell_type": "code",
   "execution_count": 61,
   "id": "45f17b09-de03-4b6d-9fcc-5aaf674ce4bd",
   "metadata": {
    "scrolled": true
   },
   "outputs": [
    {
     "data": {
      "text/html": [
       "<div>\n",
       "<style scoped>\n",
       "    .dataframe tbody tr th:only-of-type {\n",
       "        vertical-align: middle;\n",
       "    }\n",
       "\n",
       "    .dataframe tbody tr th {\n",
       "        vertical-align: top;\n",
       "    }\n",
       "\n",
       "    .dataframe thead th {\n",
       "        text-align: right;\n",
       "    }\n",
       "</style>\n",
       "<table border=\"1\" class=\"dataframe\">\n",
       "  <thead>\n",
       "    <tr style=\"text-align: right;\">\n",
       "      <th></th>\n",
       "      <th>pokedex_number</th>\n",
       "      <th>name</th>\n",
       "      <th>generation</th>\n",
       "      <th>status</th>\n",
       "      <th>species</th>\n",
       "      <th>type_number</th>\n",
       "      <th>type_1</th>\n",
       "      <th>type_2</th>\n",
       "      <th>height_m</th>\n",
       "      <th>weight_kg</th>\n",
       "      <th>...</th>\n",
       "      <th>against_flying</th>\n",
       "      <th>against_psychic</th>\n",
       "      <th>against_bug</th>\n",
       "      <th>against_rock</th>\n",
       "      <th>against_ghost</th>\n",
       "      <th>against_dragon</th>\n",
       "      <th>against_dark</th>\n",
       "      <th>against_steel</th>\n",
       "      <th>against_fairy</th>\n",
       "      <th>metrica</th>\n",
       "    </tr>\n",
       "  </thead>\n",
       "  <tbody>\n",
       "    <tr>\n",
       "      <th>25</th>\n",
       "      <td>555</td>\n",
       "      <td>Darmanitan Standard Mode</td>\n",
       "      <td>5</td>\n",
       "      <td>Normal</td>\n",
       "      <td>Blazing Pokémon</td>\n",
       "      <td>1</td>\n",
       "      <td>Fire</td>\n",
       "      <td>NaN</td>\n",
       "      <td>1.3</td>\n",
       "      <td>92.9</td>\n",
       "      <td>...</td>\n",
       "      <td>1.0</td>\n",
       "      <td>1.0</td>\n",
       "      <td>0.50</td>\n",
       "      <td>2.00</td>\n",
       "      <td>1.0</td>\n",
       "      <td>1.0</td>\n",
       "      <td>1.0</td>\n",
       "      <td>0.5</td>\n",
       "      <td>0.5</td>\n",
       "      <td>22.826087</td>\n",
       "    </tr>\n",
       "    <tr>\n",
       "      <th>22</th>\n",
       "      <td>149</td>\n",
       "      <td>Dragonite</td>\n",
       "      <td>1</td>\n",
       "      <td>Normal</td>\n",
       "      <td>Dragon Pokémon</td>\n",
       "      <td>2</td>\n",
       "      <td>Dragon</td>\n",
       "      <td>Flying</td>\n",
       "      <td>2.2</td>\n",
       "      <td>210.0</td>\n",
       "      <td>...</td>\n",
       "      <td>1.0</td>\n",
       "      <td>1.0</td>\n",
       "      <td>0.50</td>\n",
       "      <td>2.00</td>\n",
       "      <td>1.0</td>\n",
       "      <td>2.0</td>\n",
       "      <td>1.0</td>\n",
       "      <td>1.0</td>\n",
       "      <td>2.0</td>\n",
       "      <td>22.739130</td>\n",
       "    </tr>\n",
       "    <tr>\n",
       "      <th>15</th>\n",
       "      <td>448</td>\n",
       "      <td>Lucario</td>\n",
       "      <td>4</td>\n",
       "      <td>Normal</td>\n",
       "      <td>Aura Pokémon</td>\n",
       "      <td>2</td>\n",
       "      <td>Fighting</td>\n",
       "      <td>Steel</td>\n",
       "      <td>1.2</td>\n",
       "      <td>54.0</td>\n",
       "      <td>...</td>\n",
       "      <td>1.0</td>\n",
       "      <td>1.0</td>\n",
       "      <td>0.25</td>\n",
       "      <td>0.25</td>\n",
       "      <td>1.0</td>\n",
       "      <td>0.5</td>\n",
       "      <td>0.5</td>\n",
       "      <td>0.5</td>\n",
       "      <td>1.0</td>\n",
       "      <td>20.434783</td>\n",
       "    </tr>\n",
       "    <tr>\n",
       "      <th>14</th>\n",
       "      <td>652</td>\n",
       "      <td>Chesnaught</td>\n",
       "      <td>6</td>\n",
       "      <td>Normal</td>\n",
       "      <td>Spiny Armor Pokémon</td>\n",
       "      <td>2</td>\n",
       "      <td>Grass</td>\n",
       "      <td>Fighting</td>\n",
       "      <td>1.6</td>\n",
       "      <td>90.0</td>\n",
       "      <td>...</td>\n",
       "      <td>4.0</td>\n",
       "      <td>2.0</td>\n",
       "      <td>1.00</td>\n",
       "      <td>0.50</td>\n",
       "      <td>1.0</td>\n",
       "      <td>1.0</td>\n",
       "      <td>0.5</td>\n",
       "      <td>1.0</td>\n",
       "      <td>2.0</td>\n",
       "      <td>20.173913</td>\n",
       "    </tr>\n",
       "    <tr>\n",
       "      <th>9</th>\n",
       "      <td>781</td>\n",
       "      <td>Dhelmise</td>\n",
       "      <td>7</td>\n",
       "      <td>Normal</td>\n",
       "      <td>Sea Creeper Pokémon</td>\n",
       "      <td>2</td>\n",
       "      <td>Ghost</td>\n",
       "      <td>Grass</td>\n",
       "      <td>3.9</td>\n",
       "      <td>210.0</td>\n",
       "      <td>...</td>\n",
       "      <td>2.0</td>\n",
       "      <td>1.0</td>\n",
       "      <td>1.00</td>\n",
       "      <td>1.00</td>\n",
       "      <td>2.0</td>\n",
       "      <td>1.0</td>\n",
       "      <td>2.0</td>\n",
       "      <td>1.0</td>\n",
       "      <td>1.0</td>\n",
       "      <td>19.217391</td>\n",
       "    </tr>\n",
       "    <tr>\n",
       "      <th>6</th>\n",
       "      <td>823</td>\n",
       "      <td>Corviknight</td>\n",
       "      <td>8</td>\n",
       "      <td>Normal</td>\n",
       "      <td>Raven Pokémon</td>\n",
       "      <td>2</td>\n",
       "      <td>Flying</td>\n",
       "      <td>Steel</td>\n",
       "      <td>2.2</td>\n",
       "      <td>75.0</td>\n",
       "      <td>...</td>\n",
       "      <td>0.5</td>\n",
       "      <td>0.5</td>\n",
       "      <td>0.25</td>\n",
       "      <td>1.00</td>\n",
       "      <td>1.0</td>\n",
       "      <td>0.5</td>\n",
       "      <td>1.0</td>\n",
       "      <td>0.5</td>\n",
       "      <td>0.5</td>\n",
       "      <td>17.956522</td>\n",
       "    </tr>\n",
       "  </tbody>\n",
       "</table>\n",
       "<p>6 rows × 49 columns</p>\n",
       "</div>"
      ],
      "text/plain": [
       "    pokedex_number                      name  generation  status  \\\n",
       "25             555  Darmanitan Standard Mode           5  Normal   \n",
       "22             149                 Dragonite           1  Normal   \n",
       "15             448                   Lucario           4  Normal   \n",
       "14             652                Chesnaught           6  Normal   \n",
       "9              781                  Dhelmise           7  Normal   \n",
       "6              823               Corviknight           8  Normal   \n",
       "\n",
       "                species  type_number    type_1    type_2  height_m  weight_kg  \\\n",
       "25      Blazing Pokémon            1      Fire       NaN       1.3       92.9   \n",
       "22       Dragon Pokémon            2    Dragon    Flying       2.2      210.0   \n",
       "15         Aura Pokémon            2  Fighting     Steel       1.2       54.0   \n",
       "14  Spiny Armor Pokémon            2     Grass  Fighting       1.6       90.0   \n",
       "9   Sea Creeper Pokémon            2     Ghost     Grass       3.9      210.0   \n",
       "6         Raven Pokémon            2    Flying     Steel       2.2       75.0   \n",
       "\n",
       "    ...  against_flying against_psychic against_bug against_rock  \\\n",
       "25  ...             1.0             1.0        0.50         2.00   \n",
       "22  ...             1.0             1.0        0.50         2.00   \n",
       "15  ...             1.0             1.0        0.25         0.25   \n",
       "14  ...             4.0             2.0        1.00         0.50   \n",
       "9   ...             2.0             1.0        1.00         1.00   \n",
       "6   ...             0.5             0.5        0.25         1.00   \n",
       "\n",
       "    against_ghost  against_dragon  against_dark  against_steel  against_fairy  \\\n",
       "25            1.0             1.0           1.0            0.5            0.5   \n",
       "22            1.0             2.0           1.0            1.0            2.0   \n",
       "15            1.0             0.5           0.5            0.5            1.0   \n",
       "14            1.0             1.0           0.5            1.0            2.0   \n",
       "9             2.0             1.0           2.0            1.0            1.0   \n",
       "6             1.0             0.5           1.0            0.5            0.5   \n",
       "\n",
       "      metrica  \n",
       "25  22.826087  \n",
       "22  22.739130  \n",
       "15  20.434783  \n",
       "14  20.173913  \n",
       "9   19.217391  \n",
       "6   17.956522  \n",
       "\n",
       "[6 rows x 49 columns]"
      ]
     },
     "execution_count": 61,
     "metadata": {},
     "output_type": "execute_result"
    }
   ],
   "source": [
    "unique_types = pokemons['type_1'].unique()\n",
    "\n",
    "selected_types = random.sample(list(unique_types), 10)\n",
    "\n",
    "selected_pokemons = pd.DataFrame()\n",
    "\n",
    "for p_type in selected_types:\n",
    "    type_pokemons = pokemons[pokemons['type_1'] == p_type]\n",
    "    selected_pokemons = pd.concat([selected_pokemons, type_pokemons.sample(3)], ignore_index=True)\n",
    "\n",
    "pesos = {\n",
    " 'speed': 2.0,\n",
    " 'defense': 1.0,\n",
    " 'attack': 2.0,\n",
    "}\n",
    "\n",
    "selected_pokemons['metrica'] = selected_pokemons['attack'] * pesos['attack']  + selected_pokemons['defense'] * pesos['defense'] + selected_pokemons['speed'] * pesos['speed']\n",
    "\n",
    "selected_pokemons = selected_pokemons.rename(columns={'against_fight': 'against_fighting'})\n",
    "\n",
    "for index, row in selected_pokemons.iterrows():\n",
    "    for type in selected_pokemons['type_1'].unique():\n",
    "        selected_pokemons.loc[index,'metrica'] += row[f'against_{type.lower()}']\n",
    "\n",
    "    selected_pokemons.loc[index,'metrica'] = row['metrica'] / 23\n",
    "\n",
    "\n",
    "selected_list_pokemons = []\n",
    "for type in selected_pokemons['type_1'].unique():\n",
    "    selected_type = selected_pokemons[selected_pokemons['type_1'] == type]\n",
    "    selected_list_pokemons.append(selected_pokemons.iloc[selected_type['metrica'].idxmax()])\n",
    "\n",
    "\n",
    "current_team_pokemon = pd.DataFrame(selected_list_pokemons)\n",
    "\n",
    "current_team_pokemon = current_team_pokemon.sort_values(by=\"metrica\", ascending=False).head(6)\n",
    "\n",
    "current_team_pokemon.drop(columns=['Unnamed: 0.1','Unnamed: 0','german_name','japanese_name' ])\n",
    "\n"
   ]
  },
  {
   "cell_type": "markdown",
   "id": "a8581bb0",
   "metadata": {},
   "source": [
    "#### Crie um gráfico de dispersão 3D para visualizar attack, defense e speed dos Pokémon\n",
    "selecionados."
   ]
  },
  {
   "cell_type": "code",
   "execution_count": 20,
   "id": "1620336a-c1a8-4493-b67a-f5c68ba28178",
   "metadata": {},
   "outputs": [
    {
     "data": {
      "application/vnd.plotly.v1+json": {
       "config": {
        "plotlyServerURL": "https://plot.ly"
       },
       "data": [
        {
         "hovertemplate": "name=Excadrill<br>attack=%{x}<br>defense=%{y}<br>speed=%{z}<extra></extra>",
         "legendgroup": "Excadrill",
         "marker": {
          "color": "#636efa",
          "symbol": "circle"
         },
         "mode": "markers",
         "name": "Excadrill",
         "scene": "scene",
         "showlegend": true,
         "type": "scatter3d",
         "x": [
          135
         ],
         "y": [
          60
         ],
         "z": [
          88
         ]
        },
        {
         "hovertemplate": "name=Unfezant<br>attack=%{x}<br>defense=%{y}<br>speed=%{z}<extra></extra>",
         "legendgroup": "Unfezant",
         "marker": {
          "color": "#EF553B",
          "symbol": "circle"
         },
         "mode": "markers",
         "name": "Unfezant",
         "scene": "scene",
         "showlegend": true,
         "type": "scatter3d",
         "x": [
          115
         ],
         "y": [
          80
         ],
         "z": [
          93
         ]
        },
        {
         "hovertemplate": "name=Kabutops<br>attack=%{x}<br>defense=%{y}<br>speed=%{z}<extra></extra>",
         "legendgroup": "Kabutops",
         "marker": {
          "color": "#00cc96",
          "symbol": "circle"
         },
         "mode": "markers",
         "name": "Kabutops",
         "scene": "scene",
         "showlegend": true,
         "type": "scatter3d",
         "x": [
          115
         ],
         "y": [
          105
         ],
         "z": [
          80
         ]
        },
        {
         "hovertemplate": "name=Galarian Rapidash<br>attack=%{x}<br>defense=%{y}<br>speed=%{z}<extra></extra>",
         "legendgroup": "Galarian Rapidash",
         "marker": {
          "color": "#ab63fa",
          "symbol": "circle"
         },
         "mode": "markers",
         "name": "Galarian Rapidash",
         "scene": "scene",
         "showlegend": true,
         "type": "scatter3d",
         "x": [
          100
         ],
         "y": [
          70
         ],
         "z": [
          105
         ]
        },
        {
         "hovertemplate": "name=Luxray<br>attack=%{x}<br>defense=%{y}<br>speed=%{z}<extra></extra>",
         "legendgroup": "Luxray",
         "marker": {
          "color": "#FFA15A",
          "symbol": "circle"
         },
         "mode": "markers",
         "name": "Luxray",
         "scene": "scene",
         "showlegend": true,
         "type": "scatter3d",
         "x": [
          120
         ],
         "y": [
          79
         ],
         "z": [
          70
         ]
        },
        {
         "hovertemplate": "name=Doublade<br>attack=%{x}<br>defense=%{y}<br>speed=%{z}<extra></extra>",
         "legendgroup": "Doublade",
         "marker": {
          "color": "#19d3f3",
          "symbol": "circle"
         },
         "mode": "markers",
         "name": "Doublade",
         "scene": "scene",
         "showlegend": true,
         "type": "scatter3d",
         "x": [
          110
         ],
         "y": [
          150
         ],
         "z": [
          35
         ]
        }
       ],
       "layout": {
        "legend": {
         "title": {
          "text": "name"
         },
         "tracegroupgap": 0
        },
        "margin": {
         "b": 0,
         "l": 0,
         "r": 0,
         "t": 0
        },
        "scene": {
         "domain": {
          "x": [
           0,
           1
          ],
          "y": [
           0,
           1
          ]
         },
         "xaxis": {
          "title": {
           "text": "attack"
          }
         },
         "yaxis": {
          "title": {
           "text": "defense"
          }
         },
         "zaxis": {
          "title": {
           "text": "speed"
          }
         }
        },
        "template": {
         "data": {
          "bar": [
           {
            "error_x": {
             "color": "#2a3f5f"
            },
            "error_y": {
             "color": "#2a3f5f"
            },
            "marker": {
             "line": {
              "color": "#E5ECF6",
              "width": 0.5
             },
             "pattern": {
              "fillmode": "overlay",
              "size": 10,
              "solidity": 0.2
             }
            },
            "type": "bar"
           }
          ],
          "barpolar": [
           {
            "marker": {
             "line": {
              "color": "#E5ECF6",
              "width": 0.5
             },
             "pattern": {
              "fillmode": "overlay",
              "size": 10,
              "solidity": 0.2
             }
            },
            "type": "barpolar"
           }
          ],
          "carpet": [
           {
            "aaxis": {
             "endlinecolor": "#2a3f5f",
             "gridcolor": "white",
             "linecolor": "white",
             "minorgridcolor": "white",
             "startlinecolor": "#2a3f5f"
            },
            "baxis": {
             "endlinecolor": "#2a3f5f",
             "gridcolor": "white",
             "linecolor": "white",
             "minorgridcolor": "white",
             "startlinecolor": "#2a3f5f"
            },
            "type": "carpet"
           }
          ],
          "choropleth": [
           {
            "colorbar": {
             "outlinewidth": 0,
             "ticks": ""
            },
            "type": "choropleth"
           }
          ],
          "contour": [
           {
            "colorbar": {
             "outlinewidth": 0,
             "ticks": ""
            },
            "colorscale": [
             [
              0,
              "#0d0887"
             ],
             [
              0.1111111111111111,
              "#46039f"
             ],
             [
              0.2222222222222222,
              "#7201a8"
             ],
             [
              0.3333333333333333,
              "#9c179e"
             ],
             [
              0.4444444444444444,
              "#bd3786"
             ],
             [
              0.5555555555555556,
              "#d8576b"
             ],
             [
              0.6666666666666666,
              "#ed7953"
             ],
             [
              0.7777777777777778,
              "#fb9f3a"
             ],
             [
              0.8888888888888888,
              "#fdca26"
             ],
             [
              1,
              "#f0f921"
             ]
            ],
            "type": "contour"
           }
          ],
          "contourcarpet": [
           {
            "colorbar": {
             "outlinewidth": 0,
             "ticks": ""
            },
            "type": "contourcarpet"
           }
          ],
          "heatmap": [
           {
            "colorbar": {
             "outlinewidth": 0,
             "ticks": ""
            },
            "colorscale": [
             [
              0,
              "#0d0887"
             ],
             [
              0.1111111111111111,
              "#46039f"
             ],
             [
              0.2222222222222222,
              "#7201a8"
             ],
             [
              0.3333333333333333,
              "#9c179e"
             ],
             [
              0.4444444444444444,
              "#bd3786"
             ],
             [
              0.5555555555555556,
              "#d8576b"
             ],
             [
              0.6666666666666666,
              "#ed7953"
             ],
             [
              0.7777777777777778,
              "#fb9f3a"
             ],
             [
              0.8888888888888888,
              "#fdca26"
             ],
             [
              1,
              "#f0f921"
             ]
            ],
            "type": "heatmap"
           }
          ],
          "heatmapgl": [
           {
            "colorbar": {
             "outlinewidth": 0,
             "ticks": ""
            },
            "colorscale": [
             [
              0,
              "#0d0887"
             ],
             [
              0.1111111111111111,
              "#46039f"
             ],
             [
              0.2222222222222222,
              "#7201a8"
             ],
             [
              0.3333333333333333,
              "#9c179e"
             ],
             [
              0.4444444444444444,
              "#bd3786"
             ],
             [
              0.5555555555555556,
              "#d8576b"
             ],
             [
              0.6666666666666666,
              "#ed7953"
             ],
             [
              0.7777777777777778,
              "#fb9f3a"
             ],
             [
              0.8888888888888888,
              "#fdca26"
             ],
             [
              1,
              "#f0f921"
             ]
            ],
            "type": "heatmapgl"
           }
          ],
          "histogram": [
           {
            "marker": {
             "pattern": {
              "fillmode": "overlay",
              "size": 10,
              "solidity": 0.2
             }
            },
            "type": "histogram"
           }
          ],
          "histogram2d": [
           {
            "colorbar": {
             "outlinewidth": 0,
             "ticks": ""
            },
            "colorscale": [
             [
              0,
              "#0d0887"
             ],
             [
              0.1111111111111111,
              "#46039f"
             ],
             [
              0.2222222222222222,
              "#7201a8"
             ],
             [
              0.3333333333333333,
              "#9c179e"
             ],
             [
              0.4444444444444444,
              "#bd3786"
             ],
             [
              0.5555555555555556,
              "#d8576b"
             ],
             [
              0.6666666666666666,
              "#ed7953"
             ],
             [
              0.7777777777777778,
              "#fb9f3a"
             ],
             [
              0.8888888888888888,
              "#fdca26"
             ],
             [
              1,
              "#f0f921"
             ]
            ],
            "type": "histogram2d"
           }
          ],
          "histogram2dcontour": [
           {
            "colorbar": {
             "outlinewidth": 0,
             "ticks": ""
            },
            "colorscale": [
             [
              0,
              "#0d0887"
             ],
             [
              0.1111111111111111,
              "#46039f"
             ],
             [
              0.2222222222222222,
              "#7201a8"
             ],
             [
              0.3333333333333333,
              "#9c179e"
             ],
             [
              0.4444444444444444,
              "#bd3786"
             ],
             [
              0.5555555555555556,
              "#d8576b"
             ],
             [
              0.6666666666666666,
              "#ed7953"
             ],
             [
              0.7777777777777778,
              "#fb9f3a"
             ],
             [
              0.8888888888888888,
              "#fdca26"
             ],
             [
              1,
              "#f0f921"
             ]
            ],
            "type": "histogram2dcontour"
           }
          ],
          "mesh3d": [
           {
            "colorbar": {
             "outlinewidth": 0,
             "ticks": ""
            },
            "type": "mesh3d"
           }
          ],
          "parcoords": [
           {
            "line": {
             "colorbar": {
              "outlinewidth": 0,
              "ticks": ""
             }
            },
            "type": "parcoords"
           }
          ],
          "pie": [
           {
            "automargin": true,
            "type": "pie"
           }
          ],
          "scatter": [
           {
            "fillpattern": {
             "fillmode": "overlay",
             "size": 10,
             "solidity": 0.2
            },
            "type": "scatter"
           }
          ],
          "scatter3d": [
           {
            "line": {
             "colorbar": {
              "outlinewidth": 0,
              "ticks": ""
             }
            },
            "marker": {
             "colorbar": {
              "outlinewidth": 0,
              "ticks": ""
             }
            },
            "type": "scatter3d"
           }
          ],
          "scattercarpet": [
           {
            "marker": {
             "colorbar": {
              "outlinewidth": 0,
              "ticks": ""
             }
            },
            "type": "scattercarpet"
           }
          ],
          "scattergeo": [
           {
            "marker": {
             "colorbar": {
              "outlinewidth": 0,
              "ticks": ""
             }
            },
            "type": "scattergeo"
           }
          ],
          "scattergl": [
           {
            "marker": {
             "colorbar": {
              "outlinewidth": 0,
              "ticks": ""
             }
            },
            "type": "scattergl"
           }
          ],
          "scattermapbox": [
           {
            "marker": {
             "colorbar": {
              "outlinewidth": 0,
              "ticks": ""
             }
            },
            "type": "scattermapbox"
           }
          ],
          "scatterpolar": [
           {
            "marker": {
             "colorbar": {
              "outlinewidth": 0,
              "ticks": ""
             }
            },
            "type": "scatterpolar"
           }
          ],
          "scatterpolargl": [
           {
            "marker": {
             "colorbar": {
              "outlinewidth": 0,
              "ticks": ""
             }
            },
            "type": "scatterpolargl"
           }
          ],
          "scatterternary": [
           {
            "marker": {
             "colorbar": {
              "outlinewidth": 0,
              "ticks": ""
             }
            },
            "type": "scatterternary"
           }
          ],
          "surface": [
           {
            "colorbar": {
             "outlinewidth": 0,
             "ticks": ""
            },
            "colorscale": [
             [
              0,
              "#0d0887"
             ],
             [
              0.1111111111111111,
              "#46039f"
             ],
             [
              0.2222222222222222,
              "#7201a8"
             ],
             [
              0.3333333333333333,
              "#9c179e"
             ],
             [
              0.4444444444444444,
              "#bd3786"
             ],
             [
              0.5555555555555556,
              "#d8576b"
             ],
             [
              0.6666666666666666,
              "#ed7953"
             ],
             [
              0.7777777777777778,
              "#fb9f3a"
             ],
             [
              0.8888888888888888,
              "#fdca26"
             ],
             [
              1,
              "#f0f921"
             ]
            ],
            "type": "surface"
           }
          ],
          "table": [
           {
            "cells": {
             "fill": {
              "color": "#EBF0F8"
             },
             "line": {
              "color": "white"
             }
            },
            "header": {
             "fill": {
              "color": "#C8D4E3"
             },
             "line": {
              "color": "white"
             }
            },
            "type": "table"
           }
          ]
         },
         "layout": {
          "annotationdefaults": {
           "arrowcolor": "#2a3f5f",
           "arrowhead": 0,
           "arrowwidth": 1
          },
          "autotypenumbers": "strict",
          "coloraxis": {
           "colorbar": {
            "outlinewidth": 0,
            "ticks": ""
           }
          },
          "colorscale": {
           "diverging": [
            [
             0,
             "#8e0152"
            ],
            [
             0.1,
             "#c51b7d"
            ],
            [
             0.2,
             "#de77ae"
            ],
            [
             0.3,
             "#f1b6da"
            ],
            [
             0.4,
             "#fde0ef"
            ],
            [
             0.5,
             "#f7f7f7"
            ],
            [
             0.6,
             "#e6f5d0"
            ],
            [
             0.7,
             "#b8e186"
            ],
            [
             0.8,
             "#7fbc41"
            ],
            [
             0.9,
             "#4d9221"
            ],
            [
             1,
             "#276419"
            ]
           ],
           "sequential": [
            [
             0,
             "#0d0887"
            ],
            [
             0.1111111111111111,
             "#46039f"
            ],
            [
             0.2222222222222222,
             "#7201a8"
            ],
            [
             0.3333333333333333,
             "#9c179e"
            ],
            [
             0.4444444444444444,
             "#bd3786"
            ],
            [
             0.5555555555555556,
             "#d8576b"
            ],
            [
             0.6666666666666666,
             "#ed7953"
            ],
            [
             0.7777777777777778,
             "#fb9f3a"
            ],
            [
             0.8888888888888888,
             "#fdca26"
            ],
            [
             1,
             "#f0f921"
            ]
           ],
           "sequentialminus": [
            [
             0,
             "#0d0887"
            ],
            [
             0.1111111111111111,
             "#46039f"
            ],
            [
             0.2222222222222222,
             "#7201a8"
            ],
            [
             0.3333333333333333,
             "#9c179e"
            ],
            [
             0.4444444444444444,
             "#bd3786"
            ],
            [
             0.5555555555555556,
             "#d8576b"
            ],
            [
             0.6666666666666666,
             "#ed7953"
            ],
            [
             0.7777777777777778,
             "#fb9f3a"
            ],
            [
             0.8888888888888888,
             "#fdca26"
            ],
            [
             1,
             "#f0f921"
            ]
           ]
          },
          "colorway": [
           "#636efa",
           "#EF553B",
           "#00cc96",
           "#ab63fa",
           "#FFA15A",
           "#19d3f3",
           "#FF6692",
           "#B6E880",
           "#FF97FF",
           "#FECB52"
          ],
          "font": {
           "color": "#2a3f5f"
          },
          "geo": {
           "bgcolor": "white",
           "lakecolor": "white",
           "landcolor": "#E5ECF6",
           "showlakes": true,
           "showland": true,
           "subunitcolor": "white"
          },
          "hoverlabel": {
           "align": "left"
          },
          "hovermode": "closest",
          "mapbox": {
           "style": "light"
          },
          "paper_bgcolor": "white",
          "plot_bgcolor": "#E5ECF6",
          "polar": {
           "angularaxis": {
            "gridcolor": "white",
            "linecolor": "white",
            "ticks": ""
           },
           "bgcolor": "#E5ECF6",
           "radialaxis": {
            "gridcolor": "white",
            "linecolor": "white",
            "ticks": ""
           }
          },
          "scene": {
           "xaxis": {
            "backgroundcolor": "#E5ECF6",
            "gridcolor": "white",
            "gridwidth": 2,
            "linecolor": "white",
            "showbackground": true,
            "ticks": "",
            "zerolinecolor": "white"
           },
           "yaxis": {
            "backgroundcolor": "#E5ECF6",
            "gridcolor": "white",
            "gridwidth": 2,
            "linecolor": "white",
            "showbackground": true,
            "ticks": "",
            "zerolinecolor": "white"
           },
           "zaxis": {
            "backgroundcolor": "#E5ECF6",
            "gridcolor": "white",
            "gridwidth": 2,
            "linecolor": "white",
            "showbackground": true,
            "ticks": "",
            "zerolinecolor": "white"
           }
          },
          "shapedefaults": {
           "line": {
            "color": "#2a3f5f"
           }
          },
          "ternary": {
           "aaxis": {
            "gridcolor": "white",
            "linecolor": "white",
            "ticks": ""
           },
           "baxis": {
            "gridcolor": "white",
            "linecolor": "white",
            "ticks": ""
           },
           "bgcolor": "#E5ECF6",
           "caxis": {
            "gridcolor": "white",
            "linecolor": "white",
            "ticks": ""
           }
          },
          "title": {
           "x": 0.05
          },
          "xaxis": {
           "automargin": true,
           "gridcolor": "white",
           "linecolor": "white",
           "ticks": "",
           "title": {
            "standoff": 15
           },
           "zerolinecolor": "white",
           "zerolinewidth": 2
          },
          "yaxis": {
           "automargin": true,
           "gridcolor": "white",
           "linecolor": "white",
           "ticks": "",
           "title": {
            "standoff": 15
           },
           "zerolinecolor": "white",
           "zerolinewidth": 2
          }
         }
        },
        "title": {
         "text": "Gráfico de dispersão 3d"
        }
       }
      }
     },
     "metadata": {},
     "output_type": "display_data"
    }
   ],
   "source": [
    "fig = px.scatter_3d(current_team_pokemon, x = 'attack', y = 'defense', z = 'speed',\n",
    "                    color = 'name', size_max = 18,\n",
    "                    title = ('Gráfico de dispersão 3d'))\n",
    "\n",
    "fig.update_layout(margin=dict(l=0, r=0, b=0, t=0))\n",
    "fig.show()"
   ]
  },
  {
   "cell_type": "markdown",
   "id": "e70f5a9f",
   "metadata": {},
   "source": [
    "###  Justifique a seleção dos 6 Pokémon, explicando como os critérios otimizados ajudaram a montar uma equipe equilibrada. \n",
    "\n",
    "\n",
    "#### O nosso time apresenta uma ampla variação de tipos, o que nos ajuda a enfrentar praticamente todos os tipos de oponentes. Além disso, notamos que todos os Pokémon do time possuem um nível de ataque acima de 100, evidenciando que temos um time forte no aspecto ofensivo. As defesas também são sólidas, com todos os membros apresentando valores superiores a 60, o que proporciona uma boa resistência em batalha.\n",
    "\n",
    "#### Embora a velocidade não seja o ponto forte da equipe, contamos com Unfezant, que possui o maior nível de velocidade. Ele pode ser utilizado para neutralizar alvos distantes rapidamente, caso necessário. Por outro lado, Doublade, com uma defesa impressionante de 150, pode facilmente aguentar ataques, protegendo os membros mais frágeis do time.\n",
    "\n",
    "#### Se optarmos por combinar os ataques, isso poderia resultar em um desempenho explosivo, dado o alto nível de ataque de nossa equipe. Os Pokémon mais robustos podem absorver o dano, enquanto os mais rápidos se encarregam de eliminar os adversários com agilidade."
   ]
  },
  {
   "cell_type": "markdown",
   "id": "e38ae35c",
   "metadata": {},
   "source": [
    "## Discuta os trade-offs entre atributos ofensivos e defensivos, além das resistências e fraquezas de cada Pokémon contra outros tipos. \n",
    "\n",
    "### Excadrill (Terra/Aço)\n",
    "#### HP: 110\n",
    "#### Ataque: 135\n",
    "#### Defesa: 60\n",
    "#### Velocidade: 88\n",
    "#### Bom Contra: Pedra (2.0), Fada (2.0), Elétrico (2.0)\n",
    "#### Ruim Contra: Água (0.5), Terra (0.5)\n",
    "### Unfezant (Normal/Voador)\n",
    "#### HP: 80\n",
    "#### Ataque: 115\n",
    "#### Defesa: 80\n",
    "#### Velocidade: 93\n",
    "#### Bom Contra: Inseto (2.0), Grama (2.0), Luta (2.0)\n",
    "#### Ruim Contra: Pedra (0.5), Fantasma (0.5)\n",
    "### Kabutops (Pedra/Água)\n",
    "#### HP: 60\n",
    "#### Ataque: 115\n",
    "#### Defesa: 100\n",
    "#### Velocidade: 80\n",
    "#### Bom Contra: Fogo (2.0), Voador (2.0), Terra (2.0)\n",
    "#### Ruim Contra: Lutador (0.5), Elétrico (0.5)\n",
    "### Galarian Rapidash (Psíquico/Fada)\n",
    "#### HP: 65\n",
    "#### Ataque: 100\n",
    "#### Defesa: 70\n",
    "#### Velocidade: 105\n",
    "#### Bom Contra: Lutador (2.0), Dragão (2.0), Sombrio (2.0)\n",
    "#### Ruim Contra: Aço (0.5), Venenoso (0.5)\n",
    "### Luxray (Elétrico)\n",
    "#### HP: 80\n",
    "#### Ataque: 120\n",
    "#### Defesa: 79\n",
    "#### Velocidade: 70\n",
    "#### Bom Contra: Água (2.0), Voador (2.0)\n",
    "#### Ruim Contra: Terra (0.5), Elétrico (0.5)\n",
    "### Doublade (Aço/Fantasma)\n",
    "#### HP: 59\n",
    "#### Ataque: 110\n",
    "#### Defesa: 150\n",
    "#### Velocidade: 35\n",
    "#### Bom Contra: Fada (2.0), Gelo (2.0)\n",
    "#### Ruim Contra: Lutador (0.5), Fada (0.5)"
   ]
  },
  {
   "cell_type": "code",
   "execution_count": 63,
   "id": "a0bd1a05-27d4-4f53-b0e9-91d180ef6e0b",
   "metadata": {},
   "outputs": [
    {
     "data": {
      "application/vnd.plotly.v1+json": {
       "config": {
        "plotlyServerURL": "https://plot.ly"
       },
       "data": [
        {
         "fill": "toself",
         "hovertemplate": "r=%{r}<br>theta=%{theta}<extra></extra>",
         "legendgroup": "",
         "line": {
          "color": "#636efa",
          "dash": "solid"
         },
         "marker": {
          "symbol": "circle"
         },
         "mode": "lines",
         "name": "",
         "r": [
          1,
          0.5,
          2,
          1,
          0.5,
          0.5,
          1,
          1,
          2,
          1,
          1,
          0.5,
          2,
          1,
          1,
          1,
          0.5,
          0.5,
          1
         ],
         "showlegend": false,
         "subplot": "polar",
         "theta": [
          "against_normal",
          "against_fire",
          "against_water",
          "against_electric",
          "against_grass",
          "against_ice",
          "against_fighting",
          "against_poison",
          "against_ground",
          "against_flying",
          "against_psychic",
          "against_bug",
          "against_rock",
          "against_ghost",
          "against_dragon",
          "against_dark",
          "against_steel",
          "against_fairy",
          "against_normal"
         ],
         "type": "scatterpolar"
        }
       ],
       "layout": {
        "legend": {
         "tracegroupgap": 0
        },
        "polar": {
         "angularaxis": {
          "direction": "clockwise",
          "rotation": 90
         },
         "domain": {
          "x": [
           0,
           1
          ],
          "y": [
           0,
           1
          ]
         }
        },
        "template": {
         "data": {
          "bar": [
           {
            "error_x": {
             "color": "#2a3f5f"
            },
            "error_y": {
             "color": "#2a3f5f"
            },
            "marker": {
             "line": {
              "color": "#E5ECF6",
              "width": 0.5
             },
             "pattern": {
              "fillmode": "overlay",
              "size": 10,
              "solidity": 0.2
             }
            },
            "type": "bar"
           }
          ],
          "barpolar": [
           {
            "marker": {
             "line": {
              "color": "#E5ECF6",
              "width": 0.5
             },
             "pattern": {
              "fillmode": "overlay",
              "size": 10,
              "solidity": 0.2
             }
            },
            "type": "barpolar"
           }
          ],
          "carpet": [
           {
            "aaxis": {
             "endlinecolor": "#2a3f5f",
             "gridcolor": "white",
             "linecolor": "white",
             "minorgridcolor": "white",
             "startlinecolor": "#2a3f5f"
            },
            "baxis": {
             "endlinecolor": "#2a3f5f",
             "gridcolor": "white",
             "linecolor": "white",
             "minorgridcolor": "white",
             "startlinecolor": "#2a3f5f"
            },
            "type": "carpet"
           }
          ],
          "choropleth": [
           {
            "colorbar": {
             "outlinewidth": 0,
             "ticks": ""
            },
            "type": "choropleth"
           }
          ],
          "contour": [
           {
            "colorbar": {
             "outlinewidth": 0,
             "ticks": ""
            },
            "colorscale": [
             [
              0,
              "#0d0887"
             ],
             [
              0.1111111111111111,
              "#46039f"
             ],
             [
              0.2222222222222222,
              "#7201a8"
             ],
             [
              0.3333333333333333,
              "#9c179e"
             ],
             [
              0.4444444444444444,
              "#bd3786"
             ],
             [
              0.5555555555555556,
              "#d8576b"
             ],
             [
              0.6666666666666666,
              "#ed7953"
             ],
             [
              0.7777777777777778,
              "#fb9f3a"
             ],
             [
              0.8888888888888888,
              "#fdca26"
             ],
             [
              1,
              "#f0f921"
             ]
            ],
            "type": "contour"
           }
          ],
          "contourcarpet": [
           {
            "colorbar": {
             "outlinewidth": 0,
             "ticks": ""
            },
            "type": "contourcarpet"
           }
          ],
          "heatmap": [
           {
            "colorbar": {
             "outlinewidth": 0,
             "ticks": ""
            },
            "colorscale": [
             [
              0,
              "#0d0887"
             ],
             [
              0.1111111111111111,
              "#46039f"
             ],
             [
              0.2222222222222222,
              "#7201a8"
             ],
             [
              0.3333333333333333,
              "#9c179e"
             ],
             [
              0.4444444444444444,
              "#bd3786"
             ],
             [
              0.5555555555555556,
              "#d8576b"
             ],
             [
              0.6666666666666666,
              "#ed7953"
             ],
             [
              0.7777777777777778,
              "#fb9f3a"
             ],
             [
              0.8888888888888888,
              "#fdca26"
             ],
             [
              1,
              "#f0f921"
             ]
            ],
            "type": "heatmap"
           }
          ],
          "heatmapgl": [
           {
            "colorbar": {
             "outlinewidth": 0,
             "ticks": ""
            },
            "colorscale": [
             [
              0,
              "#0d0887"
             ],
             [
              0.1111111111111111,
              "#46039f"
             ],
             [
              0.2222222222222222,
              "#7201a8"
             ],
             [
              0.3333333333333333,
              "#9c179e"
             ],
             [
              0.4444444444444444,
              "#bd3786"
             ],
             [
              0.5555555555555556,
              "#d8576b"
             ],
             [
              0.6666666666666666,
              "#ed7953"
             ],
             [
              0.7777777777777778,
              "#fb9f3a"
             ],
             [
              0.8888888888888888,
              "#fdca26"
             ],
             [
              1,
              "#f0f921"
             ]
            ],
            "type": "heatmapgl"
           }
          ],
          "histogram": [
           {
            "marker": {
             "pattern": {
              "fillmode": "overlay",
              "size": 10,
              "solidity": 0.2
             }
            },
            "type": "histogram"
           }
          ],
          "histogram2d": [
           {
            "colorbar": {
             "outlinewidth": 0,
             "ticks": ""
            },
            "colorscale": [
             [
              0,
              "#0d0887"
             ],
             [
              0.1111111111111111,
              "#46039f"
             ],
             [
              0.2222222222222222,
              "#7201a8"
             ],
             [
              0.3333333333333333,
              "#9c179e"
             ],
             [
              0.4444444444444444,
              "#bd3786"
             ],
             [
              0.5555555555555556,
              "#d8576b"
             ],
             [
              0.6666666666666666,
              "#ed7953"
             ],
             [
              0.7777777777777778,
              "#fb9f3a"
             ],
             [
              0.8888888888888888,
              "#fdca26"
             ],
             [
              1,
              "#f0f921"
             ]
            ],
            "type": "histogram2d"
           }
          ],
          "histogram2dcontour": [
           {
            "colorbar": {
             "outlinewidth": 0,
             "ticks": ""
            },
            "colorscale": [
             [
              0,
              "#0d0887"
             ],
             [
              0.1111111111111111,
              "#46039f"
             ],
             [
              0.2222222222222222,
              "#7201a8"
             ],
             [
              0.3333333333333333,
              "#9c179e"
             ],
             [
              0.4444444444444444,
              "#bd3786"
             ],
             [
              0.5555555555555556,
              "#d8576b"
             ],
             [
              0.6666666666666666,
              "#ed7953"
             ],
             [
              0.7777777777777778,
              "#fb9f3a"
             ],
             [
              0.8888888888888888,
              "#fdca26"
             ],
             [
              1,
              "#f0f921"
             ]
            ],
            "type": "histogram2dcontour"
           }
          ],
          "mesh3d": [
           {
            "colorbar": {
             "outlinewidth": 0,
             "ticks": ""
            },
            "type": "mesh3d"
           }
          ],
          "parcoords": [
           {
            "line": {
             "colorbar": {
              "outlinewidth": 0,
              "ticks": ""
             }
            },
            "type": "parcoords"
           }
          ],
          "pie": [
           {
            "automargin": true,
            "type": "pie"
           }
          ],
          "scatter": [
           {
            "fillpattern": {
             "fillmode": "overlay",
             "size": 10,
             "solidity": 0.2
            },
            "type": "scatter"
           }
          ],
          "scatter3d": [
           {
            "line": {
             "colorbar": {
              "outlinewidth": 0,
              "ticks": ""
             }
            },
            "marker": {
             "colorbar": {
              "outlinewidth": 0,
              "ticks": ""
             }
            },
            "type": "scatter3d"
           }
          ],
          "scattercarpet": [
           {
            "marker": {
             "colorbar": {
              "outlinewidth": 0,
              "ticks": ""
             }
            },
            "type": "scattercarpet"
           }
          ],
          "scattergeo": [
           {
            "marker": {
             "colorbar": {
              "outlinewidth": 0,
              "ticks": ""
             }
            },
            "type": "scattergeo"
           }
          ],
          "scattergl": [
           {
            "marker": {
             "colorbar": {
              "outlinewidth": 0,
              "ticks": ""
             }
            },
            "type": "scattergl"
           }
          ],
          "scattermapbox": [
           {
            "marker": {
             "colorbar": {
              "outlinewidth": 0,
              "ticks": ""
             }
            },
            "type": "scattermapbox"
           }
          ],
          "scatterpolar": [
           {
            "marker": {
             "colorbar": {
              "outlinewidth": 0,
              "ticks": ""
             }
            },
            "type": "scatterpolar"
           }
          ],
          "scatterpolargl": [
           {
            "marker": {
             "colorbar": {
              "outlinewidth": 0,
              "ticks": ""
             }
            },
            "type": "scatterpolargl"
           }
          ],
          "scatterternary": [
           {
            "marker": {
             "colorbar": {
              "outlinewidth": 0,
              "ticks": ""
             }
            },
            "type": "scatterternary"
           }
          ],
          "surface": [
           {
            "colorbar": {
             "outlinewidth": 0,
             "ticks": ""
            },
            "colorscale": [
             [
              0,
              "#0d0887"
             ],
             [
              0.1111111111111111,
              "#46039f"
             ],
             [
              0.2222222222222222,
              "#7201a8"
             ],
             [
              0.3333333333333333,
              "#9c179e"
             ],
             [
              0.4444444444444444,
              "#bd3786"
             ],
             [
              0.5555555555555556,
              "#d8576b"
             ],
             [
              0.6666666666666666,
              "#ed7953"
             ],
             [
              0.7777777777777778,
              "#fb9f3a"
             ],
             [
              0.8888888888888888,
              "#fdca26"
             ],
             [
              1,
              "#f0f921"
             ]
            ],
            "type": "surface"
           }
          ],
          "table": [
           {
            "cells": {
             "fill": {
              "color": "#EBF0F8"
             },
             "line": {
              "color": "white"
             }
            },
            "header": {
             "fill": {
              "color": "#C8D4E3"
             },
             "line": {
              "color": "white"
             }
            },
            "type": "table"
           }
          ]
         },
         "layout": {
          "annotationdefaults": {
           "arrowcolor": "#2a3f5f",
           "arrowhead": 0,
           "arrowwidth": 1
          },
          "autotypenumbers": "strict",
          "coloraxis": {
           "colorbar": {
            "outlinewidth": 0,
            "ticks": ""
           }
          },
          "colorscale": {
           "diverging": [
            [
             0,
             "#8e0152"
            ],
            [
             0.1,
             "#c51b7d"
            ],
            [
             0.2,
             "#de77ae"
            ],
            [
             0.3,
             "#f1b6da"
            ],
            [
             0.4,
             "#fde0ef"
            ],
            [
             0.5,
             "#f7f7f7"
            ],
            [
             0.6,
             "#e6f5d0"
            ],
            [
             0.7,
             "#b8e186"
            ],
            [
             0.8,
             "#7fbc41"
            ],
            [
             0.9,
             "#4d9221"
            ],
            [
             1,
             "#276419"
            ]
           ],
           "sequential": [
            [
             0,
             "#0d0887"
            ],
            [
             0.1111111111111111,
             "#46039f"
            ],
            [
             0.2222222222222222,
             "#7201a8"
            ],
            [
             0.3333333333333333,
             "#9c179e"
            ],
            [
             0.4444444444444444,
             "#bd3786"
            ],
            [
             0.5555555555555556,
             "#d8576b"
            ],
            [
             0.6666666666666666,
             "#ed7953"
            ],
            [
             0.7777777777777778,
             "#fb9f3a"
            ],
            [
             0.8888888888888888,
             "#fdca26"
            ],
            [
             1,
             "#f0f921"
            ]
           ],
           "sequentialminus": [
            [
             0,
             "#0d0887"
            ],
            [
             0.1111111111111111,
             "#46039f"
            ],
            [
             0.2222222222222222,
             "#7201a8"
            ],
            [
             0.3333333333333333,
             "#9c179e"
            ],
            [
             0.4444444444444444,
             "#bd3786"
            ],
            [
             0.5555555555555556,
             "#d8576b"
            ],
            [
             0.6666666666666666,
             "#ed7953"
            ],
            [
             0.7777777777777778,
             "#fb9f3a"
            ],
            [
             0.8888888888888888,
             "#fdca26"
            ],
            [
             1,
             "#f0f921"
            ]
           ]
          },
          "colorway": [
           "#636efa",
           "#EF553B",
           "#00cc96",
           "#ab63fa",
           "#FFA15A",
           "#19d3f3",
           "#FF6692",
           "#B6E880",
           "#FF97FF",
           "#FECB52"
          ],
          "font": {
           "color": "#2a3f5f"
          },
          "geo": {
           "bgcolor": "white",
           "lakecolor": "white",
           "landcolor": "#E5ECF6",
           "showlakes": true,
           "showland": true,
           "subunitcolor": "white"
          },
          "hoverlabel": {
           "align": "left"
          },
          "hovermode": "closest",
          "mapbox": {
           "style": "light"
          },
          "paper_bgcolor": "white",
          "plot_bgcolor": "#E5ECF6",
          "polar": {
           "angularaxis": {
            "gridcolor": "white",
            "linecolor": "white",
            "ticks": ""
           },
           "bgcolor": "#E5ECF6",
           "radialaxis": {
            "gridcolor": "white",
            "linecolor": "white",
            "ticks": ""
           }
          },
          "scene": {
           "xaxis": {
            "backgroundcolor": "#E5ECF6",
            "gridcolor": "white",
            "gridwidth": 2,
            "linecolor": "white",
            "showbackground": true,
            "ticks": "",
            "zerolinecolor": "white"
           },
           "yaxis": {
            "backgroundcolor": "#E5ECF6",
            "gridcolor": "white",
            "gridwidth": 2,
            "linecolor": "white",
            "showbackground": true,
            "ticks": "",
            "zerolinecolor": "white"
           },
           "zaxis": {
            "backgroundcolor": "#E5ECF6",
            "gridcolor": "white",
            "gridwidth": 2,
            "linecolor": "white",
            "showbackground": true,
            "ticks": "",
            "zerolinecolor": "white"
           }
          },
          "shapedefaults": {
           "line": {
            "color": "#2a3f5f"
           }
          },
          "ternary": {
           "aaxis": {
            "gridcolor": "white",
            "linecolor": "white",
            "ticks": ""
           },
           "baxis": {
            "gridcolor": "white",
            "linecolor": "white",
            "ticks": ""
           },
           "bgcolor": "#E5ECF6",
           "caxis": {
            "gridcolor": "white",
            "linecolor": "white",
            "ticks": ""
           }
          },
          "title": {
           "x": 0.05
          },
          "xaxis": {
           "automargin": true,
           "gridcolor": "white",
           "linecolor": "white",
           "ticks": "",
           "title": {
            "standoff": 15
           },
           "zerolinecolor": "white",
           "zerolinewidth": 2
          },
          "yaxis": {
           "automargin": true,
           "gridcolor": "white",
           "linecolor": "white",
           "ticks": "",
           "title": {
            "standoff": 15
           },
           "zerolinecolor": "white",
           "zerolinewidth": 2
          }
         }
        },
        "title": {
         "text": "Darmanitan Standard Mode"
        }
       }
      }
     },
     "metadata": {},
     "output_type": "display_data"
    },
    {
     "data": {
      "application/vnd.plotly.v1+json": {
       "config": {
        "plotlyServerURL": "https://plot.ly"
       },
       "data": [
        {
         "fill": "toself",
         "hovertemplate": "r=%{r}<br>theta=%{theta}<extra></extra>",
         "legendgroup": "",
         "line": {
          "color": "#636efa",
          "dash": "solid"
         },
         "marker": {
          "symbol": "circle"
         },
         "mode": "lines",
         "name": "",
         "r": [
          1,
          0.5,
          0.5,
          1,
          0.25,
          4,
          0.5,
          1,
          0,
          1,
          1,
          0.5,
          2,
          1,
          2,
          1,
          1,
          2,
          1
         ],
         "showlegend": false,
         "subplot": "polar",
         "theta": [
          "against_normal",
          "against_fire",
          "against_water",
          "against_electric",
          "against_grass",
          "against_ice",
          "against_fighting",
          "against_poison",
          "against_ground",
          "against_flying",
          "against_psychic",
          "against_bug",
          "against_rock",
          "against_ghost",
          "against_dragon",
          "against_dark",
          "against_steel",
          "against_fairy",
          "against_normal"
         ],
         "type": "scatterpolar"
        }
       ],
       "layout": {
        "legend": {
         "tracegroupgap": 0
        },
        "polar": {
         "angularaxis": {
          "direction": "clockwise",
          "rotation": 90
         },
         "domain": {
          "x": [
           0,
           1
          ],
          "y": [
           0,
           1
          ]
         }
        },
        "template": {
         "data": {
          "bar": [
           {
            "error_x": {
             "color": "#2a3f5f"
            },
            "error_y": {
             "color": "#2a3f5f"
            },
            "marker": {
             "line": {
              "color": "#E5ECF6",
              "width": 0.5
             },
             "pattern": {
              "fillmode": "overlay",
              "size": 10,
              "solidity": 0.2
             }
            },
            "type": "bar"
           }
          ],
          "barpolar": [
           {
            "marker": {
             "line": {
              "color": "#E5ECF6",
              "width": 0.5
             },
             "pattern": {
              "fillmode": "overlay",
              "size": 10,
              "solidity": 0.2
             }
            },
            "type": "barpolar"
           }
          ],
          "carpet": [
           {
            "aaxis": {
             "endlinecolor": "#2a3f5f",
             "gridcolor": "white",
             "linecolor": "white",
             "minorgridcolor": "white",
             "startlinecolor": "#2a3f5f"
            },
            "baxis": {
             "endlinecolor": "#2a3f5f",
             "gridcolor": "white",
             "linecolor": "white",
             "minorgridcolor": "white",
             "startlinecolor": "#2a3f5f"
            },
            "type": "carpet"
           }
          ],
          "choropleth": [
           {
            "colorbar": {
             "outlinewidth": 0,
             "ticks": ""
            },
            "type": "choropleth"
           }
          ],
          "contour": [
           {
            "colorbar": {
             "outlinewidth": 0,
             "ticks": ""
            },
            "colorscale": [
             [
              0,
              "#0d0887"
             ],
             [
              0.1111111111111111,
              "#46039f"
             ],
             [
              0.2222222222222222,
              "#7201a8"
             ],
             [
              0.3333333333333333,
              "#9c179e"
             ],
             [
              0.4444444444444444,
              "#bd3786"
             ],
             [
              0.5555555555555556,
              "#d8576b"
             ],
             [
              0.6666666666666666,
              "#ed7953"
             ],
             [
              0.7777777777777778,
              "#fb9f3a"
             ],
             [
              0.8888888888888888,
              "#fdca26"
             ],
             [
              1,
              "#f0f921"
             ]
            ],
            "type": "contour"
           }
          ],
          "contourcarpet": [
           {
            "colorbar": {
             "outlinewidth": 0,
             "ticks": ""
            },
            "type": "contourcarpet"
           }
          ],
          "heatmap": [
           {
            "colorbar": {
             "outlinewidth": 0,
             "ticks": ""
            },
            "colorscale": [
             [
              0,
              "#0d0887"
             ],
             [
              0.1111111111111111,
              "#46039f"
             ],
             [
              0.2222222222222222,
              "#7201a8"
             ],
             [
              0.3333333333333333,
              "#9c179e"
             ],
             [
              0.4444444444444444,
              "#bd3786"
             ],
             [
              0.5555555555555556,
              "#d8576b"
             ],
             [
              0.6666666666666666,
              "#ed7953"
             ],
             [
              0.7777777777777778,
              "#fb9f3a"
             ],
             [
              0.8888888888888888,
              "#fdca26"
             ],
             [
              1,
              "#f0f921"
             ]
            ],
            "type": "heatmap"
           }
          ],
          "heatmapgl": [
           {
            "colorbar": {
             "outlinewidth": 0,
             "ticks": ""
            },
            "colorscale": [
             [
              0,
              "#0d0887"
             ],
             [
              0.1111111111111111,
              "#46039f"
             ],
             [
              0.2222222222222222,
              "#7201a8"
             ],
             [
              0.3333333333333333,
              "#9c179e"
             ],
             [
              0.4444444444444444,
              "#bd3786"
             ],
             [
              0.5555555555555556,
              "#d8576b"
             ],
             [
              0.6666666666666666,
              "#ed7953"
             ],
             [
              0.7777777777777778,
              "#fb9f3a"
             ],
             [
              0.8888888888888888,
              "#fdca26"
             ],
             [
              1,
              "#f0f921"
             ]
            ],
            "type": "heatmapgl"
           }
          ],
          "histogram": [
           {
            "marker": {
             "pattern": {
              "fillmode": "overlay",
              "size": 10,
              "solidity": 0.2
             }
            },
            "type": "histogram"
           }
          ],
          "histogram2d": [
           {
            "colorbar": {
             "outlinewidth": 0,
             "ticks": ""
            },
            "colorscale": [
             [
              0,
              "#0d0887"
             ],
             [
              0.1111111111111111,
              "#46039f"
             ],
             [
              0.2222222222222222,
              "#7201a8"
             ],
             [
              0.3333333333333333,
              "#9c179e"
             ],
             [
              0.4444444444444444,
              "#bd3786"
             ],
             [
              0.5555555555555556,
              "#d8576b"
             ],
             [
              0.6666666666666666,
              "#ed7953"
             ],
             [
              0.7777777777777778,
              "#fb9f3a"
             ],
             [
              0.8888888888888888,
              "#fdca26"
             ],
             [
              1,
              "#f0f921"
             ]
            ],
            "type": "histogram2d"
           }
          ],
          "histogram2dcontour": [
           {
            "colorbar": {
             "outlinewidth": 0,
             "ticks": ""
            },
            "colorscale": [
             [
              0,
              "#0d0887"
             ],
             [
              0.1111111111111111,
              "#46039f"
             ],
             [
              0.2222222222222222,
              "#7201a8"
             ],
             [
              0.3333333333333333,
              "#9c179e"
             ],
             [
              0.4444444444444444,
              "#bd3786"
             ],
             [
              0.5555555555555556,
              "#d8576b"
             ],
             [
              0.6666666666666666,
              "#ed7953"
             ],
             [
              0.7777777777777778,
              "#fb9f3a"
             ],
             [
              0.8888888888888888,
              "#fdca26"
             ],
             [
              1,
              "#f0f921"
             ]
            ],
            "type": "histogram2dcontour"
           }
          ],
          "mesh3d": [
           {
            "colorbar": {
             "outlinewidth": 0,
             "ticks": ""
            },
            "type": "mesh3d"
           }
          ],
          "parcoords": [
           {
            "line": {
             "colorbar": {
              "outlinewidth": 0,
              "ticks": ""
             }
            },
            "type": "parcoords"
           }
          ],
          "pie": [
           {
            "automargin": true,
            "type": "pie"
           }
          ],
          "scatter": [
           {
            "fillpattern": {
             "fillmode": "overlay",
             "size": 10,
             "solidity": 0.2
            },
            "type": "scatter"
           }
          ],
          "scatter3d": [
           {
            "line": {
             "colorbar": {
              "outlinewidth": 0,
              "ticks": ""
             }
            },
            "marker": {
             "colorbar": {
              "outlinewidth": 0,
              "ticks": ""
             }
            },
            "type": "scatter3d"
           }
          ],
          "scattercarpet": [
           {
            "marker": {
             "colorbar": {
              "outlinewidth": 0,
              "ticks": ""
             }
            },
            "type": "scattercarpet"
           }
          ],
          "scattergeo": [
           {
            "marker": {
             "colorbar": {
              "outlinewidth": 0,
              "ticks": ""
             }
            },
            "type": "scattergeo"
           }
          ],
          "scattergl": [
           {
            "marker": {
             "colorbar": {
              "outlinewidth": 0,
              "ticks": ""
             }
            },
            "type": "scattergl"
           }
          ],
          "scattermapbox": [
           {
            "marker": {
             "colorbar": {
              "outlinewidth": 0,
              "ticks": ""
             }
            },
            "type": "scattermapbox"
           }
          ],
          "scatterpolar": [
           {
            "marker": {
             "colorbar": {
              "outlinewidth": 0,
              "ticks": ""
             }
            },
            "type": "scatterpolar"
           }
          ],
          "scatterpolargl": [
           {
            "marker": {
             "colorbar": {
              "outlinewidth": 0,
              "ticks": ""
             }
            },
            "type": "scatterpolargl"
           }
          ],
          "scatterternary": [
           {
            "marker": {
             "colorbar": {
              "outlinewidth": 0,
              "ticks": ""
             }
            },
            "type": "scatterternary"
           }
          ],
          "surface": [
           {
            "colorbar": {
             "outlinewidth": 0,
             "ticks": ""
            },
            "colorscale": [
             [
              0,
              "#0d0887"
             ],
             [
              0.1111111111111111,
              "#46039f"
             ],
             [
              0.2222222222222222,
              "#7201a8"
             ],
             [
              0.3333333333333333,
              "#9c179e"
             ],
             [
              0.4444444444444444,
              "#bd3786"
             ],
             [
              0.5555555555555556,
              "#d8576b"
             ],
             [
              0.6666666666666666,
              "#ed7953"
             ],
             [
              0.7777777777777778,
              "#fb9f3a"
             ],
             [
              0.8888888888888888,
              "#fdca26"
             ],
             [
              1,
              "#f0f921"
             ]
            ],
            "type": "surface"
           }
          ],
          "table": [
           {
            "cells": {
             "fill": {
              "color": "#EBF0F8"
             },
             "line": {
              "color": "white"
             }
            },
            "header": {
             "fill": {
              "color": "#C8D4E3"
             },
             "line": {
              "color": "white"
             }
            },
            "type": "table"
           }
          ]
         },
         "layout": {
          "annotationdefaults": {
           "arrowcolor": "#2a3f5f",
           "arrowhead": 0,
           "arrowwidth": 1
          },
          "autotypenumbers": "strict",
          "coloraxis": {
           "colorbar": {
            "outlinewidth": 0,
            "ticks": ""
           }
          },
          "colorscale": {
           "diverging": [
            [
             0,
             "#8e0152"
            ],
            [
             0.1,
             "#c51b7d"
            ],
            [
             0.2,
             "#de77ae"
            ],
            [
             0.3,
             "#f1b6da"
            ],
            [
             0.4,
             "#fde0ef"
            ],
            [
             0.5,
             "#f7f7f7"
            ],
            [
             0.6,
             "#e6f5d0"
            ],
            [
             0.7,
             "#b8e186"
            ],
            [
             0.8,
             "#7fbc41"
            ],
            [
             0.9,
             "#4d9221"
            ],
            [
             1,
             "#276419"
            ]
           ],
           "sequential": [
            [
             0,
             "#0d0887"
            ],
            [
             0.1111111111111111,
             "#46039f"
            ],
            [
             0.2222222222222222,
             "#7201a8"
            ],
            [
             0.3333333333333333,
             "#9c179e"
            ],
            [
             0.4444444444444444,
             "#bd3786"
            ],
            [
             0.5555555555555556,
             "#d8576b"
            ],
            [
             0.6666666666666666,
             "#ed7953"
            ],
            [
             0.7777777777777778,
             "#fb9f3a"
            ],
            [
             0.8888888888888888,
             "#fdca26"
            ],
            [
             1,
             "#f0f921"
            ]
           ],
           "sequentialminus": [
            [
             0,
             "#0d0887"
            ],
            [
             0.1111111111111111,
             "#46039f"
            ],
            [
             0.2222222222222222,
             "#7201a8"
            ],
            [
             0.3333333333333333,
             "#9c179e"
            ],
            [
             0.4444444444444444,
             "#bd3786"
            ],
            [
             0.5555555555555556,
             "#d8576b"
            ],
            [
             0.6666666666666666,
             "#ed7953"
            ],
            [
             0.7777777777777778,
             "#fb9f3a"
            ],
            [
             0.8888888888888888,
             "#fdca26"
            ],
            [
             1,
             "#f0f921"
            ]
           ]
          },
          "colorway": [
           "#636efa",
           "#EF553B",
           "#00cc96",
           "#ab63fa",
           "#FFA15A",
           "#19d3f3",
           "#FF6692",
           "#B6E880",
           "#FF97FF",
           "#FECB52"
          ],
          "font": {
           "color": "#2a3f5f"
          },
          "geo": {
           "bgcolor": "white",
           "lakecolor": "white",
           "landcolor": "#E5ECF6",
           "showlakes": true,
           "showland": true,
           "subunitcolor": "white"
          },
          "hoverlabel": {
           "align": "left"
          },
          "hovermode": "closest",
          "mapbox": {
           "style": "light"
          },
          "paper_bgcolor": "white",
          "plot_bgcolor": "#E5ECF6",
          "polar": {
           "angularaxis": {
            "gridcolor": "white",
            "linecolor": "white",
            "ticks": ""
           },
           "bgcolor": "#E5ECF6",
           "radialaxis": {
            "gridcolor": "white",
            "linecolor": "white",
            "ticks": ""
           }
          },
          "scene": {
           "xaxis": {
            "backgroundcolor": "#E5ECF6",
            "gridcolor": "white",
            "gridwidth": 2,
            "linecolor": "white",
            "showbackground": true,
            "ticks": "",
            "zerolinecolor": "white"
           },
           "yaxis": {
            "backgroundcolor": "#E5ECF6",
            "gridcolor": "white",
            "gridwidth": 2,
            "linecolor": "white",
            "showbackground": true,
            "ticks": "",
            "zerolinecolor": "white"
           },
           "zaxis": {
            "backgroundcolor": "#E5ECF6",
            "gridcolor": "white",
            "gridwidth": 2,
            "linecolor": "white",
            "showbackground": true,
            "ticks": "",
            "zerolinecolor": "white"
           }
          },
          "shapedefaults": {
           "line": {
            "color": "#2a3f5f"
           }
          },
          "ternary": {
           "aaxis": {
            "gridcolor": "white",
            "linecolor": "white",
            "ticks": ""
           },
           "baxis": {
            "gridcolor": "white",
            "linecolor": "white",
            "ticks": ""
           },
           "bgcolor": "#E5ECF6",
           "caxis": {
            "gridcolor": "white",
            "linecolor": "white",
            "ticks": ""
           }
          },
          "title": {
           "x": 0.05
          },
          "xaxis": {
           "automargin": true,
           "gridcolor": "white",
           "linecolor": "white",
           "ticks": "",
           "title": {
            "standoff": 15
           },
           "zerolinecolor": "white",
           "zerolinewidth": 2
          },
          "yaxis": {
           "automargin": true,
           "gridcolor": "white",
           "linecolor": "white",
           "ticks": "",
           "title": {
            "standoff": 15
           },
           "zerolinecolor": "white",
           "zerolinewidth": 2
          }
         }
        },
        "title": {
         "text": "Dragonite"
        }
       }
      }
     },
     "metadata": {},
     "output_type": "display_data"
    },
    {
     "data": {
      "application/vnd.plotly.v1+json": {
       "config": {
        "plotlyServerURL": "https://plot.ly"
       },
       "data": [
        {
         "fill": "toself",
         "hovertemplate": "r=%{r}<br>theta=%{theta}<extra></extra>",
         "legendgroup": "",
         "line": {
          "color": "#636efa",
          "dash": "solid"
         },
         "marker": {
          "symbol": "circle"
         },
         "mode": "lines",
         "name": "",
         "r": [
          0.5,
          2,
          1,
          1,
          0.5,
          0.5,
          2,
          0,
          2,
          1,
          1,
          0.25,
          0.25,
          1,
          0.5,
          0.5,
          0.5,
          1,
          0.5
         ],
         "showlegend": false,
         "subplot": "polar",
         "theta": [
          "against_normal",
          "against_fire",
          "against_water",
          "against_electric",
          "against_grass",
          "against_ice",
          "against_fighting",
          "against_poison",
          "against_ground",
          "against_flying",
          "against_psychic",
          "against_bug",
          "against_rock",
          "against_ghost",
          "against_dragon",
          "against_dark",
          "against_steel",
          "against_fairy",
          "against_normal"
         ],
         "type": "scatterpolar"
        }
       ],
       "layout": {
        "legend": {
         "tracegroupgap": 0
        },
        "polar": {
         "angularaxis": {
          "direction": "clockwise",
          "rotation": 90
         },
         "domain": {
          "x": [
           0,
           1
          ],
          "y": [
           0,
           1
          ]
         }
        },
        "template": {
         "data": {
          "bar": [
           {
            "error_x": {
             "color": "#2a3f5f"
            },
            "error_y": {
             "color": "#2a3f5f"
            },
            "marker": {
             "line": {
              "color": "#E5ECF6",
              "width": 0.5
             },
             "pattern": {
              "fillmode": "overlay",
              "size": 10,
              "solidity": 0.2
             }
            },
            "type": "bar"
           }
          ],
          "barpolar": [
           {
            "marker": {
             "line": {
              "color": "#E5ECF6",
              "width": 0.5
             },
             "pattern": {
              "fillmode": "overlay",
              "size": 10,
              "solidity": 0.2
             }
            },
            "type": "barpolar"
           }
          ],
          "carpet": [
           {
            "aaxis": {
             "endlinecolor": "#2a3f5f",
             "gridcolor": "white",
             "linecolor": "white",
             "minorgridcolor": "white",
             "startlinecolor": "#2a3f5f"
            },
            "baxis": {
             "endlinecolor": "#2a3f5f",
             "gridcolor": "white",
             "linecolor": "white",
             "minorgridcolor": "white",
             "startlinecolor": "#2a3f5f"
            },
            "type": "carpet"
           }
          ],
          "choropleth": [
           {
            "colorbar": {
             "outlinewidth": 0,
             "ticks": ""
            },
            "type": "choropleth"
           }
          ],
          "contour": [
           {
            "colorbar": {
             "outlinewidth": 0,
             "ticks": ""
            },
            "colorscale": [
             [
              0,
              "#0d0887"
             ],
             [
              0.1111111111111111,
              "#46039f"
             ],
             [
              0.2222222222222222,
              "#7201a8"
             ],
             [
              0.3333333333333333,
              "#9c179e"
             ],
             [
              0.4444444444444444,
              "#bd3786"
             ],
             [
              0.5555555555555556,
              "#d8576b"
             ],
             [
              0.6666666666666666,
              "#ed7953"
             ],
             [
              0.7777777777777778,
              "#fb9f3a"
             ],
             [
              0.8888888888888888,
              "#fdca26"
             ],
             [
              1,
              "#f0f921"
             ]
            ],
            "type": "contour"
           }
          ],
          "contourcarpet": [
           {
            "colorbar": {
             "outlinewidth": 0,
             "ticks": ""
            },
            "type": "contourcarpet"
           }
          ],
          "heatmap": [
           {
            "colorbar": {
             "outlinewidth": 0,
             "ticks": ""
            },
            "colorscale": [
             [
              0,
              "#0d0887"
             ],
             [
              0.1111111111111111,
              "#46039f"
             ],
             [
              0.2222222222222222,
              "#7201a8"
             ],
             [
              0.3333333333333333,
              "#9c179e"
             ],
             [
              0.4444444444444444,
              "#bd3786"
             ],
             [
              0.5555555555555556,
              "#d8576b"
             ],
             [
              0.6666666666666666,
              "#ed7953"
             ],
             [
              0.7777777777777778,
              "#fb9f3a"
             ],
             [
              0.8888888888888888,
              "#fdca26"
             ],
             [
              1,
              "#f0f921"
             ]
            ],
            "type": "heatmap"
           }
          ],
          "heatmapgl": [
           {
            "colorbar": {
             "outlinewidth": 0,
             "ticks": ""
            },
            "colorscale": [
             [
              0,
              "#0d0887"
             ],
             [
              0.1111111111111111,
              "#46039f"
             ],
             [
              0.2222222222222222,
              "#7201a8"
             ],
             [
              0.3333333333333333,
              "#9c179e"
             ],
             [
              0.4444444444444444,
              "#bd3786"
             ],
             [
              0.5555555555555556,
              "#d8576b"
             ],
             [
              0.6666666666666666,
              "#ed7953"
             ],
             [
              0.7777777777777778,
              "#fb9f3a"
             ],
             [
              0.8888888888888888,
              "#fdca26"
             ],
             [
              1,
              "#f0f921"
             ]
            ],
            "type": "heatmapgl"
           }
          ],
          "histogram": [
           {
            "marker": {
             "pattern": {
              "fillmode": "overlay",
              "size": 10,
              "solidity": 0.2
             }
            },
            "type": "histogram"
           }
          ],
          "histogram2d": [
           {
            "colorbar": {
             "outlinewidth": 0,
             "ticks": ""
            },
            "colorscale": [
             [
              0,
              "#0d0887"
             ],
             [
              0.1111111111111111,
              "#46039f"
             ],
             [
              0.2222222222222222,
              "#7201a8"
             ],
             [
              0.3333333333333333,
              "#9c179e"
             ],
             [
              0.4444444444444444,
              "#bd3786"
             ],
             [
              0.5555555555555556,
              "#d8576b"
             ],
             [
              0.6666666666666666,
              "#ed7953"
             ],
             [
              0.7777777777777778,
              "#fb9f3a"
             ],
             [
              0.8888888888888888,
              "#fdca26"
             ],
             [
              1,
              "#f0f921"
             ]
            ],
            "type": "histogram2d"
           }
          ],
          "histogram2dcontour": [
           {
            "colorbar": {
             "outlinewidth": 0,
             "ticks": ""
            },
            "colorscale": [
             [
              0,
              "#0d0887"
             ],
             [
              0.1111111111111111,
              "#46039f"
             ],
             [
              0.2222222222222222,
              "#7201a8"
             ],
             [
              0.3333333333333333,
              "#9c179e"
             ],
             [
              0.4444444444444444,
              "#bd3786"
             ],
             [
              0.5555555555555556,
              "#d8576b"
             ],
             [
              0.6666666666666666,
              "#ed7953"
             ],
             [
              0.7777777777777778,
              "#fb9f3a"
             ],
             [
              0.8888888888888888,
              "#fdca26"
             ],
             [
              1,
              "#f0f921"
             ]
            ],
            "type": "histogram2dcontour"
           }
          ],
          "mesh3d": [
           {
            "colorbar": {
             "outlinewidth": 0,
             "ticks": ""
            },
            "type": "mesh3d"
           }
          ],
          "parcoords": [
           {
            "line": {
             "colorbar": {
              "outlinewidth": 0,
              "ticks": ""
             }
            },
            "type": "parcoords"
           }
          ],
          "pie": [
           {
            "automargin": true,
            "type": "pie"
           }
          ],
          "scatter": [
           {
            "fillpattern": {
             "fillmode": "overlay",
             "size": 10,
             "solidity": 0.2
            },
            "type": "scatter"
           }
          ],
          "scatter3d": [
           {
            "line": {
             "colorbar": {
              "outlinewidth": 0,
              "ticks": ""
             }
            },
            "marker": {
             "colorbar": {
              "outlinewidth": 0,
              "ticks": ""
             }
            },
            "type": "scatter3d"
           }
          ],
          "scattercarpet": [
           {
            "marker": {
             "colorbar": {
              "outlinewidth": 0,
              "ticks": ""
             }
            },
            "type": "scattercarpet"
           }
          ],
          "scattergeo": [
           {
            "marker": {
             "colorbar": {
              "outlinewidth": 0,
              "ticks": ""
             }
            },
            "type": "scattergeo"
           }
          ],
          "scattergl": [
           {
            "marker": {
             "colorbar": {
              "outlinewidth": 0,
              "ticks": ""
             }
            },
            "type": "scattergl"
           }
          ],
          "scattermapbox": [
           {
            "marker": {
             "colorbar": {
              "outlinewidth": 0,
              "ticks": ""
             }
            },
            "type": "scattermapbox"
           }
          ],
          "scatterpolar": [
           {
            "marker": {
             "colorbar": {
              "outlinewidth": 0,
              "ticks": ""
             }
            },
            "type": "scatterpolar"
           }
          ],
          "scatterpolargl": [
           {
            "marker": {
             "colorbar": {
              "outlinewidth": 0,
              "ticks": ""
             }
            },
            "type": "scatterpolargl"
           }
          ],
          "scatterternary": [
           {
            "marker": {
             "colorbar": {
              "outlinewidth": 0,
              "ticks": ""
             }
            },
            "type": "scatterternary"
           }
          ],
          "surface": [
           {
            "colorbar": {
             "outlinewidth": 0,
             "ticks": ""
            },
            "colorscale": [
             [
              0,
              "#0d0887"
             ],
             [
              0.1111111111111111,
              "#46039f"
             ],
             [
              0.2222222222222222,
              "#7201a8"
             ],
             [
              0.3333333333333333,
              "#9c179e"
             ],
             [
              0.4444444444444444,
              "#bd3786"
             ],
             [
              0.5555555555555556,
              "#d8576b"
             ],
             [
              0.6666666666666666,
              "#ed7953"
             ],
             [
              0.7777777777777778,
              "#fb9f3a"
             ],
             [
              0.8888888888888888,
              "#fdca26"
             ],
             [
              1,
              "#f0f921"
             ]
            ],
            "type": "surface"
           }
          ],
          "table": [
           {
            "cells": {
             "fill": {
              "color": "#EBF0F8"
             },
             "line": {
              "color": "white"
             }
            },
            "header": {
             "fill": {
              "color": "#C8D4E3"
             },
             "line": {
              "color": "white"
             }
            },
            "type": "table"
           }
          ]
         },
         "layout": {
          "annotationdefaults": {
           "arrowcolor": "#2a3f5f",
           "arrowhead": 0,
           "arrowwidth": 1
          },
          "autotypenumbers": "strict",
          "coloraxis": {
           "colorbar": {
            "outlinewidth": 0,
            "ticks": ""
           }
          },
          "colorscale": {
           "diverging": [
            [
             0,
             "#8e0152"
            ],
            [
             0.1,
             "#c51b7d"
            ],
            [
             0.2,
             "#de77ae"
            ],
            [
             0.3,
             "#f1b6da"
            ],
            [
             0.4,
             "#fde0ef"
            ],
            [
             0.5,
             "#f7f7f7"
            ],
            [
             0.6,
             "#e6f5d0"
            ],
            [
             0.7,
             "#b8e186"
            ],
            [
             0.8,
             "#7fbc41"
            ],
            [
             0.9,
             "#4d9221"
            ],
            [
             1,
             "#276419"
            ]
           ],
           "sequential": [
            [
             0,
             "#0d0887"
            ],
            [
             0.1111111111111111,
             "#46039f"
            ],
            [
             0.2222222222222222,
             "#7201a8"
            ],
            [
             0.3333333333333333,
             "#9c179e"
            ],
            [
             0.4444444444444444,
             "#bd3786"
            ],
            [
             0.5555555555555556,
             "#d8576b"
            ],
            [
             0.6666666666666666,
             "#ed7953"
            ],
            [
             0.7777777777777778,
             "#fb9f3a"
            ],
            [
             0.8888888888888888,
             "#fdca26"
            ],
            [
             1,
             "#f0f921"
            ]
           ],
           "sequentialminus": [
            [
             0,
             "#0d0887"
            ],
            [
             0.1111111111111111,
             "#46039f"
            ],
            [
             0.2222222222222222,
             "#7201a8"
            ],
            [
             0.3333333333333333,
             "#9c179e"
            ],
            [
             0.4444444444444444,
             "#bd3786"
            ],
            [
             0.5555555555555556,
             "#d8576b"
            ],
            [
             0.6666666666666666,
             "#ed7953"
            ],
            [
             0.7777777777777778,
             "#fb9f3a"
            ],
            [
             0.8888888888888888,
             "#fdca26"
            ],
            [
             1,
             "#f0f921"
            ]
           ]
          },
          "colorway": [
           "#636efa",
           "#EF553B",
           "#00cc96",
           "#ab63fa",
           "#FFA15A",
           "#19d3f3",
           "#FF6692",
           "#B6E880",
           "#FF97FF",
           "#FECB52"
          ],
          "font": {
           "color": "#2a3f5f"
          },
          "geo": {
           "bgcolor": "white",
           "lakecolor": "white",
           "landcolor": "#E5ECF6",
           "showlakes": true,
           "showland": true,
           "subunitcolor": "white"
          },
          "hoverlabel": {
           "align": "left"
          },
          "hovermode": "closest",
          "mapbox": {
           "style": "light"
          },
          "paper_bgcolor": "white",
          "plot_bgcolor": "#E5ECF6",
          "polar": {
           "angularaxis": {
            "gridcolor": "white",
            "linecolor": "white",
            "ticks": ""
           },
           "bgcolor": "#E5ECF6",
           "radialaxis": {
            "gridcolor": "white",
            "linecolor": "white",
            "ticks": ""
           }
          },
          "scene": {
           "xaxis": {
            "backgroundcolor": "#E5ECF6",
            "gridcolor": "white",
            "gridwidth": 2,
            "linecolor": "white",
            "showbackground": true,
            "ticks": "",
            "zerolinecolor": "white"
           },
           "yaxis": {
            "backgroundcolor": "#E5ECF6",
            "gridcolor": "white",
            "gridwidth": 2,
            "linecolor": "white",
            "showbackground": true,
            "ticks": "",
            "zerolinecolor": "white"
           },
           "zaxis": {
            "backgroundcolor": "#E5ECF6",
            "gridcolor": "white",
            "gridwidth": 2,
            "linecolor": "white",
            "showbackground": true,
            "ticks": "",
            "zerolinecolor": "white"
           }
          },
          "shapedefaults": {
           "line": {
            "color": "#2a3f5f"
           }
          },
          "ternary": {
           "aaxis": {
            "gridcolor": "white",
            "linecolor": "white",
            "ticks": ""
           },
           "baxis": {
            "gridcolor": "white",
            "linecolor": "white",
            "ticks": ""
           },
           "bgcolor": "#E5ECF6",
           "caxis": {
            "gridcolor": "white",
            "linecolor": "white",
            "ticks": ""
           }
          },
          "title": {
           "x": 0.05
          },
          "xaxis": {
           "automargin": true,
           "gridcolor": "white",
           "linecolor": "white",
           "ticks": "",
           "title": {
            "standoff": 15
           },
           "zerolinecolor": "white",
           "zerolinewidth": 2
          },
          "yaxis": {
           "automargin": true,
           "gridcolor": "white",
           "linecolor": "white",
           "ticks": "",
           "title": {
            "standoff": 15
           },
           "zerolinecolor": "white",
           "zerolinewidth": 2
          }
         }
        },
        "title": {
         "text": "Lucario"
        }
       }
      }
     },
     "metadata": {},
     "output_type": "display_data"
    },
    {
     "data": {
      "application/vnd.plotly.v1+json": {
       "config": {
        "plotlyServerURL": "https://plot.ly"
       },
       "data": [
        {
         "fill": "toself",
         "hovertemplate": "r=%{r}<br>theta=%{theta}<extra></extra>",
         "legendgroup": "",
         "line": {
          "color": "#636efa",
          "dash": "solid"
         },
         "marker": {
          "symbol": "circle"
         },
         "mode": "lines",
         "name": "",
         "r": [
          1,
          2,
          0.5,
          0.5,
          0.5,
          2,
          1,
          2,
          0.5,
          4,
          2,
          1,
          0.5,
          1,
          1,
          0.5,
          1,
          2,
          1
         ],
         "showlegend": false,
         "subplot": "polar",
         "theta": [
          "against_normal",
          "against_fire",
          "against_water",
          "against_electric",
          "against_grass",
          "against_ice",
          "against_fighting",
          "against_poison",
          "against_ground",
          "against_flying",
          "against_psychic",
          "against_bug",
          "against_rock",
          "against_ghost",
          "against_dragon",
          "against_dark",
          "against_steel",
          "against_fairy",
          "against_normal"
         ],
         "type": "scatterpolar"
        }
       ],
       "layout": {
        "legend": {
         "tracegroupgap": 0
        },
        "polar": {
         "angularaxis": {
          "direction": "clockwise",
          "rotation": 90
         },
         "domain": {
          "x": [
           0,
           1
          ],
          "y": [
           0,
           1
          ]
         }
        },
        "template": {
         "data": {
          "bar": [
           {
            "error_x": {
             "color": "#2a3f5f"
            },
            "error_y": {
             "color": "#2a3f5f"
            },
            "marker": {
             "line": {
              "color": "#E5ECF6",
              "width": 0.5
             },
             "pattern": {
              "fillmode": "overlay",
              "size": 10,
              "solidity": 0.2
             }
            },
            "type": "bar"
           }
          ],
          "barpolar": [
           {
            "marker": {
             "line": {
              "color": "#E5ECF6",
              "width": 0.5
             },
             "pattern": {
              "fillmode": "overlay",
              "size": 10,
              "solidity": 0.2
             }
            },
            "type": "barpolar"
           }
          ],
          "carpet": [
           {
            "aaxis": {
             "endlinecolor": "#2a3f5f",
             "gridcolor": "white",
             "linecolor": "white",
             "minorgridcolor": "white",
             "startlinecolor": "#2a3f5f"
            },
            "baxis": {
             "endlinecolor": "#2a3f5f",
             "gridcolor": "white",
             "linecolor": "white",
             "minorgridcolor": "white",
             "startlinecolor": "#2a3f5f"
            },
            "type": "carpet"
           }
          ],
          "choropleth": [
           {
            "colorbar": {
             "outlinewidth": 0,
             "ticks": ""
            },
            "type": "choropleth"
           }
          ],
          "contour": [
           {
            "colorbar": {
             "outlinewidth": 0,
             "ticks": ""
            },
            "colorscale": [
             [
              0,
              "#0d0887"
             ],
             [
              0.1111111111111111,
              "#46039f"
             ],
             [
              0.2222222222222222,
              "#7201a8"
             ],
             [
              0.3333333333333333,
              "#9c179e"
             ],
             [
              0.4444444444444444,
              "#bd3786"
             ],
             [
              0.5555555555555556,
              "#d8576b"
             ],
             [
              0.6666666666666666,
              "#ed7953"
             ],
             [
              0.7777777777777778,
              "#fb9f3a"
             ],
             [
              0.8888888888888888,
              "#fdca26"
             ],
             [
              1,
              "#f0f921"
             ]
            ],
            "type": "contour"
           }
          ],
          "contourcarpet": [
           {
            "colorbar": {
             "outlinewidth": 0,
             "ticks": ""
            },
            "type": "contourcarpet"
           }
          ],
          "heatmap": [
           {
            "colorbar": {
             "outlinewidth": 0,
             "ticks": ""
            },
            "colorscale": [
             [
              0,
              "#0d0887"
             ],
             [
              0.1111111111111111,
              "#46039f"
             ],
             [
              0.2222222222222222,
              "#7201a8"
             ],
             [
              0.3333333333333333,
              "#9c179e"
             ],
             [
              0.4444444444444444,
              "#bd3786"
             ],
             [
              0.5555555555555556,
              "#d8576b"
             ],
             [
              0.6666666666666666,
              "#ed7953"
             ],
             [
              0.7777777777777778,
              "#fb9f3a"
             ],
             [
              0.8888888888888888,
              "#fdca26"
             ],
             [
              1,
              "#f0f921"
             ]
            ],
            "type": "heatmap"
           }
          ],
          "heatmapgl": [
           {
            "colorbar": {
             "outlinewidth": 0,
             "ticks": ""
            },
            "colorscale": [
             [
              0,
              "#0d0887"
             ],
             [
              0.1111111111111111,
              "#46039f"
             ],
             [
              0.2222222222222222,
              "#7201a8"
             ],
             [
              0.3333333333333333,
              "#9c179e"
             ],
             [
              0.4444444444444444,
              "#bd3786"
             ],
             [
              0.5555555555555556,
              "#d8576b"
             ],
             [
              0.6666666666666666,
              "#ed7953"
             ],
             [
              0.7777777777777778,
              "#fb9f3a"
             ],
             [
              0.8888888888888888,
              "#fdca26"
             ],
             [
              1,
              "#f0f921"
             ]
            ],
            "type": "heatmapgl"
           }
          ],
          "histogram": [
           {
            "marker": {
             "pattern": {
              "fillmode": "overlay",
              "size": 10,
              "solidity": 0.2
             }
            },
            "type": "histogram"
           }
          ],
          "histogram2d": [
           {
            "colorbar": {
             "outlinewidth": 0,
             "ticks": ""
            },
            "colorscale": [
             [
              0,
              "#0d0887"
             ],
             [
              0.1111111111111111,
              "#46039f"
             ],
             [
              0.2222222222222222,
              "#7201a8"
             ],
             [
              0.3333333333333333,
              "#9c179e"
             ],
             [
              0.4444444444444444,
              "#bd3786"
             ],
             [
              0.5555555555555556,
              "#d8576b"
             ],
             [
              0.6666666666666666,
              "#ed7953"
             ],
             [
              0.7777777777777778,
              "#fb9f3a"
             ],
             [
              0.8888888888888888,
              "#fdca26"
             ],
             [
              1,
              "#f0f921"
             ]
            ],
            "type": "histogram2d"
           }
          ],
          "histogram2dcontour": [
           {
            "colorbar": {
             "outlinewidth": 0,
             "ticks": ""
            },
            "colorscale": [
             [
              0,
              "#0d0887"
             ],
             [
              0.1111111111111111,
              "#46039f"
             ],
             [
              0.2222222222222222,
              "#7201a8"
             ],
             [
              0.3333333333333333,
              "#9c179e"
             ],
             [
              0.4444444444444444,
              "#bd3786"
             ],
             [
              0.5555555555555556,
              "#d8576b"
             ],
             [
              0.6666666666666666,
              "#ed7953"
             ],
             [
              0.7777777777777778,
              "#fb9f3a"
             ],
             [
              0.8888888888888888,
              "#fdca26"
             ],
             [
              1,
              "#f0f921"
             ]
            ],
            "type": "histogram2dcontour"
           }
          ],
          "mesh3d": [
           {
            "colorbar": {
             "outlinewidth": 0,
             "ticks": ""
            },
            "type": "mesh3d"
           }
          ],
          "parcoords": [
           {
            "line": {
             "colorbar": {
              "outlinewidth": 0,
              "ticks": ""
             }
            },
            "type": "parcoords"
           }
          ],
          "pie": [
           {
            "automargin": true,
            "type": "pie"
           }
          ],
          "scatter": [
           {
            "fillpattern": {
             "fillmode": "overlay",
             "size": 10,
             "solidity": 0.2
            },
            "type": "scatter"
           }
          ],
          "scatter3d": [
           {
            "line": {
             "colorbar": {
              "outlinewidth": 0,
              "ticks": ""
             }
            },
            "marker": {
             "colorbar": {
              "outlinewidth": 0,
              "ticks": ""
             }
            },
            "type": "scatter3d"
           }
          ],
          "scattercarpet": [
           {
            "marker": {
             "colorbar": {
              "outlinewidth": 0,
              "ticks": ""
             }
            },
            "type": "scattercarpet"
           }
          ],
          "scattergeo": [
           {
            "marker": {
             "colorbar": {
              "outlinewidth": 0,
              "ticks": ""
             }
            },
            "type": "scattergeo"
           }
          ],
          "scattergl": [
           {
            "marker": {
             "colorbar": {
              "outlinewidth": 0,
              "ticks": ""
             }
            },
            "type": "scattergl"
           }
          ],
          "scattermapbox": [
           {
            "marker": {
             "colorbar": {
              "outlinewidth": 0,
              "ticks": ""
             }
            },
            "type": "scattermapbox"
           }
          ],
          "scatterpolar": [
           {
            "marker": {
             "colorbar": {
              "outlinewidth": 0,
              "ticks": ""
             }
            },
            "type": "scatterpolar"
           }
          ],
          "scatterpolargl": [
           {
            "marker": {
             "colorbar": {
              "outlinewidth": 0,
              "ticks": ""
             }
            },
            "type": "scatterpolargl"
           }
          ],
          "scatterternary": [
           {
            "marker": {
             "colorbar": {
              "outlinewidth": 0,
              "ticks": ""
             }
            },
            "type": "scatterternary"
           }
          ],
          "surface": [
           {
            "colorbar": {
             "outlinewidth": 0,
             "ticks": ""
            },
            "colorscale": [
             [
              0,
              "#0d0887"
             ],
             [
              0.1111111111111111,
              "#46039f"
             ],
             [
              0.2222222222222222,
              "#7201a8"
             ],
             [
              0.3333333333333333,
              "#9c179e"
             ],
             [
              0.4444444444444444,
              "#bd3786"
             ],
             [
              0.5555555555555556,
              "#d8576b"
             ],
             [
              0.6666666666666666,
              "#ed7953"
             ],
             [
              0.7777777777777778,
              "#fb9f3a"
             ],
             [
              0.8888888888888888,
              "#fdca26"
             ],
             [
              1,
              "#f0f921"
             ]
            ],
            "type": "surface"
           }
          ],
          "table": [
           {
            "cells": {
             "fill": {
              "color": "#EBF0F8"
             },
             "line": {
              "color": "white"
             }
            },
            "header": {
             "fill": {
              "color": "#C8D4E3"
             },
             "line": {
              "color": "white"
             }
            },
            "type": "table"
           }
          ]
         },
         "layout": {
          "annotationdefaults": {
           "arrowcolor": "#2a3f5f",
           "arrowhead": 0,
           "arrowwidth": 1
          },
          "autotypenumbers": "strict",
          "coloraxis": {
           "colorbar": {
            "outlinewidth": 0,
            "ticks": ""
           }
          },
          "colorscale": {
           "diverging": [
            [
             0,
             "#8e0152"
            ],
            [
             0.1,
             "#c51b7d"
            ],
            [
             0.2,
             "#de77ae"
            ],
            [
             0.3,
             "#f1b6da"
            ],
            [
             0.4,
             "#fde0ef"
            ],
            [
             0.5,
             "#f7f7f7"
            ],
            [
             0.6,
             "#e6f5d0"
            ],
            [
             0.7,
             "#b8e186"
            ],
            [
             0.8,
             "#7fbc41"
            ],
            [
             0.9,
             "#4d9221"
            ],
            [
             1,
             "#276419"
            ]
           ],
           "sequential": [
            [
             0,
             "#0d0887"
            ],
            [
             0.1111111111111111,
             "#46039f"
            ],
            [
             0.2222222222222222,
             "#7201a8"
            ],
            [
             0.3333333333333333,
             "#9c179e"
            ],
            [
             0.4444444444444444,
             "#bd3786"
            ],
            [
             0.5555555555555556,
             "#d8576b"
            ],
            [
             0.6666666666666666,
             "#ed7953"
            ],
            [
             0.7777777777777778,
             "#fb9f3a"
            ],
            [
             0.8888888888888888,
             "#fdca26"
            ],
            [
             1,
             "#f0f921"
            ]
           ],
           "sequentialminus": [
            [
             0,
             "#0d0887"
            ],
            [
             0.1111111111111111,
             "#46039f"
            ],
            [
             0.2222222222222222,
             "#7201a8"
            ],
            [
             0.3333333333333333,
             "#9c179e"
            ],
            [
             0.4444444444444444,
             "#bd3786"
            ],
            [
             0.5555555555555556,
             "#d8576b"
            ],
            [
             0.6666666666666666,
             "#ed7953"
            ],
            [
             0.7777777777777778,
             "#fb9f3a"
            ],
            [
             0.8888888888888888,
             "#fdca26"
            ],
            [
             1,
             "#f0f921"
            ]
           ]
          },
          "colorway": [
           "#636efa",
           "#EF553B",
           "#00cc96",
           "#ab63fa",
           "#FFA15A",
           "#19d3f3",
           "#FF6692",
           "#B6E880",
           "#FF97FF",
           "#FECB52"
          ],
          "font": {
           "color": "#2a3f5f"
          },
          "geo": {
           "bgcolor": "white",
           "lakecolor": "white",
           "landcolor": "#E5ECF6",
           "showlakes": true,
           "showland": true,
           "subunitcolor": "white"
          },
          "hoverlabel": {
           "align": "left"
          },
          "hovermode": "closest",
          "mapbox": {
           "style": "light"
          },
          "paper_bgcolor": "white",
          "plot_bgcolor": "#E5ECF6",
          "polar": {
           "angularaxis": {
            "gridcolor": "white",
            "linecolor": "white",
            "ticks": ""
           },
           "bgcolor": "#E5ECF6",
           "radialaxis": {
            "gridcolor": "white",
            "linecolor": "white",
            "ticks": ""
           }
          },
          "scene": {
           "xaxis": {
            "backgroundcolor": "#E5ECF6",
            "gridcolor": "white",
            "gridwidth": 2,
            "linecolor": "white",
            "showbackground": true,
            "ticks": "",
            "zerolinecolor": "white"
           },
           "yaxis": {
            "backgroundcolor": "#E5ECF6",
            "gridcolor": "white",
            "gridwidth": 2,
            "linecolor": "white",
            "showbackground": true,
            "ticks": "",
            "zerolinecolor": "white"
           },
           "zaxis": {
            "backgroundcolor": "#E5ECF6",
            "gridcolor": "white",
            "gridwidth": 2,
            "linecolor": "white",
            "showbackground": true,
            "ticks": "",
            "zerolinecolor": "white"
           }
          },
          "shapedefaults": {
           "line": {
            "color": "#2a3f5f"
           }
          },
          "ternary": {
           "aaxis": {
            "gridcolor": "white",
            "linecolor": "white",
            "ticks": ""
           },
           "baxis": {
            "gridcolor": "white",
            "linecolor": "white",
            "ticks": ""
           },
           "bgcolor": "#E5ECF6",
           "caxis": {
            "gridcolor": "white",
            "linecolor": "white",
            "ticks": ""
           }
          },
          "title": {
           "x": 0.05
          },
          "xaxis": {
           "automargin": true,
           "gridcolor": "white",
           "linecolor": "white",
           "ticks": "",
           "title": {
            "standoff": 15
           },
           "zerolinecolor": "white",
           "zerolinewidth": 2
          },
          "yaxis": {
           "automargin": true,
           "gridcolor": "white",
           "linecolor": "white",
           "ticks": "",
           "title": {
            "standoff": 15
           },
           "zerolinecolor": "white",
           "zerolinewidth": 2
          }
         }
        },
        "title": {
         "text": "Chesnaught"
        }
       }
      }
     },
     "metadata": {},
     "output_type": "display_data"
    },
    {
     "data": {
      "application/vnd.plotly.v1+json": {
       "config": {
        "plotlyServerURL": "https://plot.ly"
       },
       "data": [
        {
         "fill": "toself",
         "hovertemplate": "r=%{r}<br>theta=%{theta}<extra></extra>",
         "legendgroup": "",
         "line": {
          "color": "#636efa",
          "dash": "solid"
         },
         "marker": {
          "symbol": "circle"
         },
         "mode": "lines",
         "name": "",
         "r": [
          0,
          2,
          0.5,
          0.5,
          0.5,
          2,
          0,
          1,
          0.5,
          2,
          1,
          1,
          1,
          2,
          1,
          2,
          1,
          1,
          0
         ],
         "showlegend": false,
         "subplot": "polar",
         "theta": [
          "against_normal",
          "against_fire",
          "against_water",
          "against_electric",
          "against_grass",
          "against_ice",
          "against_fighting",
          "against_poison",
          "against_ground",
          "against_flying",
          "against_psychic",
          "against_bug",
          "against_rock",
          "against_ghost",
          "against_dragon",
          "against_dark",
          "against_steel",
          "against_fairy",
          "against_normal"
         ],
         "type": "scatterpolar"
        }
       ],
       "layout": {
        "legend": {
         "tracegroupgap": 0
        },
        "polar": {
         "angularaxis": {
          "direction": "clockwise",
          "rotation": 90
         },
         "domain": {
          "x": [
           0,
           1
          ],
          "y": [
           0,
           1
          ]
         }
        },
        "template": {
         "data": {
          "bar": [
           {
            "error_x": {
             "color": "#2a3f5f"
            },
            "error_y": {
             "color": "#2a3f5f"
            },
            "marker": {
             "line": {
              "color": "#E5ECF6",
              "width": 0.5
             },
             "pattern": {
              "fillmode": "overlay",
              "size": 10,
              "solidity": 0.2
             }
            },
            "type": "bar"
           }
          ],
          "barpolar": [
           {
            "marker": {
             "line": {
              "color": "#E5ECF6",
              "width": 0.5
             },
             "pattern": {
              "fillmode": "overlay",
              "size": 10,
              "solidity": 0.2
             }
            },
            "type": "barpolar"
           }
          ],
          "carpet": [
           {
            "aaxis": {
             "endlinecolor": "#2a3f5f",
             "gridcolor": "white",
             "linecolor": "white",
             "minorgridcolor": "white",
             "startlinecolor": "#2a3f5f"
            },
            "baxis": {
             "endlinecolor": "#2a3f5f",
             "gridcolor": "white",
             "linecolor": "white",
             "minorgridcolor": "white",
             "startlinecolor": "#2a3f5f"
            },
            "type": "carpet"
           }
          ],
          "choropleth": [
           {
            "colorbar": {
             "outlinewidth": 0,
             "ticks": ""
            },
            "type": "choropleth"
           }
          ],
          "contour": [
           {
            "colorbar": {
             "outlinewidth": 0,
             "ticks": ""
            },
            "colorscale": [
             [
              0,
              "#0d0887"
             ],
             [
              0.1111111111111111,
              "#46039f"
             ],
             [
              0.2222222222222222,
              "#7201a8"
             ],
             [
              0.3333333333333333,
              "#9c179e"
             ],
             [
              0.4444444444444444,
              "#bd3786"
             ],
             [
              0.5555555555555556,
              "#d8576b"
             ],
             [
              0.6666666666666666,
              "#ed7953"
             ],
             [
              0.7777777777777778,
              "#fb9f3a"
             ],
             [
              0.8888888888888888,
              "#fdca26"
             ],
             [
              1,
              "#f0f921"
             ]
            ],
            "type": "contour"
           }
          ],
          "contourcarpet": [
           {
            "colorbar": {
             "outlinewidth": 0,
             "ticks": ""
            },
            "type": "contourcarpet"
           }
          ],
          "heatmap": [
           {
            "colorbar": {
             "outlinewidth": 0,
             "ticks": ""
            },
            "colorscale": [
             [
              0,
              "#0d0887"
             ],
             [
              0.1111111111111111,
              "#46039f"
             ],
             [
              0.2222222222222222,
              "#7201a8"
             ],
             [
              0.3333333333333333,
              "#9c179e"
             ],
             [
              0.4444444444444444,
              "#bd3786"
             ],
             [
              0.5555555555555556,
              "#d8576b"
             ],
             [
              0.6666666666666666,
              "#ed7953"
             ],
             [
              0.7777777777777778,
              "#fb9f3a"
             ],
             [
              0.8888888888888888,
              "#fdca26"
             ],
             [
              1,
              "#f0f921"
             ]
            ],
            "type": "heatmap"
           }
          ],
          "heatmapgl": [
           {
            "colorbar": {
             "outlinewidth": 0,
             "ticks": ""
            },
            "colorscale": [
             [
              0,
              "#0d0887"
             ],
             [
              0.1111111111111111,
              "#46039f"
             ],
             [
              0.2222222222222222,
              "#7201a8"
             ],
             [
              0.3333333333333333,
              "#9c179e"
             ],
             [
              0.4444444444444444,
              "#bd3786"
             ],
             [
              0.5555555555555556,
              "#d8576b"
             ],
             [
              0.6666666666666666,
              "#ed7953"
             ],
             [
              0.7777777777777778,
              "#fb9f3a"
             ],
             [
              0.8888888888888888,
              "#fdca26"
             ],
             [
              1,
              "#f0f921"
             ]
            ],
            "type": "heatmapgl"
           }
          ],
          "histogram": [
           {
            "marker": {
             "pattern": {
              "fillmode": "overlay",
              "size": 10,
              "solidity": 0.2
             }
            },
            "type": "histogram"
           }
          ],
          "histogram2d": [
           {
            "colorbar": {
             "outlinewidth": 0,
             "ticks": ""
            },
            "colorscale": [
             [
              0,
              "#0d0887"
             ],
             [
              0.1111111111111111,
              "#46039f"
             ],
             [
              0.2222222222222222,
              "#7201a8"
             ],
             [
              0.3333333333333333,
              "#9c179e"
             ],
             [
              0.4444444444444444,
              "#bd3786"
             ],
             [
              0.5555555555555556,
              "#d8576b"
             ],
             [
              0.6666666666666666,
              "#ed7953"
             ],
             [
              0.7777777777777778,
              "#fb9f3a"
             ],
             [
              0.8888888888888888,
              "#fdca26"
             ],
             [
              1,
              "#f0f921"
             ]
            ],
            "type": "histogram2d"
           }
          ],
          "histogram2dcontour": [
           {
            "colorbar": {
             "outlinewidth": 0,
             "ticks": ""
            },
            "colorscale": [
             [
              0,
              "#0d0887"
             ],
             [
              0.1111111111111111,
              "#46039f"
             ],
             [
              0.2222222222222222,
              "#7201a8"
             ],
             [
              0.3333333333333333,
              "#9c179e"
             ],
             [
              0.4444444444444444,
              "#bd3786"
             ],
             [
              0.5555555555555556,
              "#d8576b"
             ],
             [
              0.6666666666666666,
              "#ed7953"
             ],
             [
              0.7777777777777778,
              "#fb9f3a"
             ],
             [
              0.8888888888888888,
              "#fdca26"
             ],
             [
              1,
              "#f0f921"
             ]
            ],
            "type": "histogram2dcontour"
           }
          ],
          "mesh3d": [
           {
            "colorbar": {
             "outlinewidth": 0,
             "ticks": ""
            },
            "type": "mesh3d"
           }
          ],
          "parcoords": [
           {
            "line": {
             "colorbar": {
              "outlinewidth": 0,
              "ticks": ""
             }
            },
            "type": "parcoords"
           }
          ],
          "pie": [
           {
            "automargin": true,
            "type": "pie"
           }
          ],
          "scatter": [
           {
            "fillpattern": {
             "fillmode": "overlay",
             "size": 10,
             "solidity": 0.2
            },
            "type": "scatter"
           }
          ],
          "scatter3d": [
           {
            "line": {
             "colorbar": {
              "outlinewidth": 0,
              "ticks": ""
             }
            },
            "marker": {
             "colorbar": {
              "outlinewidth": 0,
              "ticks": ""
             }
            },
            "type": "scatter3d"
           }
          ],
          "scattercarpet": [
           {
            "marker": {
             "colorbar": {
              "outlinewidth": 0,
              "ticks": ""
             }
            },
            "type": "scattercarpet"
           }
          ],
          "scattergeo": [
           {
            "marker": {
             "colorbar": {
              "outlinewidth": 0,
              "ticks": ""
             }
            },
            "type": "scattergeo"
           }
          ],
          "scattergl": [
           {
            "marker": {
             "colorbar": {
              "outlinewidth": 0,
              "ticks": ""
             }
            },
            "type": "scattergl"
           }
          ],
          "scattermapbox": [
           {
            "marker": {
             "colorbar": {
              "outlinewidth": 0,
              "ticks": ""
             }
            },
            "type": "scattermapbox"
           }
          ],
          "scatterpolar": [
           {
            "marker": {
             "colorbar": {
              "outlinewidth": 0,
              "ticks": ""
             }
            },
            "type": "scatterpolar"
           }
          ],
          "scatterpolargl": [
           {
            "marker": {
             "colorbar": {
              "outlinewidth": 0,
              "ticks": ""
             }
            },
            "type": "scatterpolargl"
           }
          ],
          "scatterternary": [
           {
            "marker": {
             "colorbar": {
              "outlinewidth": 0,
              "ticks": ""
             }
            },
            "type": "scatterternary"
           }
          ],
          "surface": [
           {
            "colorbar": {
             "outlinewidth": 0,
             "ticks": ""
            },
            "colorscale": [
             [
              0,
              "#0d0887"
             ],
             [
              0.1111111111111111,
              "#46039f"
             ],
             [
              0.2222222222222222,
              "#7201a8"
             ],
             [
              0.3333333333333333,
              "#9c179e"
             ],
             [
              0.4444444444444444,
              "#bd3786"
             ],
             [
              0.5555555555555556,
              "#d8576b"
             ],
             [
              0.6666666666666666,
              "#ed7953"
             ],
             [
              0.7777777777777778,
              "#fb9f3a"
             ],
             [
              0.8888888888888888,
              "#fdca26"
             ],
             [
              1,
              "#f0f921"
             ]
            ],
            "type": "surface"
           }
          ],
          "table": [
           {
            "cells": {
             "fill": {
              "color": "#EBF0F8"
             },
             "line": {
              "color": "white"
             }
            },
            "header": {
             "fill": {
              "color": "#C8D4E3"
             },
             "line": {
              "color": "white"
             }
            },
            "type": "table"
           }
          ]
         },
         "layout": {
          "annotationdefaults": {
           "arrowcolor": "#2a3f5f",
           "arrowhead": 0,
           "arrowwidth": 1
          },
          "autotypenumbers": "strict",
          "coloraxis": {
           "colorbar": {
            "outlinewidth": 0,
            "ticks": ""
           }
          },
          "colorscale": {
           "diverging": [
            [
             0,
             "#8e0152"
            ],
            [
             0.1,
             "#c51b7d"
            ],
            [
             0.2,
             "#de77ae"
            ],
            [
             0.3,
             "#f1b6da"
            ],
            [
             0.4,
             "#fde0ef"
            ],
            [
             0.5,
             "#f7f7f7"
            ],
            [
             0.6,
             "#e6f5d0"
            ],
            [
             0.7,
             "#b8e186"
            ],
            [
             0.8,
             "#7fbc41"
            ],
            [
             0.9,
             "#4d9221"
            ],
            [
             1,
             "#276419"
            ]
           ],
           "sequential": [
            [
             0,
             "#0d0887"
            ],
            [
             0.1111111111111111,
             "#46039f"
            ],
            [
             0.2222222222222222,
             "#7201a8"
            ],
            [
             0.3333333333333333,
             "#9c179e"
            ],
            [
             0.4444444444444444,
             "#bd3786"
            ],
            [
             0.5555555555555556,
             "#d8576b"
            ],
            [
             0.6666666666666666,
             "#ed7953"
            ],
            [
             0.7777777777777778,
             "#fb9f3a"
            ],
            [
             0.8888888888888888,
             "#fdca26"
            ],
            [
             1,
             "#f0f921"
            ]
           ],
           "sequentialminus": [
            [
             0,
             "#0d0887"
            ],
            [
             0.1111111111111111,
             "#46039f"
            ],
            [
             0.2222222222222222,
             "#7201a8"
            ],
            [
             0.3333333333333333,
             "#9c179e"
            ],
            [
             0.4444444444444444,
             "#bd3786"
            ],
            [
             0.5555555555555556,
             "#d8576b"
            ],
            [
             0.6666666666666666,
             "#ed7953"
            ],
            [
             0.7777777777777778,
             "#fb9f3a"
            ],
            [
             0.8888888888888888,
             "#fdca26"
            ],
            [
             1,
             "#f0f921"
            ]
           ]
          },
          "colorway": [
           "#636efa",
           "#EF553B",
           "#00cc96",
           "#ab63fa",
           "#FFA15A",
           "#19d3f3",
           "#FF6692",
           "#B6E880",
           "#FF97FF",
           "#FECB52"
          ],
          "font": {
           "color": "#2a3f5f"
          },
          "geo": {
           "bgcolor": "white",
           "lakecolor": "white",
           "landcolor": "#E5ECF6",
           "showlakes": true,
           "showland": true,
           "subunitcolor": "white"
          },
          "hoverlabel": {
           "align": "left"
          },
          "hovermode": "closest",
          "mapbox": {
           "style": "light"
          },
          "paper_bgcolor": "white",
          "plot_bgcolor": "#E5ECF6",
          "polar": {
           "angularaxis": {
            "gridcolor": "white",
            "linecolor": "white",
            "ticks": ""
           },
           "bgcolor": "#E5ECF6",
           "radialaxis": {
            "gridcolor": "white",
            "linecolor": "white",
            "ticks": ""
           }
          },
          "scene": {
           "xaxis": {
            "backgroundcolor": "#E5ECF6",
            "gridcolor": "white",
            "gridwidth": 2,
            "linecolor": "white",
            "showbackground": true,
            "ticks": "",
            "zerolinecolor": "white"
           },
           "yaxis": {
            "backgroundcolor": "#E5ECF6",
            "gridcolor": "white",
            "gridwidth": 2,
            "linecolor": "white",
            "showbackground": true,
            "ticks": "",
            "zerolinecolor": "white"
           },
           "zaxis": {
            "backgroundcolor": "#E5ECF6",
            "gridcolor": "white",
            "gridwidth": 2,
            "linecolor": "white",
            "showbackground": true,
            "ticks": "",
            "zerolinecolor": "white"
           }
          },
          "shapedefaults": {
           "line": {
            "color": "#2a3f5f"
           }
          },
          "ternary": {
           "aaxis": {
            "gridcolor": "white",
            "linecolor": "white",
            "ticks": ""
           },
           "baxis": {
            "gridcolor": "white",
            "linecolor": "white",
            "ticks": ""
           },
           "bgcolor": "#E5ECF6",
           "caxis": {
            "gridcolor": "white",
            "linecolor": "white",
            "ticks": ""
           }
          },
          "title": {
           "x": 0.05
          },
          "xaxis": {
           "automargin": true,
           "gridcolor": "white",
           "linecolor": "white",
           "ticks": "",
           "title": {
            "standoff": 15
           },
           "zerolinecolor": "white",
           "zerolinewidth": 2
          },
          "yaxis": {
           "automargin": true,
           "gridcolor": "white",
           "linecolor": "white",
           "ticks": "",
           "title": {
            "standoff": 15
           },
           "zerolinecolor": "white",
           "zerolinewidth": 2
          }
         }
        },
        "title": {
         "text": "Dhelmise"
        }
       }
      }
     },
     "metadata": {},
     "output_type": "display_data"
    },
    {
     "data": {
      "application/vnd.plotly.v1+json": {
       "config": {
        "plotlyServerURL": "https://plot.ly"
       },
       "data": [
        {
         "fill": "toself",
         "hovertemplate": "r=%{r}<br>theta=%{theta}<extra></extra>",
         "legendgroup": "",
         "line": {
          "color": "#636efa",
          "dash": "solid"
         },
         "marker": {
          "symbol": "circle"
         },
         "mode": "lines",
         "name": "",
         "r": [
          0.5,
          2,
          1,
          2,
          0.25,
          1,
          1,
          0,
          0,
          0.5,
          0.5,
          0.25,
          1,
          1,
          0.5,
          1,
          0.5,
          0.5,
          0.5
         ],
         "showlegend": false,
         "subplot": "polar",
         "theta": [
          "against_normal",
          "against_fire",
          "against_water",
          "against_electric",
          "against_grass",
          "against_ice",
          "against_fighting",
          "against_poison",
          "against_ground",
          "against_flying",
          "against_psychic",
          "against_bug",
          "against_rock",
          "against_ghost",
          "against_dragon",
          "against_dark",
          "against_steel",
          "against_fairy",
          "against_normal"
         ],
         "type": "scatterpolar"
        }
       ],
       "layout": {
        "legend": {
         "tracegroupgap": 0
        },
        "polar": {
         "angularaxis": {
          "direction": "clockwise",
          "rotation": 90
         },
         "domain": {
          "x": [
           0,
           1
          ],
          "y": [
           0,
           1
          ]
         }
        },
        "template": {
         "data": {
          "bar": [
           {
            "error_x": {
             "color": "#2a3f5f"
            },
            "error_y": {
             "color": "#2a3f5f"
            },
            "marker": {
             "line": {
              "color": "#E5ECF6",
              "width": 0.5
             },
             "pattern": {
              "fillmode": "overlay",
              "size": 10,
              "solidity": 0.2
             }
            },
            "type": "bar"
           }
          ],
          "barpolar": [
           {
            "marker": {
             "line": {
              "color": "#E5ECF6",
              "width": 0.5
             },
             "pattern": {
              "fillmode": "overlay",
              "size": 10,
              "solidity": 0.2
             }
            },
            "type": "barpolar"
           }
          ],
          "carpet": [
           {
            "aaxis": {
             "endlinecolor": "#2a3f5f",
             "gridcolor": "white",
             "linecolor": "white",
             "minorgridcolor": "white",
             "startlinecolor": "#2a3f5f"
            },
            "baxis": {
             "endlinecolor": "#2a3f5f",
             "gridcolor": "white",
             "linecolor": "white",
             "minorgridcolor": "white",
             "startlinecolor": "#2a3f5f"
            },
            "type": "carpet"
           }
          ],
          "choropleth": [
           {
            "colorbar": {
             "outlinewidth": 0,
             "ticks": ""
            },
            "type": "choropleth"
           }
          ],
          "contour": [
           {
            "colorbar": {
             "outlinewidth": 0,
             "ticks": ""
            },
            "colorscale": [
             [
              0,
              "#0d0887"
             ],
             [
              0.1111111111111111,
              "#46039f"
             ],
             [
              0.2222222222222222,
              "#7201a8"
             ],
             [
              0.3333333333333333,
              "#9c179e"
             ],
             [
              0.4444444444444444,
              "#bd3786"
             ],
             [
              0.5555555555555556,
              "#d8576b"
             ],
             [
              0.6666666666666666,
              "#ed7953"
             ],
             [
              0.7777777777777778,
              "#fb9f3a"
             ],
             [
              0.8888888888888888,
              "#fdca26"
             ],
             [
              1,
              "#f0f921"
             ]
            ],
            "type": "contour"
           }
          ],
          "contourcarpet": [
           {
            "colorbar": {
             "outlinewidth": 0,
             "ticks": ""
            },
            "type": "contourcarpet"
           }
          ],
          "heatmap": [
           {
            "colorbar": {
             "outlinewidth": 0,
             "ticks": ""
            },
            "colorscale": [
             [
              0,
              "#0d0887"
             ],
             [
              0.1111111111111111,
              "#46039f"
             ],
             [
              0.2222222222222222,
              "#7201a8"
             ],
             [
              0.3333333333333333,
              "#9c179e"
             ],
             [
              0.4444444444444444,
              "#bd3786"
             ],
             [
              0.5555555555555556,
              "#d8576b"
             ],
             [
              0.6666666666666666,
              "#ed7953"
             ],
             [
              0.7777777777777778,
              "#fb9f3a"
             ],
             [
              0.8888888888888888,
              "#fdca26"
             ],
             [
              1,
              "#f0f921"
             ]
            ],
            "type": "heatmap"
           }
          ],
          "heatmapgl": [
           {
            "colorbar": {
             "outlinewidth": 0,
             "ticks": ""
            },
            "colorscale": [
             [
              0,
              "#0d0887"
             ],
             [
              0.1111111111111111,
              "#46039f"
             ],
             [
              0.2222222222222222,
              "#7201a8"
             ],
             [
              0.3333333333333333,
              "#9c179e"
             ],
             [
              0.4444444444444444,
              "#bd3786"
             ],
             [
              0.5555555555555556,
              "#d8576b"
             ],
             [
              0.6666666666666666,
              "#ed7953"
             ],
             [
              0.7777777777777778,
              "#fb9f3a"
             ],
             [
              0.8888888888888888,
              "#fdca26"
             ],
             [
              1,
              "#f0f921"
             ]
            ],
            "type": "heatmapgl"
           }
          ],
          "histogram": [
           {
            "marker": {
             "pattern": {
              "fillmode": "overlay",
              "size": 10,
              "solidity": 0.2
             }
            },
            "type": "histogram"
           }
          ],
          "histogram2d": [
           {
            "colorbar": {
             "outlinewidth": 0,
             "ticks": ""
            },
            "colorscale": [
             [
              0,
              "#0d0887"
             ],
             [
              0.1111111111111111,
              "#46039f"
             ],
             [
              0.2222222222222222,
              "#7201a8"
             ],
             [
              0.3333333333333333,
              "#9c179e"
             ],
             [
              0.4444444444444444,
              "#bd3786"
             ],
             [
              0.5555555555555556,
              "#d8576b"
             ],
             [
              0.6666666666666666,
              "#ed7953"
             ],
             [
              0.7777777777777778,
              "#fb9f3a"
             ],
             [
              0.8888888888888888,
              "#fdca26"
             ],
             [
              1,
              "#f0f921"
             ]
            ],
            "type": "histogram2d"
           }
          ],
          "histogram2dcontour": [
           {
            "colorbar": {
             "outlinewidth": 0,
             "ticks": ""
            },
            "colorscale": [
             [
              0,
              "#0d0887"
             ],
             [
              0.1111111111111111,
              "#46039f"
             ],
             [
              0.2222222222222222,
              "#7201a8"
             ],
             [
              0.3333333333333333,
              "#9c179e"
             ],
             [
              0.4444444444444444,
              "#bd3786"
             ],
             [
              0.5555555555555556,
              "#d8576b"
             ],
             [
              0.6666666666666666,
              "#ed7953"
             ],
             [
              0.7777777777777778,
              "#fb9f3a"
             ],
             [
              0.8888888888888888,
              "#fdca26"
             ],
             [
              1,
              "#f0f921"
             ]
            ],
            "type": "histogram2dcontour"
           }
          ],
          "mesh3d": [
           {
            "colorbar": {
             "outlinewidth": 0,
             "ticks": ""
            },
            "type": "mesh3d"
           }
          ],
          "parcoords": [
           {
            "line": {
             "colorbar": {
              "outlinewidth": 0,
              "ticks": ""
             }
            },
            "type": "parcoords"
           }
          ],
          "pie": [
           {
            "automargin": true,
            "type": "pie"
           }
          ],
          "scatter": [
           {
            "fillpattern": {
             "fillmode": "overlay",
             "size": 10,
             "solidity": 0.2
            },
            "type": "scatter"
           }
          ],
          "scatter3d": [
           {
            "line": {
             "colorbar": {
              "outlinewidth": 0,
              "ticks": ""
             }
            },
            "marker": {
             "colorbar": {
              "outlinewidth": 0,
              "ticks": ""
             }
            },
            "type": "scatter3d"
           }
          ],
          "scattercarpet": [
           {
            "marker": {
             "colorbar": {
              "outlinewidth": 0,
              "ticks": ""
             }
            },
            "type": "scattercarpet"
           }
          ],
          "scattergeo": [
           {
            "marker": {
             "colorbar": {
              "outlinewidth": 0,
              "ticks": ""
             }
            },
            "type": "scattergeo"
           }
          ],
          "scattergl": [
           {
            "marker": {
             "colorbar": {
              "outlinewidth": 0,
              "ticks": ""
             }
            },
            "type": "scattergl"
           }
          ],
          "scattermapbox": [
           {
            "marker": {
             "colorbar": {
              "outlinewidth": 0,
              "ticks": ""
             }
            },
            "type": "scattermapbox"
           }
          ],
          "scatterpolar": [
           {
            "marker": {
             "colorbar": {
              "outlinewidth": 0,
              "ticks": ""
             }
            },
            "type": "scatterpolar"
           }
          ],
          "scatterpolargl": [
           {
            "marker": {
             "colorbar": {
              "outlinewidth": 0,
              "ticks": ""
             }
            },
            "type": "scatterpolargl"
           }
          ],
          "scatterternary": [
           {
            "marker": {
             "colorbar": {
              "outlinewidth": 0,
              "ticks": ""
             }
            },
            "type": "scatterternary"
           }
          ],
          "surface": [
           {
            "colorbar": {
             "outlinewidth": 0,
             "ticks": ""
            },
            "colorscale": [
             [
              0,
              "#0d0887"
             ],
             [
              0.1111111111111111,
              "#46039f"
             ],
             [
              0.2222222222222222,
              "#7201a8"
             ],
             [
              0.3333333333333333,
              "#9c179e"
             ],
             [
              0.4444444444444444,
              "#bd3786"
             ],
             [
              0.5555555555555556,
              "#d8576b"
             ],
             [
              0.6666666666666666,
              "#ed7953"
             ],
             [
              0.7777777777777778,
              "#fb9f3a"
             ],
             [
              0.8888888888888888,
              "#fdca26"
             ],
             [
              1,
              "#f0f921"
             ]
            ],
            "type": "surface"
           }
          ],
          "table": [
           {
            "cells": {
             "fill": {
              "color": "#EBF0F8"
             },
             "line": {
              "color": "white"
             }
            },
            "header": {
             "fill": {
              "color": "#C8D4E3"
             },
             "line": {
              "color": "white"
             }
            },
            "type": "table"
           }
          ]
         },
         "layout": {
          "annotationdefaults": {
           "arrowcolor": "#2a3f5f",
           "arrowhead": 0,
           "arrowwidth": 1
          },
          "autotypenumbers": "strict",
          "coloraxis": {
           "colorbar": {
            "outlinewidth": 0,
            "ticks": ""
           }
          },
          "colorscale": {
           "diverging": [
            [
             0,
             "#8e0152"
            ],
            [
             0.1,
             "#c51b7d"
            ],
            [
             0.2,
             "#de77ae"
            ],
            [
             0.3,
             "#f1b6da"
            ],
            [
             0.4,
             "#fde0ef"
            ],
            [
             0.5,
             "#f7f7f7"
            ],
            [
             0.6,
             "#e6f5d0"
            ],
            [
             0.7,
             "#b8e186"
            ],
            [
             0.8,
             "#7fbc41"
            ],
            [
             0.9,
             "#4d9221"
            ],
            [
             1,
             "#276419"
            ]
           ],
           "sequential": [
            [
             0,
             "#0d0887"
            ],
            [
             0.1111111111111111,
             "#46039f"
            ],
            [
             0.2222222222222222,
             "#7201a8"
            ],
            [
             0.3333333333333333,
             "#9c179e"
            ],
            [
             0.4444444444444444,
             "#bd3786"
            ],
            [
             0.5555555555555556,
             "#d8576b"
            ],
            [
             0.6666666666666666,
             "#ed7953"
            ],
            [
             0.7777777777777778,
             "#fb9f3a"
            ],
            [
             0.8888888888888888,
             "#fdca26"
            ],
            [
             1,
             "#f0f921"
            ]
           ],
           "sequentialminus": [
            [
             0,
             "#0d0887"
            ],
            [
             0.1111111111111111,
             "#46039f"
            ],
            [
             0.2222222222222222,
             "#7201a8"
            ],
            [
             0.3333333333333333,
             "#9c179e"
            ],
            [
             0.4444444444444444,
             "#bd3786"
            ],
            [
             0.5555555555555556,
             "#d8576b"
            ],
            [
             0.6666666666666666,
             "#ed7953"
            ],
            [
             0.7777777777777778,
             "#fb9f3a"
            ],
            [
             0.8888888888888888,
             "#fdca26"
            ],
            [
             1,
             "#f0f921"
            ]
           ]
          },
          "colorway": [
           "#636efa",
           "#EF553B",
           "#00cc96",
           "#ab63fa",
           "#FFA15A",
           "#19d3f3",
           "#FF6692",
           "#B6E880",
           "#FF97FF",
           "#FECB52"
          ],
          "font": {
           "color": "#2a3f5f"
          },
          "geo": {
           "bgcolor": "white",
           "lakecolor": "white",
           "landcolor": "#E5ECF6",
           "showlakes": true,
           "showland": true,
           "subunitcolor": "white"
          },
          "hoverlabel": {
           "align": "left"
          },
          "hovermode": "closest",
          "mapbox": {
           "style": "light"
          },
          "paper_bgcolor": "white",
          "plot_bgcolor": "#E5ECF6",
          "polar": {
           "angularaxis": {
            "gridcolor": "white",
            "linecolor": "white",
            "ticks": ""
           },
           "bgcolor": "#E5ECF6",
           "radialaxis": {
            "gridcolor": "white",
            "linecolor": "white",
            "ticks": ""
           }
          },
          "scene": {
           "xaxis": {
            "backgroundcolor": "#E5ECF6",
            "gridcolor": "white",
            "gridwidth": 2,
            "linecolor": "white",
            "showbackground": true,
            "ticks": "",
            "zerolinecolor": "white"
           },
           "yaxis": {
            "backgroundcolor": "#E5ECF6",
            "gridcolor": "white",
            "gridwidth": 2,
            "linecolor": "white",
            "showbackground": true,
            "ticks": "",
            "zerolinecolor": "white"
           },
           "zaxis": {
            "backgroundcolor": "#E5ECF6",
            "gridcolor": "white",
            "gridwidth": 2,
            "linecolor": "white",
            "showbackground": true,
            "ticks": "",
            "zerolinecolor": "white"
           }
          },
          "shapedefaults": {
           "line": {
            "color": "#2a3f5f"
           }
          },
          "ternary": {
           "aaxis": {
            "gridcolor": "white",
            "linecolor": "white",
            "ticks": ""
           },
           "baxis": {
            "gridcolor": "white",
            "linecolor": "white",
            "ticks": ""
           },
           "bgcolor": "#E5ECF6",
           "caxis": {
            "gridcolor": "white",
            "linecolor": "white",
            "ticks": ""
           }
          },
          "title": {
           "x": 0.05
          },
          "xaxis": {
           "automargin": true,
           "gridcolor": "white",
           "linecolor": "white",
           "ticks": "",
           "title": {
            "standoff": 15
           },
           "zerolinecolor": "white",
           "zerolinewidth": 2
          },
          "yaxis": {
           "automargin": true,
           "gridcolor": "white",
           "linecolor": "white",
           "ticks": "",
           "title": {
            "standoff": 15
           },
           "zerolinecolor": "white",
           "zerolinewidth": 2
          }
         }
        },
        "title": {
         "text": "Corviknight"
        }
       }
      }
     },
     "metadata": {},
     "output_type": "display_data"
    }
   ],
   "source": [
    "selected_pokemons_against = current_team_pokemon[['against_normal', 'against_fire', 'against_water', 'against_electric',\n",
    "       'against_grass', 'against_ice', 'against_fighting', 'against_poison',\n",
    "       'against_ground', 'against_flying', 'against_psychic', 'against_bug',\n",
    "       'against_rock', 'against_ghost', 'against_dragon', 'against_dark',\n",
    "       'against_steel', 'against_fairy']]\n",
    "\n",
    "for index,value in enumerate(list(selected_pokemons_against.values)):\n",
    "    fig = px.line_polar(selected_pokemons_against, r=value, theta=list(selected_pokemons_against.columns), line_close=True, title=current_team_pokemon['name'].iloc[index])\n",
    "    fig.update_traces(fill='toself')  \n",
    "    fig.show()\n"
   ]
  },
  {
   "cell_type": "code",
   "execution_count": 64,
   "id": "3006ae5d-5b93-4b84-94b4-e23802a26065",
   "metadata": {},
   "outputs": [
    {
     "data": {
      "application/vnd.plotly.v1+json": {
       "config": {
        "plotlyServerURL": "https://plot.ly"
       },
       "data": [
        {
         "coloraxis": "coloraxis",
         "hovertemplate": "type_1: %{x}<br>name: %{y}<br>color: %{z}<extra></extra>",
         "name": "0",
         "type": "heatmap",
         "x": [
          "against_normal",
          "against_fire",
          "against_water",
          "against_electric",
          "against_grass",
          "against_ice",
          "against_fighting",
          "against_poison",
          "against_ground",
          "against_flying",
          "against_psychic",
          "against_bug",
          "against_rock",
          "against_ghost",
          "against_dragon",
          "against_dark",
          "against_steel",
          "against_fairy"
         ],
         "xaxis": "x",
         "y": [
          "Darmanitan Standard Mode",
          "Dragonite",
          "Lucario",
          "Chesnaught",
          "Dhelmise",
          "Corviknight"
         ],
         "yaxis": "y",
         "z": [
          [
           1,
           0.5,
           2,
           1,
           0.5,
           0.5,
           1,
           1,
           2,
           1,
           1,
           0.5,
           2,
           1,
           1,
           1,
           0.5,
           0.5
          ],
          [
           1,
           0.5,
           0.5,
           1,
           0.25,
           4,
           0.5,
           1,
           0,
           1,
           1,
           0.5,
           2,
           1,
           2,
           1,
           1,
           2
          ],
          [
           0.5,
           2,
           1,
           1,
           0.5,
           0.5,
           2,
           0,
           2,
           1,
           1,
           0.25,
           0.25,
           1,
           0.5,
           0.5,
           0.5,
           1
          ],
          [
           1,
           2,
           0.5,
           0.5,
           0.5,
           2,
           1,
           2,
           0.5,
           4,
           2,
           1,
           0.5,
           1,
           1,
           0.5,
           1,
           2
          ],
          [
           0,
           2,
           0.5,
           0.5,
           0.5,
           2,
           0,
           1,
           0.5,
           2,
           1,
           1,
           1,
           2,
           1,
           2,
           1,
           1
          ],
          [
           0.5,
           2,
           1,
           2,
           0.25,
           1,
           1,
           0,
           0,
           0.5,
           0.5,
           0.25,
           1,
           1,
           0.5,
           1,
           0.5,
           0.5
          ]
         ]
        }
       ],
       "layout": {
        "coloraxis": {
         "colorscale": [
          [
           0,
           "rgb(0,0,0)"
          ],
          [
           0.25,
           "rgb(230,0,0)"
          ],
          [
           0.5,
           "rgb(230,210,0)"
          ],
          [
           0.75,
           "rgb(255,255,255)"
          ],
          [
           1,
           "rgb(160,200,255)"
          ]
         ]
        },
        "margin": {
         "t": 60
        },
        "template": {
         "data": {
          "bar": [
           {
            "error_x": {
             "color": "#2a3f5f"
            },
            "error_y": {
             "color": "#2a3f5f"
            },
            "marker": {
             "line": {
              "color": "#E5ECF6",
              "width": 0.5
             },
             "pattern": {
              "fillmode": "overlay",
              "size": 10,
              "solidity": 0.2
             }
            },
            "type": "bar"
           }
          ],
          "barpolar": [
           {
            "marker": {
             "line": {
              "color": "#E5ECF6",
              "width": 0.5
             },
             "pattern": {
              "fillmode": "overlay",
              "size": 10,
              "solidity": 0.2
             }
            },
            "type": "barpolar"
           }
          ],
          "carpet": [
           {
            "aaxis": {
             "endlinecolor": "#2a3f5f",
             "gridcolor": "white",
             "linecolor": "white",
             "minorgridcolor": "white",
             "startlinecolor": "#2a3f5f"
            },
            "baxis": {
             "endlinecolor": "#2a3f5f",
             "gridcolor": "white",
             "linecolor": "white",
             "minorgridcolor": "white",
             "startlinecolor": "#2a3f5f"
            },
            "type": "carpet"
           }
          ],
          "choropleth": [
           {
            "colorbar": {
             "outlinewidth": 0,
             "ticks": ""
            },
            "type": "choropleth"
           }
          ],
          "contour": [
           {
            "colorbar": {
             "outlinewidth": 0,
             "ticks": ""
            },
            "colorscale": [
             [
              0,
              "#0d0887"
             ],
             [
              0.1111111111111111,
              "#46039f"
             ],
             [
              0.2222222222222222,
              "#7201a8"
             ],
             [
              0.3333333333333333,
              "#9c179e"
             ],
             [
              0.4444444444444444,
              "#bd3786"
             ],
             [
              0.5555555555555556,
              "#d8576b"
             ],
             [
              0.6666666666666666,
              "#ed7953"
             ],
             [
              0.7777777777777778,
              "#fb9f3a"
             ],
             [
              0.8888888888888888,
              "#fdca26"
             ],
             [
              1,
              "#f0f921"
             ]
            ],
            "type": "contour"
           }
          ],
          "contourcarpet": [
           {
            "colorbar": {
             "outlinewidth": 0,
             "ticks": ""
            },
            "type": "contourcarpet"
           }
          ],
          "heatmap": [
           {
            "colorbar": {
             "outlinewidth": 0,
             "ticks": ""
            },
            "colorscale": [
             [
              0,
              "#0d0887"
             ],
             [
              0.1111111111111111,
              "#46039f"
             ],
             [
              0.2222222222222222,
              "#7201a8"
             ],
             [
              0.3333333333333333,
              "#9c179e"
             ],
             [
              0.4444444444444444,
              "#bd3786"
             ],
             [
              0.5555555555555556,
              "#d8576b"
             ],
             [
              0.6666666666666666,
              "#ed7953"
             ],
             [
              0.7777777777777778,
              "#fb9f3a"
             ],
             [
              0.8888888888888888,
              "#fdca26"
             ],
             [
              1,
              "#f0f921"
             ]
            ],
            "type": "heatmap"
           }
          ],
          "heatmapgl": [
           {
            "colorbar": {
             "outlinewidth": 0,
             "ticks": ""
            },
            "colorscale": [
             [
              0,
              "#0d0887"
             ],
             [
              0.1111111111111111,
              "#46039f"
             ],
             [
              0.2222222222222222,
              "#7201a8"
             ],
             [
              0.3333333333333333,
              "#9c179e"
             ],
             [
              0.4444444444444444,
              "#bd3786"
             ],
             [
              0.5555555555555556,
              "#d8576b"
             ],
             [
              0.6666666666666666,
              "#ed7953"
             ],
             [
              0.7777777777777778,
              "#fb9f3a"
             ],
             [
              0.8888888888888888,
              "#fdca26"
             ],
             [
              1,
              "#f0f921"
             ]
            ],
            "type": "heatmapgl"
           }
          ],
          "histogram": [
           {
            "marker": {
             "pattern": {
              "fillmode": "overlay",
              "size": 10,
              "solidity": 0.2
             }
            },
            "type": "histogram"
           }
          ],
          "histogram2d": [
           {
            "colorbar": {
             "outlinewidth": 0,
             "ticks": ""
            },
            "colorscale": [
             [
              0,
              "#0d0887"
             ],
             [
              0.1111111111111111,
              "#46039f"
             ],
             [
              0.2222222222222222,
              "#7201a8"
             ],
             [
              0.3333333333333333,
              "#9c179e"
             ],
             [
              0.4444444444444444,
              "#bd3786"
             ],
             [
              0.5555555555555556,
              "#d8576b"
             ],
             [
              0.6666666666666666,
              "#ed7953"
             ],
             [
              0.7777777777777778,
              "#fb9f3a"
             ],
             [
              0.8888888888888888,
              "#fdca26"
             ],
             [
              1,
              "#f0f921"
             ]
            ],
            "type": "histogram2d"
           }
          ],
          "histogram2dcontour": [
           {
            "colorbar": {
             "outlinewidth": 0,
             "ticks": ""
            },
            "colorscale": [
             [
              0,
              "#0d0887"
             ],
             [
              0.1111111111111111,
              "#46039f"
             ],
             [
              0.2222222222222222,
              "#7201a8"
             ],
             [
              0.3333333333333333,
              "#9c179e"
             ],
             [
              0.4444444444444444,
              "#bd3786"
             ],
             [
              0.5555555555555556,
              "#d8576b"
             ],
             [
              0.6666666666666666,
              "#ed7953"
             ],
             [
              0.7777777777777778,
              "#fb9f3a"
             ],
             [
              0.8888888888888888,
              "#fdca26"
             ],
             [
              1,
              "#f0f921"
             ]
            ],
            "type": "histogram2dcontour"
           }
          ],
          "mesh3d": [
           {
            "colorbar": {
             "outlinewidth": 0,
             "ticks": ""
            },
            "type": "mesh3d"
           }
          ],
          "parcoords": [
           {
            "line": {
             "colorbar": {
              "outlinewidth": 0,
              "ticks": ""
             }
            },
            "type": "parcoords"
           }
          ],
          "pie": [
           {
            "automargin": true,
            "type": "pie"
           }
          ],
          "scatter": [
           {
            "fillpattern": {
             "fillmode": "overlay",
             "size": 10,
             "solidity": 0.2
            },
            "type": "scatter"
           }
          ],
          "scatter3d": [
           {
            "line": {
             "colorbar": {
              "outlinewidth": 0,
              "ticks": ""
             }
            },
            "marker": {
             "colorbar": {
              "outlinewidth": 0,
              "ticks": ""
             }
            },
            "type": "scatter3d"
           }
          ],
          "scattercarpet": [
           {
            "marker": {
             "colorbar": {
              "outlinewidth": 0,
              "ticks": ""
             }
            },
            "type": "scattercarpet"
           }
          ],
          "scattergeo": [
           {
            "marker": {
             "colorbar": {
              "outlinewidth": 0,
              "ticks": ""
             }
            },
            "type": "scattergeo"
           }
          ],
          "scattergl": [
           {
            "marker": {
             "colorbar": {
              "outlinewidth": 0,
              "ticks": ""
             }
            },
            "type": "scattergl"
           }
          ],
          "scattermapbox": [
           {
            "marker": {
             "colorbar": {
              "outlinewidth": 0,
              "ticks": ""
             }
            },
            "type": "scattermapbox"
           }
          ],
          "scatterpolar": [
           {
            "marker": {
             "colorbar": {
              "outlinewidth": 0,
              "ticks": ""
             }
            },
            "type": "scatterpolar"
           }
          ],
          "scatterpolargl": [
           {
            "marker": {
             "colorbar": {
              "outlinewidth": 0,
              "ticks": ""
             }
            },
            "type": "scatterpolargl"
           }
          ],
          "scatterternary": [
           {
            "marker": {
             "colorbar": {
              "outlinewidth": 0,
              "ticks": ""
             }
            },
            "type": "scatterternary"
           }
          ],
          "surface": [
           {
            "colorbar": {
             "outlinewidth": 0,
             "ticks": ""
            },
            "colorscale": [
             [
              0,
              "#0d0887"
             ],
             [
              0.1111111111111111,
              "#46039f"
             ],
             [
              0.2222222222222222,
              "#7201a8"
             ],
             [
              0.3333333333333333,
              "#9c179e"
             ],
             [
              0.4444444444444444,
              "#bd3786"
             ],
             [
              0.5555555555555556,
              "#d8576b"
             ],
             [
              0.6666666666666666,
              "#ed7953"
             ],
             [
              0.7777777777777778,
              "#fb9f3a"
             ],
             [
              0.8888888888888888,
              "#fdca26"
             ],
             [
              1,
              "#f0f921"
             ]
            ],
            "type": "surface"
           }
          ],
          "table": [
           {
            "cells": {
             "fill": {
              "color": "#EBF0F8"
             },
             "line": {
              "color": "white"
             }
            },
            "header": {
             "fill": {
              "color": "#C8D4E3"
             },
             "line": {
              "color": "white"
             }
            },
            "type": "table"
           }
          ]
         },
         "layout": {
          "annotationdefaults": {
           "arrowcolor": "#2a3f5f",
           "arrowhead": 0,
           "arrowwidth": 1
          },
          "autotypenumbers": "strict",
          "coloraxis": {
           "colorbar": {
            "outlinewidth": 0,
            "ticks": ""
           }
          },
          "colorscale": {
           "diverging": [
            [
             0,
             "#8e0152"
            ],
            [
             0.1,
             "#c51b7d"
            ],
            [
             0.2,
             "#de77ae"
            ],
            [
             0.3,
             "#f1b6da"
            ],
            [
             0.4,
             "#fde0ef"
            ],
            [
             0.5,
             "#f7f7f7"
            ],
            [
             0.6,
             "#e6f5d0"
            ],
            [
             0.7,
             "#b8e186"
            ],
            [
             0.8,
             "#7fbc41"
            ],
            [
             0.9,
             "#4d9221"
            ],
            [
             1,
             "#276419"
            ]
           ],
           "sequential": [
            [
             0,
             "#0d0887"
            ],
            [
             0.1111111111111111,
             "#46039f"
            ],
            [
             0.2222222222222222,
             "#7201a8"
            ],
            [
             0.3333333333333333,
             "#9c179e"
            ],
            [
             0.4444444444444444,
             "#bd3786"
            ],
            [
             0.5555555555555556,
             "#d8576b"
            ],
            [
             0.6666666666666666,
             "#ed7953"
            ],
            [
             0.7777777777777778,
             "#fb9f3a"
            ],
            [
             0.8888888888888888,
             "#fdca26"
            ],
            [
             1,
             "#f0f921"
            ]
           ],
           "sequentialminus": [
            [
             0,
             "#0d0887"
            ],
            [
             0.1111111111111111,
             "#46039f"
            ],
            [
             0.2222222222222222,
             "#7201a8"
            ],
            [
             0.3333333333333333,
             "#9c179e"
            ],
            [
             0.4444444444444444,
             "#bd3786"
            ],
            [
             0.5555555555555556,
             "#d8576b"
            ],
            [
             0.6666666666666666,
             "#ed7953"
            ],
            [
             0.7777777777777778,
             "#fb9f3a"
            ],
            [
             0.8888888888888888,
             "#fdca26"
            ],
            [
             1,
             "#f0f921"
            ]
           ]
          },
          "colorway": [
           "#636efa",
           "#EF553B",
           "#00cc96",
           "#ab63fa",
           "#FFA15A",
           "#19d3f3",
           "#FF6692",
           "#B6E880",
           "#FF97FF",
           "#FECB52"
          ],
          "font": {
           "color": "#2a3f5f"
          },
          "geo": {
           "bgcolor": "white",
           "lakecolor": "white",
           "landcolor": "#E5ECF6",
           "showlakes": true,
           "showland": true,
           "subunitcolor": "white"
          },
          "hoverlabel": {
           "align": "left"
          },
          "hovermode": "closest",
          "mapbox": {
           "style": "light"
          },
          "paper_bgcolor": "white",
          "plot_bgcolor": "#E5ECF6",
          "polar": {
           "angularaxis": {
            "gridcolor": "white",
            "linecolor": "white",
            "ticks": ""
           },
           "bgcolor": "#E5ECF6",
           "radialaxis": {
            "gridcolor": "white",
            "linecolor": "white",
            "ticks": ""
           }
          },
          "scene": {
           "xaxis": {
            "backgroundcolor": "#E5ECF6",
            "gridcolor": "white",
            "gridwidth": 2,
            "linecolor": "white",
            "showbackground": true,
            "ticks": "",
            "zerolinecolor": "white"
           },
           "yaxis": {
            "backgroundcolor": "#E5ECF6",
            "gridcolor": "white",
            "gridwidth": 2,
            "linecolor": "white",
            "showbackground": true,
            "ticks": "",
            "zerolinecolor": "white"
           },
           "zaxis": {
            "backgroundcolor": "#E5ECF6",
            "gridcolor": "white",
            "gridwidth": 2,
            "linecolor": "white",
            "showbackground": true,
            "ticks": "",
            "zerolinecolor": "white"
           }
          },
          "shapedefaults": {
           "line": {
            "color": "#2a3f5f"
           }
          },
          "ternary": {
           "aaxis": {
            "gridcolor": "white",
            "linecolor": "white",
            "ticks": ""
           },
           "baxis": {
            "gridcolor": "white",
            "linecolor": "white",
            "ticks": ""
           },
           "bgcolor": "#E5ECF6",
           "caxis": {
            "gridcolor": "white",
            "linecolor": "white",
            "ticks": ""
           }
          },
          "title": {
           "x": 0.05
          },
          "xaxis": {
           "automargin": true,
           "gridcolor": "white",
           "linecolor": "white",
           "ticks": "",
           "title": {
            "standoff": 15
           },
           "zerolinecolor": "white",
           "zerolinewidth": 2
          },
          "yaxis": {
           "automargin": true,
           "gridcolor": "white",
           "linecolor": "white",
           "ticks": "",
           "title": {
            "standoff": 15
           },
           "zerolinecolor": "white",
           "zerolinewidth": 2
          }
         }
        },
        "xaxis": {
         "anchor": "y",
         "constrain": "domain",
         "domain": [
          0,
          1
         ],
         "scaleanchor": "y",
         "title": {
          "text": "type_1"
         }
        },
        "yaxis": {
         "anchor": "x",
         "autorange": "reversed",
         "constrain": "domain",
         "domain": [
          0,
          1
         ],
         "title": {
          "text": "name"
         }
        }
       }
      }
     },
     "metadata": {},
     "output_type": "display_data"
    }
   ],
   "source": [
    "fig = px.imshow(\n",
    "    selected_pokemons_against,\n",
    "    labels=dict(x=\"type_1\", y=\"name\"),\n",
    "    x=selected_pokemons_against.columns,\n",
    "    y=selected_pokemons_against.index,\n",
    "    color_continuous_scale=\"Viridis\",\n",
    ")\n",
    "\n",
    "fig = px.imshow(list(selected_pokemons_against.values), y=list(current_team_pokemon[\"name\"].values), labels=dict(x=\"type_1\", y=\"name\"), x=list(selected_pokemons_against.columns), color_continuous_scale=\"Blackbody\")\n",
    "fig.show()"
   ]
  }
 ],
 "metadata": {
  "kernelspec": {
   "display_name": "Python 3",
   "language": "python",
   "name": "python3"
  },
  "language_info": {
   "codemirror_mode": {
    "name": "ipython",
    "version": 3
   },
   "file_extension": ".py",
   "mimetype": "text/x-python",
   "name": "python",
   "nbconvert_exporter": "python",
   "pygments_lexer": "ipython3",
   "version": "3.13.0"
  }
 },
 "nbformat": 4,
 "nbformat_minor": 5
}
