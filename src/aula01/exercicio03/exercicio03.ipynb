{
 "cells": [
  {
   "cell_type": "markdown",
   "id": "1f4f50cb-7935-4d71-8db5-d233dd73a2d0",
   "metadata": {},
   "source": [
    "#### Exercicio 03\n",
    "Crie um programa que leia 3 números, imprima o maior, o menor e a média aritmética"
   ]
  },
  {
   "cell_type": "code",
   "execution_count": 1,
   "id": "3c7c6f15-b35c-4941-992c-1347afe6f363",
   "metadata": {},
   "outputs": [
    {
     "name": "stdin",
     "output_type": "stream",
     "text": [
      "Digite o primeiro número:  10\n",
      "Digite o segundo número:  45\n",
      "Digite o terceiro número:  200\n"
     ]
    },
    {
     "name": "stdout",
     "output_type": "stream",
     "text": [
      "O número 200 é o maior número!\n",
      "O número 10 é o menor número!\n",
      "A média aritmética dos 3 números é: 85.0\n"
     ]
    }
   ],
   "source": [
    "numero_01 = int(input('Digite o primeiro número: '))\n",
    "numero_02 = int(input('Digite o segundo número: '))\n",
    "numero_03 = int(input('Digite o terceiro número: '))\n",
    "media_aritmetica = (numero_01 + numero_02 + numero_03) / 3\n",
    "\n",
    "maior = max(numero_01, numero_02, numero_03)\n",
    "menor = min(numero_01, numero_02, numero_03)\n",
    "\n",
    "print(f'O número {maior} é o maior número!')\n",
    "print(f'O número {menor} é o menor número!')\n",
    "print(f'A média aritmética dos 3 números é: {media_aritmetica}')"
   ]
  }
 ],
 "metadata": {
  "kernelspec": {
   "display_name": "Python 3 (ipykernel)",
   "language": "python",
   "name": "python3"
  },
  "language_info": {
   "codemirror_mode": {
    "name": "ipython",
    "version": 3
   },
   "file_extension": ".py",
   "mimetype": "text/x-python",
   "name": "python",
   "nbconvert_exporter": "python",
   "pygments_lexer": "ipython3",
   "version": "3.12.4"
  }
 },
 "nbformat": 4,
 "nbformat_minor": 5
}
