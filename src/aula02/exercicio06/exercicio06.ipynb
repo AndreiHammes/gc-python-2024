{
 "cells": [
  {
   "cell_type": "markdown",
   "id": "930c34f3-2283-455a-9aa9-b6d8b1e47ddf",
   "metadata": {},
   "source": [
    "#### Exercicio 06\n",
    "Crie um programa em Python que peça ao usuário para inserir o nome de três amigos. O programa deve armazenar esses nomes em uma lista e, em seguida, exibir uma mensagem personalizada para cada amigo, indicando que ele é seu amigo."
   ]
  },
  {
   "cell_type": "code",
   "execution_count": 1,
   "id": "45fdf728-781a-46f3-825c-a24c48ffc223",
   "metadata": {},
   "outputs": [
    {
     "name": "stdin",
     "output_type": "stream",
     "text": [
      "Digite o nome do primeiro amigo Gabryel\n",
      "Digite o nome do segundo amigo Bernardo\n",
      "Digite o nome do terceiro amigo Guilherme\n"
     ]
    },
    {
     "name": "stdout",
     "output_type": "stream",
     "text": [
      "Gabryel é meu amigo\n",
      "Bernardo é meu amigo\n",
      "Guilherme é meu amigo\n"
     ]
    }
   ],
   "source": [
    "amigos = []\n",
    "\n",
    "amigo1 = input('Digite o nome do primeiro amigo')\n",
    "amigo2 = input('Digite o nome do segundo amigo')\n",
    "amigo3 = input('Digite o nome do terceiro amigo')\n",
    "\n",
    "amigos.append(amigo1)\n",
    "amigos.append(amigo2)\n",
    "amigos.append(amigo3)\n",
    "\n",
    "for amigo in amigos:\n",
    "    print(f'{amigo} é meu amigo')"
   ]
  },
  {
   "cell_type": "code",
   "execution_count": null,
   "id": "57637cb9-ff93-4ec4-8ab6-454b55506b9b",
   "metadata": {},
   "outputs": [],
   "source": []
  }
 ],
 "metadata": {
  "kernelspec": {
   "display_name": "Python 3 (ipykernel)",
   "language": "python",
   "name": "python3"
  },
  "language_info": {
   "codemirror_mode": {
    "name": "ipython",
    "version": 3
   },
   "file_extension": ".py",
   "mimetype": "text/x-python",
   "name": "python",
   "nbconvert_exporter": "python",
   "pygments_lexer": "ipython3",
   "version": "3.12.4"
  }
 },
 "nbformat": 4,
 "nbformat_minor": 5
}
