{
 "cells": [
  {
<<<<<<< HEAD:src/aula3-4/exercicio09/exercicio_coop09.ipynb
   "cell_type": "markdown",
   "id": "89c5461d-79a3-43c3-bde6-5ddd43bcdd35",
   "metadata": {},
   "source": [
    "#### MiniBoss - Coop\n",
    "Realizei esse exericico em coop com o aluno Guilherme Cabreira, meus commits estão no histórico do repositório dele :)"
   ]
=======
   "cell_type": "code",
   "execution_count": null,
   "id": "5dd75b64-250e-42a9-a8ba-685ac8b708e9",
   "metadata": {},
   "outputs": [],
   "source": []
>>>>>>> cc3995af586ae5f5e900b7ba5fa8f57d15ece7d5:src/aula05/exercicio10/exercicio10.ipynb
  }
 ],
 "metadata": {
  "kernelspec": {
   "display_name": "Python 3 (ipykernel)",
   "language": "python",
   "name": "python3"
  },
  "language_info": {
   "codemirror_mode": {
    "name": "ipython",
    "version": 3
   },
   "file_extension": ".py",
   "mimetype": "text/x-python",
   "name": "python",
   "nbconvert_exporter": "python",
   "pygments_lexer": "ipython3",
   "version": "3.12.4"
  }
 },
 "nbformat": 4,
 "nbformat_minor": 5
}
