{
 "cells": [
  {
   "cell_type": "markdown",
   "id": "37b2ba23",
   "metadata": {},
   "source": [
    "## Exercicio feito em coop com colega José Chagury, minhas respostas estão no repositório dele."
   ]
  },
  {
   "cell_type": "markdown",
   "id": "630bd33e-9a75-49a3-8645-4ecee0f85b10",
   "metadata": {},
   "source": [
    "## Exercicio feito em conjunto com Samuel de Freitas Aiedo no repositorio de Andrei Hammes."
   ]
  },
  {
   "cell_type": "markdown",
   "id": "956acf1b-5e9c-47c0-a165-2871ed216398",
   "metadata": {},
   "source": [
    "#### O que é uma chave primária em um banco de dados? Por que é importante que cada tabela tenha uma chave primária? "
   ]
  },
  {
   "cell_type": "markdown",
   "id": "fe070ac8-c5ed-4cbd-a2d2-39dfc3babc8d",
   "metadata": {},
   "source": [
    "Uma chave primária é um identificador exclusivo para um registro na tabela, não podendo ser repetida e nem nula. É importante pois identiifca de forma exclusiva cada um dos registros, impedindo que ocorra duplicidades e conflitos entre os dados da tabela. Andrei Hammes."
   ]
  },
  {
   "cell_type": "markdown",
   "id": "2c2024d1-378f-4eed-a192-9bd50d4fafcd",
   "metadata": {},
   "source": [
    "#### Explique como a relação entre duas tabelas com chaves primárias e estrangeiras pode ser representada com dataframes no Pandas."
   ]
  },
  {
   "cell_type": "markdown",
   "id": "e89492b4-ed4c-42b6-a057-c4a07ea052b9",
   "metadata": {},
   "source": [
    "Uma chave estrangeira é na verdade um campo de uma tabela criada como chave primária, e é inserida dentro de uma tabela como sendo uma chave estrangeira. Para representarmos a relação entre as duas tabelas devemos juntar as informações das duas, e para isso utilizamos a função pd.merge() - Andrei Hammes"
   ]
  },
  {
   "cell_type": "markdown",
   "id": "bc67ad0b-41cb-4c3b-8995-5766f42b33f2",
   "metadata": {},
   "source": [
    "#### Qual a diferença entre os métodos .merge() e .join() no Pandas?"
   ]
  },
  {
   "cell_type": "markdown",
   "id": "43e9f35d-843c-416e-a477-79bb3ccb5829",
   "metadata": {},
   "source": [
    "Os dois métodos são usados para a mesma funcionalidade, porém o merge combina dois dataframes por vez com base nas colunas, já o join combina múltiplos dataframes com base no índice. - Andrei Hammes"
   ]
  },
  {
   "cell_type": "markdown",
   "id": "81b37ff1-95fd-48f9-bbbd-d6557beb92b7",
   "metadata": {},
   "source": [
    "#### Quando você usaria um inner join ao invés de um left join? Explique com exemplos."
   ]
  },
  {
   "cell_type": "markdown",
   "id": "fc2b95f3-af77-489a-a6af-cd7f3a6ddf50",
   "metadata": {},
   "source": [
    "Inner join é usado quando se deseja extrair apenas os dados em comum de 2 dataframes diferentes. Como no exemplo abaixo -Samuel de Freitas Aiedo."
   ]
  },
  {
   "cell_type": "code",
   "execution_count": 8,
   "id": "34fa9b1c-b618-402f-9d17-39b8e61d4dd9",
   "metadata": {},
   "outputs": [
    {
     "name": "stdout",
     "output_type": "stream",
     "text": [
      "Inner Join:\n",
      "    ID    Nome  Idade\n",
      "0   3  Andrei     23\n",
      "1   4   Pablo     35\n"
     ]
    }
   ],
   "source": [
    "import pandas as pd\n",
    "\n",
    "# DataFrame 1\n",
    "data1 = {'ID': [1, 2, 3, 4],\n",
    "         'Nome': ['Samuel', 'Beto', 'Andrei', 'Pablo']}\n",
    "df1 = pd.DataFrame(data1)\n",
    "\n",
    "# DataFrame 2\n",
    "data2 = {'ID': [3, 4, 5, 6],\n",
    "         'Idade': [23, 35, 45, 32]}\n",
    "df2 = pd.DataFrame(data2)\n",
    "\n",
    "# Fazendo o inner join com base na coluna 'ID'\n",
    "df_inner = pd.merge(df1, df2, on='ID', how='inner')\n",
    "\n",
    "print(\"Inner Join:\\n\", df_inner)\n"
   ]
  },
  {
   "cell_type": "markdown",
   "id": "c47006b4-5a27-43fa-8c8b-5f5c5868ed8f",
   "metadata": {},
   "source": [
    "Já o Left join é usado quando se deseja mostrar todos os dados da fileira à esquerda mesmo sem correspondêndia com a fileira da direita, enquanto a mesma retorna apenas os valores correspondentes. Como no exemplo abaixo: -Samuel de Freitas Aiedo."
   ]
  },
  {
   "cell_type": "code",
   "execution_count": 10,
   "id": "725830d3-2c6a-4bba-bb8c-45094841bd52",
   "metadata": {},
   "outputs": [
    {
     "name": "stdout",
     "output_type": "stream",
     "text": [
      "Left Join:\n",
      "    ID    Nome  Idade\n",
      "0   1     Ana    NaN\n",
      "1   2    Beto    NaN\n",
      "2   3  Carlos   23.0\n",
      "3   4   Diana   35.0\n"
     ]
    }
   ],
   "source": [
    "import pandas as pd\n",
    "\n",
    "# DataFrame 1\n",
    "data1 = {'ID': [1, 2, 3, 4],\n",
    "         'Nome': ['Ana', 'Beto', 'Carlos', 'Diana']}\n",
    "df1 = pd.DataFrame(data1)\n",
    "\n",
    "# DataFrame 2\n",
    "data2 = {'ID': [3, 4, 5, 6],\n",
    "         'Idade': [23, 35, 45, 32]}\n",
    "df2 = pd.DataFrame(data2)\n",
    "\n",
    "# Fazendo o left join com base na coluna 'ID'\n",
    "df_left = pd.merge(df1, df2, on='ID', how='left')\n",
    "\n",
    "print(\"Left Join:\\n\", df_left)"
   ]
  },
  {
   "cell_type": "markdown",
   "id": "1558d66e-f306-4aaa-8f0d-0776a04a5f80",
   "metadata": {},
   "source": [
    "#### Em que situação um merge resultaria em valores faltantes? Como podemos lidar com esses valores?\n"
   ]
  },
  {
   "cell_type": "markdown",
   "id": "0bd42622-f4a8-4335-bd30-87503ed8532b",
   "metadata": {},
   "source": [
    "Um merge retornaria valores faltantes caso a chave escolhida não tivesse correspondência em ambos is DataFrames, umas das formas de evitar a mensagem NaN em dados faltantes seria removendo tais dados, alterando um por um valor específico, ou até mesmo preenchendo o dado faltante com a média ou a mediana dos demais valores. -Samuel de Freitas Aiedo."
   ]
  },
  {
   "cell_type": "markdown",
   "id": "d5f0e15f-da17-4830-ae81-07ffbb093df0",
   "metadata": {},
   "source": [
    "#### Quais são as maneiras de tratar dados faltantes no Pandas? Explique os métodos .dropna() e .fillna()."
   ]
  },
  {
   "cell_type": "markdown",
   "id": "0da00cc3-df09-4e7b-821a-f22ff7b5c5e5",
   "metadata": {},
   "source": [
    "O comando dropna() serve para remover o respectivo valor faltante dentro de um dataframe, já o comando fillna() serve para adicionar algum valor específico no lugar do valor vazio (NaN). -Samuel de Freitas Aiedo."
   ]
  },
  {
   "cell_type": "code",
   "execution_count": null,
   "id": "4cd470be-2887-4245-9c8f-d7d47e8f6d86",
   "metadata": {},
   "outputs": [],
   "source": []
  }
 ],
 "metadata": {
  "kernelspec": {
   "display_name": "Python 3 (ipykernel)",
   "language": "python",
   "name": "python3"
  },
  "language_info": {
   "codemirror_mode": {
    "name": "ipython",
    "version": 3
   },
   "file_extension": ".py",
   "mimetype": "text/x-python",
   "name": "python",
   "nbconvert_exporter": "python",
   "pygments_lexer": "ipython3",
   "version": "3.12.4"
  }
 },
 "nbformat": 4,
 "nbformat_minor": 5
}
