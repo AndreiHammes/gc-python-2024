{
 "cells": [
  {
   "cell_type": "markdown",
   "id": "f0b053c7-d45c-4c0b-96da-8389f6f454a5",
   "metadata": {},
   "source": [
    "#### Exercicio 04\n",
    "Crie um programa em Python que solicite ao usuário que insira a sua idade. Com base na idade fornecida, o programa deve verificar se o usuário é menor de idade, maior de idade ou se está completando 18 anos."
   ]
  },
  {
   "cell_type": "code",
   "execution_count": 2,
   "id": "7b3f8bbf-a83c-4a4b-b803-d9d4dd0b253f",
   "metadata": {},
   "outputs": [
    {
     "name": "stdin",
     "output_type": "stream",
     "text": [
      "Digite a sua idade:  21\n"
     ]
    },
    {
     "name": "stdout",
     "output_type": "stream",
     "text": [
      "Maior de idade!\n"
     ]
    }
   ],
   "source": [
    "idade = int(input('Digite a sua idade: '))\n",
    "if idade < 18:\n",
    "    print('Menor de idade!')\n",
    "elif idade == 18:\n",
    "    print('Feliz aniversário!')\n",
    "else:\n",
    "    print('Maior de idade!')"
   ]
  }
 ],
 "metadata": {
  "kernelspec": {
   "display_name": "Python 3 (ipykernel)",
   "language": "python",
   "name": "python3"
  },
  "language_info": {
   "codemirror_mode": {
    "name": "ipython",
    "version": 3
   },
   "file_extension": ".py",
   "mimetype": "text/x-python",
   "name": "python",
   "nbconvert_exporter": "python",
   "pygments_lexer": "ipython3",
   "version": "3.12.4"
  }
 },
 "nbformat": 4,
 "nbformat_minor": 5
}
