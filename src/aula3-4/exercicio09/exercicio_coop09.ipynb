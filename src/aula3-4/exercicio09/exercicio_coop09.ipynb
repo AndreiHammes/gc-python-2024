{
 "cells": [
  {
   "cell_type": "markdown",
   "id": "89c5461d-79a3-43c3-bde6-5ddd43bcdd35",
   "metadata": {},
   "source": [
    "#### MiniBoss - Coop\n",
    "Realizei esse exericico em coop com o aluno Guilherme Cabreira, meus commits estão no histórico do repositório dele :)"
   ]
  },
  {
   "cell_type": "code",
   "execution_count": null,
   "id": "6fe23f35-0506-4efe-9245-fb9fb02cf283",
   "metadata": {},
   "outputs": [],
   "source": []
  }
 ],
 "metadata": {
  "kernelspec": {
   "display_name": "Python 3 (ipykernel)",
   "language": "python",
   "name": "python3"
  },
  "language_info": {
   "codemirror_mode": {
    "name": "ipython",
    "version": 3
   },
   "file_extension": ".py",
   "mimetype": "text/x-python",
   "name": "python",
   "nbconvert_exporter": "python",
   "pygments_lexer": "ipython3",
   "version": "3.12.4"
  }
 },
 "nbformat": 4,
 "nbformat_minor": 5
}
