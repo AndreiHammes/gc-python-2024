{
 "cells": [
  {
   "cell_type": "code",
   "execution_count": 1,
   "id": "f0516d0a-856e-4d9a-ace7-d9fb03a833a6",
   "metadata": {},
   "outputs": [],
   "source": [
    "import pandas as pd"
   ]
  },
  {
   "cell_type": "code",
   "execution_count": 2,
   "id": "70d1acaf-3cff-4576-b0bf-b3dc0a561a25",
   "metadata": {},
   "outputs": [],
   "source": [
    "dfalunos = pd.read_csv(\"16_dataset_notas_alunos.csv\")\n",
    "dfgrupos = pd.read_csv(\"17_notas_grupos.csv\")"
   ]
  },
  {
   "cell_type": "code",
   "execution_count": 3,
   "id": "02455035-ee7e-4217-a9fb-9b6e54086f7b",
   "metadata": {},
   "outputs": [
    {
     "data": {
      "text/html": [
       "<div>\n",
       "<style scoped>\n",
       "    .dataframe tbody tr th:only-of-type {\n",
       "        vertical-align: middle;\n",
       "    }\n",
       "\n",
       "    .dataframe tbody tr th {\n",
       "        vertical-align: top;\n",
       "    }\n",
       "\n",
       "    .dataframe thead th {\n",
       "        text-align: right;\n",
       "    }\n",
       "</style>\n",
       "<table border=\"1\" class=\"dataframe\">\n",
       "  <thead>\n",
       "    <tr style=\"text-align: right;\">\n",
       "      <th></th>\n",
       "      <th>Aluno</th>\n",
       "      <th>Idade</th>\n",
       "      <th>Matemática</th>\n",
       "      <th>Ciências</th>\n",
       "    </tr>\n",
       "  </thead>\n",
       "  <tbody>\n",
       "    <tr>\n",
       "      <th>0</th>\n",
       "      <td>1</td>\n",
       "      <td>17</td>\n",
       "      <td>67</td>\n",
       "      <td>60</td>\n",
       "    </tr>\n",
       "    <tr>\n",
       "      <th>1</th>\n",
       "      <td>2</td>\n",
       "      <td>15</td>\n",
       "      <td>83</td>\n",
       "      <td>78</td>\n",
       "    </tr>\n",
       "    <tr>\n",
       "      <th>2</th>\n",
       "      <td>3</td>\n",
       "      <td>17</td>\n",
       "      <td>70</td>\n",
       "      <td>61</td>\n",
       "    </tr>\n",
       "    <tr>\n",
       "      <th>3</th>\n",
       "      <td>4</td>\n",
       "      <td>17</td>\n",
       "      <td>76</td>\n",
       "      <td>85</td>\n",
       "    </tr>\n",
       "    <tr>\n",
       "      <th>4</th>\n",
       "      <td>5</td>\n",
       "      <td>15</td>\n",
       "      <td>67</td>\n",
       "      <td>91</td>\n",
       "    </tr>\n",
       "    <tr>\n",
       "      <th>...</th>\n",
       "      <td>...</td>\n",
       "      <td>...</td>\n",
       "      <td>...</td>\n",
       "      <td>...</td>\n",
       "    </tr>\n",
       "    <tr>\n",
       "      <th>95</th>\n",
       "      <td>96</td>\n",
       "      <td>15</td>\n",
       "      <td>87</td>\n",
       "      <td>71</td>\n",
       "    </tr>\n",
       "    <tr>\n",
       "      <th>96</th>\n",
       "      <td>97</td>\n",
       "      <td>15</td>\n",
       "      <td>82</td>\n",
       "      <td>81</td>\n",
       "    </tr>\n",
       "    <tr>\n",
       "      <th>97</th>\n",
       "      <td>98</td>\n",
       "      <td>17</td>\n",
       "      <td>96</td>\n",
       "      <td>81</td>\n",
       "    </tr>\n",
       "    <tr>\n",
       "      <th>98</th>\n",
       "      <td>99</td>\n",
       "      <td>15</td>\n",
       "      <td>91</td>\n",
       "      <td>89</td>\n",
       "    </tr>\n",
       "    <tr>\n",
       "      <th>99</th>\n",
       "      <td>100</td>\n",
       "      <td>15</td>\n",
       "      <td>92</td>\n",
       "      <td>97</td>\n",
       "    </tr>\n",
       "  </tbody>\n",
       "</table>\n",
       "<p>100 rows × 4 columns</p>\n",
       "</div>"
      ],
      "text/plain": [
       "    Aluno  Idade  Matemática  Ciências\n",
       "0       1     17          67        60\n",
       "1       2     15          83        78\n",
       "2       3     17          70        61\n",
       "3       4     17          76        85\n",
       "4       5     15          67        91\n",
       "..    ...    ...         ...       ...\n",
       "95     96     15          87        71\n",
       "96     97     15          82        81\n",
       "97     98     17          96        81\n",
       "98     99     15          91        89\n",
       "99    100     15          92        97\n",
       "\n",
       "[100 rows x 4 columns]"
      ]
     },
     "execution_count": 3,
     "metadata": {},
     "output_type": "execute_result"
    }
   ],
   "source": [
    "dfalunos"
   ]
  },
  {
   "cell_type": "code",
   "execution_count": 4,
   "id": "a82bb46e-6760-4502-9c3a-bfbe52d377e3",
   "metadata": {},
   "outputs": [
    {
     "data": {
      "text/html": [
       "<div>\n",
       "<style scoped>\n",
       "    .dataframe tbody tr th:only-of-type {\n",
       "        vertical-align: middle;\n",
       "    }\n",
       "\n",
       "    .dataframe tbody tr th {\n",
       "        vertical-align: top;\n",
       "    }\n",
       "\n",
       "    .dataframe thead th {\n",
       "        text-align: right;\n",
       "    }\n",
       "</style>\n",
       "<table border=\"1\" class=\"dataframe\">\n",
       "  <thead>\n",
       "    <tr style=\"text-align: right;\">\n",
       "      <th></th>\n",
       "      <th>Grupo_A</th>\n",
       "      <th>Grupo_B</th>\n",
       "    </tr>\n",
       "  </thead>\n",
       "  <tbody>\n",
       "    <tr>\n",
       "      <th>0</th>\n",
       "      <td>51</td>\n",
       "      <td>23</td>\n",
       "    </tr>\n",
       "    <tr>\n",
       "      <th>1</th>\n",
       "      <td>92</td>\n",
       "      <td>25</td>\n",
       "    </tr>\n",
       "    <tr>\n",
       "      <th>2</th>\n",
       "      <td>14</td>\n",
       "      <td>88</td>\n",
       "    </tr>\n",
       "    <tr>\n",
       "      <th>3</th>\n",
       "      <td>71</td>\n",
       "      <td>59</td>\n",
       "    </tr>\n",
       "    <tr>\n",
       "      <th>4</th>\n",
       "      <td>60</td>\n",
       "      <td>40</td>\n",
       "    </tr>\n",
       "    <tr>\n",
       "      <th>...</th>\n",
       "      <td>...</td>\n",
       "      <td>...</td>\n",
       "    </tr>\n",
       "    <tr>\n",
       "      <th>95</th>\n",
       "      <td>39</td>\n",
       "      <td>0</td>\n",
       "    </tr>\n",
       "    <tr>\n",
       "      <th>96</th>\n",
       "      <td>84</td>\n",
       "      <td>26</td>\n",
       "    </tr>\n",
       "    <tr>\n",
       "      <th>97</th>\n",
       "      <td>79</td>\n",
       "      <td>61</td>\n",
       "    </tr>\n",
       "    <tr>\n",
       "      <th>98</th>\n",
       "      <td>81</td>\n",
       "      <td>76</td>\n",
       "    </tr>\n",
       "    <tr>\n",
       "      <th>99</th>\n",
       "      <td>52</td>\n",
       "      <td>2</td>\n",
       "    </tr>\n",
       "  </tbody>\n",
       "</table>\n",
       "<p>100 rows × 2 columns</p>\n",
       "</div>"
      ],
      "text/plain": [
       "    Grupo_A  Grupo_B\n",
       "0        51       23\n",
       "1        92       25\n",
       "2        14       88\n",
       "3        71       59\n",
       "4        60       40\n",
       "..      ...      ...\n",
       "95       39        0\n",
       "96       84       26\n",
       "97       79       61\n",
       "98       81       76\n",
       "99       52        2\n",
       "\n",
       "[100 rows x 2 columns]"
      ]
     },
     "execution_count": 4,
     "metadata": {},
     "output_type": "execute_result"
    }
   ],
   "source": [
    "dfgrupos"
   ]
  },
  {
   "cell_type": "code",
   "execution_count": null,
   "id": "4540cafa-f8d7-435f-ada8-2d09570cec08",
   "metadata": {},
   "outputs": [],
   "source": [
    "# Calcule a média das notas em Matemática e Ciências"
   ]
  },
  {
   "cell_type": "code",
   "execution_count": 15,
   "id": "d1616a11-05e2-4944-b809-098bac2b6bc1",
   "metadata": {},
   "outputs": [
    {
     "data": {
      "text/plain": [
       "Matemática    81.57\n",
       "Ciências      80.26\n",
       "dtype: float64"
      ]
     },
     "execution_count": 15,
     "metadata": {},
     "output_type": "execute_result"
    }
   ],
   "source": [
    "media = dfalunos[['Matemática', 'Ciências']].mean()\n",
    "media"
   ]
  },
  {
   "cell_type": "code",
   "execution_count": 12,
   "id": "67208900-b064-465e-83fb-4b085a4f25a2",
   "metadata": {},
   "outputs": [
    {
     "data": {
      "text/plain": [
       "Matemática    84.5\n",
       "Ciências      79.5\n",
       "dtype: float64"
      ]
     },
     "execution_count": 12,
     "metadata": {},
     "output_type": "execute_result"
    }
   ],
   "source": [
    "# Determine a moda das notas em Matemática e Ciências.\n",
    "mediana = dfalunos[['Matemática', 'Ciências']].median()\n",
    "mediana"
   ]
  },
  {
   "cell_type": "code",
   "execution_count": null,
   "id": "ac4180b9-8cc9-4dd9-b959-6c44d8d4b7f9",
   "metadata": {},
   "outputs": [],
   "source": [
    "# Calcule a amplitude das notas em Matemática e Ciências."
   ]
  },
  {
   "cell_type": "code",
   "execution_count": 23,
   "id": "7a893c27-cba8-43c6-8c6c-374798131d4b",
   "metadata": {},
   "outputs": [
    {
     "data": {
      "text/plain": [
       "np.int64(40)"
      ]
     },
     "execution_count": 23,
     "metadata": {},
     "output_type": "execute_result"
    }
   ],
   "source": [
    "amplitude = dfalunos['Matemática'].max() - dfalunos['Matemática'].min()\n",
    "amplitude"
   ]
  },
  {
   "cell_type": "code",
   "execution_count": 24,
   "id": "e525854a-5e7e-43ca-8a45-5cf0ee0c1589",
   "metadata": {},
   "outputs": [
    {
     "data": {
      "text/plain": [
       "np.int64(40)"
      ]
     },
     "execution_count": 24,
     "metadata": {},
     "output_type": "execute_result"
    }
   ],
   "source": [
    "amp = dfalunos['Ciências'].max() - dfalunos['Matemática'].min()\n",
    "amp"
   ]
  },
  {
   "cell_type": "code",
   "execution_count": 18,
   "id": "0f5d8d27-bd71-477e-89ca-7677d3c684a0",
   "metadata": {},
   "outputs": [
    {
     "data": {
      "text/plain": [
       "Matemática    160.752626\n",
       "Ciências      150.153939\n",
       "dtype: float64"
      ]
     },
     "execution_count": 18,
     "metadata": {},
     "output_type": "execute_result"
    }
   ],
   "source": [
    "# Calcule a variância das notas em Matemática e Ciências.\n",
    "variancia = dfalunos[['Matemática', 'Ciências']].var()\n",
    "variancia"
   ]
  },
  {
   "cell_type": "code",
   "execution_count": 22,
   "id": "612e9f74-347f-4d3a-8681-483270c09452",
   "metadata": {},
   "outputs": [
    {
     "data": {
      "text/plain": [
       "Matemática    12.678826\n",
       "Ciências      12.253732\n",
       "dtype: float64"
      ]
     },
     "execution_count": 22,
     "metadata": {},
     "output_type": "execute_result"
    }
   ],
   "source": [
    "# Calcule o desvio padrão das notas em Matemática e Ciências.\n",
    "variancia = dfalunos[['Matemática', 'Ciências']].std()\n",
    "variancia"
   ]
  },
  {
   "cell_type": "code",
   "execution_count": 25,
   "id": "45be7a2f-0ff9-4e4e-849c-f61860062f61",
   "metadata": {},
   "outputs": [
    {
     "data": {
      "text/html": [
       "<div>\n",
       "<style scoped>\n",
       "    .dataframe tbody tr th:only-of-type {\n",
       "        vertical-align: middle;\n",
       "    }\n",
       "\n",
       "    .dataframe tbody tr th {\n",
       "        vertical-align: top;\n",
       "    }\n",
       "\n",
       "    .dataframe thead th {\n",
       "        text-align: right;\n",
       "    }\n",
       "</style>\n",
       "<table border=\"1\" class=\"dataframe\">\n",
       "  <thead>\n",
       "    <tr style=\"text-align: right;\">\n",
       "      <th></th>\n",
       "      <th>Matemática</th>\n",
       "      <th>Ciências</th>\n",
       "    </tr>\n",
       "  </thead>\n",
       "  <tbody>\n",
       "    <tr>\n",
       "      <th>Matemática</th>\n",
       "      <td>160.752626</td>\n",
       "      <td>9.133131</td>\n",
       "    </tr>\n",
       "    <tr>\n",
       "      <th>Ciências</th>\n",
       "      <td>9.133131</td>\n",
       "      <td>150.153939</td>\n",
       "    </tr>\n",
       "  </tbody>\n",
       "</table>\n",
       "</div>"
      ],
      "text/plain": [
       "            Matemática    Ciências\n",
       "Matemática  160.752626    9.133131\n",
       "Ciências      9.133131  150.153939"
      ]
     },
     "execution_count": 25,
     "metadata": {},
     "output_type": "execute_result"
    }
   ],
   "source": [
    "# Calcule a covariância entre as notas de Matemática e Ciências \n",
    "covariancia = dfalunos[['Matemática', 'Ciências']].cov()\n",
    "covariancia"
   ]
  },
  {
   "cell_type": "code",
   "execution_count": 26,
   "id": "5a59b261-655a-4bf6-a8d6-4148b96054e3",
   "metadata": {},
   "outputs": [
    {
     "data": {
      "text/html": [
       "<div>\n",
       "<style scoped>\n",
       "    .dataframe tbody tr th:only-of-type {\n",
       "        vertical-align: middle;\n",
       "    }\n",
       "\n",
       "    .dataframe tbody tr th {\n",
       "        vertical-align: top;\n",
       "    }\n",
       "\n",
       "    .dataframe thead th {\n",
       "        text-align: right;\n",
       "    }\n",
       "</style>\n",
       "<table border=\"1\" class=\"dataframe\">\n",
       "  <thead>\n",
       "    <tr style=\"text-align: right;\">\n",
       "      <th></th>\n",
       "      <th>Matemática</th>\n",
       "      <th>Ciências</th>\n",
       "    </tr>\n",
       "  </thead>\n",
       "  <tbody>\n",
       "    <tr>\n",
       "      <th>Matemática</th>\n",
       "      <td>1.000000</td>\n",
       "      <td>0.058786</td>\n",
       "    </tr>\n",
       "    <tr>\n",
       "      <th>Ciências</th>\n",
       "      <td>0.058786</td>\n",
       "      <td>1.000000</td>\n",
       "    </tr>\n",
       "  </tbody>\n",
       "</table>\n",
       "</div>"
      ],
      "text/plain": [
       "            Matemática  Ciências\n",
       "Matemática    1.000000  0.058786\n",
       "Ciências      0.058786  1.000000"
      ]
     },
     "execution_count": 26,
     "metadata": {},
     "output_type": "execute_result"
    }
   ],
   "source": [
    "# Calcule a correlação entre as notas de Matemática e Ciências.\n",
    "correlacao = dfalunos[['Matemática', 'Ciências']].corr()\n",
    "correlacao"
   ]
  }
 ],
 "metadata": {
  "kernelspec": {
   "display_name": "Python 3 (ipykernel)",
   "language": "python",
   "name": "python3"
  },
  "language_info": {
   "codemirror_mode": {
    "name": "ipython",
    "version": 3
   },
   "file_extension": ".py",
   "mimetype": "text/x-python",
   "name": "python",
   "nbconvert_exporter": "python",
   "pygments_lexer": "ipython3",
   "version": "3.12.4"
  }
 },
 "nbformat": 4,
 "nbformat_minor": 5
}
