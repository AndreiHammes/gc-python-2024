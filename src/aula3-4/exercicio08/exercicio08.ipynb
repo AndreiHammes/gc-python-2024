{
 "cells": [
  {
   "cell_type": "markdown",
   "id": "3eaa3def-373f-46e8-8963-f03d5b5eda3e",
   "metadata": {},
   "source": [
    "!pip install pandas"
   ]
  },
  {
   "cell_type": "code",
   "execution_count": 6,
   "id": "53685d29-388a-4c82-a4b6-5795573e66a6",
   "metadata": {},
   "outputs": [],
   "source": [
    "import pandas as pd"
   ]
  },
  {
   "cell_type": "markdown",
   "id": "e4051986-60cb-4f89-84a5-9ab63f8c1791",
   "metadata": {},
   "source": [
    "#### Exercicio 08\n",
    "✦ Crie mais 2 dataframes, de séries e anime/desenhos que você gosta, com as mesmas colunas acima.\n",
    "✦ Salve os 3 dataframes em 'csv', 'json' e 'html' e nos envie os arquivos.\n",
    "✦ Concatene horizontalmente os 3 dataframes, ficando 9 colunas no final."
   ]
  },
  {
   "cell_type": "code",
   "execution_count": 10,
   "id": "b4133484-6906-4971-8b25-465703199dde",
   "metadata": {},
   "outputs": [],
   "source": [
    "filmes = [\"Fallen angels\", \"O Fabuloso Destino de Amélie Poulain\", \"princesa Mononoke\", \"Ladrões de Bicicleta\", \"Blade Runner\"]\n",
    "data = [1995, 2001, 1997, 1948, 1982]\n",
    "dt_filmes = pd.DataFrame({'Filmes':filmes, 'Data':data})\n",
    "dt_filmes['Nota'] = [10, 8, 9, 10, 10]"
   ]
  },
  {
   "cell_type": "code",
   "execution_count": 7,
   "id": "c064b161-b23f-4da0-91da-807e903a7530",
   "metadata": {},
   "outputs": [],
   "source": [
    "series = {\n",
    "    'Série': ['Sopranos', \n",
    "               'Breaking Bad',\n",
    "               'Dark',\n",
    "               'Game of Thrones',\n",
    "               'Prison Break'],\n",
    "    'Data': [2000, 2000, 2000, 2000, 2000],\n",
    "    'Nota': [10, 10, 9, 8, 6]\n",
    "}\n",
    "\n",
    "desenhos = {\n",
    "    'desenhos': ['Viva: a vida é uma festa',\n",
    "                'Castelo Animado',\n",
    "                'Viagem de Chihiro',\n",
    "                'Rei Leão',\n",
    "                'Ratatuille'],\n",
    "    'Data': [2001, 2001, 2001, 2001, 2001],\n",
    "    'Nota': [10, 9, 7, 8, 10]\n",
    "}\n",
    "\n",
    "dt_series = pd.DataFrame(series)\n",
    "dt_desenhos = pd.DataFrame(desenhos)"
   ]
  },
  {
   "cell_type": "code",
   "execution_count": 8,
   "id": "244c3695-87f8-4e44-8e8e-b40203604ece",
   "metadata": {},
   "outputs": [
    {
     "data": {
      "text/html": [
       "<div>\n",
       "<style scoped>\n",
       "    .dataframe tbody tr th:only-of-type {\n",
       "        vertical-align: middle;\n",
       "    }\n",
       "\n",
       "    .dataframe tbody tr th {\n",
       "        vertical-align: top;\n",
       "    }\n",
       "\n",
       "    .dataframe thead th {\n",
       "        text-align: right;\n",
       "    }\n",
       "</style>\n",
       "<table border=\"1\" class=\"dataframe\">\n",
       "  <thead>\n",
       "    <tr style=\"text-align: right;\">\n",
       "      <th></th>\n",
       "      <th>Série</th>\n",
       "      <th>Data</th>\n",
       "      <th>Nota</th>\n",
       "    </tr>\n",
       "  </thead>\n",
       "  <tbody>\n",
       "    <tr>\n",
       "      <th>0</th>\n",
       "      <td>Sopranos</td>\n",
       "      <td>2000</td>\n",
       "      <td>10</td>\n",
       "    </tr>\n",
       "    <tr>\n",
       "      <th>1</th>\n",
       "      <td>Breaking Bad</td>\n",
       "      <td>2000</td>\n",
       "      <td>10</td>\n",
       "    </tr>\n",
       "    <tr>\n",
       "      <th>2</th>\n",
       "      <td>Dark</td>\n",
       "      <td>2000</td>\n",
       "      <td>9</td>\n",
       "    </tr>\n",
       "    <tr>\n",
       "      <th>3</th>\n",
       "      <td>Game of Thrones</td>\n",
       "      <td>2000</td>\n",
       "      <td>8</td>\n",
       "    </tr>\n",
       "    <tr>\n",
       "      <th>4</th>\n",
       "      <td>Prison Break</td>\n",
       "      <td>2000</td>\n",
       "      <td>6</td>\n",
       "    </tr>\n",
       "  </tbody>\n",
       "</table>\n",
       "</div>"
      ],
      "text/plain": [
       "             Série  Data  Nota\n",
       "0         Sopranos  2000    10\n",
       "1     Breaking Bad  2000    10\n",
       "2             Dark  2000     9\n",
       "3  Game of Thrones  2000     8\n",
       "4     Prison Break  2000     6"
      ]
     },
     "execution_count": 8,
     "metadata": {},
     "output_type": "execute_result"
    }
   ],
   "source": [
    "dt_series"
   ]
  },
  {
   "cell_type": "code",
   "execution_count": 12,
   "id": "a8fef643-0bf1-4d80-a6f1-78197270da01",
   "metadata": {},
   "outputs": [],
   "source": [
    "dt_filmes.to_csv('filmes.csv')\n",
    "dt_series.to_json('series.json')\n",
    "dt_desenhos.to_html('desenhos.html')"
   ]
  }
 ],
 "metadata": {
  "kernelspec": {
   "display_name": "Python 3 (ipykernel)",
   "language": "python",
   "name": "python3"
  },
  "language_info": {
   "codemirror_mode": {
    "name": "ipython",
    "version": 3
   },
   "file_extension": ".py",
   "mimetype": "text/x-python",
   "name": "python",
   "nbconvert_exporter": "python",
   "pygments_lexer": "ipython3",
   "version": "3.12.4"
  }
 },
 "nbformat": 4,
 "nbformat_minor": 5
}
