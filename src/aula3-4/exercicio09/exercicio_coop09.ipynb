{
 "cells": [
  {
   "cell_type": "markdown",
   "id": "89c5461d-79a3-43c3-bde6-5ddd43bcdd35",
   "metadata": {},
   "source": [
    "#### MiniBoss - Coop\n",
    "Realizei esse exericico em coop com o aluno Guilherme Cabreira, meus commits estão no histórico do repositório dele :)"
   ]
  }
 ],
 "metadata": {
  "kernelspec": {
   "display_name": "Python 3 (ipykernel)",
   "language": "python",
   "name": "python3"
  },
  "language_info": {
   "codemirror_mode": {
    "name": "ipython",
    "version": 3
   },
   "file_extension": ".py",
   "mimetype": "text/x-python",
   "name": "python",
   "nbconvert_exporter": "python",
   "pygments_lexer": "ipython3",
   "version": "3.12.4"
  }
 },
 "nbformat": 4,
 "nbformat_minor": 5
}
