{
 "cells": [
  {
   "cell_type": "markdown",
   "metadata": {},
   "source": [
    "Exercicios aula 01\n",
    "Crie um programa que leia seu nome e imprima na tela."
   ]
  },
  {
   "cell_type": "code",
   "execution_count": 6,
   "metadata": {},
   "outputs": [
    {
     "name": "stdout",
     "output_type": "stream",
     "text": [
      "Andrei\n"
     ]
    }
   ],
   "source": [
    "nome = input('Digite seu nome')\n",
    "print(nome)"
   ]
  },
  {
   "cell_type": "markdown",
   "metadata": {},
   "source": [
    "Crie um programa que receba 2 número e imprima a soma deles na tela"
   ]
  },
  {
   "cell_type": "code",
   "execution_count": 7,
   "metadata": {},
   "outputs": [
    {
     "name": "stdout",
     "output_type": "stream",
     "text": [
      "A soma dos dois números é 45\n"
     ]
    }
   ],
   "source": [
    "numero_01 = int(input('Digite o primeiro número inteiro: '))\n",
    "numero_02 = int(input('Digite o segundo número inteiro: '))\n",
    "soma = numero_01 + numero_02\n",
    "print(f'A soma dos dois números é {soma}')"
   ]
  },
  {
   "cell_type": "markdown",
   "metadata": {},
   "source": [
    "Crie um programa que leia 3 números, imprima o maior, o menor e a média aritmética"
   ]
  },
  {
   "cell_type": "code",
   "execution_count": 7,
   "metadata": {},
   "outputs": [
    {
     "name": "stdin",
     "output_type": "stream",
     "text": [
      "Digite o primeiro número:  10\n",
      "Digite o segundo número:  20\n",
      "Digite o terceiro número:  30\n"
     ]
    },
    {
     "name": "stdout",
     "output_type": "stream",
     "text": [
      "O número 30 é o maior número!\n",
      "O número 10 é o menor número!\n",
      "A média aritmética dos 3 números é: 20.0\n"
     ]
    }
   ],
   "source": [
    "numero_01 = int(input('Digite o primeiro número: '))\n",
    "numero_02 = int(input('Digite o segundo número: '))\n",
    "numero_03 = int(input('Digite o terceiro número: '))\n",
    "media_aritmetica = (numero_01 + numero_02 + numero_03) / 3\n",
    "\n",
    "maior = max(numero_01, numero_02, numero_03)\n",
    "menor = min(numero_01, numero_02, numero_03)\n",
    "\n",
    "print(f'O número {maior} é o maior número!')\n",
    "print(f'O número {menor} é o menor número!')\n",
    "print(f'A média aritmética dos 3 números é: {media_aritmetica}')"
   ]
  },
  {
   "cell_type": "code",
   "execution_count": null,
   "metadata": {},
   "outputs": [],
   "source": []
  }
 ],
 "metadata": {
  "kernelspec": {
   "display_name": "Python 3 (ipykernel)",
   "language": "python",
   "name": "python3"
  },
  "language_info": {
   "codemirror_mode": {
    "name": "ipython",
    "version": 3
   },
   "file_extension": ".py",
   "mimetype": "text/x-python",
   "name": "python",
   "nbconvert_exporter": "python",
   "pygments_lexer": "ipython3",
   "version": "3.12.4"
  }
 },
 "nbformat": 4,
 "nbformat_minor": 4
}
