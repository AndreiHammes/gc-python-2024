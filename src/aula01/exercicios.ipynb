{
 "cells": [
  {
   "cell_type": "markdown",
   "metadata": {},
   "source": [
    "Exercicios aula 01\n",
    "Crie um programa que leia seu nome e imprima na tela."
   ]
  },
  {
   "cell_type": "code",
   "execution_count": 6,
   "metadata": {},
   "outputs": [
    {
     "name": "stdout",
     "output_type": "stream",
     "text": [
      "Andrei\n"
     ]
    }
   ],
   "source": [
    "nome = input('Digite seu nome')\n",
    "print(nome)"
   ]
  },
  {
   "cell_type": "markdown",
   "metadata": {},
   "source": [
    "Crie um programa que receba 2 número e imprima a soma deles na tela"
   ]
  },
  {
   "cell_type": "code",
   "execution_count": 7,
   "metadata": {},
   "outputs": [
    {
     "name": "stdout",
     "output_type": "stream",
     "text": [
      "A soma dos dois números é 45\n"
     ]
    }
   ],
   "source": [
    "numero_01 = int(input('Digite o primeiro número inteiro: '))\n",
    "numero_02 = int(input('Digite o segundo número inteiro: '))\n",
    "soma = numero_01 + numero_02\n",
    "print(f'A soma dos dois números é {soma}')"
   ]
  },
  {
   "cell_type": "markdown",
   "metadata": {},
   "source": [
    "Crie um programa que leia 3 números, imprima o maior, o menor e a média aritmética"
   ]
  },
  {
   "cell_type": "code",
   "execution_count": 9,
   "metadata": {},
   "outputs": [
    {
     "name": "stdout",
     "output_type": "stream",
     "text": [
      "O número 18 é o maior número!\n",
      "A soma aritmética dos 3 números é: 15.0\n"
     ]
    }
   ],
   "source": [
    "numero_01 = int(input('Digite o primeiro número: '))\n",
    "numero_02 = int(input('Digite o segundo número: '))\n",
    "numero_03 = int(input('Digite o terceiro número: '))\n",
    "soma_aritmetica = (numero_01 + numero_02 + numero_03) / 3\n",
    "\n",
    "if numero_01 > numero_02 and numero_02 > numero_03:\n",
    "    print(f'O número {numero_01} é o maior número!')\n",
    "elif numero_02 > numero_01 and numero_01 > numero_03:\n",
    "    print(f'O número {numero_02} [e o maior número!]')\n",
    "else:\n",
    "    print(f'O número {numero_03} é o maior número!')\n",
    "\n",
    "print(f'A soma aritmética dos 3 números é: {soma_aritmetica}')"
   ]
  }
 ],
 "metadata": {
  "kernelspec": {
   "display_name": "Python 3",
   "language": "python",
   "name": "python3"
  },
  "language_info": {
   "codemirror_mode": {
    "name": "ipython",
    "version": 3
   },
   "file_extension": ".py",
   "mimetype": "text/x-python",
   "name": "python",
   "nbconvert_exporter": "python",
   "pygments_lexer": "ipython3",
   "version": "3.12.0"
  }
 },
 "nbformat": 4,
 "nbformat_minor": 2
}
