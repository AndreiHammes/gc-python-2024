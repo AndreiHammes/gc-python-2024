{
 "cells": [
  {
   "cell_type": "code",
   "execution_count": 1,
   "id": "3fc8cf20-2da1-4523-99a7-4ea866bf84d3",
   "metadata": {},
   "outputs": [
    {
     "name": "stdout",
     "output_type": "stream",
     "text": [
      "Collecting pandas\n",
      "  Downloading pandas-2.2.3-cp312-cp312-macosx_10_9_x86_64.whl.metadata (89 kB)\n",
      "Collecting numpy>=1.26.0 (from pandas)\n",
      "  Downloading numpy-2.1.1-cp312-cp312-macosx_10_9_x86_64.whl.metadata (60 kB)\n",
      "Requirement already satisfied: python-dateutil>=2.8.2 in /opt/miniconda3/lib/python3.12/site-packages (from pandas) (2.9.0.post0)\n",
      "Collecting pytz>=2020.1 (from pandas)\n",
      "  Downloading pytz-2024.2-py2.py3-none-any.whl.metadata (22 kB)\n",
      "Collecting tzdata>=2022.7 (from pandas)\n",
      "  Downloading tzdata-2024.2-py2.py3-none-any.whl.metadata (1.4 kB)\n",
      "Requirement already satisfied: six>=1.5 in /opt/miniconda3/lib/python3.12/site-packages (from python-dateutil>=2.8.2->pandas) (1.16.0)\n",
      "Downloading pandas-2.2.3-cp312-cp312-macosx_10_9_x86_64.whl (12.5 MB)\n",
      "\u001b[2K   \u001b[90m━━━━━━━━━━━━━━━━━━━━━━━━━━━━━━━━━━━━━━━━\u001b[0m \u001b[32m12.5/12.5 MB\u001b[0m \u001b[31m692.4 kB/s\u001b[0m eta \u001b[36m0:00:00\u001b[0m00:01\u001b[0m00:01\u001b[0m\n",
      "\u001b[?25hDownloading numpy-2.1.1-cp312-cp312-macosx_10_9_x86_64.whl (20.9 MB)\n",
      "\u001b[2K   \u001b[90m━━━━━━━━━━━━━━━━━━━━━━━━━━━━━━━━━━━━━━━━\u001b[0m \u001b[32m20.9/20.9 MB\u001b[0m \u001b[31m709.2 kB/s\u001b[0m eta \u001b[36m0:00:00\u001b[0m00:01\u001b[0m00:01\u001b[0m\n",
      "\u001b[?25hDownloading pytz-2024.2-py2.py3-none-any.whl (508 kB)\n",
      "Downloading tzdata-2024.2-py2.py3-none-any.whl (346 kB)\n",
      "Installing collected packages: pytz, tzdata, numpy, pandas\n",
      "Successfully installed numpy-2.1.1 pandas-2.2.3 pytz-2024.2 tzdata-2024.2\n"
     ]
    }
   ],
   "source": [
    "!pip install pandas"
   ]
  },
  {
   "cell_type": "code",
   "execution_count": 4,
   "id": "da4a44a4-0e5c-4b31-82de-1a7bda0a01f2",
   "metadata": {},
   "outputs": [],
   "source": [
    "import pandas as pd"
   ]
  },
  {
   "cell_type": "markdown",
   "id": "307e8435-a0a6-4cd7-8986-aebc7594dfb5",
   "metadata": {},
   "source": [
    "### Exercicio 7\n",
    "✦ Crie uma lista com 5 nomes de filmes que você goste.\n",
    "✦ Crie uma 2a lista com o ano de lançamento desses 5 filmes (pode pesquisar, eu deixo). Tranforme isso em um dataframe;\n",
    "✦ Adicione uma nova coluna com a nota, de 1 a 10, de quanto você gosta deles;"
   ]
  },
  {
   "cell_type": "code",
   "execution_count": 36,
   "id": "f27e319f-5497-48e6-8b92-28e785e76610",
   "metadata": {},
   "outputs": [],
   "source": [
    "filmes = [\"Fallen angels\", \"O Fabuloso Destino de Amélie Poulain\", \"princesa Mononoke\", \"Ladrões de Bicicleta\", \"Blade Runner\"]\n",
    "data = [1995, 2001, 1997, 1948, 1982]"
   ]
  },
  {
   "cell_type": "code",
   "execution_count": 56,
   "id": "49eaa9b2-982f-4614-98ca-37b09837a921",
   "metadata": {},
   "outputs": [],
   "source": [
    "dt_filmes = pd.DataFrame({'Filmes':filmes, 'Data':data})"
   ]
  },
  {
   "cell_type": "code",
   "execution_count": 58,
   "id": "a96c094d-2319-45ab-bcaf-07e9744e5a39",
   "metadata": {},
   "outputs": [],
   "source": [
    "dt_filmes['Nota'] = [10, 8, 9, 10, 10]"
   ]
  },
  {
   "cell_type": "code",
   "execution_count": 59,
   "id": "0af804f1-da55-43bc-801b-bfa5a68110c7",
   "metadata": {},
   "outputs": [
    {
     "name": "stdout",
     "output_type": "stream",
     "text": [
      "                                 Filmes  Data  Nota\n",
      "0                         Fallen angels  1995    10\n",
      "1  O Fabuloso Destino de Amélie Poulain  2001     8\n",
      "2                     princesa Mononoke  1997     9\n",
      "3                  Ladrões de Bicicleta  1948    10\n",
      "4                          Blade Runner  1982    10\n"
     ]
    }
   ],
   "source": [
    "print(dt_filmes)"
   ]
  },
  {
   "cell_type": "markdown",
   "id": "f5affec6-b7bf-4556-ad11-f39035d818ac",
   "metadata": {},
   "source": [
    "### Exercicio 8\n",
    "✦ Crie mais 2 dataframes, de séries e anime/desenhos que você gosta, com as mesmas colunas acima.\n",
    "✦ Salve os 3 dataframes em 'csv', 'json' e 'html' e nos envie os arquivos.\n",
    "✦ Concatene horizontalmente os 3 dataframes, ficando 9 colunas no final."
   ]
  },
  {
   "cell_type": "code",
   "execution_count": 52,
   "id": "dfc9e71c-4156-4e57-a523-01efecc5cfba",
   "metadata": {},
   "outputs": [],
   "source": [
    "series = {\n",
    "    'Série': ['Sopranos', \n",
    "               'Breaking Bad',\n",
    "               'Dark',\n",
    "               'Game of Thrones',\n",
    "               'Prison Break'],\n",
    "    'Data': [2000, 2000, 2000, 2000, 2000],\n",
    "    'Nota': [10, 10, 9, 8, 6]\n",
    "}\n",
    "\n",
    "desenhos = {\n",
    "    'desenhos': ['Viva: a vida é uma festa',\n",
    "                'Castelo Animado',\n",
    "                'Viagem de Chihiro',\n",
    "                'Rei Leão',\n",
    "                'Ratatuille'],\n",
    "    'Data': [2001, 2001, 2001, 2001, 2001],\n",
    "    'Nota': [10, 9, 7, 8, 10]\n",
    "}\n",
    "\n",
    "dt_series = pd.DataFrame(series)\n",
    "dt_desenhos = pd.DataFrame(desenhos)"
   ]
  },
  {
   "cell_type": "code",
   "execution_count": 55,
   "id": "182bb7bf-20ff-4ee8-9f2d-2d85cf93f2e0",
   "metadata": {},
   "outputs": [
    {
     "name": "stdout",
     "output_type": "stream",
     "text": [
      "            series   Ano  Nota\n",
      "0         Sopranos  2000    10\n",
      "1     Breaking Bad  2000    10\n",
      "2             Dark  2000     9\n",
      "3  Game of Thrones  2000     8\n",
      "4     Prison Break  2000     6\n"
     ]
    }
   ],
   "source": [
    "print(dt_series)"
   ]
  },
  {
   "cell_type": "code",
   "execution_count": 60,
   "id": "255f400d-aa15-40db-aa22-146ddcc63c4b",
   "metadata": {},
   "outputs": [],
   "source": [
    "dt_filmes.to_csv('filmes.csv')\n",
    "dt_series.to_json('series.json')\n",
    "dt_desenhos.to_html('desenhos.html')"
   ]
  }
 ],
 "metadata": {
  "kernelspec": {
   "display_name": "Python 3 (ipykernel)",
   "language": "python",
   "name": "python3"
  },
  "language_info": {
   "codemirror_mode": {
    "name": "ipython",
    "version": 3
   },
   "file_extension": ".py",
   "mimetype": "text/x-python",
   "name": "python",
   "nbconvert_exporter": "python",
   "pygments_lexer": "ipython3",
   "version": "3.12.4"
  }
 },
 "nbformat": 4,
 "nbformat_minor": 5
}
